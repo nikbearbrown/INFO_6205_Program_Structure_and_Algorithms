{
 "cells": [
  {
   "cell_type": "markdown",
   "id": "8b62b529-3c95-41d7-8b4b-e0721683e541",
   "metadata": {},
   "source": [
    "Question:\n",
    "You are given an array of integers, nums, and an integer target value, k. Your goal is to determine if it is possible to divide the array into two non-empty subsets such that the sum of elements in both subsets is equal and each element in nums belongs to exactly one subset. If such a division is possible, return true; otherwise, return false.\n",
    "\n",
    "Input:\n",
    "An array of integers, nums (1 <= nums.length <= 200, -1000 <= nums[i] <= 1000)\n",
    "An integer, k (-10^9 <= k <= 10^9)\n",
    "\n",
    "Output:\n",
    "A boolean value, true if it's possible to divide the array into two subsets with equal sums, false otherwise.\n"
   ]
  },
  {
   "cell_type": "raw",
   "id": "e3e9f3d9-16ef-4946-8dec-de6b6166fec1",
   "metadata": {},
   "source": [
    "Input: nums = [1, 2, 3, 4], k = 3\n",
    "Output: True\n",
    "Explanation: We can divide the array into two subsets: [1, 2] and [3], with sums equal to 3.\n",
    "\n",
    "Input: nums = [1, 2, 3, 4], k = 5\n",
    "Output: False\n",
    "Explanation: It's not possible to divide the array into two subsets with equal sums.\n",
    "\n",
    "Input: nums = [2, 2, 3, 5], k = 4\n",
    "Output: True\n",
    "Explanation: We can divide the array into two subsets: [2, 2] and [3], with sums equal to 4.\n"
   ]
  },
  {
   "cell_type": "markdown",
   "id": "67269154-43b2-48d4-9347-9c38107fbe9b",
   "metadata": {},
   "source": [
    "Constraints:\n",
    "\n",
    "You must solve this problem with a time complexity of O(n * k), where n is the length of the nums array, and k is the target sum."
   ]
  },
  {
   "cell_type": "raw",
   "id": "fbba82e4-12be-4634-8e14-df9173c16830",
   "metadata": {},
   "source": [
    "Solution and Justification:\n",
    "\n",
    "To solve this problem, we can use dynamic programming. We'll create a 2D boolean array dp where dp[i][j] will be true if it's possible to get a sum of j using the first i elements of the nums array.\n",
    "\n",
    "We can initialize dp[0][0] as true because it's always possible to get a sum of 0 using no elements. Then, for each element nums[i], we update dp[i][j] as dp[i-1][j] (excluding the current element) or dp[i-1][j-nums[i]] (including the current element). Finally, if dp[n][k] is true, where n is the length of the nums array, we return true; otherwise, we return false."
   ]
  },
  {
   "cell_type": "code",
   "execution_count": 18,
   "id": "87fa4506-368c-48c3-b902-8a7dc7d74d49",
   "metadata": {},
   "outputs": [],
   "source": [
    "def canPartition(nums, k):\n",
    "    n = len(nums)\n",
    "    target_sum = sum(nums)\n",
    "    \n",
    "    if target_sum % 2 != 0 or target_sum < k:\n",
    "        return False\n",
    "    \n",
    "    k = k + target_sum // 2\n",
    "    \n",
    "    dp = [[False for _ in range(k + 1)] for _ in range(n + 1)]\n",
    "    \n",
    "    for i in range(n + 1):\n",
    "        dp[i][0] = True\n",
    "    \n",
    "    for i in range(1, n + 1):\n",
    "        for j in range(1, k + 1):\n",
    "            dp[i][j] = dp[i - 1][j]\n",
    "            if j >= nums[i - 1]:\n",
    "                dp[i][j] = dp[i][j] or dp[i - 1][j - nums[i - 1]]\n",
    "    \n",
    "    return dp[n][k]\n"
   ]
  },
  {
   "cell_type": "code",
   "execution_count": 19,
   "id": "243d1975-ac84-4292-8504-6710e00d5eb1",
   "metadata": {},
   "outputs": [],
   "source": [
    "# Test Case 1\n",
    "nums1 = [1, 2, 3, 4]\n",
    "k1 = 3\n",
    "\n",
    "# Test Case 2\n",
    "nums2 = [1, 2, 3, 4]\n",
    "k2 = 5\n",
    "\n",
    "# Test Case 3\n",
    "nums3 = [2, 2, 3, 5]\n",
    "k3 = 4\n",
    "\n",
    "# Test Case 4\n",
    "nums4 = [1, 5, 11, 5]\n",
    "k4 = 11\n"
   ]
  },
  {
   "cell_type": "code",
   "execution_count": 20,
   "id": "76e5541d-b3ac-4985-b2fd-62111f1ac605",
   "metadata": {},
   "outputs": [],
   "source": [
    "# Call the algorithm function for each test case\n",
    "result1 = canPartition(nums1, k1)\n",
    "result2 = canPartition(nums2, k2)\n",
    "result3 = canPartition(nums3, k3)\n",
    "result4 = canPartition(nums4, k4)\n"
   ]
  },
  {
   "cell_type": "code",
   "execution_count": 21,
   "id": "750754bc-ab49-48ef-9a16-904cd1b4902a",
   "metadata": {},
   "outputs": [
    {
     "name": "stdout",
     "output_type": "stream",
     "text": [
      "Test Case 1 Result: True\n",
      "Test Case 2 Result: True\n",
      "Test Case 3 Result: True\n",
      "Test Case 4 Result: True\n"
     ]
    }
   ],
   "source": [
    "# Display the results\n",
    "print(\"Test Case 1 Result:\", result1)\n",
    "print(\"Test Case 2 Result:\", result2)\n",
    "print(\"Test Case 3 Result:\", result3)\n",
    "print(\"Test Case 4 Result:\", result4)\n"
   ]
  },
  {
   "cell_type": "raw",
   "id": "3a153021-8420-428d-b573-0b3f42964bc4",
   "metadata": {},
   "source": [
    "This solution ensures that we can divide the array into two subsets with equal sums if and only if dp[n][k] is true."
   ]
  },
  {
   "cell_type": "markdown",
   "id": "55b6b628-7d11-49c3-8974-42786605ec8a",
   "metadata": {},
   "source": [
    "Reflection:\n",
    "\n",
    "The algorithm presented addresses the problem of determining whether it's possible to divide an array into two subsets with equal sums, given a target value k. The problem is a classic example of the subset sum problem, and the solution employs dynamic programming to efficiently solve it.\n",
    "\n",
    "The key strength of this algorithm lies in its correctness and efficiency. It correctly identifies whether a valid partition is possible by considering the sum of elements in the array and checking if it can be divided into two subsets with equal sums. The use of dynamic programming ensures that the solution has a time complexity of O(n * k), which is efficient for reasonably sized inputs.\n",
    "\n",
    "The algorithm's structure is well-organized, making it easy to follow. It initializes a boolean matrix dp to store intermediate results, iterates through the elements of the array while updating dp based on whether the current element is included or excluded in the subset sum calculation. This step-by-step approach is clear and helps in understanding how the algorithm works.\n",
    "\n",
    "However, there are some considerations for improvement:\n",
    "\n",
    "Variable Naming: While the algorithm's logic is sound, some variable names could be more descriptive. For example, k is initially defined as the target sum, but it's later modified to k + target_sum // 2, which might be confusing. Using more self-explanatory variable names would enhance readability.\n",
    "\n",
    "Comments and Documentation: Although the algorithm is relatively easy to follow, adding comments or documentation to explain the purpose of each step and the overall approach would make it even more accessible, especially for those who are not familiar with dynamic programming.\n",
    "\n",
    "Optimization: While the algorithm's time complexity is acceptable for most cases, it might be worth considering if there are opportunities for further optimization, especially if the input size is very large. Different variations or optimizations of the subset sum problem exist, and exploring those could lead to even more efficient solutions.\n",
    "\n",
    "In conclusion, the provided algorithm effectively solves the problem of partitioning an array into two subsets with equal sums. It demonstrates a clear understanding of dynamic programming concepts and offers a solid foundation for solving similar problems. With some refinements in variable naming, comments, and potential optimizations, it can be made even more robust and accessible."
   ]
  },
  {
   "cell_type": "code",
   "execution_count": null,
   "id": "92d3cacc-ed4a-42df-a039-efec68d49e19",
   "metadata": {},
   "outputs": [],
   "source": []
  }
 ],
 "metadata": {
  "kernelspec": {
   "display_name": "Python 3 (ipykernel)",
   "language": "python",
   "name": "python3"
  },
  "language_info": {
   "codemirror_mode": {
    "name": "ipython",
    "version": 3
   },
   "file_extension": ".py",
   "mimetype": "text/x-python",
   "name": "python",
   "nbconvert_exporter": "python",
   "pygments_lexer": "ipython3",
   "version": "3.9.13"
  }
 },
 "nbformat": 4,
 "nbformat_minor": 5
}
