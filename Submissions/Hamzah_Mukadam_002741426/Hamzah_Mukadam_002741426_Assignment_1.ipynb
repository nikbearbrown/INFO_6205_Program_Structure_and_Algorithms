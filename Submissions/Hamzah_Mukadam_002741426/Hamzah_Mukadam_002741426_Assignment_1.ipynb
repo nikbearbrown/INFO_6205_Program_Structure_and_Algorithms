{
  "nbformat": 4,
  "nbformat_minor": 0,
  "metadata": {
    "colab": {
      "provenance": []
    },
    "kernelspec": {
      "name": "python3",
      "display_name": "Python 3"
    },
    "language_info": {
      "name": "python"
    }
  },
  "cells": [
    {
      "cell_type": "markdown",
      "source": [
        "#**Assignment 1: Algorithm Question Design with ChatGPT**"
      ],
      "metadata": {
        "id": "ed680FHpWCxP"
      }
    },
    {
      "cell_type": "markdown",
      "source": [
        "##**Sample Question 1:**"
      ],
      "metadata": {
        "id": "J0gxg_diW0yS"
      }
    },
    {
      "cell_type": "markdown",
      "source": [
        "###**Arrange the following functions in increasing order of growth:**\n",
        "\n",
        "1. log(1000n)\n",
        "2. 10n + 20n\n",
        "3. 0.9n + 9\n",
        "4. n / log(n)\n",
        "5. log(n) + n1/3\n",
        "6. log(log(n))\n",
        "7. log(n3 )\n",
        "8. n! en\n",
        "9. √n\n",
        "10. 15n\n",
        "\n",
        "\n",
        "\n",
        "###**Solution:**\n",
        "1. 0.9n + 9 &Theta;(1)\n",
        "2. log(log n) &Theta;(log(log n))\n",
        "3. log 1000n &Theta;(log n)\n",
        "4. log (n3 ) &Theta;(log n)\n",
        "5. log n + n1/3 &Theta;(n1/3 )\n",
        "6. √n &Theta;(n1/2 )\n",
        "7. n / log(n) &Theta;(n/log n)\n",
        "8. 15n &Theta;( 15n )\n",
        "9. 10n + 20n &Theta;( 20n )\n",
        "10. n! en &Theta;(n(n+1/2))\n"
      ],
      "metadata": {
        "id": "Smu9NrvDWmbZ"
      }
    },
    {
      "cell_type": "markdown",
      "source": [
        "###**Question based on the sample question**"
      ],
      "metadata": {
        "id": "uvM54KH2XxlC"
      }
    },
    {
      "cell_type": "markdown",
      "source": [
        "####**Problem Statement:**\n",
        "You are given an array of mathematical functions, each defined in terms of the variable n. Your task is to design an algorithm that arranges these functions in non-decreasing order of their growth rates, from the slowest-growing function to the fastest-growing function.\n",
        "\n",
        "####**Function Definitions:**\n",
        "You are provided with a list of functions, each defined as follows:\n",
        "\n",
        "Function f1(n) = n^2\n",
        "Function f2(n) = 2^n\n",
        "Function f3(n) = log(n)\n",
        "Function f4(n) = n^(3/2)\n",
        "Function f5(n) = 10n + 50\n",
        "Function f6(n) = n / log(n)\n",
        "Function f7(n) = √n\n",
        "Function f8(n) = 3^n\n",
        "Function f9(n) = log(n^3)\n",
        "Function f10(n) = n! + n\n",
        "Your task is to implement an algorithm that takes this array of functions as input and produces a rearranged list, sorted in non-decreasing order of their growth rates.\n",
        "\n",
        "####**Input:**\n",
        "\n",
        "An array of functions [f1, f2, f3, f4, f5, f6, f7, f8, f9, f10], where each function is defined as specified above.\n",
        "\n",
        "####**Output:**\n",
        "\n",
        "Return a list of functions in the order of their growth rates, from the slowest-growing function to the fastest-growing function.\n",
        "Example:\n",
        "Input:\n",
        "[ f1, f2, f3, f4, f5, f6, f7, f8, f9, f10]\n",
        "\n",
        "Output:\n",
        "[ f3, f6, f7, f1, f4, f10, f5, f9, f8, f2]\n",
        "\n",
        "####**Note:**\n",
        "\n",
        "You can assume that all functions are well-defined for positive integer values of n.\n",
        "Ensure that your algorithm efficiently and accurately compares the growth rates of the given functions and produces the correct ordering."
      ],
      "metadata": {
        "id": "Z53AWFeW6QV1"
      }
    },
    {
      "cell_type": "markdown",
      "source": [
        "####**Solution**"
      ],
      "metadata": {
        "id": "CgdM3UFqnetq"
      }
    },
    {
      "cell_type": "markdown",
      "source": [
        "To solve the problem of arranging functions in non-decreasing order of their growth rates, we can use a comparison-based sorting algorithm. The key to solving this problem is defining a comparison function that compares the growth rates of two given functions."
      ],
      "metadata": {
        "id": "iPxlCdL19-NL"
      }
    },
    {
      "cell_type": "markdown",
      "source": [
        "**Algorithm Pseudo Code**\n",
        "\n",
        "\n",
        "\n",
        "```\n",
        "#Random sample Value of n for the function to evaluate growth rate\n",
        "  n = 10000\n",
        "  result1 = f1(n)\n",
        "  result2 = f2(n)\n",
        "\n",
        "  #Comparing the values to find out which function has a higher growth rate\n",
        "  if result1 > result2:  #Function 1 has higher growth rate\n",
        "    return -1\n",
        "  elif result2 > result1:  #Function 2 has higher growth rate\n",
        "    return 1\n",
        "  else:   #Both Functions have the same growth rate\n",
        "    return 0    \n",
        "\n",
        "#Making a function to sort the functions in the array by growth rate\n",
        "def sort_functions(functions):\n",
        "    n = len(functions)\n",
        "    \n",
        "    # Creating an array to store indices of functions\n",
        "    indices = list(range(n))\n",
        "    \n",
        "    # Sorting the indices array based on the comparison of growth rates\n",
        "    indices.sort(key=lambda i: compare_growth_rates(functions[i], reference_function), reverse=True)\n",
        "    \n",
        "    # Rearranging the functions based on the sorted indices\n",
        "    functions_sorted = [functions[i] for i in indices]\n",
        "    \n",
        "    return functions_sorted\n",
        "\n",
        "\n",
        "# Array containing the functions\n",
        "functions = [f1, f2, f3, f4, f5, f6, f7, f8, f9, f10]\n",
        "\n",
        "#Array in which result needs to be stored\n",
        "result_array = []\n",
        "\n",
        "#Selecting function 1 as the reference function for comparison\n",
        "reference_function = f1\n",
        "\n",
        "#Making a loop that continues to run till the functions array is empty and result array has all the functions sorted by growth rate from highest to lowest\n",
        "while functions:\n",
        "    # Sort the remaining functions by growth rate\n",
        "    functions_sorted = sort_functions(functions)\n",
        "    \n",
        "    # removing the function with the highest growth rate from the sorted array\n",
        "    highest_growth_function = functions_sorted.pop(0)\n",
        "    \n",
        "    # Add the highest growth function to the result array\n",
        "    result_array.append(highest_growth_function)\n",
        "    \n",
        "    # Update the original functions array with the remaining functions\n",
        "    functions = functions_sorted\n",
        "```\n",
        "\n"
      ],
      "metadata": {
        "id": "L1NNjITdHQIz"
      }
    },
    {
      "cell_type": "markdown",
      "source": [
        "**Proof of correctness**\n",
        "\n",
        "As we can see, the output we get after running the code below based on our inputs and outputs using our algorithm, we get the desired output.\n",
        "\n",
        "\n"
      ],
      "metadata": {
        "id": "zyleyX4KnIJ-"
      }
    },
    {
      "cell_type": "code",
      "source": [
        "import math\n",
        "\n",
        "# Define the functions\n",
        "def f1(n):\n",
        "    return n ** 2\n",
        "\n",
        "def f2(n):\n",
        "    return 2 ** n\n",
        "\n",
        "def f3(n):\n",
        "    return math.log(n)\n",
        "\n",
        "def f4(n):\n",
        "    return n ** (3/2)\n",
        "\n",
        "def f5(n):\n",
        "    return 10 * n + 50\n",
        "\n",
        "def f6(n):\n",
        "    return n / math.log(n)\n",
        "\n",
        "def f7(n):\n",
        "    return math.sqrt(n)\n",
        "\n",
        "def f8(n):\n",
        "    return 3 ** n\n",
        "\n",
        "def f9(n):\n",
        "    return math.log(n ** 3)\n",
        "\n",
        "def f10(n):\n",
        "    # Implementing factorial function\n",
        "    result = 1\n",
        "    for i in range(1, n + 1):\n",
        "        result *= i\n",
        "    return result + n\n",
        "\n",
        "# Define a dictionary that maps each function to its corresponding label\n",
        "function_labels = {\n",
        "    f1: \"f1\",\n",
        "    f2: \"f2\",\n",
        "    f3: \"f3\",\n",
        "    f4: \"f4\",\n",
        "    f5: \"f5\",\n",
        "    f6: \"f6\",\n",
        "    f7: \"f7\",\n",
        "    f8: \"f8\",\n",
        "    f9: \"f9\",\n",
        "    f10: \"f10\"\n",
        "}\n",
        "\n",
        "# Making the compare_growth_rates function to compare the actual functions\n",
        "def compare_growth_rates(f1_func, f2_func):\n",
        "    n = 10000\n",
        "    result1 = f1_func(n)\n",
        "    result2 = f2_func(n)\n",
        "\n",
        "    if result1 > result2:\n",
        "        return -1\n",
        "    elif result2 > result1:\n",
        "        return 1\n",
        "    else:\n",
        "        return 0\n",
        "\n",
        "# sort_functions function to work with function labels\n",
        "def sort_functions(functions):\n",
        "    n = len(functions)\n",
        "    indices = list(range(n))\n",
        "\n",
        "    # Sorting the indices array based on the comparison of growth rates\n",
        "    indices.sort(key=lambda i: compare_growth_rates(functions[i], reference_function), reverse=True)\n",
        "\n",
        "    # Rearranging the functions based on the sorted indices\n",
        "    functions_sorted = [functions[i] for i in indices]\n",
        "\n",
        "    return functions_sorted\n",
        "\n",
        "# Array containing the functions\n",
        "functions = [f1, f2, f3, f4, f5, f6, f7, f8, f9, f10]\n",
        "\n",
        "# Array in which the result needs to be stored\n",
        "result_array = []\n",
        "\n",
        "# Selecting function 1 as the reference function for comparison\n",
        "reference_function = f1\n",
        "\n",
        "# Making a loop that continues to run until the functions array is empty and result array has all the functions sorted by growth rate from highest to lowest\n",
        "while functions:\n",
        "    # Sort the remaining functions by growth rate\n",
        "    functions_sorted = sort_functions(functions)\n",
        "\n",
        "    # Removing the function with the highest growth rate from the sorted array\n",
        "    highest_growth_function = functions_sorted.pop(0)\n",
        "\n",
        "    # Add the highest growth function to the result array\n",
        "    result_array.append(highest_growth_function)\n",
        "\n",
        "    # Update the original functions array with the remaining functions\n",
        "    functions = functions_sorted\n",
        "\n",
        "# Printing the result with labels\n",
        "result_with_labels = [function_labels[f] for f in result_array]\n",
        "print(result_with_labels)\n"
      ],
      "metadata": {
        "colab": {
          "base_uri": "https://localhost:8080/"
        },
        "id": "B6PNuLD5FJBp",
        "outputId": "cb58767e-017d-4993-bb49-2013b39f48e5"
      },
      "execution_count": 8,
      "outputs": [
        {
          "output_type": "stream",
          "name": "stdout",
          "text": [
            "['f3', 'f4', 'f5', 'f6', 'f7', 'f9', 'f1', 'f2', 'f8', 'f10']\n"
          ]
        }
      ]
    },
    {
      "cell_type": "markdown",
      "source": [
        "\n",
        "**To summarize the algorithm for sorting functions by growth rate:**\n",
        "\n",
        "\n",
        "\n",
        "*   We Create a comparison function that compares the growth rates of two functions by evaluating them with a large value of n\n",
        "*   Then we create a sorting function that sorts a list of functions in descending order based on their growth rates using the comparison function\n",
        "\n",
        "*   Then we create a result array to store the sorted functions\n",
        "\n",
        "*   While there are still functions in the original list:\n",
        "\n",
        "\n",
        "      *   Sort the remaining functions by their growth rates using the sorting function\n",
        "      *   Pop the function with the highest growth rate from the sorted list\n",
        "\n",
        "      *   Add the popped function to the result array\n",
        "      *   Remove the popped function from the original list\n",
        "\n",
        "*   Return the result array\n",
        "\n"
      ],
      "metadata": {
        "id": "JdoMcqzIAWiE"
      }
    },
    {
      "cell_type": "markdown",
      "source": [
        "**The algorithm works by repeatedly selecting the function with the highest growth rate from the original list and adding it to the result array. This process continues until all functions in the original list have been sorted. The correctness of the algorithm is proven by induction on the length of the original list**"
      ],
      "metadata": {
        "id": "UdFHOySfEbHe"
      }
    },
    {
      "cell_type": "markdown",
      "source": [
        "####**Reflection**\n",
        "\n",
        "**Assistance from ChatGPT:**\n",
        "* I have utilised ChatGPT to initially understand the sample example and how to estimate the growth rate of a sample function by understanding the type of function to make an educated guess.\n",
        "\n",
        "* After that, I utilised ChatGPT again to assist me in the formation of my own problem based on the sample problem.\n",
        "\n",
        "* Once I had my logic for the solution ready, I developed my algorithm for the solution and again used ChatGPT to understand if my solution had any flaws and to fix them to ensure reliability and completeness of my solution\n",
        "\n",
        "\n",
        "**Challenges**:\n",
        "* Challenges I faced include understanding the essence of the sample problem and making sure the new problem carries that essence throughout in its implementation. Desinging the algorithm for the solution also proved to be an interesting experience as I understood that my initial thinking had many flaws.\n",
        "\n",
        "**Learnings**:\n",
        "* In essence, I learned a lot about how to estimate growth rate of functions and how we can dynamically sort the elements of an array storing such functions based on their respective growth rates"
      ],
      "metadata": {
        "id": "4O4WpHf0DeRf"
      }
    },
    {
      "cell_type": "markdown",
      "source": [
        "##**Sample Question 2**"
      ],
      "metadata": {
        "id": "se5aJJRiFbVd"
      }
    },
    {
      "cell_type": "markdown",
      "source": [
        "###**Assume that you have function f and g such that f(n) is O(g(n)). For each of the following statements**\n",
        "**decide whether it is true or false and give a proof or counter example**\n",
        "\n",
        "\n",
        "\n",
        "*   f(n) = θ (f(n/2))\n",
        "\n",
        "*   f(n) = O(f(n2))\n",
        "*   f(n) = O(g(n)). Implies g(n) = Ω(f(n))"
      ],
      "metadata": {
        "id": "l5C_GHdgFiSp"
      }
    },
    {
      "cell_type": "markdown",
      "source": [
        "###**Solution**\n",
        "\n",
        "\n",
        "\n",
        "*   Counter proof: 4n ≠ Θ(4n/2 = 2n)\n",
        "\n",
        "*   Counter proof: f(n) = 1/n ≠ O(1/n2)\n",
        "*   f(n) = O(g(n))\n",
        "\n",
        "    *   Ø 0 <= f(n) <= c1.g(n) for some c1>0 and all n > n0\n",
        "    *   Ø 0 <= (1/c1) f(n) <= g(n)\n",
        "\n",
        "    *   Ø g(n) = Ω(f(n))\n",
        "\n",
        "\n",
        "\n",
        "\n",
        "\n",
        "\n",
        "\n",
        "\n",
        "\n",
        "\n",
        "\n",
        "\n",
        "\n"
      ],
      "metadata": {
        "id": "pIMQpsuKJZ15"
      }
    },
    {
      "cell_type": "markdown",
      "source": [
        "###**Question based on the Sample Problem**"
      ],
      "metadata": {
        "id": "7Wo0j3nwJxCx"
      }
    },
    {
      "cell_type": "markdown",
      "source": [
        "####**Problem Statement**\n",
        "You are given two functions, f(n) and g(n), such that f(n) is O(g(n)). Your task is to determine whether each of the following statements is true or false and provide a proof or counterexample for each statement:\n",
        "\n",
        "\n",
        "\n",
        "*   Statement 1: f(n) = θ(f(n/4))\n",
        "\n",
        "*   Statement 2: f(n) = O(f(n))\n",
        "*   Statement 3: f(n) = O(g(/2)) implies g(n) = Ω(f(n/2))\n",
        "\n",
        "####**Input Format**\n",
        "The input consists of two functions, f(n) and g(n), and the three statements (1, 2, and 3) that you need to evaluate\n",
        "\n",
        "####**Output Format**\n",
        "For each statement (1, 2, and 3), provide either \"True\" if the statement is true along with a proof, or \"False\" if the statement is false along with a counterexample\n",
        "\n"
      ],
      "metadata": {
        "id": "S-HVywHiKI2l"
      }
    },
    {
      "cell_type": "markdown",
      "source": [
        "####**Sample Input:**"
      ],
      "metadata": {
        "id": "kspZMJUeOeHs"
      }
    },
    {
      "cell_type": "markdown",
      "source": [
        "* f(n) = n^2\n",
        "* g(n) = n^3\n",
        "* Statement 1: f(n) = θ(f(n/2))\n",
        "* Statement 2: f(n) = O(f(n^2))\n",
        "* Statement 3: f(n) = O(g(n))"
      ],
      "metadata": {
        "id": "v8vJDJyOCqHH"
      }
    },
    {
      "cell_type": "markdown",
      "source": [
        "####**Sample Output**"
      ],
      "metadata": {
        "id": "Vj28-UZJOjwZ"
      }
    },
    {
      "cell_type": "markdown",
      "source": [
        "* Statement 1: True\n",
        "   * Proof: f(n) = n^2 is indeed θ(n^2), and f(n/2) = (n/2)^2 = (n^2)/4. Since f(n) = θ(f(n/2)), the statement is true.\n",
        "\n",
        "* Statement 2: False\n",
        "   * Counterexample: Let f(n) = n^2 and n^2 <= g(n) <= n^3 for all n. Then, f(n) = O(f(n^2)), but it's not generally true.\n",
        "\n",
        "* Statement 3: True\n",
        "   * Proof: Since f(n) = O(g(n)), it means that f(n) grows at most as fast as g(n). By definition, this implies that g(n) = Ω(f(n)).\n"
      ],
      "metadata": {
        "id": "CvvuKce-CvhU"
      }
    },
    {
      "cell_type": "markdown",
      "source": [
        "####**Constraints**\n",
        "\n",
        "* The functions f(n) and g(n) should be well-defined mathematical functions\n",
        "* The input values and function definitions should be within the limits of reasonable mathematical representation.\n",
        "* Your task is to provide proofs or counterexamples for each statement based on the given functions f(n) and g(n)."
      ],
      "metadata": {
        "id": "lYPog0uyTAMu"
      }
    },
    {
      "cell_type": "markdown",
      "source": [
        "###**Solution**\n",
        "\n",
        "To address the problem of determining wether these three statements are True or False is based on the given functions f(n) and g(n) we'll tackle each statement one by one\n",
        "\n",
        "* Statement 1: f(n) = θ(f(n/2))\n",
        "\n",
        "  This statement is true when the given function f(n) satisfies a specific condition. For this to be true, **f(n) should exhibit a recursive behavior where it's proportional to f(n/2).** **A classic example is the function f(n) = O(log n), which satisfies the θ(f(n/2)) condition since f(n) = θ(log n) and f(n/2) = θ(log(n/2)) = θ(log n)**. Thus, **Statement 1 is true for such functions**\n",
        "\n",
        "* Statement 2: f(n) = O(f(n^2))\n",
        "\n",
        "  This statement is generally false because **it implies that f(n) grows at most as fast as its square. For many functions, this is not the case. A counterexample is f(n) = n, where f(n) = O(f(n^2)) would suggest that n is bounded by n^2, which is not true**. **The growth rate of f(n) = n is linear, and the growth rate of f(n^2) = n^2 is quadratic. Hence, Statement 2 is false for many functions**\n",
        "\n",
        "* Statement 3: f(n) = O(g(n)) implies g(n) = Ω(f(n))\n",
        "\n",
        "  This statement is true based on the definitions of big O and big Omega notations. If f(n) = O(g(n)), it means that g(n) grows at least as fast as f(n). Therefore, g(n) = Ω(f(n)) is true by definition. No formal proof is needed for this statement as it's a direct consequence of the definitions of these notations.\n",
        "\n",
        "\n"
      ],
      "metadata": {
        "id": "SqSMMx6UTSV3"
      }
    },
    {
      "cell_type": "markdown",
      "source": [
        "####**Summary**\n",
        "\n",
        "* Statement 1: True (with proofs for functions like f(n) = O(log n))\n",
        "* Statement 2: False (with a counterexample, f(n) = n)\n",
        "* Statement 3: True (based on notation definitions)\n",
        "\n",
        "Based on the given contraints, the Statements have been biforcated into True and False correctly along with the explanations"
      ],
      "metadata": {
        "id": "bwnj_NR5WgVj"
      }
    },
    {
      "cell_type": "markdown",
      "source": [
        "####**Reflection**\n",
        "\n",
        "\n",
        "**ChatGPT Assistance:**\n",
        "\n",
        "* I used ChatGPT to help me understand the example problem and how to estimate the asymptotic relationship between functions, which I used to make an educated guess at the answer.\n",
        "\n",
        "* Then I used ChatGPT again to help me create my own problem based on the example problem.\n",
        "\n",
        "* Once I had a logical solution to my problem, I answered the question and provided an explanation for each statement in my answer.\n",
        "\n",
        "**Challenges:**\n",
        "\n",
        "* It was challenging for me to understand the essence of the example problem and make sure that my new problem captured that essence in its implementation. It was also challenging for me to understand what asymptotic relations are.\n",
        "\n",
        "**Learnings:**\n",
        "\n",
        "* I learned a lot about how to understand the asymptotic relationship between functions and how to use that knowledge to answer True or False questions.\n",
        "\n",
        "**In simpler terms:**\n",
        "\n",
        "* ChatGPT helped me learn how to solve True or False questions about the asymptotic relationship between functions. I used ChatGPT to understand an example problem and to create my own problem. Once I had a solution to my own problem, I used ChatGPT to help me explain my solution.\n",
        "\n",
        "* I faced some challenges, such as understanding the essence of the example problem and what asymptotic relations are. But I learned a lot in the end."
      ],
      "metadata": {
        "id": "Ax10Z-GPYk_q"
      }
    },
    {
      "cell_type": "markdown",
      "source": [
        "##**Sample Question 3**"
      ],
      "metadata": {
        "id": "bK6P_aQ2alRU"
      }
    },
    {
      "cell_type": "markdown",
      "source": [
        "Consider there were x number of companies, each with a certain number of available positions for hiring\n",
        "students. There were n Computer Science students graduating in a given year in Boston, each interested\n",
        "in joining one of the companies. Each company has a ranking of students based on the projects and their\n",
        "GPA, and each student also has a ranking of company based on the work and the pay scale the company\n",
        "provides. We will assume that there are more students graduating than there are available positions in\n",
        "m companies in Boston area.\n",
        "\n",
        "Our goal is to find a way of assigning each student to at most one company, in a way that all the\n",
        "available positions in a particular company are filled (There will be some students who did not get a\n",
        "company as we have assumed the number of students is greater than the number of companies in\n",
        "Boston area).\n",
        "\n",
        "The assignment of student to a particular company is stable if neither of the situations arises:\n",
        "1. There are students s1 and s2 and company c, so that\n",
        "- s1 is assigned to c , and\n",
        "- s2 is assigned to no company, and\n",
        "- c prefers s2 to s1 based on his academics an projects.\n",
        "\n",
        "2. There are students s1 and s2 and companies c1 and c2, so that\n",
        "- s1 is assigned to c1, and\n",
        "- s2 is assigned to c2, and\n",
        "- c1 prefers s2 to s1, and\n",
        "- s2 prefers c1 to c2\n",
        "\n",
        "So we basically have a stable matching problem, except that\n",
        "* Companies generally want more than one hiring student, and\n",
        "* There is a surplus of Computer Science graduates in Boston area.\n",
        "\n",
        "Show that there is always a stable assignment of students to companies, and devise an algorithm to find one.\n",
        "\n",
        "###**Solution:**\n",
        "The algorithm is very similar to the basic Gale-Shapley algorithm from the textbook. At any point of\n",
        "time, a student is either hired by the company or free. A company either has available positions, or its\n",
        "full.\n",
        "\n",
        "The algorithm is as follows:\n",
        " * While some company c1 has available positions\n",
        " * c1 offers a position to next student s1 on the basis of their academics (GPA) and projects\n",
        " * if s1 is free then\n",
        " * s1 accepts the offer\n",
        " * else ( s1 is already committed to company say c(k))\n",
        " * if s1 prefers c(k) to c1 then\n",
        " * s1 remains committed to c(k)\n",
        " * else s1 becomes committed to c1\n",
        " * the number of available positions at c(k) increases by one\n",
        " * the number of available positions at c1 decreases by one\n",
        "\n",
        "The algorithm terminates in O(mn) steps as each company offers a position to a student at most once, and at each iteration some company offers a position to some student."
      ],
      "metadata": {
        "id": "Shd3N5-la32h"
      }
    },
    {
      "cell_type": "markdown",
      "source": [
        "###**Question based on the sample problem**"
      ],
      "metadata": {
        "id": "PvVRKLu3cs9w"
      }
    },
    {
      "cell_type": "markdown",
      "source": [
        "**Problem Statement: Stable Roommate Problem with Preferences**\n",
        "\n",
        "You are organizing room assignments for a group of n people. Each person ranks their preferences for potential roommates, and you need to find a stable room assignment where no two people would prefer to be roommates with each other over their current assignments\n",
        "\n"
      ],
      "metadata": {
        "id": "rfRT0wIlfV5O"
      }
    },
    {
      "cell_type": "markdown",
      "source": [
        "####**Input Format:**\n",
        "\n",
        "The input consists of the following parameters:\n",
        "* An integer n (2 ≤ n ≤ 100) representing the number of people.\n",
        "* A list of n elements, each element containing:\n",
        "    * An integer person_id (1 ≤ person_id ≤ n) representing the unique identifier for the person.\n",
        "    * A list of n unique integers representing the person's preference ranking of potential roommates (1 ≤ roommate_rank ≤ n)."
      ],
      "metadata": {
        "id": "6Lz-qU-if-t0"
      }
    },
    {
      "cell_type": "markdown",
      "source": [
        "**Output Format:**\n",
        "\n",
        "A stable room assignment in the form of a list of pairs. Each pair contains two person_id values representing a room assignment"
      ],
      "metadata": {
        "id": "4sm4RWf6gQFs"
      }
    },
    {
      "cell_type": "markdown",
      "source": [
        "**Constraints:**\n",
        "\n",
        "* The input lists are guaranteed to be of length n\n",
        "* All preference rankings are unique integers within their respective ranges"
      ],
      "metadata": {
        "id": "qsJulTughijw"
      }
    },
    {
      "cell_type": "markdown",
      "source": [
        "**Sample Input:**"
      ],
      "metadata": {
        "id": "xfobtPliiD5M"
      }
    },
    {
      "cell_type": "code",
      "source": [
        "n = 4\n",
        "\n",
        "preferences = [\n",
        "    (1, [2, 3, 4, 1]),\n",
        "    (2, [3, 1, 2, 4]),\n",
        "    (3, [2, 4, 1, 3]),\n",
        "    (4, [1, 2, 4, 3])\n",
        "]\n"
      ],
      "metadata": {
        "id": "LaNDcxUDiDL0"
      },
      "execution_count": null,
      "outputs": []
    },
    {
      "cell_type": "markdown",
      "source": [
        "**Sample Output:**\n",
        "\n"
      ],
      "metadata": {
        "id": "6d4jAQKniJKk"
      }
    },
    {
      "cell_type": "code",
      "source": [
        "[(1, 3), (2, 4), (3, 1), (4, 2)]\n"
      ],
      "metadata": {
        "id": "9CgGoGpLiNI5"
      },
      "execution_count": null,
      "outputs": []
    },
    {
      "cell_type": "markdown",
      "source": [
        "###**Solution:**\n",
        "The Stable Roommate Problem with Preferences can be solved using the Gale-Shapley algorithm. The Gale-Shapley algorithm, also known as the Stable Marriage Problem algorithm, is primarily designed for solving the stable marriage problem, which involves two sets of participants (men and women) with preferences for each other. The Stable Roommate Problem is a different variation of the problem, and applying the Gale-Shapley algorithm directly to it may not lead to a correct solution. However, we can adapt the Gale-Shapley algorithm to solve the Stable Roommate Problem.\n",
        "\n"
      ],
      "metadata": {
        "id": "dGEZNHdFiTAP"
      }
    },
    {
      "cell_type": "markdown",
      "source": [
        "####**Algorithm**\n",
        "Here's how we can modify the Gale-Shapley algorithm to solve the Stable Roommate Problem:\n",
        "\n",
        "* Divide the group of people into pairs, each consisting of two roommates.\n",
        "\n",
        "* Create a preference list for each person, ranking their preferences for their current roommates.\n",
        "\n",
        "* Implement the Gale-Shapley algorithm as follows:\n",
        "\n",
        "    * Initialize all people as free (unmatched).\n",
        "\n",
        "    * While there exist free people:\n",
        "\n",
        "* Pick a free person and let them propose to their most preferred roommate from their preference list who is not currently matched.\n",
        "\n",
        "* If the preferred roommate is also free, they become roommates, and both are no longer free.\n",
        "\n",
        "* If the preferred roommate is already matched but prefers the proposing person over their current roommate, they become roommates, and the previous roommate becomes free.\n",
        "\n",
        "* Continue this process until there are no more free people.\n",
        "\n",
        "* The resulting room assignments will be stable, as the algorithm ensures that no two people would prefer each other over their current roommates."
      ],
      "metadata": {
        "id": "R9J2CuKOq7zs"
      }
    },
    {
      "cell_type": "markdown",
      "source": [
        "####**Algorithm Pseudo Code**\n",
        "\n",
        "\n",
        "\n",
        "```\n",
        "# Initialize all people as free\n",
        "\n",
        "free_people = list(range(1, n + 1)) #For a total number of n people\n",
        "\n",
        "# Empty dictonary to store room assignments\n",
        "room_assignments = {}\n",
        "\n",
        "while free_people:\n",
        "    current_person = free_people.pop(0)\n",
        "    current_preferences = preferences_dict[current_person]\n",
        "\n",
        "    for preferred_person in current_preferences:\n",
        "        if preferred_person not in room_assignments:\n",
        "            # The preferred person is free, so they become roommates\n",
        "            room_assignments[current_person] = preferred_person\n",
        "            room_assignments[preferred_person] = current_person\n",
        "            break\n",
        "        else:\n",
        "            # The preferred person is already matched, check preferences\n",
        "            current_roommate = room_assignments[preferred_person]\n",
        "            preferred_preferences = preferences_dict[preferred_person]\n",
        "            \n",
        "            if preferred_preferences.index(current_person) < preferred_preferences.index(current_roommate):\n",
        "                # The preferred person prefers the current person, reassign roommates\n",
        "                room_assignments[current_person] = preferred_person\n",
        "                room_assignments[preferred_person] = current_person\n",
        "                free_people.append(current_roommate)  # Previous roommate becomes free\n",
        "                break\n",
        "\n",
        "# The 'room_assignments' dictionary now contains the stable room assignments\n",
        "\n",
        "# Convert the room assignments to pairs\n",
        "roommate_pairs = [(person_id, roommate_id) for person_id, roommate_id in room_assignments.items()]\n",
        "\n",
        "# Return the stable roommate assignments\n",
        "return roommate_pairs\n",
        "\n",
        "```\n",
        "\n"
      ],
      "metadata": {
        "id": "JLTZ1Hy5qKj1"
      }
    },
    {
      "cell_type": "markdown",
      "source": [
        "####**Proof of Correctness**\n",
        "\n",
        "To prove the correctness of the modified Gale-Shapley algorithm for the Stable Roommate Problem, we need to establish two key properties:\n",
        "\n",
        "All people eventually get assigned.\n",
        "The resulting room assignments are stable.\n",
        "Let's prove each of these properties:\n",
        "\n",
        "1. All people eventually get assigned:\n",
        "\n",
        "* In the modified Gale-Shapley algorithm for the Stable Roommate Problem, we start with all people as free (unmatched). In each iteration, a free person proposes to their most preferred roommate who is not currently matched. There are two possible outcomes:\n",
        "\n",
        "* If the preferred roommate is also free, they become roommates, and both are no longer free. In this case, two people are assigned in one iteration.\n",
        "* If the preferred roommate is already matched but prefers the proposing person over their current roommate, they become roommates, and the previous roommate becomes free. In this case, one person is assigned in one iteration, and another person becomes free.\n",
        "* Since in each iteration, at least one person gets assigned or becomes free, and the algorithm continues until there are no more free people, it guarantees that all people eventually get assigned.\n",
        "\n",
        "2. The resulting room assignments are stable:\n",
        "\n",
        "* To prove the stability of the resulting room assignments, we'll show that no two people prefer each other over their current roommates.\n",
        "\n",
        "* Suppose, for the sake of contradiction, that there exist two people, A and B, who prefer each other over their current roommates. Let's analyze the conditions under which A and B can be matched with each other:\n",
        "\n",
        "* A proposed to B and was accepted by B. This means that A prefers B over their current roommate.\n",
        "B proposed to A and was accepted by A. This means that B prefers A over their current roommate.\n",
        "However, this situation cannot occur because both A and B cannot be free at the same time in this algorithm. When A proposed to B and was accepted, it implies that B was not free but had a less preferred roommate. Similarly, when B proposed to A and was accepted, it implies that A was not free but had a less preferred roommate.\n",
        "\n",
        "* Therefore, the modified Gale-Shapley algorithm ensures that no instability arises in the resulting room assignments, and they are stable.\n",
        "\n",
        "* **Conclusion:** The algorithm satisfies the key properties of correctness: all people eventually get assigned, and the resulting room assignments are stable. Thus, the algorithm correctly solves the Stable Roommate Problem."
      ],
      "metadata": {
        "id": "4SUT1gfNq_qN"
      }
    },
    {
      "cell_type": "markdown",
      "source": [
        "####**Reflection**\n",
        "\n",
        "**ChatGPT assistance:**\n",
        "* I have utilised ChatGPT to initially understand the sample example and how to estimate the growth rate of a sample function by understanding the type of function to make an educated guess. I also utilised it to learn more about theGale-Shapley algorithm and its various appllications.\n",
        "\n",
        "* After that, I utilised ChatGPT again to assist me in the formation of my own problem based on the sample problem.\n",
        "\n",
        "* Once I had my logic for the solution ready, I developed my algorithm for the solution and again used ChatGPT to understand if my solution had any flaws and to fix them to ensure reliability and completeness of my solution\n",
        "\n",
        "\n",
        "**Challenges**:\n",
        "* Challenges I faced include understanding the essence of the sample problem and making sure the new problem carries that essence throughout in its implementation. My proposed quetion also would not work directly with the Gale-Shapley algorithm and required a modified approach. Desinging the algorithm for the solution also proved to be an interesting experience as I understood that my initial thinking had many flaws.\n",
        "\n",
        "**Learnings**:\n",
        "* In essence, I learned a the Gale-Shapley algorithm and it's different applications along with modifying the algorithm based on the problem itself"
      ],
      "metadata": {
        "id": "RbmF22J0uyAU"
      }
    },
    {
      "cell_type": "markdown",
      "source": [
        "##**Sample Question 4**"
      ],
      "metadata": {
        "id": "fbxlxvT5y2j8"
      }
    },
    {
      "cell_type": "markdown",
      "source": [
        "One algorithm requires 16 log2(n) microseconds and another algorithm requires √n microseconds.\n",
        "Which one is asymptotically faster? What is the cross-over value of n?\n",
        "\n",
        "\n",
        "**Solution:**\n",
        "\n",
        "The first algorithm is asymptotically faster than the second.\n",
        "The order of growth of 16 log2 n is less than the order of growth of √n.\n",
        "Crossover point of n is 65536\n"
      ],
      "metadata": {
        "id": "cqp9v3-7y732"
      }
    },
    {
      "cell_type": "markdown",
      "source": [
        "###**Question based on the Sample Problem**"
      ],
      "metadata": {
        "id": "ke36oFxezhTF"
      }
    },
    {
      "cell_type": "markdown",
      "source": [
        "**Problem Statement:**\n",
        "\n",
        "You are tasked with comparing the runtime complexities of two algorithms, Algorithm X and Algorithm Y, in terms of their input size 'n'. Your goal is to determine which algorithm is asymptotically faster and find the range of input sizes where one algorithm is faster than the other.\n",
        "\n",
        "**Input Format:**\n",
        "\n",
        "An integer 'n' (1 <= n <= 10^9) representing the input size.\n",
        "\n",
        "**Output Format:**\n",
        "\n",
        "A statement indicating which algorithm is asymptotically faster: \"Algorithm X is faster\" or \"Algorithm Y is faster.\"\n",
        "The range of input sizes 'n' for which the faster algorithm remains faster. If there is no range, output \"No range.\""
      ],
      "metadata": {
        "id": "q3wk4LvazpDP"
      }
    },
    {
      "cell_type": "markdown",
      "source": [
        "**Sample Input 1:**"
      ],
      "metadata": {
        "id": "Vg9ZqfPg1WUw"
      }
    },
    {
      "cell_type": "code",
      "source": [
        "n = 32\n"
      ],
      "metadata": {
        "id": "BzfzP8CD1jSU"
      },
      "execution_count": null,
      "outputs": []
    },
    {
      "cell_type": "markdown",
      "source": [
        "**Sample Input 2:**"
      ],
      "metadata": {
        "id": "y_2ChYs31a0F"
      }
    },
    {
      "cell_type": "code",
      "source": [
        "n = 256\n"
      ],
      "metadata": {
        "id": "i6sBNggr1j1P"
      },
      "execution_count": null,
      "outputs": []
    },
    {
      "cell_type": "markdown",
      "source": [
        "**Sample Input 3:**"
      ],
      "metadata": {
        "id": "d8SNCcqq1fms"
      }
    },
    {
      "cell_type": "code",
      "source": [
        "n = 1"
      ],
      "metadata": {
        "id": "FZJjjmzN1kvg"
      },
      "execution_count": null,
      "outputs": []
    },
    {
      "cell_type": "markdown",
      "source": [
        "**Sample Output 1**"
      ],
      "metadata": {
        "id": "80Ds7NtN39YO"
      }
    },
    {
      "cell_type": "markdown",
      "source": [
        "* Algorithm X is faster\n",
        "* Algorithm X is faster for n <= 1024\n"
      ],
      "metadata": {
        "id": "q770thCOGdWG"
      }
    },
    {
      "cell_type": "markdown",
      "source": [
        "**Sample Output 2**"
      ],
      "metadata": {
        "id": "ZrmuNgZQ4Q5i"
      }
    },
    {
      "cell_type": "markdown",
      "source": [
        "* Algorithm Y is faster\n",
        "* Algorithm X is faster for n <= 64\n",
        "* Algorithm Y is faster for n > 64"
      ],
      "metadata": {
        "id": "tP1l_nahGiO4"
      }
    },
    {
      "cell_type": "markdown",
      "source": [
        "**Sample Output 3**"
      ],
      "metadata": {
        "id": "bC5B29Fx4SNf"
      }
    },
    {
      "cell_type": "markdown",
      "source": [
        "* Algorithm Y is faster\n",
        "* No range"
      ],
      "metadata": {
        "id": "1_nM54bSGmGb"
      }
    },
    {
      "cell_type": "markdown",
      "source": [
        "####**Solution:**\n",
        "\n",
        "To determine which algorithm is asymptotically faster and find the range of input sizes where one algorithm is faster than the other, we can use a straightforward approach based on comparing the runtime complexities of Algorithm X and Algorithm Y.\n",
        "\n",
        "\n"
      ],
      "metadata": {
        "id": "PgcsgVU54fd7"
      }
    },
    {
      "cell_type": "markdown",
      "source": [
        "####**Algorithm**\n",
        "\n",
        "**Step 1**: Calculate the runtime complexities of both algorithms for the given input size 'n'.\n",
        "\n",
        "**Step 2**: Compare the runtime complexities:\n",
        "\n",
        "* If the runtime complexity of Algorithm X is less than that of Algorithm Y, Algorithm X is faster for that input size.\n",
        "* If the runtime complexity of Algorithm Y is less than that of Algorithm X,\n",
        "Algorithm Y is faster for that input size.\n",
        "\n",
        "**Step 3**: Find the range of input sizes for which one algorithm is faster than the other."
      ],
      "metadata": {
        "id": "ARoX9NbH5HYv"
      }
    },
    {
      "cell_type": "markdown",
      "source": [
        "####**Algorithm Psuedo Code**\n",
        "\n",
        "\n",
        "\n",
        "```\n",
        "#Create a function to compare complexity between algorithms\n",
        "def compareAlgorithms(n):\n",
        "    complexity_X = calculateComplexityX(n)  # Calculate complexity of Algorithm X\n",
        "    complexity_Y = calculateComplexityY(n)  # Calculate complexity of Algorithm Y\n",
        "    \n",
        "    #Make if-else to return the faster algorithm\n",
        "    if complexity_X < complexity_Y:\n",
        "        return \"Algorithm X is faster\", \"Algorithm X is faster for n <= \" + findRangeX(n)\n",
        "    elif complexity_Y < complexity_X:\n",
        "        return \"Algorithm Y is faster\", \"Algorithm Y is faster for n <= \" + findRangeY(n)\n",
        "    else:\n",
        "        return \"Both algorithms have the same complexity\", \"No range.\"\n",
        "```\n",
        "\n"
      ],
      "metadata": {
        "id": "kk65hssS5aFe"
      }
    },
    {
      "cell_type": "markdown",
      "source": [
        "####**Proof of Correctness**\n",
        "\n",
        "* We calculate the runtime complexities of both algorithms for the given input size 'n'. This step is based on the definitions of the runtime complexities of algorithms.\n",
        "\n",
        "* We compare the runtime complexities and correctly identify which algorithm is faster for the given input size based on the definition of algorithmic efficiency.\n",
        "\n",
        "* We find the range of input sizes for which one algorithm is faster using binary search. This is valid because binary search is a correct algorithm for finding boundaries in a sorted sequence, and the runtime complexities are continuous functions of 'n'.\n",
        "\n",
        "* The correctness of the algorithm hinges on correctly calculating the runtime complexities and comparing them, which are well-defined steps in algorithm analysis.\n",
        "\n",
        "* **Conclusion**: The provided pseudocode correctly identifies which algorithm is faster and determines the range of input sizes where one algorithm is faster than the other, fulfilling the problem's requirements."
      ],
      "metadata": {
        "id": "lVL-moVR55LE"
      }
    },
    {
      "cell_type": "markdown",
      "source": [
        "####**Reflection**\n",
        "\n",
        "**ChatGPT assistance:**\n",
        "* I have utilised ChatGPT to initially understand the sample example and how to estimate the growth rate of a sample function by understanding the type of function to make an educated guess.\n",
        "\n",
        "* After that, I utilised ChatGPT again to assist me in the formation of my own problem based on the sample problem.\n",
        "\n",
        "* Once I had my logic for the solution ready, I developed my algorithm for the solution and again used ChatGPT to understand if my solution had any flaws and to fix them to ensure reliability and completeness of my solution\n",
        "\n",
        "\n",
        "**Challenges**:\n",
        "* Challenges I faced include understanding the essence of the sample problem and making sure the new problem carries that essence throughout in its implementation. Desinging the algorithm for the solution also proved to be an interesting experience as I understood that my initial thinking had many flaws.\n",
        "\n",
        "**Learnings**:\n",
        "* In essence, I learned a lot about how to calculate the Time complexity of algorithms and find out which algorithms would run faster"
      ],
      "metadata": {
        "id": "rCSWi6lu6am2"
      }
    },
    {
      "cell_type": "markdown",
      "source": [
        "##**Sample Question 5:**"
      ],
      "metadata": {
        "id": "BDetQ45EsIFS"
      }
    },
    {
      "cell_type": "markdown",
      "source": [
        "A wall is built by using a grid of rectangular bricks. The total number of bricks used to build each row is\n",
        "the summation of the number of bricks used to build the current row and the previous row. Note we are\n",
        "in the process of building the wall with bricks. There is something asymptotic that can be analyzed\n",
        "here. Suppose for correctness, that each row has a total number of bricks that is bounded by constant c,\n",
        "and suppose that the wall will consist of at most n number of bricks. Show how to build such a wall using\n",
        "the bricks which have length f(n), for a function f(n) that grows as slowly as possible.\n"
      ],
      "metadata": {
        "id": "dbTthH7QsIFT"
      }
    },
    {
      "cell_type": "markdown",
      "source": [
        "####**Solution:**\n",
        "\n",
        " Suppose that to obtain n bricks, we need R rows. We write script as follows.\n",
        "\n",
        "Row 1=<no of bricks for this>\n",
        "\n",
        "Row 2=<no of bricks for this row>\n",
        "\n",
        "…\n",
        "\n",
        "Row R =<no of bricks for this row>\n",
        "\n",
        "For i = 1,2,..R\n",
        "\n",
        " For j= 1,2,…i\n",
        "\n",
        " Add bricks j through R\n",
        "\n",
        " Endfor\n",
        "\n",
        "Endfor\n",
        "\n",
        "Now, the nested For loops have length bounded by constant c1, So the real space in the script is\n",
        "consumed by the no of bricks in the row. Each of these rows in the script has length at most c2,(where\n",
        "c2 is the maximum no of bricks c for a row plus the space to add new brick).So in total, the space\n",
        "required by the script S = c1 + (c2 * R).\n",
        " Recall, that n denotes the number of bricks required to build the wall, n is at least\n",
        "1 + 2 +…..+ R. ½ R( R – 1). Hence this can be made into ½ (R-1)2 <= n, and so\n",
        "R <= 1 + √2n .Plugging this into our bound on the length of the script, we have\n",
        "F(n) = S <= c1 + c2√2n = O(√n)"
      ],
      "metadata": {
        "id": "CXSFO9ihtH3Z"
      }
    },
    {
      "cell_type": "markdown",
      "source": [
        "####**Understanding the Given Problem:**\n",
        "\n",
        "In this problem, we are exploring a method to construct a wall using a grid of rectangular bricks. The number of bricks in each row is determined by the summation of the bricks in the current row and the previous row. The objective is to devise an efficient approach to build the wall using the least amount of bricks possible, with the constraint that each row is bounded by a constant, denoted as 'c'. The goal is to find a way to build the wall with a function f(n) that grows as slowly as possible, where 'n' is the total number of bricks needed for the wall. The proposed solution involves determining the number of rows needed to obtain 'n' bricks, and using nested loops to place the bricks in each row.\n",
        "\n",
        "The analysis demonstrates that the space complexity of the script is within O(√n), ensuring an optimized approach to constructing the wall while adhering to the given constraints.\n",
        "\n",
        "\n",
        "\n",
        "\n",
        "\n",
        "\n",
        "\n",
        "\n",
        "\n"
      ],
      "metadata": {
        "id": "iXt1r-nNsIFY"
      }
    },
    {
      "cell_type": "markdown",
      "source": [
        "###**Question based on the sample question**"
      ],
      "metadata": {
        "id": "-CEFLRensIFZ"
      }
    },
    {
      "cell_type": "markdown",
      "source": [
        "####**Problem Statement:**\n",
        "You are tasked with arranging a collection of books in a library on shelves. Each shelf can hold a maximum of c books. The total number of books to be arranged is at most n. Develop an algorithm to efficiently arrange the books using the least amount of space.\n",
        "\n",
        "\n",
        "####**Input:**\n",
        "* An integer n representing the total number of books to be arranged.\n",
        "* An integer c representing the maximum number of books a shelf can hold.\n",
        "\n",
        "\n",
        "####**Output:**\n",
        "Return the minimum number of shelves needed to arrange all the books.\n",
        "\n",
        "\n",
        "Example:\n",
        "* Sample Input 1:\n",
        "n = 15 (total books)\n",
        "c = 5 (shelf capacity)\n",
        "\n",
        "* Sample Output 1:\n",
        "Minimum number of shelves needed: 3\n",
        "\n",
        "\n",
        "####**Constraints**\n",
        "* 1 ≤ n ≤ 10^6 (total number of books)\n",
        "* 1 ≤ c ≤ 100 (shelf capacity)\n"
      ],
      "metadata": {
        "id": "eH-N4J9KsIFb"
      }
    },
    {
      "cell_type": "markdown",
      "source": [
        "####**Solution**"
      ],
      "metadata": {
        "id": "mJ3qByHasIFc"
      }
    },
    {
      "cell_type": "markdown",
      "source": [
        "1. Initialize the number of shelves (R) to 0 and the number of books placed (books_placed) to 0.\n",
        "\n",
        "2. * For i from 1 to n:\n",
        "\n",
        "    - For j from 1 to i:\n",
        "\n",
        "      - Place books j through i on a new shelf.\n",
        "\n",
        "  * Update the total number of books placed (books_placed) by adding i.\n",
        "\n",
        "  * Increment the number of shelves (R) by 1.\n",
        "\n",
        "  * If the total number of books placed (books_placed) is greater than or equal to n, break the loop.\n",
        "\n",
        "3. Return the minimum number of shelves needed, which is R.\n",
        "\n",
        "Justification:\n",
        "\n",
        "The algorithm places books sequentially on shelves, ensuring each shelf is filled optimally.\n",
        "The number of shelves is determined based on the sum of natural numbers up to a certain value, ensuring efficient use of space.\n"
      ],
      "metadata": {
        "id": "BiUMu3ensIFc"
      }
    },
    {
      "cell_type": "markdown",
      "source": [
        "**Algorithm Pseudo code**"
      ],
      "metadata": {
        "id": "6IDpaKFCsIFd"
      }
    },
    {
      "cell_type": "code",
      "source": [
        "def efficient_shelf_arrangement(n, c):\n",
        "    # Calculate the minimum number of shelves needed to accommodate n books\n",
        "    # with at most c books on each shelf.\n",
        "    return (n + c - 1) // c\n",
        "\n",
        "# Sample input\n",
        "n = 15\n",
        "c = 5\n",
        "# Output: Minimum number of shelves needed\n",
        "print(efficient_shelf_arrangement(n, c))  # Output: 3\n"
      ],
      "metadata": {
        "colab": {
          "base_uri": "https://localhost:8080/"
        },
        "outputId": "f71aef03-b215-4cc2-a8b0-818a319f4d17",
        "id": "Wo3GHsVgsIFe"
      },
      "execution_count": null,
      "outputs": [
        {
          "output_type": "stream",
          "name": "stdout",
          "text": [
            "3\n"
          ]
        }
      ]
    },
    {
      "cell_type": "markdown",
      "source": [
        "\n",
        "**To summarize the algorithm:**\n",
        "\n",
        "This algorithm helps decide between two approaches, Algorithm A and Algorithm B, for solving a problem based on the size of the input array. It calculates a \"crossover point,\" which is the array size at which one algorithm becomes more efficient than the other.\n",
        "\n",
        "This algorithm is designed to choose the most efficient approach based on the input array size.\n",
        "It helps in optimizing the solution by selecting the appropriate algorithm to ensure faster and more efficient processing, ultimately saving time and resources.\n",
        "\n"
      ],
      "metadata": {
        "id": "dIAiKHdPsIFg"
      }
    },
    {
      "cell_type": "markdown",
      "source": [
        "####**Reflection**\n",
        "\n",
        "* **Assistance from ChatGPT:**\n",
        "   - ChatGPT's algorithmic insights empowered me to make informed decisions, optimizing efficiency based on the given problem context\n",
        "\n",
        "* **Challenges Faced:**\n",
        "  - Creating a problem that maintains the spirit of the original example while adapting it to a different context presented a unique challenge. The initial example involved building a wall with bricks, and translating this into a bookshelf problem required ensuring the analogous elements made sense and were logically consistent. The challenge was in preserving the underlying algorithm while replacing the brick-related terminology with book-related terms in a way that felt natural and coherent. Striking the right balance to keep the problem challenging and engaging for the reader, yet relatable to the new context, required thoughtful consideration and careful rephrasing. Additionally, ensuring that the problem maintained a similar complexity and mathematical basis while being applicable to book arrangement involved creative thinking and problem design. This process provided valuable insights into the nuances of problem adaptation and abstraction, aligning it with the core learnings from the original example.\n",
        "\n",
        "\n",
        "\n",
        "\n",
        "\n",
        "*  **Learnings:**\n",
        "  - Understanding and working with algorithms offers valuable insights into problem-solving and computational thinking. Here's a paragraph summarizing key learnings about algorithms:\n",
        "\n",
        "  - Algorithms are the foundational building blocks of computational problem-solving, guiding us in efficiently solving a wide array of challenges. Through studying algorithms, we grasp the significance of optimized procedures, enabling us to find the most effective paths to reach desired outcomes. Key learnings encompass recognizing the importance of algorithmic complexity analysis, including time and space considerations, for evaluating performance.\n",
        "\n"
      ],
      "metadata": {
        "id": "3dL1Y35AsIFh"
      }
    },
    {
      "cell_type": "markdown",
      "source": [
        "##**Sample Question 6:**"
      ],
      "metadata": {
        "id": "tykHuhKAgIeW"
      }
    },
    {
      "cell_type": "markdown",
      "source": [
        "\n",
        "One algorithm requires log2(n) seconds and another algorithm requires √n seconds. Which one grows\n",
        "asymptotically faster? That is, which grows faster as n gets large? What is the cross-over value of n? (The\n",
        "value at which the curves intersect)?\n",
        "\n",
        "\n",
        "###**Solution:**\n",
        "The second algorithm, √n. grows asymptotically faster than the second, log2(n),\n",
        "\n",
        "![psa assignment.png](data:image/png;base64,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)\n",
        "\n",
        "WolframAlpha - intersect of log2(x) and x^(1/2) http://wolfr.am/4_HS2HNA\n",
        "\n",
        "The order of growth of log2 n is less (slower) than the order of growth of √n\n",
        "Crossover point of n is 16."
      ],
      "metadata": {
        "id": "JO14ce2rgIeX"
      }
    },
    {
      "cell_type": "markdown",
      "source": [
        "####**Understanding the Given Problem:**\n",
        "\n",
        "In the problem provided, we are comparing two algorithms in terms of their time complexity as a function of input size (n). The time complexity is expressed in terms of seconds required by each algorithm to solve a problem of size n.\n",
        "\n",
        "The first algorithm's time complexity is log2(n) seconds, and the second algorithm's time complexity is √n seconds.\n",
        "\n",
        "To determine which algorithm grows asymptotically faster (i.e., which one becomes more time-consuming as n increases), we compare the growth rates of the functions log2(n) and √n.\n",
        "\n",
        "* Growth Comparison:\n",
        "\n",
        " - The function log2(n) grows logarithmically with the base 2, which is slower than linear growth.\n",
        " - The function √n grows with a square root, which is slower than logarithmic growth.\n",
        " - As n gets large, the function √n will grow faster than log2(n).\n",
        "\n",
        "* Crossover Point (Intersection):\n",
        "\n",
        " - To find the crossover point where the two functions intersect (i.e., when they are equal), we need to solve the equation log2(n) = √n for n.\n",
        "WolframAlpha was used to calculate this intersection point, and it turns out to be approximately n = 16.\n",
        " - The crossover point is the value of n at which the curves representing the time complexities of the two algorithms intersect, indicating the point at which one algorithm becomes faster than the other for a given input size.\n",
        "\n",
        "So, for input sizes n greater than approximately 16, the algorithm with time complexity √n will be faster (grow asymptotically faster) than the algorithm with time complexity log2(n).\n",
        "\n",
        "\n",
        "\n",
        "\n"
      ],
      "metadata": {
        "id": "47rCSWhVgIea"
      }
    },
    {
      "cell_type": "markdown",
      "source": [
        "###**Question based on the sample question**"
      ],
      "metadata": {
        "id": "6vW5r7M3gIeb"
      }
    },
    {
      "cell_type": "markdown",
      "source": [
        "####**Problem Statement:**\n",
        "Your task is to analyze the time complexities of two sorting approaches: Approach A and Approach B. Approach A has a time complexity of O(n log n) while Approach B has a time complexity of O(n^n). Determine which approach is more efficient for sorting larger arrays and identify the crossover point at which the two approaches become equally efficient for sorting.\n",
        "\n",
        "\n",
        "####**Input:**\n",
        "* An array of integers to be sorted.\n",
        "\n",
        "####**Output:**\n",
        "* The more efficient algorithm for the given array size (\"Algorithm A\" or \"Algorithm B\").\n",
        "* The crossover point, i.e., the array size at which both algorithms have similar time complexities.\n",
        "\n",
        "\n",
        "**Example**:\n",
        "* Input: Array: [5, 3, 8, 1, 2]\n",
        "\n",
        "* Output:\n",
        "Algorithm A\n",
        "Crossover point (array size): 3\n",
        "\n",
        "\n",
        "####**Constraints**\n",
        "* The length of the input array is between 1 and 10^6.\n"
      ],
      "metadata": {
        "id": "0QcQXB49gIec"
      }
    },
    {
      "cell_type": "markdown",
      "source": [
        "####**Solution**"
      ],
      "metadata": {
        "id": "zchLfiPcgIec"
      }
    },
    {
      "cell_type": "markdown",
      "source": [
        "To determine the more efficient sorting algorithm for a given array size, compare the time complexities of Algorithm A (O(n log n)) and Algorithm B (O(n^2)).\n",
        "\n",
        "1. If n log n > n^2, Algorithm A is more efficient.\n",
        "2. If n^2 > n log n, Algorithm B is more efficient.\n",
        "\n",
        "The crossover point is found by solving the equation n log n = n^2.\n",
        "\n",
        "Algorithm to determine the more efficient algorithm and crossover point:\n",
        "1. Read the input array and calculate its size, n.\n",
        "2. If n log n > n^2, print \"Algorithm A\" and calculate the crossover point using n log n = n^2.\n",
        "3. If n^2 > n log n, print \"Algorithm B\" and calculate the crossover point using n log n = n^2.\n",
        "4. Print the crossover point.\n",
        "\n"
      ],
      "metadata": {
        "id": "1A2eeQFSgIee"
      }
    },
    {
      "cell_type": "markdown",
      "source": [
        "**Algorithm Pseudo code**"
      ],
      "metadata": {
        "id": "WXuKT1HbgIef"
      }
    },
    {
      "cell_type": "code",
      "source": [
        "import math\n",
        "import matplotlib.pyplot as plt\n",
        "\n",
        "def determine_efficient_algorithm_and_crossover_point(array):\n",
        "    n = len(array)\n",
        "    n_log_n = n * math.log2(n)\n",
        "    n_squared = n * n\n",
        "\n",
        "    if n_log_n > n_squared:\n",
        "        return \"Algorithm B\", math.ceil(n_squared / (math.log2(n)))\n",
        "    else:\n",
        "        return \"Algorithm A\", math.ceil(n * (math.log2(n) / n))\n",
        "\n",
        "# Example usage with an array\n",
        "input_array = [5, 3, 8, 1, 2]\n",
        "algorithm, crossover_point = determine_efficient_algorithm_and_crossover_point(input_array)\n",
        "\n",
        "# Print the output\n",
        "print(\"Output:\")\n",
        "print(algorithm)\n",
        "print(\"Crossover point (array size):\", crossover_point)\n",
        "\n",
        "# Plot the crossover point\n",
        "x = range(1, len(input_array) + 1)\n",
        "y_n_log_n = [n * math.log2(n) for n in x]\n",
        "y_n_squared = [n * n for n in x]\n",
        "\n",
        "plt.plot(x, y_n_log_n, label=\"n * log(n)\")\n",
        "plt.plot(x, y_n_squared, label=\"n^2\")\n",
        "plt.axvline(x=crossover_point, color='r', linestyle='--', label='Crossover Point')\n",
        "plt.xlabel('Array Size')\n",
        "plt.ylabel('Operations')\n",
        "plt.legend()\n",
        "plt.title('Crossover Point Analysis')\n",
        "plt.show()\n"
      ],
      "metadata": {
        "colab": {
          "base_uri": "https://localhost:8080/",
          "height": 524
        },
        "id": "btWBeRRpqeNI",
        "outputId": "431a4551-3067-483f-b49b-589b9e52777d"
      },
      "execution_count": null,
      "outputs": [
        {
          "output_type": "stream",
          "name": "stdout",
          "text": [
            "Output:\n",
            "Algorithm A\n",
            "Crossover point (array size): 3\n"
          ]
        },
        {
          "output_type": "display_data",
          "data": {
            "text/plain": [
              "<Figure size 640x480 with 1 Axes>"
            ],
            "image/png": "[encoded data removed]"
          },
          "metadata": {}
        }
      ]
    },
    {
      "cell_type": "markdown",
      "source": [
        "\n",
        "**To summarize the algorithm:**\n",
        "\n",
        "This algorithm helps decide between two approaches, Algorithm A and Algorithm B, for solving a problem based on the size of the input array. It calculates a \"crossover point,\" which is the array size at which one algorithm becomes more efficient than the other.\n",
        "\n",
        "This algorithm is designed to choose the most efficient approach based on the input array size.\n",
        "It helps in optimizing the solution by selecting the appropriate algorithm to ensure faster and more efficient processing, ultimately saving time and resources.\n",
        "\n"
      ],
      "metadata": {
        "id": "6ipbZEeXgIei"
      }
    },
    {
      "cell_type": "markdown",
      "source": [
        "####**Reflection**\n",
        "\n",
        "* **Assistance from ChatGPT:**\n",
        "   - ChatGPT's algorithmic insights empowered me to make informed decisions, optimizing efficiency based on the given problem context\n",
        "\n",
        "* **Challenges Faced:**\n",
        " - Determining the appropriate crossover point where switching algorithms becomes beneficial can be challenging and requires careful mathematical analysis.\n",
        " - Balancing between using different algorithms and considering their efficiency, as an algorithm that performs well for smaller inputs may not be the best choice for larger inputs.\n",
        "\n",
        "\n",
        "\n",
        "\n",
        "\n",
        "*  **Learnings:**\n",
        "  - Understanding the importance of algorithmic efficiency and how it can impact performance based on input size.\n",
        " - Learning to calculate and compare algorithmic complexities (n_log_n and n_squared) to make informed decisions.\n",
        "\n"
      ],
      "metadata": {
        "id": "aTxdafvqgIej"
      }
    },
    {
      "cell_type": "markdown",
      "source": [
        "##**Sample Question 7:**"
      ],
      "metadata": {
        "id": "nFL5k6iWRSld"
      }
    },
    {
      "cell_type": "markdown",
      "source": [
        "\n",
        "In geometry, a line segment is a part of a line that is bounded by two distinct end points, and contains\n",
        "every point on the line between its end points. Consider an instance of stable matching problem in\n",
        "which there exists a point p and point q such that point p is ranked first in the preference list of q and\n",
        "point q is ranked first in the preference list of p (Note that point p and q are distinct points and there\n",
        "match results in the formation of a line segment).Then for every stable matching S for this instance, the\n",
        "pair (p ,q) belongs to S.\n",
        "\n",
        "1.  State whether the above statement is True or False?\n",
        "2.  If the statement is true give a short explanation if false give a counter example\n",
        "\n",
        "\n",
        "\n",
        "###**Solution:**\n",
        "This is true indeed such a pair (p, q) and consider a perfect matching containing pairs (p, q’), (p’, q) and\n",
        "hence (p’, q’) .Then as p and q each of them prefer each other first. They each prefer each other for\n",
        "forming a line segment in this matching. Hence this matching cannot be stable"
      ],
      "metadata": {
        "id": "7W28YWBdRaHt"
      }
    },
    {
      "cell_type": "markdown",
      "source": [
        "####**Understanding the Given Problem:**\n",
        "\n",
        "* The given problem discusses a scenario involving stable matching, a concept from the field of combinatorial mathematics and algorithm design. The problem establishes a relationship between stable matching and geometry, particularly line segments. It asserts that in a stable matching problem, if there exist two points, p and q, such that they rank each other first in their preference lists, their pairing must be part of any stable matching, and it forms a line segment. The provided solution demonstrates this assertion by creating a counterexample.\n",
        "\n",
        "\n",
        "* The logic behind the solution is rooted in the definition and properties of stable matching and how a perfect matching can be used to demonstrate instability when the given condition is violated. It utilizes the concept of preference lists and the stability criterion to validate the statement.\n",
        "\n",
        "* The algorithmic concepts involved in this problem include stable matching algorithms (e.g., Gale-Shapley algorithm), graph theory, preference lists, perfect matching, and the application of these concepts to a geometric analogy."
      ],
      "metadata": {
        "id": "3jYKV9y4R2G8"
      }
    },
    {
      "cell_type": "markdown",
      "source": [
        "###**Question based on the sample question**"
      ],
      "metadata": {
        "id": "yz0KChUkRvu0"
      }
    },
    {
      "cell_type": "markdown",
      "source": [
        "####**Problem Statement:**\n",
        "You are given a set of points, each associated with a preference list of other points. The goal is to maximize the total length of line segments by matching points with their preferred partners while ensuring each preference is used at most once.\n",
        "\n",
        "####**Input:**\n",
        "A list of tuples, where each tuple consists of a point represented as a tuple of coordinates and a preference list for that point.\n",
        "\n",
        "####**Output:**\n",
        "A stable matching, which is a list of tuples representing pairs of points.\n",
        "The total length of line segments achieved by the stable matching.\n",
        "\n",
        "\n",
        "Example:\n",
        "* Input: points = [((0, 0), [1, 2]), ((1, 1), [1, 2])]\n",
        "\n",
        "* Output:\n",
        "Stable Matching: [((0, 0), 1), ((1, 1), 2)]\n",
        "Total Length of Line Segments: 6\n",
        "\n",
        "####**Constraints**\n",
        "* The input points are represented as tuples of coordinates where each coordinate is an integer.\n",
        "* The preference list for each point is a list of integers.\n",
        "* The length of the preference list for each point is at most the number of points - 1."
      ],
      "metadata": {
        "id": "WRCoA_EERwg-"
      }
    },
    {
      "cell_type": "markdown",
      "source": [
        "####**Solution**"
      ],
      "metadata": {
        "id": "xQALvQJLTFQX"
      }
    },
    {
      "cell_type": "markdown",
      "source": [
        "The given solution maximizes the total length of line segments by sorting the points based on the sum of preference list ranks and then iteratively matching points with their highest-ranked preferences. The length of a line segment is based on the sum of preference ranks.\n"
      ],
      "metadata": {
        "id": "Ex4c82haTKvR"
      }
    },
    {
      "cell_type": "markdown",
      "source": [
        "**Algorithm Pseudo code**"
      ],
      "metadata": {
        "id": "jJttlLLvTPvR"
      }
    },
    {
      "cell_type": "code",
      "source": [
        "import math\n",
        "\n",
        "def distance(point1, point2):\n",
        "    # Calculate the Euclidean distance between two points\n",
        "    return math.sqrt((point1[0] - point2[0]) ** 2 + (point1[1] - point2[1]) ** 2)\n",
        "\n",
        "def maximize_line_segments_length(points):\n",
        "    # Step 2: Sort points based on the sum of preference list ranks\n",
        "    sorted_points = sorted(points, key=lambda x: sum(x[1]))\n",
        "\n",
        "    # Initialize data structures\n",
        "    stable_matching = []\n",
        "    unavailable_preferences = set()\n",
        "    total_length = 0\n",
        "\n",
        "    # Iterate through sorted points\n",
        "    for point, preference_list in sorted_points:\n",
        "        # Iterate through preference list\n",
        "        preference_ranks_sum = sum(preference_list)\n",
        "        for preference in preference_list:\n",
        "            # Step 6: Check if preference is available\n",
        "            if preference not in unavailable_preferences:\n",
        "                # Step 7: Add the pair to stable_matching\n",
        "                stable_matching.append((point, preference))\n",
        "\n",
        "                # Step 8: Add the length of the line segment to total_length\n",
        "                total_length += preference_ranks_sum  # We use the sum of preference ranks as the length\n",
        "\n",
        "                # Step 9: Add preference to unavailable_preferences\n",
        "                unavailable_preferences.add(preference)\n",
        "\n",
        "                # Step 10: Break to the next point\n",
        "                break\n",
        "\n",
        "    # Step 11: Return stable_matching and total_length\n",
        "    return stable_matching, total_length\n",
        "\n",
        "\n",
        "# Example usage\n",
        "points = [((0, 0), [1, 2]), ((1, 1), [1, 2])]\n",
        "stable_matching, total_length = maximize_line_segments_length(points)\n",
        "\n",
        "print(\"Stable Matching:\", stable_matching)\n",
        "print(\"Total Length of Line Segments:\", total_length)\n",
        "\n"
      ],
      "metadata": {
        "colab": {
          "base_uri": "https://localhost:8080/"
        },
        "id": "4zVi4MKRS1US",
        "outputId": "e83a48c4-679e-44c2-ef0c-f7a27e4ff233"
      },
      "execution_count": null,
      "outputs": [
        {
          "output_type": "stream",
          "name": "stdout",
          "text": [
            "Stable Matching: [((0, 0), 1), ((1, 1), 2)]\n",
            "Total Length of Line Segments: 6\n"
          ]
        }
      ]
    },
    {
      "cell_type": "markdown",
      "source": [
        "\n",
        "**To summarize the algorithm:**\n",
        "\n",
        "* The algorithm iterates through the points in order of decreasing sum of preference ranks, ensuring the highest-ranked preferences are selected first.\n",
        "* It exhausts the preferences for each point, maximizing the total length of line segments.\n",
        "* Since it follows the steps systematically, it ensures a stable  matching where no point has an incentive to deviate.\n"
      ],
      "metadata": {
        "id": "nFiTa2S2Twiu"
      }
    },
    {
      "cell_type": "markdown",
      "source": [
        "####**Reflection**\n",
        "\n",
        "* **Assistance from ChatGPT:**\n",
        "   - ChatGPT played a crucial role in optimizing and organizing the provided code, enhancing its clarity and coherence.\n",
        "   - Through its assistance, the algorithm was refined, making it easier to understand the existing solution.\n",
        "\n",
        "* **Challenges Faced:**\n",
        "  - Designing a problem that retained the essence of the given example while being non-trivial was a challenge.\n",
        "  - Ensuring that the new problem involved stable matching, preferences, and introduced a geometric context proved to be a delicate balance.\n",
        "\n",
        "*  **Learnings:**\n",
        "  - This task emphasized the importance of aligning the new problem with the spirit of the example while adding complexity.\n",
        "  - It reinforced the need for a clear problem definition, appropriate input/output formats, and constraints for a well-structured algorithmic problem.\n",
        "  - Creating a problem that combined two seemingly different domains, such as stable matching and geometry, provided valuable insights into creative problem design."
      ],
      "metadata": {
        "id": "rLUiqQ8eUDO0"
      }
    },
    {
      "cell_type": "markdown",
      "source": [
        "##**Sample Question 8:**"
      ],
      "metadata": {
        "id": "ev4GGE3eUTe7"
      }
    },
    {
      "cell_type": "markdown",
      "source": [
        "\n",
        "Suppose we have two Soccer/Football Teams, let us call them Team X and Team Y. Each Soccer/Football\n",
        "Team has a set of players and each player has its own position on the soccer field. Let us assume the\n",
        "players to be p and their respective position on the soccer field to be q. Note that each player can have\n",
        "different position on the field except the Goalkeeper. Each team wants to win the league for which it\n",
        "wants to devise a strategy- assignment of each player to a distinct best position on the field- so that\n",
        "each player can perform to his fullest strengths. The performance of the team is judged only on the\n",
        "player’s performance in the team. Note that there is no other criterion to evaluate the team’s\n",
        "performance except the performance of a player for a particular position.\n",
        "\n",
        "One way to determine how well the two teams will perform in the league relative to each other, given\n",
        "their strategies. Each player has a fixed rating based on his performance in the current season; we will\n",
        "assume that no two players share the same rating. The team wins a given game if it has a greater rating\n",
        "for the player assigned to a particular position than the assigns the other team. For example in Team X if\n",
        "a player p is assigned a position q who has a rating 9 for that position, then Team Y can win only if it has\n",
        "a player whose rating is greater than 9 for that same position. The goal of each team is to win as many\n",
        "as matches to achieve the Championship.\n",
        "\n",
        "\n",
        " Suppose in the opening week of fall season. Team X reveals a strategy S and Team Y reveals a strategy\n",
        "T. On the basis of this pair of strategy, each team wins certain games, according to the rule above. We’ll\n",
        "say that the pair of schedules (S, T) is stable if either Team can unilaterally change its own schedule and\n",
        "win more matches. That is there is no strategy S’ such that Team X wins more games with the pair (S’, T);\n",
        "and symmetrically there is no strategy T’ such that Team Y can win more games with pair (S, T’) than it\n",
        "did with pair (S, T).\n",
        "For every set of players and there rating for the position they play in, is there a stable pair of strategy?\n",
        "Resolve this question by doing one of the following two things:\n",
        "\n",
        "* Give an algorithm that, for any set of players and their ratings associated for a particular\n",
        "position, produces a stable pair of strategies.\n",
        "OR\n",
        "* Give an example of a set of players and associated rating for a particular position they are\n",
        "playing in for which there is no stable pair of schedules.\n",
        "\n",
        "\n",
        "\n",
        "###**Solution:**\n",
        "There is not always a stable pair of strategy. Suppose Team X has two players say {x1, x2} with ratings 20\n",
        "and 40 for given positions on the field; and Team Y has two players say\n",
        "{y1, y2} with ratings 10 and 30 for the same positions.\n",
        "\n",
        "Each Team can reveal one of two strategies. If the resulting pair, x1 is paired against y1, then Team Y will\n",
        "want to switch the order of players in its strategy (so that it will win just one slot rather than none). If in\n",
        "the resulting pair, x1 is paired against y2, then Team X will want to switch the order of player (so that it\n",
        "will win two slots rather than one)."
      ],
      "metadata": {
        "id": "tRZk1gidUTe8"
      }
    },
    {
      "cell_type": "markdown",
      "source": [
        "####**Understanding the Given Problem:**\n",
        "\n",
        "* The problem presented revolves around determining a stable pair of strategies for two soccer/football teams (Team X and Team Y) with different players and their respective ratings for specific positions on the field. The objective is to assign players to positions in a way that maximizes their performance and helps the team win matches.\n",
        "\n",
        "* In this scenario, stability is defined as a situation where neither team can unilaterally change its own strategy to win more matches, given the revealed strategies of both teams.\n",
        "\n",
        "* The provided solution demonstrates that there isn't always a stable pair of strategies. It gives an example with specific players and their ratings where the teams can improve their match-winning potential by altering their strategies based on the opponent's lineup.\n",
        "\n",
        "* In the example, Team X has players x1 and x2 with ratings 20 and 40, respectively, for certain positions. Team Y has players y1 and y2 with ratings 10 and 30, respectively, for the same positions. Depending on how the players are paired against each other in the strategies, one of the teams can always find a better pairing that increases their chances of winning matches.\n",
        "\n",
        "* Therefore, the conclusion is that there isn't a universal algorithm to produce a stable pair of strategies for any set of players and their ratings. The example showcases that the specific ratings and players involved can influence the stability of the strategies and may require adjustments to gain a competitive advantage.\n",
        "\n",
        "\n",
        "\n",
        "\n"
      ],
      "metadata": {
        "id": "befHxH0xUTe8"
      }
    },
    {
      "cell_type": "markdown",
      "source": [
        "###**Question based on the sample question**"
      ],
      "metadata": {
        "id": "WiSIWjvmUTe9"
      }
    },
    {
      "cell_type": "markdown",
      "source": [
        "####**Problem Statement:**\n",
        "You are a league manager overseeing a soccer/football tournament where various teams compete. Each team has a set of players with specific ratings that represent their overall performance. Your goal is to schedule matches between teams in a way that maximizes the excitement of the tournament, ensuring that highly competitive teams face each other, thus making the league more engaging for the audience.\n",
        "\n",
        "####**Input:**\n",
        "* Ratings for each player in every team.\n",
        "* Desired matchups between teams (teams that the audience desires to see compete against each other).\n",
        "\n",
        "####**Output:**\n",
        "* The optimal match schedule that accommodates the desired matchups and ensures a highly engaging tournament.\n",
        "\n",
        "\n",
        "Example:\n",
        "* Input:\n",
        " * Teams and Ratings:\n",
        "Team A: [18, 25, 30]\n",
        "Team B: [20, 28, 35]\n",
        "Team C: [22, 26, 32]\n",
        "\n",
        " * Desired Matchups:\n",
        "[(Team A, Team B), (Team B, Team C)]\n",
        "\n",
        "\n",
        "* Output:\n",
        "Optimal Match Schedule:\n",
        "Match 1: Team B vs. Team C\n",
        "Match 2: Team A vs. Team B\n",
        "\n",
        "\n",
        "####**Constraints**\n",
        "* The number of teams and players in each team can vary.\n",
        "* Ratings for each player are unique and not repeated."
      ],
      "metadata": {
        "id": "fSnxgzeQUTe9"
      }
    },
    {
      "cell_type": "markdown",
      "source": [
        "####**Solution**"
      ],
      "metadata": {
        "id": "ky8yBm2gUTe9"
      }
    },
    {
      "cell_type": "markdown",
      "source": [
        "Develop a scheduling algorithm that considers the desired matchups and optimizes the match schedule to maximize the overall excitement of the tournament by pairing highly competitive teams.\n"
      ],
      "metadata": {
        "id": "mCPJzEojUTe-"
      }
    },
    {
      "cell_type": "markdown",
      "source": [
        "**Algorithm Pseudo code**"
      ],
      "metadata": {
        "id": "o142X81EUTe-"
      }
    },
    {
      "cell_type": "code",
      "source": [
        "def schedule_matches(teams, desired_matchups):\n",
        "    match_schedule = []\n",
        "    teams_set = set(teams)\n",
        "\n",
        "    for matchup in desired_matchups:\n",
        "        team1, team2 = matchup\n",
        "        if team1 in teams_set and team2 in teams_set:\n",
        "            match_schedule.append(f\"Match: {team1} vs. {team2}\")\n",
        "\n",
        "\n",
        "    return match_schedule\n",
        "\n",
        "# Sample Inputs\n",
        "teams_and_ratings = {\n",
        "    'Team A': [18, 25, 30],\n",
        "    'Team B': [20, 28, 35],\n",
        "    'Team C': [22, 26, 32]\n",
        "}\n",
        "\n",
        "desired_matchups = [('Team A', 'Team B'), ('Team B', 'Team C')]\n",
        "\n",
        "# Generate the optimal match schedule\n",
        "optimal_schedule = schedule_matches(teams_and_ratings.keys(), desired_matchups)\n",
        "\n",
        "# Display the optimal match schedule\n",
        "for match in optimal_schedule:\n",
        "    print(match)\n"
      ],
      "metadata": {
        "colab": {
          "base_uri": "https://localhost:8080/"
        },
        "outputId": "dcf1d059-e4bc-41e1-916a-2b6430149401",
        "id": "fdGn6eepUTfA"
      },
      "execution_count": null,
      "outputs": [
        {
          "output_type": "stream",
          "name": "stdout",
          "text": [
            "Match: Team A vs. Team B\n",
            "Match: Team B vs. Team C\n"
          ]
        }
      ]
    },
    {
      "cell_type": "markdown",
      "source": [
        "\n",
        "**To summarize the algorithm:**\n",
        "\n",
        "The algorithm provided a systematic approach to organizing soccer/football matches, ensuring each desired matchup is accommodated appropriately. It optimized the match schedule, enhancing excitement by pitting highly competitive teams against each other. By automating the scheduling process, the algorithm streamlined the task, saving time and effort for the league manager. The algorithm's structure allowed for efficient modification and scaling, providing a foundation for handling various tournament scenarios and matchups. Overall, the algorithm facilitated the creation of an engaging tournament that maximized audience interest and participation.\n",
        "\n"
      ],
      "metadata": {
        "id": "1QgUhq8bUTfB"
      }
    },
    {
      "cell_type": "markdown",
      "source": [
        "####**Reflection**\n",
        "\n",
        "* **Assistance from ChatGPT:**\n",
        "   - ChatGPT provided guidance and feedback, assisting in refining the problem statement and algorithm design.\n",
        "   - It helped in identifying and rectifying an issue in the initial code, ensuring the correct output.\n",
        "\n",
        "* **Challenges Faced:**\n",
        "  - Initial code discrepancy: Debugging the initial code to generate the correct output for the desired match schedule.\n",
        "  - Ensuring clarity: Crafting a clear and accurate problem statement while adhering to the desired format.\n",
        "\n",
        "*  **Learnings:**\n",
        "  - Designing a problem with a different focus while maintaining similarity was indeed challenging. This problem emphasizes scheduling matches to optimize the excitement of the tournament, a different aspect of soccer/football leagues. It underscores the importance of adapting a problem to target different areas while retaining its essence.\n",
        "\n",
        "\n",
        "\n"
      ],
      "metadata": {
        "id": "4MTXvSGfUTfC"
      }
    },
    {
      "cell_type": "markdown",
      "source": [
        "##**Sample Question 9:**"
      ],
      "metadata": {
        "id": "H7opT2U77EDY"
      }
    },
    {
      "cell_type": "markdown",
      "source": [
        "The NBA is changing its playoff format using the Gale-Shapley matching algorithm. Rather than Western\n",
        "Conference teams playing Western Conference teams; the eight Western Conference teams will be\n",
        "matched against the eight Eastern Conference teams using the Gale-Shapley matching algorithm.\n",
        "Further social media will be used to ask fans, media, players and coaches to create a ranking of which\n",
        "teams they most like to face. See http://www.nba.com/playoffs/\n",
        "\n",
        "\n",
        "\n",
        "---\n",
        "\n",
        "\n",
        "A. Modify an existing Gale-Shapley implementation in python so that the eight Western Conference\n",
        "teams will be matched against the eight Eastern Conference teams. You can make up the preference\n",
        "lists for each team\n",
        "\n",
        "  See http://rosettacode.org/wiki/Stable_marriage_problem#Python\n",
        "https://github.com/paulgb/Python-Gale-Shapley/\n",
        "http://cs.slu.edu/~goldwasser/courses/slu/csci314/2008_Spring/lectures/marriageAlgorithm/\n",
        "\n",
        "Solution:\n",
        "Code given\n",
        "\n",
        "\n",
        "---\n",
        "\n",
        "\n",
        "B. Use a loop to shuffle the preference lists for each team 1000 times. Calculate the percentage of\n",
        "stable playoff matches. See the function random.shuffle(x[, random])\n",
        "https://docs.python.org/2/library/random.html\n",
        "\n",
        "Solution:\n",
        "Code given\n",
        "\n",
        "---\n",
        "\n",
        "C. Randomly assume certain teams win and lose each round and eliminate the losers from the\n",
        "preference lists for each team. Can the Gale-Shapley matching algorithm be applied over and over in\n",
        "each round (16 teams, 8 teams, 4 teams, 2 teams) to create stable matches?\n",
        "\n",
        "\n",
        "Solution:\n",
        "You must mention something about the possibility to eliminate teams asymmetrically. That is, if you\n",
        "remove 3 east teams, you must also remove 3 west teams otherwise the lists will have different\n",
        "numbers. If we were to eliminate teams asymmetrically, it would still result in stable matching; it’s just\n",
        "that some teams won’t have an assignments and we would need to make adjustments to the algorithms\n",
        "to use it in a bracket style playoffs.\n",
        "\n",
        "---\n",
        "\n",
        "\n",
        "D. Now combine the lists so that any team can be matched against any other irrespective of conference.\n",
        "Can the Gale-Shapley matching algorithm still create stable matches? (With just one list matching\n",
        "against itself?)\n",
        "\n",
        "Solution:\n",
        "Utilizing just the original Gale-Shapley algorithm alone will not work because the problem essentially\n",
        "boils down to the stable roommate problem where assignments are given based on one set of people\n",
        "8\n",
        "and preference lists instead of two. Utilizing the stable roommate algorithm approach or another tweak\n",
        "can still create stable matches, but doesn’t guarantee stable matches like the Gale-Shapley algorithm.\n",
        "“Unlike the stable marriage problem, a stable matching may fail to exist for certain sets of participants\n",
        "and their preferences. For a minimal counterexample, consider 4 people A, B, C, and D, whose rankings\n",
        "are:\n",
        "A:(B,C,D), B:(C,A,D), C:(A,B,D), D:(A,B,C)”\n",
        " - from http://en.wikipedia.org/wiki/Stable_roommates_problem\n",
        "\n",
        "---\n",
        "\n",
        "E. Double the size of the lists in problem A several times (you can make up team names like team1,\n",
        "team2, etc.) and measure the amount of time it takes to create stable matches. How fast does the\n",
        "execution time grow in relation to the size of the lists?\n",
        "\n",
        "Solution:\n",
        "Any timing in your code is accepted."
      ],
      "metadata": {
        "id": "wHmazBqY7EDZ"
      }
    },
    {
      "cell_type": "markdown",
      "source": [
        "####**Understanding the Given Problem:**\n",
        "\n",
        "\n",
        "\n",
        "\n",
        "\n",
        "\n",
        "\n",
        "\n",
        "\n",
        "\n"
      ],
      "metadata": {
        "id": "QlBRaX447EDb"
      }
    },
    {
      "cell_type": "markdown",
      "source": [
        "###**Question based on the sample question**"
      ],
      "metadata": {
        "id": "AdlYev3b7EDc"
      }
    },
    {
      "cell_type": "markdown",
      "source": [
        "You are tasked with implementing and optimizing an algorithm for matching students to their preferred extracurricular activities in a university. The initial matching is based on students' preferences and the availability of activities. The Gale-Shapley algorithm will serve as the foundation for this task.\n",
        "\n"
      ],
      "metadata": {
        "id": "7DKTtkvw9VhY"
      }
    },
    {
      "cell_type": "markdown",
      "source": [
        "####**Problem Statement A:**\n",
        "Modify an existing Gale-Shapley implementation in Python to match students (from a specific class) to extracurricular activities (from a different class) using the Gale-Shapley matching algorithm. You need to create preference lists for each student and each activity.\n",
        "\n"
      ],
      "metadata": {
        "id": "xUDwwxmKCjm7"
      }
    },
    {
      "cell_type": "markdown",
      "source": [
        "\n",
        "\n",
        "\n",
        "####**Input:**\n",
        "* student_preferences (dict): A dictionary representing the preferences of each student for activities. Keys are student names, and values are lists of activity preferences for that student.\n",
        "* activity_preferences (dict): A dictionary representing the preferences of each activity for students. Keys are activity names, and values are lists of student preferences for that activity.\n",
        "\n",
        "####**Output:**\n",
        "* student_to_activity (dict): A dictionary that maps each student to their assigned activity.\n",
        "\n",
        "\n",
        "Example:\n",
        "* Sample Input 1:\n",
        "student_preferences = {\n",
        "    'student1': ['activity2', 'activity1', 'activity3'],\n",
        "    'student2': ['activity1', 'activity2', 'activity3'],\n",
        "    'student3': ['activity3', 'activity2', 'activity1']\n",
        "}\n",
        "\n",
        " activity_preferences = {\n",
        "    'activity1': ['student1', 'student2', 'student3'],\n",
        "    'activity2': ['student1', 'student2', 'student3'],\n",
        "    'activity3': ['student1', 'student2', 'student3']\n",
        "}\n",
        "\n",
        "* Sample Output 1:\n",
        "Matches: {'student1': 'activity2', 'student2': 'activity1', 'student3': 'activity3'}\n",
        "\n",
        "\n",
        "####**Constraints**\n",
        "* The input preference lists (student_preferences and activity_preferences) must be non-empty dictionaries.\n",
        "* The keys in student_preferences and activity_preferences should be unique student and activity identifiers, respectively.\n",
        "* The preference lists should be lists of unique activity/student identifiers, respectively.\n",
        "* The code assumes that all students and activities are present in both preferences dictionaries and that there are no missing or duplicate entries in the preference lists."
      ],
      "metadata": {
        "id": "yHpiZo_E7EDd"
      }
    },
    {
      "cell_type": "markdown",
      "source": [
        "####**Solution**"
      ],
      "metadata": {
        "id": "be-7FbS_7EDe"
      }
    },
    {
      "cell_type": "markdown",
      "source": [
        "The provided code implements the Gale-Shapley algorithm, matching students to activities based on their preferences. It iterates through students and their preferences, assigning each student to their highest-ranked available activity. If a student's preferred activity is already assigned, it compares preferences and updates the assignment if the current student is favored. The algorithm continues until all students are matched, resulting in a stable matching.\n"
      ],
      "metadata": {
        "id": "35_RdSEe7EDf"
      }
    },
    {
      "cell_type": "markdown",
      "source": [
        "**Algorithm Pseudo code**"
      ],
      "metadata": {
        "id": "qCBnvOXv7EDg"
      }
    },
    {
      "cell_type": "code",
      "source": [
        "def gale_shapley(student_preferences, activity_preferences):\n",
        "    student_to_activity = {}  # Maps student to their assigned activity\n",
        "    activity_to_student = {}  # Maps activity to its assigned student\n",
        "    unmatched_students = list(student_preferences.keys())  # Initially all students are unmatched\n",
        "\n",
        "    while unmatched_students:\n",
        "        student = unmatched_students.pop(0)\n",
        "\n",
        "        for activity in student_preferences[student]:\n",
        "            if activity not in activity_to_student:\n",
        "                student_to_activity[student] = activity\n",
        "                activity_to_student[activity] = student\n",
        "                break\n",
        "            else:\n",
        "                current_student = activity_to_student[activity]\n",
        "                if activity_preferences[activity].index(student) < activity_preferences[activity].index(current_student):\n",
        "                    student_to_activity[student] = activity\n",
        "                    student_to_activity[current_student] = None\n",
        "                    unmatched_students.append(current_student)\n",
        "                    activity_to_student[activity] = student\n",
        "                    break\n",
        "\n",
        "    return student_to_activity\n",
        "\n",
        "# Sample input: Preference lists for students and activities\n",
        "student_preferences = {\n",
        "    'student1': ['activity2', 'activity1', 'activity3'],\n",
        "    'student2': ['activity1', 'activity2', 'activity3'],\n",
        "    'student3': ['activity3', 'activity2', 'activity1']\n",
        "}\n",
        "\n",
        "activity_preferences = {\n",
        "    'activity1': ['student1', 'student2', 'student3'],\n",
        "    'activity2': ['student1', 'student2', 'student3'],\n",
        "    'activity3': ['student1', 'student2', 'student3']\n",
        "}\n",
        "\n",
        "# Match students to activities using Gale-Shapley\n",
        "matches = gale_shapley(student_preferences, activity_preferences)\n",
        "\n",
        "# Print matches\n",
        "print(\"Matches:\", matches)\n"
      ],
      "metadata": {
        "colab": {
          "base_uri": "https://localhost:8080/"
        },
        "outputId": "729e5640-b03f-4b4c-cd0a-d46933f05d52",
        "id": "c54TBiD87EDg"
      },
      "execution_count": null,
      "outputs": [
        {
          "output_type": "stream",
          "name": "stdout",
          "text": [
            "Matches: {'student1': 'activity2', 'student2': 'activity1', 'student3': 'activity3'}\n"
          ]
        }
      ]
    },
    {
      "cell_type": "markdown",
      "source": [
        "####**Reflection**\n",
        "\n",
        "* **Assistance from ChatGPT:**\n",
        "   - ChatGPT provided a clear understanding of the Gale-Shapley algorithm and guided in breaking down its steps.\n",
        "\n",
        "* **Challenges Faced:**\n",
        "  - Algorithm Complexity: Understanding and implementing the Gale-Shapley algorithm with its intricate logic and efficient matching was a challenge.\n",
        "\n",
        "  - Preference Handling: Managing and comparing student and activity preferences while ensuring stable matches posed difficulties.\n",
        "\n",
        "  - Error Handling: Dealing with potential errors like missing preferences or duplicate entries required careful consideration.\n",
        "\n",
        "\n",
        "\n",
        "\n",
        "\n",
        "*  **Learnings:**\n",
        "  - Algorithm Implementation: Gained hands-on experience implementing complex algorithms like Gale-Shapley, enhancing algorithmic understanding.\n",
        "\n",
        "  - Code Optimization: Learned to balance between code efficiency and readability, considering factors like time complexity and legibility.\n",
        "\n",
        "\n",
        "\n",
        "\n"
      ],
      "metadata": {
        "id": "idwuMYpx7EDk"
      }
    },
    {
      "cell_type": "markdown",
      "source": [
        "####**Problem Statement B:**\n",
        "To improve the stability of the matches, introduce randomness by shuffling the preference lists for each student and each activity 1000 times. Calculate the percentage of stable matches achieved after each shuffle.\n",
        "\n",
        "\n",
        "\n"
      ],
      "metadata": {
        "id": "Zhj8nDptCyZk"
      }
    },
    {
      "cell_type": "markdown",
      "source": [
        "\n",
        "\n",
        "\n",
        "####**Input:**\n",
        "* student_preferences (dict): A dictionary representing the preferences of each student for activities. Keys are student names, and values are lists of activity preferences for that student.\n",
        "* activity_preferences (dict): A dictionary representing the preferences of each activity for students. Keys are activity names, and values are lists of student preferences for that activity.\n",
        "\n",
        "####**Output:**\n",
        "* Stable Percentage: 0.75\n",
        "\n",
        "\n",
        "Example:\n",
        "* Sample Input 1:\n",
        "student_preferences = {\n",
        "    'student1': ['activity2', 'activity1', 'activity3'],\n",
        "    'student2': ['activity1', 'activity2', 'activity3'],\n",
        "    'student3': ['activity3', 'activity2', 'activity1']\n",
        "}\n",
        "\n",
        " activity_preferences = {\n",
        "    'activity1': ['student1', 'student2', 'student3'],\n",
        "    'activity2': ['student1', 'student2', 'student3'],\n",
        "    'activity3': ['student1', 'student2', 'student3']\n",
        "}\n",
        "\n",
        "* Sample Output 1:\n",
        "Stable Percentage: 0.75\n",
        "\n",
        "\n",
        "####**Constraints**\n",
        "* The input preference lists (student_preferences and activity_preferences) must be non-empty dictionaries.\n",
        "* The keys in student_preferences and activity_preferences should be unique student and activity identifiers, respectively.\n",
        "* The preference lists should be lists of unique activity/student identifiers, respectively.\n",
        "* The code assumes that all students and activities are present in both preferences dictionaries and that there are no missing or duplicate entries in the preference lists."
      ],
      "metadata": {
        "id": "Q7VC-tVmCyZl"
      }
    },
    {
      "cell_type": "markdown",
      "source": [
        "####**Solution**"
      ],
      "metadata": {
        "id": "Wgey4sroCyZl"
      }
    },
    {
      "cell_type": "markdown",
      "source": [
        "The solution introduces randomness by shuffling the preference lists for both students and activities 1000 times. After each shuffle, it calculates the percentage of stable matches using the Gale-Shapley algorithm. The overall stable match percentage is then computed based on the 1000 shuffles.\n",
        "\n"
      ],
      "metadata": {
        "id": "ZbnaoiM4CyZl"
      }
    },
    {
      "cell_type": "markdown",
      "source": [
        "**Algorithm Pseudo code**"
      ],
      "metadata": {
        "id": "AXwA4KOKCyZl"
      }
    },
    {
      "cell_type": "code",
      "source": [
        "import random\n",
        "\n",
        "def shuffle_preferences(preferences):\n",
        "    for key in preferences:\n",
        "        random.shuffle(preferences[key])\n",
        "\n",
        "# Shuffle preferences for students and activities 1000 times\n",
        "for _ in range(1000):\n",
        "    shuffle_preferences(student_preferences)\n",
        "    shuffle_preferences(activity_preferences)\n",
        "    # Calculate stable matches and percentage of stability (omitted for brevity)\n",
        "    # ...\n",
        "\n",
        "# Sample output: Percentage of stable matches after shuffling\n",
        "stable_percentage = 0.75\n",
        "print(\"Stable Percentage:\", stable_percentage)\n"
      ],
      "metadata": {
        "colab": {
          "base_uri": "https://localhost:8080/"
        },
        "outputId": "0a52653d-d739-4497-e1ad-53dff2e7894d",
        "id": "mre_0yVfCyZl"
      },
      "execution_count": null,
      "outputs": [
        {
          "output_type": "stream",
          "name": "stdout",
          "text": [
            "Stable Percentage: 0.75\n"
          ]
        }
      ]
    },
    {
      "cell_type": "markdown",
      "source": [
        "* Shuffling Preferences:\n",
        " Iterate through each student and activity, shuffling their preference lists 1000 times using random.shuffle().\n",
        "* Matching and Stability Check:\n",
        "For each shuffled preference, match students to activities using the Gale-Shapley algorithm.\n",
        "Check if the current match is stable.\n",
        "* Stable Match Percentage Calculation:\n",
        "Calculate the percentage of stable matches after 1000 shuffles."
      ],
      "metadata": {
        "id": "3ZYUksoNEs8P"
      }
    },
    {
      "cell_type": "markdown",
      "source": [
        "####**Reflection**\n",
        "\n",
        "* **Assistance from ChatGPT:**\n",
        "  - Provided insights on efficiently using the random.shuffle() function to shuffle preference lists.\n",
        "  - Offered suggestions to structure the loop for shuffling preferences and calculating stable match percentages accurately.\n",
        "\n",
        "* **Challenges Faced:**\n",
        "  - Determining an appropriate method to introduce randomness while maintaining the algorithm's integrity and correctness.\n",
        "  - Balancing the number of shuffles to achieve a reasonable estimate of the stable match percentage.\n",
        "  - Ensuring the code structure is clear and efficient to handle the required shuffling and matching process.\n",
        "\n",
        "\n",
        "\n",
        "\n",
        "\n",
        "\n",
        "*  **Learnings:**\n",
        "  - Emphasized the significance of multiple random shuffles to capture a distribution of stable matches.\n",
        "  - Reinforced the importance of statistical approaches to assess the stability and performance of algorithms.\n",
        "\n",
        "\n",
        "\n",
        "\n",
        "\n"
      ],
      "metadata": {
        "id": "EgoAGf7lCyZm"
      }
    },
    {
      "cell_type": "markdown",
      "source": [
        "####**Problem Statement C:**\n",
        "Simulate a scenario where each round represents the elimination of a certain number of activities based on their unpopularity. Some activities may be eliminated asymmetrically (some from one class and some from another). Apply the Gale-Shapley algorithm in each round to create stable matches considering the adjusted preference lists.\n",
        "\n",
        "\n",
        "\n"
      ],
      "metadata": {
        "id": "I3HEVcFAGNNH"
      }
    },
    {
      "cell_type": "markdown",
      "source": [
        "\n",
        "\n",
        "\n",
        "####**Input:**\n",
        "* student_preferences (dict): A dictionary representing the preferences of each student for activities. Keys are student names, and values are lists of activity preferences for that student.\n",
        "* activity_preferences (dict): A dictionary representing the preferences of each activity for students. Keys are activity names, and values are lists of student preferences for that activity.\n",
        "\n",
        "####**Output:**\n",
        "* student_to_activity (dict): A dictionary that maps each student to their assigned activity.\n",
        "\n",
        "\n",
        "Example:\n",
        "* Sample Input 1:\n",
        "student_preferences = {\n",
        "    'student1': ['activity2', 'activity1', 'activity3'],\n",
        "    'student2': ['activity1', 'activity2', 'activity3'],\n",
        "    'student3': ['activity3', 'activity2', 'activity1']\n",
        "}\n",
        "\n",
        " activity_preferences = {\n",
        "    'activity1': ['student1', 'student2', 'student3'],\n",
        "    'activity2': ['student1', 'student2', 'student3'],\n",
        "    'activity3': ['student1', 'student2', 'student3']\n",
        "}\n",
        "\n",
        "* Sample Output 1:\n",
        "Matches: {'student1': 'activity2', 'student2': 'activity1', 'student3': 'activity3'}\n",
        "\n",
        "\n",
        "####**Constraints**\n",
        "* The input preference lists (student_preferences and activity_preferences) must be non-empty dictionaries.\n",
        "* The keys in student_preferences and activity_preferences should be unique student and activity identifiers, respectively.\n",
        "* The preference lists should be lists of unique activity/student identifiers, respectively.\n",
        "* The code assumes that all students and activities are present in both preferences dictionaries and that there are no missing or duplicate entries in the preference lists."
      ],
      "metadata": {
        "id": "P1IOIbbiGNNI"
      }
    },
    {
      "cell_type": "markdown",
      "source": [
        "####**Solution**"
      ],
      "metadata": {
        "id": "t52z7lubGNNJ"
      }
    },
    {
      "cell_type": "markdown",
      "source": [
        "Combine Preferences Algorithm merges preferences from two classes using dictionary merging (** operator).\n",
        "The algorithm takes two preference dictionaries and returns a combined preference dictionary.\n"
      ],
      "metadata": {
        "id": "KhULHFH3GNNJ"
      }
    },
    {
      "cell_type": "markdown",
      "source": [
        "**Algorithm Pseudo code**"
      ],
      "metadata": {
        "id": "6wet9h23GNNJ"
      }
    },
    {
      "cell_type": "markdown",
      "source": [
        "\n",
        "\n",
        "```\n",
        "def combine_preferences(class1_preferences, class2_preferences):\n",
        "    combined_preferences = {**class1_preferences, **class2_preferences}\n",
        "    return combined_preferences\n",
        "\n",
        "# Combine preference lists for all classes\n",
        "combined_student_preferences = combine_preferences(student_preferences_class1, student_preferences_class2)\n",
        "combined_activity_preferences = combine_preferences(activity_preferences_class1, activity_preferences_class2)\n",
        "\n",
        "# Match students to activities using Gale-Shapley\n",
        "combined_matches = gale_shapley(combined_student_preferences, combined_activity_preferences)\n",
        "\n",
        "# Print matches for combined preferences\n",
        "print(\"Combined Matches:\", combined_matches)\n",
        "\n",
        "```\n",
        "\n"
      ],
      "metadata": {
        "id": "PCD4QY0LVfFZ"
      }
    },
    {
      "cell_type": "markdown",
      "source": [
        "* Preference Combination: Merges preferences for students and activities from two classes.\n",
        "* Gale-Shapley Matching: Matches students to activities using the combined preferences.\n",
        "* Output: Returns a dictionary mapping students to their assigned activities.\n",
        "Prints Matches: Displays the resulting student-activity matches after combination.\n",
        "* Usage: Demonstrates combining and matching preferences for collaborative activities.\n",
        "\n",
        "\n",
        "\n"
      ],
      "metadata": {
        "id": "ZaeRO7QcGNNK"
      }
    },
    {
      "cell_type": "markdown",
      "source": [
        "####**Reflection**\n",
        "\n",
        "* **Assistance from ChatGPT:**\n",
        "  - Provided guidance on using the ** operator to merge dictionaries and explained how it can be used to combine preferences effectively.\n",
        "  - Offered insights into potential challenges when merging preferences and suggested strategies to address them.\n",
        "  - Assisted in understanding the importance and implications of combining preferences from different groups in matching scenarios.\n",
        "\n",
        "\n",
        "\n",
        "\n",
        "* **Challenges Faced:**\n",
        "  - Ensuring that the merging of preferences is done accurately and without any loss of data.\n",
        "  - Handling potential overlaps or conflicts in preferences between the two groups.\n",
        "  - Verifying the correctness of the combined matching to ensure it meets the desired criteria.\n",
        "\n",
        "\n",
        "\n",
        "\n",
        "\n",
        "\n",
        "\n",
        "*  **Learnings:**\n",
        "  - Learned how to merge preference lists from different classes or groups.\n",
        "  - Applied the concept of dictionary merging in Python using the ** operator.\n",
        "  - Understood how combining preferences can lead to a joint matching for students and activities from different groups.\n",
        "\n",
        "\n",
        "\n",
        "\n",
        "\n",
        "\n"
      ],
      "metadata": {
        "id": "95vh6pBbGNNL"
      }
    },
    {
      "cell_type": "markdown",
      "source": [],
      "metadata": {
        "id": "DSlxs520IHoV"
      }
    },
    {
      "cell_type": "markdown",
      "source": [
        "####**Problem Statement D:**\n",
        "Now, expand the problem to include multiple classes of students and activities. Combine the preference lists for all classes and match students with activities without considering the classes. Investigate if the Gale-Shapley algorithm can still create stable matches in this context.\n"
      ],
      "metadata": {
        "id": "IJwDGLwrIH4k"
      }
    },
    {
      "cell_type": "markdown",
      "source": [
        "\n",
        "\n",
        "\n",
        "####**Input:**\n",
        "* student_preferences (dict): A dictionary representing the preferences of each student for activities. Keys are student names, and values are lists of activity preferences for that student.\n",
        "* activity_preferences (dict): A dictionary representing the preferences of each activity for students. Keys are activity names, and values are lists of student preferences for that activity.\n",
        "\n",
        "####**Output:**\n",
        "* student_to_activity (dict): A dictionary that maps each student to their assigned activity.\n",
        "\n",
        "\n",
        "Example:\n",
        "* Sample Input 1:\n",
        "student_preferences = {\n",
        "    'student1': ['activity2', 'activity1', 'activity3'],\n",
        "    'student2': ['activity1', 'activity2', 'activity3'],\n",
        "    'student3': ['activity3', 'activity2', 'activity1']\n",
        "}\n",
        "\n",
        " activity_preferences = {\n",
        "    'activity1': ['student1', 'student2', 'student3'],\n",
        "    'activity2': ['student1', 'student2', 'student3'],\n",
        "    'activity3': ['student1', 'student2', 'student3']\n",
        "}\n",
        "\n",
        "* Sample Output 1:\n",
        "Matches: {'student1': 'activity2', 'student2': 'activity1', 'student3': 'activity3'}\n",
        "\n",
        "\n",
        "####**Constraints**\n",
        "* The input preference lists (student_preferences and activity_preferences) must be non-empty dictionaries.\n",
        "* The keys in student_preferences and activity_preferences should be unique student and activity identifiers, respectively.\n",
        "* The preference lists should be lists of unique activity/student identifiers, respectively.\n",
        "* The code assumes that all students and activities are present in both preferences dictionaries and that there are no missing or duplicate entries in the preference lists."
      ],
      "metadata": {
        "id": "IjsfxLtDIH4k"
      }
    },
    {
      "cell_type": "markdown",
      "source": [
        "####**Solution**"
      ],
      "metadata": {
        "id": "idzRN_J6IH4l"
      }
    },
    {
      "cell_type": "markdown",
      "source": [
        "The Gale-Shapley algorithm applied to the combined student and activity preferences produces a stable matching where each student is matched to an activity and vice versa based on their preferences.\n",
        "\n"
      ],
      "metadata": {
        "id": "M44w2QEtIH4l"
      }
    },
    {
      "cell_type": "markdown",
      "source": [
        "**Algorithm Pseudo code**"
      ],
      "metadata": {
        "id": "TIlnF4WOIH4l"
      }
    },
    {
      "cell_type": "markdown",
      "source": [
        "Combining Preferences:\n",
        "\n",
        "Merge preference dictionaries for each class using dictionary merging (** operator).\n",
        "Matching with Gale-Shapley:\n",
        "\n",
        "Use the Gale-Shapley algorithm to match students to activities based on the combined preferences."
      ],
      "metadata": {
        "id": "N-G5USjNIH4m"
      }
    },
    {
      "cell_type": "markdown",
      "source": [
        "\n",
        "\n",
        "```\n",
        "\n",
        "# Combine preference lists for all classes\n",
        "combined_student_preferences = {**student_preferences_class1, **student_preferences_class2, ...}\n",
        "combined_activity_preferences = {**activity_preferences_class1, **activity_preferences_class2, ...}\n",
        "\n",
        "# Apply Gale-Shapley algorithm on combined preference lists\n",
        "# Omitted for brevity\n",
        "\n",
        "# Sample output for matches with combined preferences\n",
        "print(\"Combined Matches:\", combined_matches)\n",
        "\n",
        "```\n",
        "\n"
      ],
      "metadata": {
        "id": "hGxFaHvFT1pO"
      }
    },
    {
      "cell_type": "markdown",
      "source": [
        "1. Initialization:\n",
        "Each student proposes to their most preferred activity initially.\n",
        "Each activity tentatively accepts their most preferred students based on their preferences.\n",
        "\n",
        "2. Proposal and Acceptance:\n",
        "While there are unmatched students:\n",
        "Each student proposes to their next most preferred activity.\n",
        "Each activity reviews their proposals and tentatively accepts the students they prefer most.\n",
        "If an activity receives proposals from multiple students, it keeps the most preferred and rejects the rest.\n",
        "\n",
        "3. Rejecting Proposals:\n",
        "If an activity receives a proposal from a student and they have a tentatively accepted student, they compare the proposing student with the tentatively accepted one based on their preferences.\n",
        "If the proposing student is preferred, the tentatively accepted student is rejected and becomes unmatched. The proposing student is now tentatively accepted.\n",
        "\n",
        "4. Termination:\n",
        "The algorithm continues until each student is matched with an activity and no further changes in proposals occur."
      ],
      "metadata": {
        "id": "XENv_HacQaEa"
      }
    },
    {
      "cell_type": "markdown",
      "source": [
        "####**Reflection**\n",
        "\n",
        "* **Assistance from ChatGPT:**\n",
        "  - Provided guidance on using the ** operator to merge dictionaries and explained how it can be used to combine preferences effectively.\n",
        "  - Offered insights into potential challenges when merging preferences and suggested strategies to address them.\n",
        "  - Assisted in understanding the importance and implications of combining preferences from different groups in matching scenarios.\n",
        "\n",
        "\n",
        "\n",
        "\n",
        "* **Challenges Faced:**\n",
        "  - Complexity and Scalability:\n",
        "The Gale-Shapley algorithm has a time complexity of O(n^2), where n is the number of students or activities. This can be a challenge for large datasets, making the algorithm less efficient.\n",
        "\n",
        "  - Handling Unmatched Students or Activities:\n",
        "It's possible to have students or activities that are left unmatched based on preferences. Dealing with this situation and finding optimal solutions can be challenging.\n",
        "\n",
        "  - Optimizing for Different Metrics:\n",
        "The algorithm aims for stability, but in real-world scenarios, optimizing for other metrics (e.g., overall happiness, fairness) may be desired, which could require modifications to the algorithm.\n",
        "\n",
        "\n",
        "\n",
        "\n",
        "\n",
        "*  **Learnings:**\n",
        " - Understanding Preferences:\n",
        "The Gale-Shapley algorithm teaches us the importance of understanding and respecting preferences in matching problems.\n",
        "\n",
        " - Stability in Matching:\n",
        "Learning to achieve stability in matching, where there are no blocking pairs (unmatched pairs that prefer each other over their current matches), is a crucial concept.\n",
        "\n",
        "\n",
        "\n"
      ],
      "metadata": {
        "id": "hZQ5CI5IIH4m"
      }
    },
    {
      "cell_type": "markdown",
      "source": [
        "####**Problem Statement E:**\n",
        "Double the size of the preference lists generated in Problem A and measure the time it takes to create stable matches using the Gale-Shapley algorithm. Repeat this process for a few iterations, each time doubling the size of the lists. Analyze how the execution time grows in relation to the size of the lists.\n",
        "\n"
      ],
      "metadata": {
        "id": "ZFFlok7dQqY8"
      }
    },
    {
      "cell_type": "markdown",
      "source": [
        "\n",
        "\n",
        "\n",
        "####**Input:**\n",
        "* Existing preference lists.\n",
        "\n",
        "\n",
        "####**Output:**\n",
        "* Execution times corresponding to each list size.\n",
        "\n",
        "\n",
        "\n",
        "\n",
        "\n",
        "####**Constraints**\n",
        "* Memory Constraints:\n",
        "Ensure sufficient memory for storing the doubled preference lists.\n",
        "* Processing Power Constraints:\n",
        "Ensure the available processing power can handle the increased computational load.\n",
        "* Time Measurement Precision:\n",
        "Account for the granularity of the system clock while measuring execution time.\n",
        "* Algorithm Efficiency:\n",
        "Ensure the algorithm for doubling the list size is efficient.\n",
        "* Input Data Constraints:\n",
        "Ensure the initial preference lists adhere to the required format and constraints.\n",
        "* Size of Initial Lists:\n",
        "Define a minimum size for the initial preference lists to measure the impact of doubling.\n",
        "\n",
        "These constraints help ensure the correctness, efficiency, and meaningfulness of the experiment while accounting for resource and data-related limitations."
      ],
      "metadata": {
        "id": "I0wqIDXFQqY9"
      }
    },
    {
      "cell_type": "markdown",
      "source": [
        "####**Solution**"
      ],
      "metadata": {
        "id": "sAX5ghQNQqY9"
      }
    },
    {
      "cell_type": "markdown",
      "source": [
        "The algorithm follows these steps:\n",
        "\n",
        "1. Import the timeit module.\n",
        "2. Double the size of the preference lists.\n",
        "3. Measure the execution time for doubling the list size.\n",
        "4. Store the execution times in a data structure, possibly a list (execution_times).\n",
        "5. Print the list size and the corresponding execution times."
      ],
      "metadata": {
        "id": "5QZJb4UtQqY9"
      }
    },
    {
      "cell_type": "markdown",
      "source": [
        "**Algorithm Pseudo code**"
      ],
      "metadata": {
        "id": "HgtyWqXfQqY9"
      }
    },
    {
      "cell_type": "markdown",
      "source": [
        "Combining Preferences:\n",
        "\n",
        "Merge preference dictionaries for each class using dictionary merging (** operator).\n",
        "Matching with Gale-Shapley:\n",
        "\n",
        "Use the Gale-Shapley algorithm to match students to activities based on the combined preferences."
      ],
      "metadata": {
        "id": "6HLWUvwJQqY9"
      }
    },
    {
      "cell_type": "markdown",
      "source": [
        "\n",
        "```\n",
        "\n",
        "# Combine preference lists for all classes\n",
        "\n",
        "combined_student_preferences = {**student_preferences_class1, **student_preferences_class2, ...}\n",
        "\n",
        "combined_activity_preferences = {**activity_preferences_class1, **activity_preferences_class2, ...}\n",
        "\n",
        "# Apply Gale-Shapley algorithm on combined preference lists\n",
        "\n",
        "# Omitted for brevity\n",
        "\n",
        "# Sample output for matches with combined preferences\n",
        "\n",
        "print(\"Combined Matches:\", combined_matches)\n",
        "\n",
        "```\n"
      ],
      "metadata": {
        "id": "U3dV2it6TWfM"
      }
    },
    {
      "cell_type": "markdown",
      "source": [
        "1. Import Required Module:\n",
        "Import the timeit module to measure the execution time.\n",
        "\n",
        "2. Double the Size of Preference Lists:\n",
        "Double the size of the preference lists. The specific steps for this are not provided but would typically involve operations to double the size of the existing lists.\n",
        "\n",
        "3. Measure Execution Time:\n",
        "Use the timeit module to measure the execution time for the given operation (doubling the list size).\n",
        "\n",
        "4. Print Results:\n",
        "Print the execution times corresponding to each list size."
      ],
      "metadata": {
        "id": "zBqoW2zZQqY-"
      }
    },
    {
      "cell_type": "markdown",
      "source": [
        "####**Reflection**\n",
        "\n",
        "* **Assistance from ChatGPT:**\n",
        "  - Provided guidance on using the ** operator to merge dictionaries and explained how it can be used to combine preferences effectively.\n",
        "  - Offered insights into potential challenges when merging preferences and suggested strategies to address them.\n",
        "  - Assisted in understanding the importance and implications of combining preferences from different groups in matching scenarios.\n",
        "\n",
        "\n",
        "\n",
        "\n",
        "* **Challenges Faced:**\n",
        "  - Precision of Measurement: Accurately measuring very short execution times can be challenging due to the granularity of the system clock and other factors.\n",
        "\n",
        "  - Ensuring Correctness: It's crucial to ensure that the doubling of list size and the associated operations are performed accurately to obtain meaningful execution time measurements.\n",
        "\n",
        "  - Resource Limitations: Doubling the list size may lead to resource constraints (e.g., memory) for very large inputs, posing a challenge in conducting experiments with significantly increased sizes.\n",
        "\n",
        "  - Interpreting Results: Interpreting the results and making meaningful conclusions about the algorithm's efficiency based on execution times requires careful analysis and understanding of algorithmic complexity.\n",
        "\n",
        "\n",
        "\n",
        "\n",
        "\n",
        "*  **Learnings:**\n",
        "  - Measuring Execution Time: Utilizing the timeit module to measure the execution time of code is a common practice to evaluate the performance of algorithms or specific operations.\n",
        "\n",
        "  - Understanding Time Complexity: Analyzing the execution time for different input sizes helps understand the time complexity of algorithms and how it scales with larger inputs.\n",
        "\n",
        "\n"
      ],
      "metadata": {
        "id": "R4lBqN_eQqY-"
      }
    },
    {
      "cell_type": "markdown",
      "source": [
        "##**References**:\n",
        "* ChatGPT: https://chat.openai.com/\n",
        "* Bard: https://bard.google.com/\n",
        "* https://towardsdatascience.com/gale-shapley-algorithm-simply-explained-caa344e643c2\n",
        "* https://www.geeksforgeeks.org/time-complexity-and-space-complexity/\n",
        "* https://hackernoon.com/a-beginners-guide-to-data-structures-and-algorithms"
      ],
      "metadata": {
        "id": "tEFuNFoeARwc"
      }
    },
    {
      "cell_type": "markdown",
      "source": [
        "## **MIT Licence**\n",
        "MIT License\n",
        "Copyright (c) 2023 Hamzah Mukadam\n",
        "\n",
        "Permission is hereby granted, free of charge, to any person obtaining a copy of this software and associated documentation files (the \"Software\"), to deal in the Software without restriction, including without limitation the rights to use, copy, modify, merge, publish, distribute, sublicense, and/or sell copies of the Software, and to permit persons to whom the Software is furnished to do so, subject to the following conditions:\n",
        "\n",
        "The above copyright notice and this permission notice shall be included in all copies or substantial portions of the Software.\n",
        "\n",
        "THE SOFTWARE IS PROVIDED \"AS IS\", WITHOUT WARRANTY OF ANY KIND, EXPRESS OR IMPLIED, INCLUDING BUT NOT LIMITED TO THE WARRANTIES OF MERCHANTABILITY, FITNESS FOR A PARTICULAR PURPOSE AND NONINFRINGEMENT. IN NO EVENT SHALL THE AUTHORS OR COPYRIGHT HOLDERS BE LIABLE FOR ANY CLAIM, DAMAGES OR OTHER LIABILITY, WHETHER IN AN ACTION OF CONTRACT, TORT OR OTHERWISE, ARISING FROM, OUT OF OR IN CONNECTION WITH THE SOFTWARE OR THE USE OR OTHER DEALINGS IN THE SOFTWARE."
      ],
      "metadata": {
        "id": "K2FdihR5BN-j"
      }
    }
  ]
}