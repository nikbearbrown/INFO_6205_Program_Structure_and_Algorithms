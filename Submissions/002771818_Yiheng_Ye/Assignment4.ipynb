{
 "cells": [
  {
   "cell_type": "markdown",
   "id": "026d9675-4bf3-4a5b-a9d1-089f074cc89d",
   "metadata": {},
   "source": [
    "Question1:\n",
    "Max Clique question:\n",
    "    A complete subgraph of a graph G is called a clique, whose size is the number of vertices in it. Find the maximal clique in a given graph G.\n",
    "    Is this problem NP?\n",
    "    Is this problem NPC?"
   ]
  },
  {
   "cell_type": "markdown",
   "id": "97490f04-5a57-44b5-8fcc-ffe499b955a4",
   "metadata": {},
   "source": [
    "Solution:\n",
    "    To show it is NP:\n",
    "        By checking the connectivity of each vertice, the time complexty will be O(n^2), all we need to do is to check the vertice one by one, and the edge we need to check is the summation of series of number of edges n. So this problem is a NP problem.\n",
    "       \n",
    "    To show it is NP-C:\n",
    "    we can use CNF-SAT to solve this problem. Firstly, we can create a function K= C1*C2*C3*....*Ck. K is a CNF-3 with k clauses. Each clause has three variables x1 x2 x3. for example C1= x1*-x2*x3 in the formula\n",
    "    A graph can be constructed as follows: for each C, creates a triple of vertices v1,v2,v3 and create edges between vi(v from Ci) and vj iff:\n",
    "        *they are in different triples,i is not equal to j\n",
    "        *they do not correspond to the literals negating each other.\n",
    "      \n",
    "    For example: K=(x1*-x2*-x3)*(-x1*x2*x3)*(x1*x2*x3)\n",
    "    we can have x1=1 x2=0 x3=1\n",
    "    then for corresponding clique, we can pick true literal for each triple."
   ]
  },
  {
   "cell_type": "markdown",
   "id": "7de7e366-f91b-4ebc-bfb6-a791a1ed1e67",
   "metadata": {},
   "source": [
    "reflection:\n",
    "    This question tests the understanding of NPC-related question and the usage of the known NPC problems.\n",
    "    Gpt suggests using boolean SAT to solve this problem, which is kind of similar.\n",
    "    \n",
    "    Gpt:\n",
    "    One classic NP-complete problem is the Boolean Satisfiability Problem (SAT). We can reduce SAT to the maximum clique problem by constructing a graph from a given instance of SAT.\n",
    "Given a Boolean formula in conjunctive normal form (CNF) with variables x1,x2..xn, we create a graph where each variable corresponds to a node and each clause corresponds to an edge between the nodes.\n",
    "\n",
    "For each clause in the Boolean formula, create an edge between the nodes representing the literals in the clause. This graph will have an edge between two nodes (variables) if they appear together in a clause.\n",
    "\n",
    "The maximum clique in this constructed graph will correspond to a satisfying assignment for the original SAT problem. If there exists a clique of size k (where k is the number of variables in a satisfying assignment), it means that those variables satisfy the Boolean formula. Conversely, if there is no such clique, the Boolean formula is unsatisfiable.\n",
    "    \n",
    "    \n",
    "   It was hard to think of this quesion at first. I took lots of time on thinking and searching, with the hint of SAT given by gpt, i finally got something on this question. "
   ]
  },
  {
   "cell_type": "code",
   "execution_count": null,
   "id": "cda160dc-c4b3-4939-b481-685aea564d8d",
   "metadata": {},
   "outputs": [],
   "source": []
  },
  {
   "cell_type": "markdown",
   "id": "41813994-e49e-4c7d-9001-0070a3b05c38",
   "metadata": {},
   "source": [
    "Question2:\n",
    "    Given a list of cities and the distances between each pair of cities, find the shortest possible route that visits each city exactly once and returns to the origin city.\n",
    "    Is this problem NP?\n",
    "    Is this problem NPC?\n",
    "    Is this problem NPH?"
   ]
  },
  {
   "cell_type": "markdown",
   "id": "547af91a-cc93-46d8-aae6-6103f90a8180",
   "metadata": {},
   "source": [
    "Solution:\n",
    "    Since we do not know what is the exact number of the shortest path. We can change the decision question into \" given a cost C, is there a route that's cheaper than C? \"\n",
    "    \n",
    "   It's hard to find a similar NPC problem which is able to be used in polynomial reduction.\n",
    "    \n",
    "   We are able to prove it NPH through the Hamiltonian cycle problem.\n",
    "   Hamiltonian Cycle problem consists of a graph G =(V, E)\n",
    "   Travelling Salesman problem consisting of graph G’ = (V’, E’) and the maximum cost, K. \n",
    "   Here is the following tranformation For all the edges e belonging to E, add the cost of edge c(e)=1. Connect the remaining edges, e’ belonging to E’, that are not present in the original graph G, each with a cost c(e’)= 2.\n",
    "And, set K = N.\n",
    "   Let's imagine a scenario where a graph G has a Hamiltonian Cycle, encompassing all its vertices V. These vertices then create a Traveling Salesman Problem (TSP) with a cost = N. This arises because it utilizes all the edges in the initial graph, each having a cost c(e) = 1. Furthermore, as it forms a cycle, it naturally returns to the starting vertex.\n",
    "\n",
    "Now, consider another graph G’ containing a TSP with a cost, K = N. This TSP traverses every vertex in the graph and returns to the starting point. As none of the vertices are excluded from the graph and the total cost equals n, it implies all edges in E, each having a cost of 1. Consequently, this forms a Hamiltonian cycle within graph G.\n",
    "\n",
    "Hence, if graph G holds a Hamiltonian Cycle, then graph G’ holds a TSP. Consequently, every case of the Traveling Salesman Problem can be transformed into a Hamiltonian Cycle problem. Therefor, the TSP is NP-Hard."
   ]
  },
  {
   "cell_type": "markdown",
   "id": "f976dc7c-83e3-46a8-899c-538e7f0e88e8",
   "metadata": {},
   "source": [
    "Reflection:\n",
    "    It costs me lots of time to think how to demonstrate that finding the min value of TSP is a NP problem. GPT says to build the treshold then it can be.\n",
    "    But the point confuses me is that how can i know the threshold if I didn't find the min. It comes to me later that the problem becomes to a yes or no question after building the threshold, how large is it doesn't matter.\n",
    "    \n",
    "   Gpt did give the hint to use  Hamiltonian cycle, so the process is kind of nature.\n",
    "   However, Gpt still thinks TSP is NPC regradless of the transformation time. also making a mistake like\"Therefore, since the Traveling Salesman Problem (TSP) is in NP and is NP-hard (by reduction from the Hamiltonian cycle problem), it is NP-complete.\"\n",
    "   \n",
    "   Btw, the key part of this solution is understanding of Hamiltonian cycle."
   ]
  },
  {
   "cell_type": "code",
   "execution_count": null,
   "id": "8ae108c3-a32e-456e-8eb6-af423a59c35a",
   "metadata": {},
   "outputs": [],
   "source": []
  },
  {
   "cell_type": "markdown",
   "id": "65fb75f4-a795-4b4f-b2ae-c419343354f3",
   "metadata": {},
   "source": [
    "Question3:\n",
    "    Show the knapsack problem is NPC.\n",
    "    "
   ]
  },
  {
   "cell_type": "markdown",
   "id": "2a1393d9-9199-4d23-846a-e975e863ab65",
   "metadata": {},
   "source": [
    "Solution:\n",
    "    To show it is NP, the optimal question can be changed into:\n",
    "         Is the values in the solution larger than V?\n",
    "         Is the weights in the solution larger than W?\n",
    "    The reduction can also be easily told in this part, this is just like two subset-sum problem. By the boundness of polynomial, the solution of two subset-sum question will still be polynomial."
   ]
  },
  {
   "cell_type": "markdown",
   "id": "66c46dc8-f119-4721-a426-1cf14a375d9b",
   "metadata": {},
   "source": [
    "Reflection:\n",
    "    Gpt gave me this question, though it seems Knapsack problem is not NPC at first, but after researching and thinking, the result is interesting.\n",
    "    It's shown in my gpt that knapsack problem is not NPC, \"So, while the classical 0/1 Knapsack Problem isn't NP-complete, certain extensions or variations under specific conditions can fall into the NP-complete category.\", gpt said so.\n",
    "    \n",
    "   knapsack problem is  pseudo-polynomial,The dynamic programming solution is indeed linear in the value of W, but exponential in the length of W — and that's what matters. In other words, the algorithm goes much slower when W gets too large."
   ]
  },
  {
   "cell_type": "code",
   "execution_count": null,
   "id": "d9760ea8-fb93-49a0-9214-dd3f07d587d2",
   "metadata": {},
   "outputs": [],
   "source": []
  },
  {
   "cell_type": "markdown",
   "id": "f208678e-2e05-4936-a25f-17044eac7e16",
   "metadata": {},
   "source": [
    "Question4:\n",
    "    Coloring problem:Given an undirected graph G = (V, E), assign a color to each vertex in V using k colors so that no two adjacent vertices have the same color.\n",
    "        Is it NP?\n",
    "        Is it NPC?\n",
    " "
   ]
  },
  {
   "cell_type": "markdown",
   "id": "0ce6ad4e-806b-4e84-a1a8-30f0530233e4",
   "metadata": {},
   "source": [
    "   It is NP by checking the adjacent vertices in graph one by one in the given solution, we just need to loop in the whole solution. So the coloring problem is in NP.\n",
    "   Also, it is a NP complete , by reduction from Edge coloring.Edge coloring is a well-known NP-hard problem, and hence there is Karp reduction from every problem in NP to it. In particular there must also be a reduction from vertex coloring (which is NP-hard) to edge coloring. The reduction from edge coloring to vertex coloring creates a vertex Ve for every edge e in G and an edge (Ve,Vf)for every pair of distinct edges e and fin G that share an endpoint."
   ]
  },
  {
   "cell_type": "markdown",
   "id": "5cbd58a5-2920-41ff-a17b-b24fa0d9d3c8",
   "metadata": {},
   "source": [
    "Reflection:\n",
    "    edge coloring is reduction from 3-SAT problem, thus forms a reduction chain.\n",
    "    Gpt also metnioned 3-SAT but not detaily how to use that."
   ]
  },
  {
   "cell_type": "code",
   "execution_count": null,
   "id": "3a486d41-94d3-46c5-bc65-cae38f66900e",
   "metadata": {},
   "outputs": [],
   "source": []
  },
  {
   "cell_type": "markdown",
   "id": "70c08457-c451-40c5-bece-46ed51eb76d4",
   "metadata": {},
   "source": [
    "Question5:\n",
    "    Nested subset-sum problem:\n",
    "    In a set of integers S, do we have a subset s1 whose sum equals to x, and do we have a sub set s2 whose sum equals to x2?\n",
    "    show that it is NPC.\n",
    "    "
   ]
  },
  {
   "cell_type": "markdown",
   "id": "20c8b307-580f-466a-b292-a4da9ccc5ee4",
   "metadata": {},
   "source": [
    "Solution:\n",
    "    To show it it NP:\n",
    "        make summation of the given subsets and check obviously polynomial.\n",
    "    To show it is NPC:\n",
    "    According to the class material, we know that subset sum is NPC.\n",
    "    In reduction process, we can make y=x, then whatever the inputs are, we could get the same answer in the decision algorithm. the transforamtion is clearly linear time, so Nested subset-sum problem is still NPC.\n",
    "    "
   ]
  },
  {
   "cell_type": "markdown",
   "id": "bda1f392-f3af-47a4-8ec6-9b6ab1f78379",
   "metadata": {},
   "source": [
    "Refelction:\n",
    "    This is a very intersting question,I know Nested subset-sum problem is NPC form instinct but stuck a little on how to prove it. The nested loop making me think about how to use the input to indicate the \"nested\" part and ignore that I can use a more direct way to solve it(make y=x)\n",
    "    \n",
    "   GPT did gave the same answer as the solution.\n",
    "    \n",
    "   In other perspective, since Nested subset-sum problem only takes one more nested step compared to the old one, we can recogonize that the polynomial bounds didn't change(since it seems like a multiplication). but this thought is not precise and clear enough to be a prove."
   ]
  }
 ],
 "metadata": {
  "kernelspec": {
   "display_name": "Python 3 (ipykernel)",
   "language": "python",
   "name": "python3"
  },
  "language_info": {
   "codemirror_mode": {
    "name": "ipython",
    "version": 3
   },
   "file_extension": ".py",
   "mimetype": "text/x-python",
   "name": "python",
   "nbconvert_exporter": "python",
   "pygments_lexer": "ipython3",
   "version": "3.9.12"
  }
 },
 "nbformat": 4,
 "nbformat_minor": 5
}
