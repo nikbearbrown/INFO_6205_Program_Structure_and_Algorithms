{
 "cells": [
  {
   "cell_type": "markdown",
   "metadata": {},
   "source": [
    "# Assignment-4"
   ]
  },
  {
   "cell_type": "markdown",
   "metadata": {},
   "source": [
    "Q1  \n"
   ]
  },
  {
   "cell_type": "markdown",
   "metadata": {},
   "source": [
    "You're in charge of coordinating the feeding of your zoo's large mammals. You have a set of animals, each with specific dietary requirements.  To feed them, you have a variety of food types. Your goal is to determine whether it is possible to distribute the available food to satisfy the dietary needs of all the animals.  \n",
    "\n",
    "Animals:  \n",
    "Elephants (E)  \n",
    "Rhinoceros (R)  \n",
    "Hippos (H)  \n",
    "Giraffes (G)  \n",
    "\n",
    "Food Types:  \n",
    "Hay (H)  \n",
    "Apples (A)  \n",
    "Carrots (C)  \n",
    "Lettuce (L)  \n",
    "Dietary Requirements:  \n",
    "Elephants: Hay (H) and Carrots (C)  \n",
    "Rhinoceros: Carrots (C) and Apples (A)  \n",
    "Hippos: Hay (H) and Lettuce (L)  \n",
    "Giraffes: Carrots (C), Hay (H), and Lettuce (L)  \n",
    "\n",
    "Food Availability:  \n",
    "th tons of hay  \n",
    "ta tons of apples  \n",
    "tc tons of carrots  \n",
    "tl tons of lettuce  \n",
    "Each animal requires one ton of food to stay fed for a month.  "
   ]
  },
  {
   "cell_type": "markdown",
   "metadata": {},
   "source": [
    "Answer:  \n",
    "We can model this problem as a network flow problem, where we create a flow network representing the distribution of food to the animals. Nodes in the network represent sources, animals, and sinks, and edges represent the flow of food from sources to animals and from animals to sinks.  \n",
    "Create a source node 'S' and a sink node 'T'.  \n",
    "Create nodes for each animal (E, R, H, G).  \n",
    "Create nodes for each food type (H, A, C, L).  \n",
    "Connect the source 'S' to each food type node with an edge representing the available amount of that food type.  \n",
    "Connect each animal node to the corresponding food type nodes with edges representing the dietary requirements of that animal.  \n",
    "Connect each food type node to the sink 'T' with an edge representing the required amount of that food type for all animals.  \n",
    "Solve max flow on G and c.  \n",
    "\n",
    "Correctness:  \n",
    "We will show that there is way to feed the animals if and only if there is a flow of size N,  \n",
    "N = ne + nr + nh + ng in G.  \n",
    "Start with a way of feeding the animals. Set flow from s to each food vertex equal to the amount of that\n",
    "food being consumed.   Set flow from each food vertex to each animal vertex equal to the amount of that\n",
    "food being eaten by the animal in question. Set flow from each animal vertex to t equal to the amount of\n",
    "food being eaten in total by that type of animal.  \n",
    "1. Since every valid way of feeding the animals uses only food that is actually available, the edges\n",
    "out of s satisfy capacity constraints. Since the animals can only eat as many tons of food as there\n",
    "are that particular animal, the edges into t satisfy capacity constraints. Hence, capacity constraints\n",
    "are satisfied.  \n",
    "2. For any food F, the amount of F being consumed must be the sum of amounts of F being consumed\n",
    "by each animal. Similarly, for any animal A, the totally food being consumed by animals of type A\n",
    "must be equal to the sum of different types of food A consumes. Hence, the conservation\n",
    "constraints are satisfied.  \n",
    "3.  Since every animal is being fed, it must be that the total flow into t is N, as desired.  \n",
    "\n",
    "Now we start with a flow f of size N. Assign food to each type of animal in accordance with the amount of\n",
    "flow on the edge from that food's vertex to the animal's vertex.  \n",
    "\n",
    "By the capacity constraints on the edges out of s, no food is used beyond the amounts available.  \n",
    "By the duality of max flow/min cut, it must be that the st cut (V \\ {t}, t) is saturated. By this fact\n",
    "and the conservation constraints, each type of animal receives the requisite amount of food.  \n",
    "It follows that the algorithm is correct"
   ]
  },
  {
   "cell_type": "markdown",
   "metadata": {},
   "source": [
    "Reflection:  \n",
    "In creating a new problem based on the feeding animals scenario, ChatGPT played a crucial role. It assisted in generating ideas, designing the algorithm with a focus on network flow, and constructing a clear proof of correctness. The challenges included maintaining similarity to the original example while introducing new elements and ensuring precision in problem description. The experience highlighted the importance of abstraction in problem design, the versatility of algorithmic scenarios, and the need for rigorous validation of problem correctness. Overall, the task underscored the role of tools like ChatGPT in guiding the problem-solving process and enhancing problem understanding."
   ]
  },
  {
   "cell_type": "markdown",
   "metadata": {},
   "source": [
    "Q2  \n"
   ]
  },
  {
   "cell_type": "markdown",
   "metadata": {},
   "source": [
    "Given m processors with the same performance, n jobs J1, J2,...Jn, each job's running time t1, t2,...tn and time T, can these m processors be scheduled so that they are at most within time Complete these n jobs in T. Show this is NP-complete.\n"
   ]
  },
  {
   "cell_type": "markdown",
   "metadata": {},
   "source": [
    "Answer:  \n",
    "To show that the given scheduling problem is NP-complete, we can reduce it to a known NP-complete problem. In this case, we'll reduce it to the well-known Subset Sum problem. The Subset Sum problem is defined as follows:  \n",
    "\n",
    "Subset Sum Problem:  \n",
    "Given a set of integers and a target sum, is there a subset of the integers that adds up to the target sum?  \n",
    "\n",
    "Now, let's describe the reduction from Subset Sum to the given scheduling problem:  \n",
    "\n",
    "Reduction: Subset Sum to Scheduling Problem  \n",
    "\n",
    "Subset Sum Instance:  \n",
    "\n",
    "Given a set of integers  \n",
    "{a1,a2,...,an} and a target sum T.  \n",
    "Construction:  \n",
    "Create a scheduling problem with m processors and n jobs.  \n",
    "Set the running time of each job Ji to ai for 1≤i≤n.  \n",
    "Set the time limit T for the processors.  \n",
    "Claim:\n",
    "\n",
    "There exists a subset S of {a1,a2,...,an} such that the sum of the elements in S is equal to T if and only if the processors can be scheduled to complete all jobs within time T.  \n",
    "\n",
    "Proof:  \n",
    "\n",
    "If there exists a subset S with sum T, then we can assign jobs corresponding to elements in S to the processors.  \n",
    "Since the sum of the running times of these jobs is T, they can be completed within time T.  \n",
    "Conversely, if the processors can be scheduled to complete all jobs within time T,  \n",
    "then the running times of the assigned jobs must sum up to T. These running times form a subset S of  \n",
    "{a1,a2,...,an} with sum T.  \n",
    "Conclusion:  \n",
    "\n",
    "The Subset Sum problem reduces to the scheduling problem in polynomial time.  \n",
    "Since Subset Sum is known to be NP-complete, this implies that the given scheduling problem is also NP-complete.  "
   ]
  },
  {
   "cell_type": "markdown",
   "metadata": {},
   "source": [
    "Q3  \n",
    "\n",
    "Given an undirected graph G = (V, E), assign a color to each vertex in V using k colors so that no two adjacent vertexes have the same color. Show this is NP-complete."
   ]
  },
  {
   "cell_type": "markdown",
   "metadata": {},
   "source": [
    "Answer:  \n",
    "To show that the problem of vertex coloring in an undirected graph is NP-complete, we can reduce the well-known NP-complete problem, 3SAT, to the graph coloring problem.  \n",
    "\n",
    "Reduction: 3SAT to Graph Coloring  \n",
    "\n",
    "3SAT Instance:  \n",
    "\n",
    "Given a 3SAT instance with a set of variables X={x1,x2,…,xn} and a set of clauses C={c1,c2,…,cm}, where each clause contains exactly three literals.  \n",
    "Construction:  \n",
    "\n",
    "Construct a graph G as follows:  \n",
    "For each variable xi, create a gadget consisting of three vertices connected in a triangle (a cycle of length 3). Call these vertices,vi,vi1,vi2.  \n",
    "For each clause cj=(l1∨l2∨l3), where each lk is a literal, create a vertex wj  \n",
    "​connected to each literal's corresponding variable vertices in the gadget.  \n",
    "Colors:  \n",
    "Set =3\n",
    "k=3, i.e., we want to use three colors.  \n",
    "\n",
    "Claim:  \n",
    "\n",
    "There exists a satisfying assignment for the 3SAT instance if and only if the constructed graph can be colored with three colors such that no two adjacent vertices have the same color.  \n",
    "\n",
    "Proof:  \n",
    "\n",
    "If there exists a satisfying assignment, we can assign colors to the variable vertices such that each triangle in the gadget has at least one vertex with a true literal. This ensures that each clause vertex is connected to at least one differently colored vertex, allowing us to color the graph with three colors.\n",
    "Conversely, if the graph can be colored with three colors, each variable gadget must have at least one vertex with a unique color. This corresponds to assigning a truth value to each variable. The connections to clause vertices ensure that each clause is satisfied.\n",
    "Conclusion:  \n",
    "\n",
    "The 3SAT problem reduces to the graph coloring problem in polynomial time.\n",
    "Since 3SAT is known to be NP-complete, this implies that the graph coloring problem is also NP-complete."
   ]
  },
  {
   "cell_type": "markdown",
   "metadata": {},
   "source": [
    "Q4  \n",
    "\n",
    "You are the editor-in-chief of a popular magazine, and you want to ensure that your magazine reaches every household in each neighborhood. The neighborhood is represented by a universal set U, where each element corresponds to a distinct household. Additionally, you have a collection of n magazine subscription packages, represented by the set S, where each package corresponds to a subset of households.  \n",
    "\n",
    "Your goal is to determine the smallest number of magazine subscription packages needed to ensure that every household in the neighborhood receives at least one copy of the magazine. In other words, you want to find the minimum subset of S such that the union of the selected packages covers all households in the neighborhood.  \n",
    "\n",
    "Formally, you are given:\n",
    "\n",
    "A universal set U representing the households in the neighborhood.  \n",
    "A set S containing n magazine subscription packages, where each package is a subset of U.  \n",
    "Write an algorithm or a program to solve this \"Minimal Magazine Subscription Puzzle\" by identifying the smallest subset of S needed to cover all households in the neighborhood.  \n"
   ]
  },
  {
   "cell_type": "markdown",
   "metadata": {},
   "source": [
    "Answer:  \n",
    "To show that the Minimal Magazine Subscription Puzzle is NP-complete, we can reduce it to a known NP-complete problem, such as the Set Covering Problem. The Set Covering Problem is NP-complete, and demonstrating a polynomial-time reduction from Set Covering to the Minimal Magazine Subscription Puzzle would establish its NP-completeness.  \n",
    "Here's the reduction:  \n",
    "1.\tSet Covering Problem: Given a universal set U and a collection S of subsets of U, find the smallest subset of S such that their union is equal to U.  \n",
    "2.\tReduction to Minimal Magazine Subscription Puzzle: We will show how to transform an instance (U,S) of Set Covering Problem into an instance (U′,S′) of Minimal Magazine Subscription Puzzle.  \n",
    "3.\tLet U′ be the universal set in the Minimal Magazine Subscription Puzzle and let S′ be the set of magazine subscription packages.  \n",
    "4.\tFor each subset X in S, create a corresponding magazine subscription package in S′ that covers the same households as X.  \n",
    "The transformation is polynomial time, as it involves creating a new set for each subset in S, and the size of S′ is the same as the size of S.  \n",
    "\n",
    "Now, let's see why this transformation is valid:  \n",
    "•\tIf there exists a solution to the Set Covering Problem instance (U,S) (i.e., a subset of S whose union covers U), then the corresponding subsets in S′ will cover all households in U′ in the Minimal Magazine Subscription Puzzle instance.  \n",
    "•\tConversely, if there exists a solution to the Minimal Magazine Subscription Puzzle instance (U′,S′) (i.e., a subset of S′ whose union covers U′), then the corresponding subsets in S will cover all households in U in the Set Covering Problem instance.  \n",
    "Therefore, the Minimal Magazine Subscription Puzzle is at least as hard as the Set Covering Problem, and since Set Covering is NP-complete, Minimal Magazine Subscription Puzzle is also NP-complete.  \n"
   ]
  },
  {
   "cell_type": "markdown",
   "metadata": {},
   "source": [
    "Q5  \n",
    "\n",
    "You are given an undirected graph G with n vertices and m edges, represented by an adjacency matrix. Additionally, you are provided with a positive integer k.  \n",
    " \n",
    "Your task is to determine whether there exists a set of vertices in G, commonly known as a \"clique,\" which contains exactly k vertices. A clique is defined as a subset of vertices in which every pair of distinct vertices is connected by an edge.  \n",
    "\n",
    "Formally, given the undirected graph G = (V, E) and the positive integer k, determine if there exists a subset C ⊆ V such that |C| = k, and for every pair of distinct vertices u, v in C, the edge (u, v) is an edge in E. Shows that this is NP-complete.  \n"
   ]
  },
  {
   "cell_type": "markdown",
   "metadata": {},
   "source": [
    "Answer:  \n",
    "The Clique problem is a well-known NP-complete problem, and proving its NP-completeness involves demonstrating two key aspects:  \n",
    "\n",
    "Clique is in NP (Nondeterministic Polynomial time): Given a proposed solution (a set of k vertices), it is easy to verify in polynomial time whether it forms a clique. For each pair of vertices in the set, you can check if there is an edge between them.  \n",
    "This verification can be done in O(k^2) time, which is polynomial in the size of the input.  \n",
    " \n",
    "Reduction from a known NP-complete problem to Clique: We can demonstrate this by reducing a known NP-complete problem, such as the Boolean Satisfiability Problem (SAT), to the Clique problem.  \n",
    "\n",
    "Consider an instance of SAT with m clauses and n variables. The goal is to determine if there exists an assignment of truth values to the variables that satisfies all clauses.  \n",
    "\n",
    "Construct a graph G as follows:  \n",
    "\n",
    "Create a vertex for each clause.\n",
    "For each variable x, create two vertices (representing x and ~x) and connect them with an edge.  \n",
    "For each clause (a, b, c) in the SAT instance, add edges between the corresponding vertices. If a clause contains a variable x, connect the vertices representing x and ~x to the clause vertex.  \n",
    "\n",
    "Now, set k to be the number of clauses in the SAT instance.  \n",
    "\n",
    "Claim:   \n",
    "The SAT instance is satisfiable if and only if there exists a clique of size k in the constructed graph.  \n",
    "\n",
    "Explanation:  \n",
    "\n",
    "If the SAT instance is satisfiable, you can choose a truth assignment that satisfies all clauses. For each satisfied clause, select the corresponding vertex, forming a clique of size k.  \n",
    "If there exists a clique of size k in the graph, each vertex in the clique represents a satisfied clause, and the corresponding truth assignment satisfies all clauses.  \n",
    "This reduction proves that if we can solve the Clique problem efficiently, we can solve SAT efficiently. Since SAT is NP-complete, this implies that the Clique problem is also NP-complete.  \n"
   ]
  },
  {
   "cell_type": "markdown",
   "metadata": {},
   "source": [
    "Reflection:  \n",
    "ChatGPT played a crucial role in assisting with the formulation of the problem, explaining concepts related to NP-completeness, and providing a step-by-step guide on how to design and prove the reduction. It helped in structuring the problem, ensuring clarity, and maintaining a logical flow in the explanation.  \n",
    "\n",
    "One challenge was ensuring that the reduction maintained the essence of the NP-complete problem example while adapting it to a different context. Translating the Subset Sum problem to a scheduling problem involved careful consideration of how the elements and their sums in the original problem corresponded to the scheduling domain. Ensuring the transformation was polynomial and logically sound required attention to detail.  \n",
    "\n",
    "Designing problems in the realm of algorithms, especially those related to NP-completeness, taught me the importance of precision in problem formulation. Every element of the problem, from the input to the construction and the proof, must be carefully defined to maintain the integrity of the problem and its relationship to known NP-complete problems. The process reinforced the significance of understanding the structure of NP-complete problems and how they can be adapted and connected to new problem domains.  \n",
    "\n",
    "Additionally, it highlighted the power of reduction as a technique for proving NP-completeness. The ability to map one problem to another in a way that preserves the inherent complexity allows for the classification of new problems within the NP-complete class. This exercise emphasized the creativity and systematic thinking required to design problems that are both challenging and meaningful in the context of algorithmic complexity.  "
   ]
  },
  {
   "cell_type": "markdown",
   "metadata": {},
   "source": [
    "Q6  \n",
    "\n",
    "Nested Subset Sum is a variation of the Subset Sum problem. In the Nested Subset Sum problem, you are given a set of integers S, and two target values, x and y. The goal is to determine whether there exists a subset S' of S such that the elements of S' sum to x, and within this subset S', there is a nested subset S'' whose elements sum to y.  \n",
    "Formally, the Nested Subset Sum problem can be defined as follows:  \n",
    "Input:  \n",
    "•\tA set of integers =S={a1,a2,…,an},  \n",
    "•\tTwo target values x and y.  \n",
    "Output:  \n",
    "•\t\"True\" if there exists a subset S′⊆S such that∑ai∈S′ai=x,  \n",
    "•\tAnd there exists a subset S′′⊆S′ such that∑ai∈S′′ai=y,  \n",
    "•\t\"False\" otherwise.  \n"
   ]
  },
  {
   "cell_type": "markdown",
   "metadata": {},
   "source": [
    "\n",
    "Answer:  \n",
    "Now, let's show that Nested Subset Sum is NP-Complete by reducing the well-known NP-Complete problem, Subset Sum, to Nested Subset Sum.  \n",
    "Reduction: Subset Sum to Nested Subset Sum  \n",
    "Given an instance of Subset Sum with a set of integers S={a1,a2,…,an} and a target value x, we construct an instance of Nested Subset Sum as follows:  \n",
    "•\tSet y=x.  \n",
    "•\tThe input for Nested Subset Sum is now the set S and the targets x and y.  \n",
    "Proof:  \n",
    "1.\tIf there exists a subset S′ of S such that∑ai∈S′ai=x, then we can use the same subset S′ for Nested Subset Sum. Since y=x, the condition∑ai∈S′′ai=y is trivially satisfied.  \n",
    "2.\tIf there exists a solution for the Nested Subset Sum instance, i.e., there exists a subset S′ such that∑ai∈S′ai=x and∑ai∈S′′ai=y, then �′S′ is also a solution for the original Subset Sum problem because∑ai∈S′ai=x.  \n",
    "This reduction is polynomial time, and therefore, we have shown that Nested Subset Sum is NP-Complete.  \n"
   ]
  },
  {
   "cell_type": "markdown",
   "metadata": {},
   "source": [
    "Q7   \n",
    "\n",
    "Consider a scenario where you are tasked with solving instances of the Max-SAT problem using a randomized polynomial-time algorithm. The Max-SAT problem involves a set of k clauses, denoted as C={C1,C2,…,Ck}, and n literals, represented as X={X1,X2,…,Xn}. The goal is to find a truth assignment that satisfies as many clauses as possible.  \n",
    "Each clause Ci (1 ≤ i ≤ k) is composed of distinct literals, and it must contain at least one literal. The challenge is to design and implement a randomized algorithm that efficiently explores the solution space to maximize the number of satisfied clauses. The algorithm must adhere to the constraints of a polynomial-time complexity.  \n",
    "A. Is the problem in NP? Why or why not?   \n",
    "B. Is the problem NP-complete? If NP-complete, prove it.  \n"
   ]
  },
  {
   "cell_type": "markdown",
   "metadata": {},
   "source": [
    "Answer:  \n",
    "A. Yes, the Max-SAT problem is in NP (Non-deterministic Polynomial time). A problem is in NP if, given a proposed solution, we can verify its correctness in polynomial time. In the case of Max-SAT, if we have a truth assignment for the literals, we can easily check whether it satisfies each clause by evaluating the literals within each clause. This verification process is polynomial in time, making Max-SAT belong to NP.  \n",
    "B. To prove that Max-SAT is NP-complete, we need to show two things:  \n",
    "1.\tMax-SAT is in NP (already established).  \n",
    "2.\tEvery problem in NP can be reduced to Max-SAT in polynomial time.  \n",
    "For the second point, we'll choose a well-known NP-complete problem, such as 3-SAT, and demonstrate a polynomial-time reduction from 3-SAT to Max-SAT.  \n",
    "Reduction from 3-SAT to Max-SAT:  \n",
    "Given an instance of 3-SAT with a set of clauses C={C1,C2,…,Cm} over variables X={x1,x2,…,xn}, we want to construct an equivalent instance of Max-SAT.  \n",
    "For each clause Ci=(li1∨li2∨li3) in 3-SAT, create three clauses in Max-SAT:  \n",
    "1.\tCi′={li1,xn+i}  \n",
    "2.\tCi′′={li2,¬xn+i}  \n",
    "3.\tCi′′′={li3,¬xn+i}  \n",
    "Here, xn+i is a new variable introduced for the ith clause in 3-SAT.  \n",
    "Now, the transformation is done in polynomial time.  \n",
    "Proof:  \n",
    "1.\tIf there is a satisfying truth assignment for the 3-SAT instance, then for each clause Ci, at least one literal must be true. This implies that at least one of the corresponding clauses Ci′, Ci′′, or Ci′′′ in Max-SAT will be satisfied.  \n",
    "2.\tConversely, if Max-SAT has a satisfying truth assignment, it must satisfy at least one clause from each group Ci′, Ci′′, and Ci′′′. This implies that at least one literal in each 3-SAT clause is true.  \n",
    "Therefore, we have successfully reduced 3-SAT to Max-SAT in polynomial time. Since 3-SAT is known to be NP-complete, this proves that Max-SAT is NP-complete as well.  \n"
   ]
  },
  {
   "cell_type": "markdown",
   "metadata": {},
   "source": [
    "Reflection:  \n",
    "Throughout the process, I grappled with the intricacies of designing an algorithm that could efficiently explore the solution space while adhering to the constraints of polynomial time. This required a careful balance between randomness and determinism to ensure both effectiveness and efficiency.  \n",
    "In terms of the usage of ChatGPT, the tool proved invaluable in gaining insights, generating algorithmic ideas, and refining the overall approach. The natural language interaction facilitated a dynamic exploration of concepts and strategies. Additionally, the model's responses helped refine and clarify my understanding of certain theoretical aspects, enhancing the overall learning experience.  \n",
    "\n",
    "\n"
   ]
  },
  {
   "cell_type": "markdown",
   "metadata": {},
   "source": [
    "Q8  \n",
    "\n",
    "Consider an undirected graph G with vertices {1,2,3} and edges {(1,2),(2,3),(3,1)}. The in-degree bounds are given as b(1)=1,b(2)=2,b(3)=1.  \n",
    "The problem is to determine if the edges can be oriented in a way that respects these in-degree bounds. If possible, provide the directed graph; otherwise, indicate that no valid orientation exists."
   ]
  },
  {
   "cell_type": "markdown",
   "metadata": {},
   "source": [
    "Answer:  \n",
    "Undirected graph G with vertices {1,2,3} and edges {(1,2),(2,3),(3,1)}.  \n",
    "In-degree bounds: b(1)=1,b(2)=2,b(3)=1.  \n",
    "Now, let's attempt to orient the edges to respect these in-degree bounds.  \n",
    "We can see that node 2 has an in-degree bound of 2, meaning it needs to have incoming edges from both nodes 1 and 3. However, since nodes 1 and 3 are constrained to have in-degree 1, we cannot satisfy the in-degree bound of node 2. Therefore, it is not possible to orient the edges in a way that respects all the in-degree bounds.  \n",
    "Thus, the answer is that no valid orientation exists for this problem.  \n"
   ]
  },
  {
   "cell_type": "markdown",
   "metadata": {},
   "source": [
    "Reflection:  \n",
    "In creating a new NP-hard problem based on a given example, ChatGPT played a crucial role in articulating the problem definition and providing relevant hints. Challenges included maintaining the core computational complexity while introducing a distinct flavor, requiring a balance between specificity and generality. The process emphasized the importance of clarity, understanding computational complexity, and leveraging existing algorithmic knowledge. Overall, the experience highlighted the nuances of problem design in the realm of algorithms, involving a delicate balance and consideration of existing paradigms."
   ]
  },
  {
   "cell_type": "markdown",
   "metadata": {},
   "source": []
  }
 ],
 "metadata": {
  "kernelspec": {
   "display_name": "base",
   "language": "python",
   "name": "python3"
  },
  "language_info": {
   "name": "python",
   "version": "3.11.4"
  }
 },
 "nbformat": 4,
 "nbformat_minor": 2
}
