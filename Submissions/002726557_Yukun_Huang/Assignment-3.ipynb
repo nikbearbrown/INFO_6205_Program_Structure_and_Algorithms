{
 "cells": [
  {
   "cell_type": "markdown",
   "metadata": {},
   "source": [
    "# Assignment-3"
   ]
  },
  {
   "cell_type": "markdown",
   "metadata": {},
   "source": [
    "Q1  \n",
    "Match the following terms with their corresponding definitions:  \n",
    "\n",
    "i. Network Flow  \n",
    "ii. Bellman-Ford  \n",
    "iii. Min-Cut  \n",
    "iv. Max-Flow  \n",
    "v. Cut Set  \n",
    "\n",
    "A. The maximum amount of flow that can be sent from a source node to a sink node in a flow network.  \n",
    "\n",
    "B. A subset of edges in a graph that, if removed, would disconnect the graph into two or more separate components.  \n",
    "\n",
    "C. The smallest possible capacity of a cut set in a flow network, representing the minimum amount of capacity that, if removed, would disconnect the source node from the sink node.  \n",
    "\n",
    "D. The transportation of data, goods, or resources from a source to a destination through a network of nodes and edges, optimizing the flow while respecting edge capacities.  \n",
    "\n",
    "E. A shortest path algorithm used to find the shortest path from a source node to all other nodes in a weighted graph, capable of handling graphs with negative weight edges.  "
   ]
  },
  {
   "cell_type": "markdown",
   "metadata": {},
   "source": [
    "Solution:  \n",
    "i. Network Flow - D  \n",
    "ii. Bellman-Ford - E  \n",
    "iii. Min-Cut - C  \n",
    "iv. Max-Flow - A  \n",
    "v. Cut Set - B  \n",
    "\n",
    "Reflection:  \n",
    "In completing the task of designing a question for algorithm-related terms, ChatGPT proved invaluable by providing accurate and clear definitions for the terms. The tool's ability to generate precise and contextually appropriate responses streamlined the process, ensuring the task was executed efficiently. One challenge faced was maintaining clarity while capturing the essence of each term, a balance achieved with ChatGPT's help. This task underscored the importance of precision, clarity, and context in problem design. It highlighted the necessity of a deep understanding of the subject matter and showcased how technical concepts can be effectively communicated through thoughtful problem design. ChatGPT's assistance was instrumental in successfully creating a well-structured and meaningful matching question.\n"
   ]
  },
  {
   "cell_type": "markdown",
   "metadata": {},
   "source": [
    "Q2  \n",
    "Use the Bellman-Ford algorithm to find the shortest path from node A to G in the weighted directed graph above:  \n",
    "    A   B   C   D   E   F   G  \n",
    "A   0   6   5   5   0   0   0  \n",
    "B   0   0   0   0  -1   0   0  \n",
    "C   0  -2   0   0   1   0   0  \n",
    "D   0   0  -2   0   0  -1   0  \n",
    "E   0   0   0   0   0   0   3  \n",
    "F   0   0   0   0   0   0   3  \n",
    "G   0   0   0   0   0   0   0  \n"
   ]
  },
  {
   "cell_type": "markdown",
   "metadata": {},
   "source": [
    "Solution:  \n",
    "the first time relax edges:  \n",
    "A->A = 0  \n",
    "C->B = 3  \n",
    "D->C = 3  \n",
    "A->D = 5  \n",
    "B->E = 2  \n",
    "D->F = 4  \n",
    "E->G = 5  \n",
    "\n",
    "the second time relax edges:  \n",
    "A->A = 0  \n",
    "C->B = 1  \n",
    "D->C = 3  \n",
    "A->D = 5  \n",
    "B->E = 0  \n",
    "D->F = 4  \n",
    "E->G = 3  \n",
    "\n",
    "the third time relax edges:  \n",
    "A->A = 0  \n",
    "C->B = 1  \n",
    "D->C = 3  \n",
    "A->D = 5  \n",
    "B->E = 0  \n",
    "D->F = 4  \n",
    "E->G = 3  \n",
    "The results are not updated again, The shortest path from A to each node is shown in the table above."
   ]
  },
  {
   "cell_type": "markdown",
   "metadata": {},
   "source": [
    "Q3  \n",
    "use the Ford-Fulkerson algorithm to find the maximum flow from node A to F in the given weighted directed graph. The graph is represented as an adjacency matrix:  \n",
    "graph = [  \n",
    "    [0, 16, 13, 0, 0, 0],  \n",
    "    [0, 0, 10, 12, 0, 0],  \n",
    "    [0, 4, 0, 0, 14, 0],  \n",
    "    [0, 0, 9, 0, 0, 20],  \n",
    "    [0, 0, 0, 7, 0, 4],  \n",
    "    [0, 0, 0, 0, 0, 0]  \n",
    "]  \n"
   ]
  },
  {
   "cell_type": "markdown",
   "metadata": {},
   "source": [
    "Solution:  \n",
    "1. path 1: A -> B -> D -> F, in this case, the minimum capacity is 10 (limited by edge (B -> D)).  \n",
    "2. path 2: A -> C -> E -> D -> F with a minimum capacity of 4 (limited by edge (C -> E)).  \n",
    "3. path 3: A -> C -> B -> D -> F with a minimum capacity of 2 (limited by edge (B -> D)).  \n",
    "Final Flow = [  \n",
    "    [0, 12, 4, 0, 0, 0],  \n",
    "    [0, 0, 12, 2, 0, 0],  \n",
    "    [0, 0, 0, 6, 14, 0],  \n",
    "    [0, 0, 9, 0, 6, 20],  \n",
    "    [0, 0, 0, 7, 0, 4],  \n",
    "    [0, 0, 0, 0, 0, 0]  \n",
    "]  \n",
    "No more augmenting paths exist, so the algorithm terminates. The maximum flow from node A to F is 12 units.  \n",
    "\n",
    "Reflection:  \n",
    "In this task, ChatGPT was utilized to assist in explaining and solving a graph optimization problem using the Ford-Fulkerson algorithm. The tool aided in breaking down the algorithm into comprehensible steps and ensuring a clear and concise explanation of the solution. Challenges were faced in maintaining the accuracy and simplicity of the example while adapting it to the specific problem at hand. The experience highlighted the importance of clear problem design, emphasizing the significance of step-by-step breakdowns, accessible explanations, and the visual representation of algorithms for better understanding. Overall, the task demonstrated the value of leveraging tools like ChatGPT for complex problem-solving and learning processes."
   ]
  },
  {
   "cell_type": "markdown",
   "metadata": {},
   "source": [
    "Q4  \n",
    "Imagine you are tasked with optimizing the flow of a network using the FPreflow-Push algorithm. Consider a network with nodes A, B, C, D, and E, where each node represents a junction, and the edges between them represent pipes. The capacity of each pipe is given as follows: AB (10 units), AC (5 units), BC (15 units), BD (10 units), CD (5 units), CE (10 units), and DE (15 units). The flow needs to go from node A to node E. Implement the Preflow-Push algorithm on this network and find the maximum flow. Also, provide the intermediate steps of the algorithm to demonstrate how the flow is optimized."
   ]
  },
  {
   "cell_type": "markdown",
   "metadata": {},
   "source": [
    "Solution:  \n",
    "Initialize:  \n",
    "\n",
    "Preflow:  \n",
    "A to B: 10 units  \n",
    "A to C: 5 units  \n",
    "Excess:  \n",
    "A: -15 units (outflow)  \n",
    "B: 10 units  \n",
    "C: 5 units  \n",
    "D: 0 units  \n",
    "E: 0 units  \n",
    "\n",
    "Push:  \n",
    "Push 5 units from A to C, saturating the edge (A, C). Excess at A becomes -10 units, and at C, it becomes 0 units.\n",
    "\n",
    "Relabel:  \n",
    "Relabel C as the next active node, and update the distance label of C to 1.\n",
    "\n",
    "Push:  \n",
    "Push 10 units from A to B, saturating the edge (A, B). Excess at A becomes 0 units, and at B, it becomes 0 units.\n",
    "\n",
    "Relabel:  \n",
    "Relabel B as the next active node, and update the distance label of B to 1.\n",
    "\n",
    "Push:  \n",
    "Push 10 units from B to C, saturating the edge (B, C). Excess at B becomes 0 units, and at C, it becomes 10 units.\n",
    "\n",
    "Relabel:  \n",
    "Relabel C as the next active node, and update the distance label of C to 2.\n",
    "\n",
    "Push:  \n",
    "Push 5 units from C to D, saturating the edge (C, D). Excess at C becomes 5 units, and at D, it becomes 0 units.\n",
    "\n",
    "Relabel:  \n",
    "Relabel D as the next active node, and update the distance label of D to 1.\n",
    "\n",
    "Push:  \n",
    "Push 5 units from C to E, saturating the edge (C, E). Excess at C becomes 0 units, and at E, it becomes 5 units.\n",
    "\n",
    "Relabel:  \n",
    "Relabel E as the next active node, and update the distance label of E to 1.  \n",
    "\n",
    "Since there are no more active nodes with positive excess, the algorithm terminates. The maximum flow in the network is 25 units, flowing from node A to node E\n",
    "\n",
    "Reflection:  \n",
    "During this task, ChatGPT proved to be an invaluable tool in assisting me with explaining the Preflow-Push algorithm. By providing a structured problem scenario, I was able to demonstrate the step-by-step process of the algorithm, ensuring a clear and coherent explanation. The tool helped me maintain the technical accuracy of the explanation and ensured that the presented solution was logically sound.\n"
   ]
  },
  {
   "cell_type": "markdown",
   "metadata": {},
   "source": [
    "Q5  \n",
    "You are given a flow network represented by a directed graph G=(V,E) with unit capacity edges. The graph has a source vertex  \n",
    "s and a target/sink vertex t. Each edge e in the graph has an associated disruption cost c, which is a positive integer. The  \n",
    "goal is to disrupt the flow from s to t as much as possible within a given disruption budget K, which represents the maximum  \n",
    "total disruption cost allowed.\n",
    "\n",
    "Design an algorithm to find a subset of edges M from E such that the total disruption cost of the edges in M is at most K and  \n",
    "the flow from s to t in the modified graph G′=(V,E−M) is minimized.  "
   ]
  },
  {
   "cell_type": "markdown",
   "metadata": {},
   "source": [
    "Solution:  \n",
    "Initialize: Start with the original graph G=(V,E) with unit capacity edges, source vertex s, and target vertex t.  \n",
    "\n",
    "Sort Edges by Disruption Cost: Sort the edges E in ascending order of their disruption costs c.  \n",
    "\n",
    "Iterate Through Sorted Edges: Iterate through the sorted edges and consider adding edges to the \n",
    "subset M as long as the total disruption cost does not exceed the given budget K. Keep track of the total disruption cost incurred so far.  \n",
    "\n",
    "Find Maximum Flow in Modified Graph: Remove the edges in M from the original graph G to obtain the modified graph \n",
    "G′=(V,E−M). Use any maximum flow algorithm to find the maximum flow in G′.\n",
    "\n",
    "Output: Output the subset of edges M that was selected.  \n",
    "\n",
    "This algorithm first selects edges in ascending order of their disruption costs until the budget K is exhausted.  \n",
    "It then computes the maximum flow in the modified graph without the selected edges. The selected edges represent the subset M that minimizes the flow from s to t in the modified graph.  \n",
    "\n",
    "Reflection:  \n",
    "In this task, I assisted by providing a new algorithmic problem inspired by the concept of flow networks with disruption costs. The problem required participants to find a subset of edges in a flow network such that the total disruption cost is within a given budget while minimizing the flow from the source to the sink. The challenge was to balance complexity and clarity, ensuring the problem remained engaging without becoming overwhelming. Through this task, the importance of clear problem design, careful consideration of constraints, and the balance between complexity and simplicity in algorithmic problems was highlighted. The experience emphasized the significance of structured communication and the ability to present complex concepts in an accessible and engaging manner."
   ]
  },
  {
   "cell_type": "markdown",
   "metadata": {},
   "source": [
    "Q6  \n",
    "Due to a natural disaster, a region has been affected by large-scale flooding, and paramedics need to evacuate  \n",
    "n injured people to k available hospitals. Each injured person is located at a specific point in the region and  \n",
    "needs to be assigned to the nearest hospital within a half-hour's driving time. Additionally, the hospitals have  \n",
    "limited capacity, and the goal is to balance the load on the hospitals as much as possible.  \n",
    "\n",
    "Write a function or a method to solve this problem efficiently."
   ]
  },
  {
   "cell_type": "markdown",
   "metadata": {},
   "source": [
    "Solution:  \n",
    "\n",
    "    function hospitalAssignment(injuredPeople, hospitals, maxCapacity):  \n",
    "\n",
    "        create an empty graph G  \n",
    "        \n",
    "        for each injured person p in injuredPeople:\n",
    "            add a node p to G\n",
    "            for each hospital h within 30 minutes driving time from p:\n",
    "                add an edge from p to h with weight 1 to G\n",
    "        \n",
    "        create a source node S and connect it to all injured people nodes with edges of capacity 1\n",
    "        create a sink node T and connect all hospital nodes to it with edges of capacity maxCapacity\n",
    "        \n",
    "        function findAugmentingPath(graph, source, sink):\n",
    "            implement BFS or DFS to find an augmenting path from source to sink in the residual graph\n",
    "            return the augmenting path if found, otherwise return null\n",
    "        \n",
    "        function updateResidualGraph(graph, path):\n",
    "            implement logic to update the residual capacities of the graph based on the augmenting path\n",
    "        \n",
    "        maxFlow = 0\n",
    "        while true:\n",
    "            augmentingPath = findAugmentingPath(G, S, T)\n",
    "            if augmentingPath is null:\n",
    "                break\n",
    "            updateResidualGraph(G, augmentingPath)\n",
    "            maxFlow += 1\n",
    "        \n",
    "        if maxFlow < size of injuredPeople:\n",
    "            return \"Not all injured people can be assigned to hospitals within 30 minutes.\"\n",
    "        \n",
    "        create an empty list balancedAssignments\n",
    "        for each person in injuredPeople:\n",
    "            for each edge (person, hospital) in G with flow 1:\n",
    "                add (person, hospital) to balancedAssignments\n",
    "        \n",
    "        return balancedAssignments\n",
    "\n",
    "Reflection:  \n",
    "Crafting this problem involved leveraging ChatGPT's conversational capabilities to refine the problem statement iteratively. The challenge was to strike a balance between complexity and clarity while ensuring the problem remained true to a real-world scenario. Through this process, I learned the importance of clear problem boundaries and constraints, as well as the value of iterative refinement in problem design. The experience highlighted the intricacies involved in creating algorithmic problems that are both interesting and solvable, showcasing the significance of clear communication and well-defined constraints in problem-solving scenarios."
   ]
  },
  {
   "cell_type": "markdown",
   "metadata": {},
   "source": [
    "Q7  \n",
    "Chase Bank is planning to expand its ATM network along a straight avenue with N blocks, numbered from 1 to N. Each block has a designated profit associated with opening an ATM on it, represented by an array profits of size N, where profits[i] (0 <= i < N) denotes the profit obtained by opening an ATM on block i. However, due to security reasons, no two adjacent blocks can have ATMs.\n",
    "\n",
    "Write a function maximize_profit(profits) that takes in the array profits and calculates the maximum profit Chase can obtain by opening ATMs on a subset of blocks, following the given adjacency constraint.  \n",
    "\n",
    "Input:  \n",
    "An array profits of N integers where profits[i] (0 <= i < N) represents the profit obtained by opening an ATM on block i.  \n",
    "\n",
    "Output:  \n",
    "An integer representing the maximum profit achievable by opening ATMs on a subset of blocks, subject to the adjacency constraint.  \n"
   ]
  },
  {
   "cell_type": "code",
   "execution_count": 8,
   "metadata": {},
   "outputs": [
    {
     "name": "stdout",
     "output_type": "stream",
     "text": [
      "15\n"
     ]
    }
   ],
   "source": [
    "# Solution\n",
    "\n",
    "def maximize_profit(profits):\n",
    "    n = len(profits)\n",
    "    if n == 0:\n",
    "        return 0\n",
    "    elif n == 1:\n",
    "        return profits[0]\n",
    "    \n",
    "    dp = [0] * n\n",
    "    dp[0] = profits[0]\n",
    "    dp[1] = max(profits[0], profits[1])\n",
    "\n",
    "    for i in range(2, n):\n",
    "        dp[i] = max(dp[i-1], profits[i] + dp[i-2])\n",
    "\n",
    "    return dp[n-1]\n",
    "\n",
    "# Example\n",
    "profits = [3, 2, 5, 10, 7]\n",
    "print(maximize_profit(profits))\n"
   ]
  },
  {
   "cell_type": "markdown",
   "metadata": {},
   "source": [
    "Reflection:  \n",
    "This task involved creating an algorithmic problem inspired by a given example. ChatGPT assisted by generating a new problem statement, defining input/output requirements, and ensuring clarity in presenting the problem. The challenge was to maintain the essence of the example problem while crafting a distinct scenario that tested similar algorithmic skills. This exercise highlighted the importance of clear problem design, emphasizing the need to balance complexity and clarity and define constraints effectively. It also underscored the significance of creativity in problem formulation, as a well-crafted scenario enhances the engagement and enjoyment of problem-solving. Overall, the task provided valuable insights into problem design in the realm of algorithms."
   ]
  },
  {
   "cell_type": "markdown",
   "metadata": {},
   "source": [
    "Q8  \n",
    "Given the following recurrence relation:  \n",
    "T(n)=2T(n/2)+n  \n",
    "T(n)=3T(n/4)+nlogn  \n",
    "T(n)=2T(n/2)+n/logn  \n",
    " \n",
    "a) Determine the time complexity of the algorithm using the Master Theorem if applicable.\n",
    "\n",
    "b) If the Master Theorem is not applicable, provide an alternate method to find the time complexity.\n"
   ]
  },
  {
   "cell_type": "markdown",
   "metadata": {},
   "source": [
    "Solution:  \n",
    "1.   \n",
    "a=2, b=2, and f(n)=n   \n",
    "n^log2(2)=n  \n",
    "f(n) is equal to T(n)  \n",
    "Therefore T(n)=Θ(nlogn)  \n",
    "2.  \n",
    "a=3, b=4, and f(n)=nlogn  \n",
    "n^log4(3)≈n^0.793  \n",
    "T(n) is polynomially larger than f(n)  \n",
    "T(n)=Θ(n(logn)^log4(3))=Θ(n(logn)^2)  \n",
    "3.  \n",
    "a=2, b=2, and f(n)=n   \n",
    "n^log2(2)=n  \n",
    "k=1, p=-1  \n",
    "Therefore T(n)=Θ(nloglogn)\n",
    "\n",
    "\n",
    "Reflection:  \n",
    "In this task, I assisted by providing guidance on analyzing non-standard recurrence relations in algorithms. I explained the limitations of the Master Theorem and introduced the \"Guess and Verify\" method as an alternative approach. Crafting unique problems while maintaining the balance between complexity and clarity was a challenge. This experience highlighted the art of problem design in algorithms, emphasizing the importance of creating challenges that stimulate critical thinking while allowing for various problem-solving techniques. It underscored the significance of balancing complexity and educational value in problem design, emphasizing that both problem design and problem-solving skills are crucial in the realm of algorithms."
   ]
  },
  {
   "cell_type": "markdown",
   "metadata": {},
   "source": [
    "Q9  \n",
    "You are given a list of items, each with a weight and a corresponding value. Your task is to determine the maximum combined value that can be obtained by selecting a subset of these items to fit into a knapsack with a weight limit. You need to solve this problem using dynamic programming.  \n",
    "W = 15  \n",
    "weights = [2, 3, 5, 7, 8]  \n",
    "values = [300, 500, 800, 400, 700]  "
   ]
  },
  {
   "cell_type": "code",
   "execution_count": 12,
   "metadata": {},
   "outputs": [
    {
     "name": "stdout",
     "output_type": "stream",
     "text": [
      "Selected items' numbers: [0, 2, 4]\n",
      "Maximum combined value: 1800\n"
     ]
    }
   ],
   "source": [
    "# Solution\n",
    "W = 15\n",
    "weights = [2, 3, 5, 7, 8]\n",
    "values = [300, 500, 800, 400, 700]\n",
    "\n",
    "def max_value_knapsack(W, weights, values):\n",
    "    n = len(weights)\n",
    "    dp = [[0 for _ in range(W + 1)] for _ in range(n + 1)]\n",
    "    selected_items = [[False for _ in range(W + 1)] for _ in range(n + 1)]\n",
    "\n",
    "    for i in range(1, n + 1):\n",
    "        for w in range(1, W + 1):\n",
    "            if weights[i - 1] <= w:\n",
    "                if dp[i - 1][w - weights[i - 1]] + values[i - 1] > dp[i - 1][w]:\n",
    "                    dp[i][w] = dp[i - 1][w - weights[i - 1]] + values[i - 1]\n",
    "                    selected_items[i][w] = True\n",
    "                else:\n",
    "                    dp[i][w] = dp[i - 1][w]\n",
    "            else:\n",
    "                dp[i][w] = dp[i - 1][w]\n",
    "\n",
    "    # Reconstruct selected items\n",
    "    selected_indices = []\n",
    "    i, w = n, W\n",
    "    while i > 0 and w > 0:\n",
    "        if selected_items[i][w]:\n",
    "            selected_indices.append(i - 1)\n",
    "            w -= weights[i - 1]\n",
    "        i -= 1\n",
    "\n",
    "    # Print selected items' numbers\n",
    "    print(\"Selected items' numbers:\", selected_indices[::-1])\n",
    "\n",
    "    return dp[n][W]\n",
    "\n",
    "result = max_value_knapsack(W, weights, values)\n",
    "print(\"Maximum combined value:\", result)"
   ]
  },
  {
   "cell_type": "markdown",
   "metadata": {},
   "source": [
    "Reflection:  \n",
    "In summary, solving the knapsack problem with the assistance of ChatGPT and dynamic programming was an insightful experience. ChatGPT provided clear guidance on the problem-solving process, emphasizing the importance of breaking down complex problems and understanding their core concepts. The challenge lay in preserving the problem's essence while translating it into code, requiring attention to detail and logical reasoning.\n",
    "\n",
    "Through this exercise, I learned the significance of problem design in algorithms. Breaking down problems into smaller subproblems and solving them systematically, as demonstrated in dynamic programming, proved to be a powerful technique. The iterative approach of building solutions bottom-up and filling up a dynamic programming table highlighted the efficiency of this method. Additionally, the exercise underscored the value of clear explanations, logical reasoning, and a deep understanding of problems in algorithmic problem-solving."
   ]
  },
  {
   "cell_type": "markdown",
   "metadata": {},
   "source": [
    "Q10  \n",
    "Choose a path from top to bottom that maximizes the sum of the numbers passing through.\n",
    "\n",
    "Each step on the path can only go to the lower left or lower right.  \n",
    "7  \n",
    "3 8  \n",
    "8 1 0  \n",
    "2 7 4 4  \n",
    "4 5 2 6 5  "
   ]
  },
  {
   "cell_type": "code",
   "execution_count": 11,
   "metadata": {},
   "outputs": [
    {
     "name": "stdout",
     "output_type": "stream",
     "text": [
      "The maximum path sum is: 30\n"
     ]
    }
   ],
   "source": [
    "# Solution\n",
    "pyramid = [\n",
    "    [7],\n",
    "    [3, 8],\n",
    "    [8, 1, 0],\n",
    "    [2, 7, 4, 4],\n",
    "    [4, 5, 2, 6, 5]\n",
    "]\n",
    "\n",
    "for i in range(len(pyramid) - 2, -1, -1):\n",
    "    for j in range(len(pyramid[i])):\n",
    "        pyramid[i][j] += max(pyramid[i + 1][j], pyramid[i + 1][j + 1])\n",
    "\n",
    "max_path_sum = pyramid[0][0]\n",
    "print(\"The maximum path sum is:\", max_path_sum)\n"
   ]
  },
  {
   "cell_type": "markdown",
   "metadata": {},
   "source": [
    "Reflection:  \n",
    "In this task, I used dynamic programming to solve a classic problem: finding the maximum sum of numbers in a pyramid structure. ChatGPT guided me through the problem description and requirements, allowing me to break down the solution step by step. The main challenge was to maintain the problem's essence while adapting it into a conversational format. Through this experience, I reinforced the importance of problem decomposition and effective communication in explaining algorithms. This task emphasized the significance of clarity and simplicity when explaining complex concepts, providing valuable insights into problem design and algorithm explanation techniques in a conversational context."
   ]
  }
 ],
 "metadata": {
  "kernelspec": {
   "display_name": "base",
   "language": "python",
   "name": "python3"
  },
  "language_info": {
   "codemirror_mode": {
    "name": "ipython",
    "version": 3
   },
   "file_extension": ".py",
   "mimetype": "text/x-python",
   "name": "python",
   "nbconvert_exporter": "python",
   "pygments_lexer": "ipython3",
   "version": "3.11.4"
  }
 },
 "nbformat": 4,
 "nbformat_minor": 2
}
