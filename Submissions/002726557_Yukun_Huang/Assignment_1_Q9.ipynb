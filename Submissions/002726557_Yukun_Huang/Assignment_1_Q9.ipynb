{
 "cells": [
  {
   "cell_type": "code",
   "execution_count": 37,
   "id": "54dd1c04",
   "metadata": {
    "scrolled": true
   },
   "outputs": [
    {
     "name": "stdout",
     "output_type": "stream",
     "text": [
      "Western Team Grizzlies matched with Eastern Team Bucks\n",
      "Western Team Kings matched with Eastern Team Celtics\n",
      "Western Team Suns matched with Eastern Team 76ers\n",
      "Western Team Clippers matched with Eastern Team Cavaliers\n",
      "Western Team Warriors matched with Eastern Team Knicks\n",
      "Western Team Lakers matched with Eastern Team Nets\n",
      "Western Team Timberwolves matched with Eastern Team Hawks\n",
      "Western Team Nuggets matched with Eastern Team Heat\n"
     ]
    }
   ],
   "source": [
    "#A\n",
    "def gale_shapley(western_prefs, eastern_prefs):\n",
    "    eastern_matches = {}\n",
    "    western_matches = {}\n",
    "    free_eastern_teams = list(eastern_prefs.keys())\n",
    "    \n",
    "    while free_eastern_teams:\n",
    "        eastern_team = free_eastern_teams.pop(0)\n",
    "        eastern_preferences = eastern_prefs[eastern_team]\n",
    "        \n",
    "        for western_team in eastern_preferences:\n",
    "            current_match = eastern_matches.get(eastern_team)\n",
    "            \n",
    "            if current_match is None:\n",
    "                eastern_matches[eastern_team] = western_team\n",
    "                western_matches[western_team] = eastern_team\n",
    "                break\n",
    "            else:\n",
    "                current_rank = western_prefs[western_team].index(eastern_team)\n",
    "                new_rank = western_prefs[western_team].index(current_match)\n",
    "                \n",
    "                if current_rank < new_rank:\n",
    "                    break\n",
    "                else:\n",
    "                    eastern_matches[eastern_team] = western_team\n",
    "                    western_matches[western_team] = eastern_team\n",
    "                    free_eastern_teams.append(current_match)\n",
    "    \n",
    "    return western_matches\n",
    "\n",
    "western_prefs = {\n",
    "    \"Nuggets\": [\"Celtics\", \"76ers\", \"Cavaliers\", \"Knicks\", \"Nets\", \"Hawks\", \"Heat\", \"Bucks\"],\n",
    "    \"Grizzlies\": [\"76ers\", \"Cavaliers\", \"Knicks\", \"Nets\", \"Hawks\", \"Heat\", \"Bucks\", \"Celtics\"],\n",
    "    \"Kings\": [\"Cavaliers\", \"Knicks\", \"Nets\", \"Hawks\", \"Heat\", \"Bucks\", \"Celtics\", \"76ers\"],\n",
    "    \"Suns\": [\"Knicks\", \"Nets\", \"Hawks\", \"Heat\", \"Bucks\", \"Celtics\", \"76ers\", \"Cavaliers\"],\n",
    "    \"Clippers\": [\"Nets\", \"Hawks\", \"Heat\", \"Bucks\", \"Celtics\", \"76ers\", \"Cavaliers\", \"Knicks\"],\n",
    "    \"Warriors\": [\"Hawks\", \"Heat\", \"Bucks\", \"Celtics\", \"76ers\", \"Cavaliers\", \"Knicks\", \"Nets\"],\n",
    "    \"Lakers\": [\"Heat\", \"Bucks\", \"Celtics\", \"76ers\", \"Cavaliers\", \"Knicks\", \"Nets\", \"Hawks\"],\n",
    "    \"Timberwolves\": [\"Bucks\", \"Celtics\", \"76ers\", \"Cavaliers\", \"Knicks\", \"Nets\", \"Hawks\", \"Heat\"]\n",
    "}\n",
    "\n",
    "eastern_prefs = {\n",
    "    \"Bucks\": [\"Grizzlies\", \"Kings\", \"Suns\", \"Clippers\", \"Warriors\", \"Lakers\", \"Timberwolves\", \"Nuggets\"],\n",
    "    \"Celtics\": [\"Kings\", \"Suns\", \"Clippers\", \"Warriors\", \"Lakers\", \"Timberwolves\", \"Nuggets\", \"Grizzlies\"],\n",
    "    \"76ers\": [\"Suns\", \"Clippers\", \"Warriors\", \"Lakers\", \"Timberwolves\", \"Nuggets\", \"Grizzlies\", \"Kings\"],\n",
    "    \"Cavaliers\": [\"Clippers\", \"Warriors\", \"Lakers\", \"Timberwolves\", \"Nuggets\", \"Grizzlies\", \"Kings\", \"Suns\"],\n",
    "    \"Knicks\": [\"Warriors\", \"Lakers\", \"Timberwolves\", \"Nuggets\", \"Grizzlies\", \"Kings\", \"Suns\", \"Clippers\"],\n",
    "    \"Nets\": [\"Lakers\", \"Timberwolves\", \"Nuggets\", \"Grizzlies\", \"Kings\", \"Suns\", \"Clippers\", \"Warriors\"],\n",
    "    \"Hawks\": [\"Timberwolves\", \"Nuggets\", \"Grizzlies\", \"Kings\", \"Suns\", \"Clippers\", \"Warriors\", \"Lakers\"],\n",
    "    \"Heat\": [\"Nuggets\", \"Grizzlies\", \"Kings\", \"Suns\", \"Clippers\", \"Warriors\", \"Lakers\", \"Timberwolves\"]\n",
    "}\n",
    "\n",
    "matches = gale_shapley(western_prefs, eastern_prefs)\n",
    "\n",
    "for western_team, eastern_team in matches.items():\n",
    "    print(f\"Western Team {western_team} matched with Eastern Team {eastern_team}\")\n"
   ]
  },
  {
   "cell_type": "code",
   "execution_count": 47,
   "id": "fbe87934",
   "metadata": {},
   "outputs": [
    {
     "name": "stdout",
     "output_type": "stream",
     "text": [
      "Percentage of stable playoff matches: 12.2%\n"
     ]
    }
   ],
   "source": [
    "#B\n",
    "import random\n",
    "\n",
    "num_teams = 8\n",
    "\n",
    "eastern_teams = [list(range(num_teams)) for _ in range(num_teams)]\n",
    "western_teams = [list(range(num_teams)) for _ in range(num_teams)]\n",
    "\n",
    "num_iterations = 1000\n",
    "stable_matches = 0\n",
    "\n",
    "for _ in range(num_iterations):\n",
    "    for i in range(num_teams):\n",
    "        random.shuffle(eastern_teams[i])\n",
    "        random.shuffle(western_teams[i])\n",
    "    \n",
    "    matches = [-1] * num_teams  # Initialize matches as -1 for all teams\n",
    "    while -1 in matches:\n",
    "        for i in range(num_teams):\n",
    "            if matches[i] == -1:\n",
    "                for j in eastern_teams[i]:\n",
    "                    if matches[j] == -1:\n",
    "                        matches[i] = j\n",
    "                        matches[j] = i\n",
    "                        break\n",
    "    \n",
    "    # Check if the matches are stable\n",
    "    is_stable = True\n",
    "    for i in range(num_teams):\n",
    "        for j in range(i + 1, num_teams):\n",
    "            if eastern_teams[i].index(matches[i]) > eastern_teams[i].index(matches[j]) and western_teams[j].index(i) > western_teams[j].index(matches[j]):\n",
    "                is_stable = False\n",
    "                break\n",
    "    \n",
    "    if is_stable:\n",
    "        stable_matches += 1\n",
    "\n",
    "percentage_stable = (stable_matches / num_iterations) * 100\n",
    "\n",
    "print(f\"Percentage of stable playoff matches: {percentage_stable}%\")\n"
   ]
  },
  {
   "cell_type": "code",
   "execution_count": 57,
   "id": "2ab04e22",
   "metadata": {},
   "outputs": [
    {
     "name": "stdout",
     "output_type": "stream",
     "text": [
      "Execution time for 8 teams: 0.00000810 seconds\n",
      "Execution time for 16 teams: 0.00000520 seconds\n",
      "Execution time for 32 teams: 0.00001390 seconds\n",
      "Execution time for 64 teams: 0.00004590 seconds\n",
      "Execution time for 128 teams: 0.00019220 seconds\n",
      "Execution time for 256 teams: 0.00064570 seconds\n"
     ]
    }
   ],
   "source": [
    "#E\n",
    "import random\n",
    "import time\n",
    "\n",
    "def generate_preference_lists(num_teams):\n",
    "    eastern_teams = [list(range(num_teams)) for _ in range(num_teams)]\n",
    "    western_teams = [list(range(num_teams)) for _ in range(num_teams)]\n",
    "    return eastern_teams, western_teams\n",
    "\n",
    "def gale_shapley(eastern_teams, western_teams):\n",
    "    num_teams = len(eastern_teams)\n",
    "    matches = [-1] * num_teams\n",
    "    while -1 in matches:\n",
    "        for i in range(num_teams):\n",
    "            if matches[i] == -1:\n",
    "                for j in eastern_teams[i]:\n",
    "                    if matches[j] == -1:\n",
    "                        matches[i] = j\n",
    "                        matches[j] = i\n",
    "                        break\n",
    "    return matches\n",
    "\n",
    "def is_stable_match(eastern_teams, western_teams, matches):\n",
    "    num_teams = len(eastern_teams)\n",
    "    for i in range(num_teams):\n",
    "        for j in range(i + 1, num_teams):\n",
    "            if eastern_teams[i].index(matches[i]) > eastern_teams[i].index(matches[j]) and western_teams[j].index(i) > western_teams[j].index(matches[j]):\n",
    "                return False\n",
    "    return True\n",
    "\n",
    "list_sizes = [8, 16, 32, 64, 128, 256]\n",
    "\n",
    "for num_teams in list_sizes:\n",
    "    eastern_teams, western_teams = generate_preference_lists(num_teams)\n",
    "    \n",
    "    start_time = time.perf_counter()\n",
    "    matches = gale_shapley(eastern_teams, western_teams)\n",
    "    end_time = time.perf_counter()\n",
    "    \n",
    "    if not is_stable_match(eastern_teams, western_teams, matches):\n",
    "        print(f\"Unstable match found for {num_teams} teams.\")\n",
    "    \n",
    "    execution_time = end_time - start_time\n",
    "    print(f\"Execution time for {num_teams} teams: {execution_time:.8f} seconds\")\n"
   ]
  },
  {
   "cell_type": "code",
   "execution_count": null,
   "id": "bd7da151",
   "metadata": {},
   "outputs": [],
   "source": []
  }
 ],
 "metadata": {
  "kernelspec": {
   "display_name": "Python 3 (ipykernel)",
   "language": "python",
   "name": "python3"
  },
  "language_info": {
   "codemirror_mode": {
    "name": "ipython",
    "version": 3
   },
   "file_extension": ".py",
   "mimetype": "text/x-python",
   "name": "python",
   "nbconvert_exporter": "python",
   "pygments_lexer": "ipython3",
   "version": "3.11.4"
  }
 },
 "nbformat": 4,
 "nbformat_minor": 5
}
