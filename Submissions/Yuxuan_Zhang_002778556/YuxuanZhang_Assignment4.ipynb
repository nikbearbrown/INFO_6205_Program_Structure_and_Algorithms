{
 "cells": [
  {
   "cell_type": "markdown",
   "id": "e29804b9",
   "metadata": {},
   "source": [
    "# INFO 6205 - Program Structure and Algorithms\n",
    "# Worked Assignment 4 Solutions\n",
    "### student Name: yuxuan zhang\n",
    "### Professor: Nik Bear Brown\n",
    "### Date: 16/11/2023"
   ]
  },
  {
   "cell_type": "markdown",
   "id": "60a58a34",
   "metadata": {},
   "source": [
    "### Q1 (20 Points)\n",
    "\n",
    "Given a directed graph ` G = (V,E) `, a Hamiltonian decomposition is a set of Hamiltonian cycles such that each vertex ` v `in ` V ` belongs to exactly one cycle. In other words, a Hamiltonian decomposition of a graph ` G ` is a set of Hamiltonian cycles which are sub-graphs of ` G ` and together include all vertices of ` G `. If the cycles in the decomposition do not share any edges, the decomposition is called an edge-disjoint Hamiltonian decomposition.\n",
    "\n",
    "The edge-disjoint Hamiltonian decomposition problem asks whether a given directed graph has an edge-disjoint Hamiltonian decomposition."
   ]
  },
  {
   "cell_type": "markdown",
   "id": "a0a7bb1d",
   "metadata": {},
   "source": [
    "### reflection\n",
    "\n",
    "1. **Understanding Graph Theoretical Concepts**: The question delves into advanced concepts in graph theory, particularly Hamiltonian cycles and graph decomposition. These concepts are fundamental in understanding complex networks and are applicable in various fields like computer science, biology, and logistics.\n",
    "\n",
    "2. **Exploration of Computational Complexity Classes**: The question traverses through different complexity classes - P, NP, and NP-complete. It highlights the nuanced differences between these classes, particularly the distinction between a problem being solvable in polynomial time (P), verifiable in polynomial time (NP), and being as hard as the hardest problems in NP (NP-complete).\n",
    "\n",
    "3. **The Challenge of Problem Reduction**: The aspect of reducing a known NP-complete problem (like the Hamiltonian Cycle problem) to the 2-Hamiltonian-decomposition problem underscores the methodology used in proving NP-completeness. This reduction approach is a cornerstone in computational complexity theory, illustrating how seemingly different problems are interconnected.\n",
    "\n",
    "4. **Applicability and Real-World Implications**: Problems like the 2-Hamiltonian-decomposition have theoretical importance, but they also have practical implications. For instance, solving such problems can have applications in network design, circuit layout, and even in understanding complex systems in nature.\n",
    "\n",
    "5. **Dynamic Nature of Computational Complexity**: The discussion also emphasizes that the field of computational complexity is dynamic. What is considered hard or unsolvable today might change with advancements in algorithms or computational power. This reflects the ever-evolving nature of computer science and mathematics.\n",
    "\n",
    "6. **Educational and Research Value**: Such questions are valuable for educational purposes, as they encourage deep thinking and problem-solving skills. They are also indicative of ongoing research areas in theoretical computer science, where understanding the complexity of various problems remains a significant challenge."
   ]
  },
  {
   "cell_type": "markdown",
   "id": "7093832c",
   "metadata": {},
   "source": [
    "### A. (10 points) \n",
    "Is the edge-disjoint Hamiltonian decomposition problem in P? If so, provide a proof."
   ]
  },
  {
   "cell_type": "markdown",
   "id": "71f189a5",
   "metadata": {},
   "source": [
    "### solution\n",
    "**Problem Statement for A**: Is the edge-disjoint Hamiltonian decomposition problem in P?\n",
    "\n",
    "1. **Understanding the Problem**: The edge-disjoint Hamiltonian decomposition problem asks if we can decompose a directed graph into edge-disjoint Hamiltonian cycles. A Hamiltonian cycle is a cycle that visits every vertex exactly once and returns to the starting vertex.\n",
    "\n",
    "2. **Complexity of Hamiltonian Cycle Problem**: It's well-known that the Hamiltonian cycle problem is NP-complete for general graphs. This means there is no known polynomial-time algorithm to find a Hamiltonian cycle in a general graph unless P = NP.\n",
    "\n",
    "3. **Edge-Disjoint Hamiltonian Decomposition**: The edge-disjoint Hamiltonian decomposition problem is a more complex variant. Not only do we need to find a Hamiltonian cycle, but we also need to decompose the entire graph into such cycles without sharing edges between them.\n",
    "\n",
    "4. **No Known Polynomial-Time Algorithm**: Given the complexity of finding even a single Hamiltonian cycle, extending this to an edge-disjoint decomposition increases the complexity. As of my last update, there is no known polynomial-time algorithm for this problem in the general case.\n",
    "\n",
    "5. **Conclusion**: Based on the current understanding and the complexity of the underlying Hamiltonian cycle problem, the edge-disjoint Hamiltonian decomposition problem is not in P, as there is no known polynomial-time solution."
   ]
  },
  {
   "cell_type": "markdown",
   "id": "ee357101",
   "metadata": {},
   "source": [
    "### B. (5 points) \n",
    "Suppose we limit the decomposition to have at most two Hamiltonian cycles. We call this the 2-Hamiltonian-decomposition problem. Is the 2-Hamiltonian-decomposition problem in NP? If so, provide a proof."
   ]
  },
  {
   "cell_type": "markdown",
   "id": "32cf38ca",
   "metadata": {},
   "source": [
    "### solution\n",
    "**Problem Statement for B**: Is the 2-Hamiltonian-decomposition problem in NP?\n",
    "\n",
    "1. **Understanding the Problem**: The 2-Hamiltonian-decomposition problem asks if a given directed graph can be decomposed into at most two Hamiltonian cycles that are edge-disjoint. \n",
    "\n",
    "2. **Definition of NP**: A problem is in NP (nondeterministic polynomial time) if a solution to the problem can be verified in polynomial time. This doesn't mean the solution can be found in polynomial time, but if given a solution, we can verify its correctness quickly.\n",
    "\n",
    "3. **Verifying a 2-Hamiltonian Decomposition**: If we are given a proposed solution to this problem – that is, two Hamiltonian cycles that purportedly decompose the graph – we can verify this solution in polynomial time. \n",
    "   - We can check if each cycle is Hamiltonian (visits every vertex exactly once and returns to the start) in polynomial time relative to the number of vertices.\n",
    "   - We can also verify that the two cycles are edge-disjoint in polynomial time by comparing the edges in each cycle.\n",
    "\n",
    "4. **Conclusion**: Since a solution to the 2-Hamiltonian-decomposition problem can be verified in polynomial time, this problem is in NP."
   ]
  },
  {
   "cell_type": "markdown",
   "id": "4658fd1b",
   "metadata": {},
   "source": [
    "### C. (5 points) \n",
    "Is the 2-Hamiltonian-decomposition problem NP-complete? If so, provide a proof."
   ]
  },
  {
   "cell_type": "markdown",
   "id": "d933ac58",
   "metadata": {},
   "source": [
    "### solution\n",
    "**Problem Statement for C**: Is the 2-Hamiltonian-decomposition problem NP-complete?\n",
    "\n",
    "1. **Understanding NP-Completeness**: For a problem to be NP-complete, it must satisfy two conditions:\n",
    "   - It is in NP (as established in question B).\n",
    "   - Every problem in NP can be reduced to it in polynomial time.\n",
    "\n",
    "2. **The Problem is in NP**: As established in the solution to question B, the 2-Hamiltonian-decomposition problem is in NP because any solution (two Hamiltonian cycles that decompose the graph) can be verified in polynomial time.\n",
    "\n",
    "3. **Reduction from an NP-Complete Problem**: To establish NP-completeness, we need to show that a known NP-complete problem can be reduced to the 2-Hamiltonian-decomposition problem in polynomial time. The Hamiltonian Cycle problem, which is known to be NP-complete, is a good candidate for this.\n",
    "\n",
    "4. **Reduction Approach**:\n",
    "   - **Hamiltonian Cycle to 2-Hamiltonian-Decomposition**: Assume we have a directed graph for which we want to determine if a Hamiltonian cycle exists (the Hamiltonian Cycle problem). We can construct a new graph where we duplicate this graph and add edges to connect corresponding vertices in the two graphs. This new graph is used for the 2-Hamiltonian-decomposition problem.\n",
    "   - **Interpreting the Solution**: If we can find a 2-Hamiltonian decomposition in this new graph, it implies the original graph has a Hamiltonian cycle (since one of the decompositions must correspond to a Hamiltonian cycle in the original graph).\n",
    "\n",
    "5. **Conclusion**: Given that we can reduce the Hamiltonian Cycle problem (an NP-complete problem) to the 2-Hamiltonian-decomposition problem in polynomial time, and that the 2-Hamiltonian-decomposition problem is in NP, we can conclude that the 2-Hamiltonian-decomposition problem is NP-complete."
   ]
  },
  {
   "cell_type": "markdown",
   "id": "9bed956b",
   "metadata": {},
   "source": [
    "### Q2 (20 Points)\n",
    "The Directed Disjoint Spanning Trees Problem is defined as follows. We are given a directed graph ` G ` and an integer ` k `. The problem is to decide whether there exist ` k ` spanning trees ` T_1, T_2, dots, T_k ` in ` G ` such that each tree ` T_i ` is a directed spanning tree of ` G ` and any two trees ` T_i ` and ` T_j ` are edge-disjoint.\n",
    "\n",
    "Show that Directed Disjoint Spanning Trees is NP-complete."
   ]
  },
  {
   "cell_type": "markdown",
   "id": "06fcd8d3",
   "metadata": {},
   "source": [
    "### reflection\n",
    "To solve the question regarding the Directed Disjoint Spanning Trees problem and prove that it is NP-complete, we follow a similar approach as with other NP-completeness proofs, which generally involve two steps:\n",
    "\n",
    "1. **Show the problem is in NP**: This means that if you are given a 'certificate' or solution (in this case, k edge-disjoint spanning trees), you can verify that it is indeed a solution in polynomial time.\n",
    "\n",
    "2. **Show the problem is NP-hard**: This is typically done by reducing a known NP-complete problem to the problem in question in polynomial time.\n",
    "\n",
    "### solution\n",
    "\n",
    "1. **Directed Disjoint Spanning Trees is in NP**:\n",
    "   - Given a directed graph ` G ` and ` k ` spanning trees ` T_1, T_2, dots, T_k `, we can verify whether each ` T_i ` is a spanning tree of ` G ` by checking that it includes all vertices of ` G ` and forms a tree (no cycles, and ` |V| - 1 ` edges where ` |V| ` is the number of vertices).\n",
    "   - We also need to verify that these trees are edge-disjoint. This can be done by comparing the edges of each pair of trees, which is a process that can be completed in polynomial time.\n",
    "\n",
    "2. **Directed Disjoint Spanning Trees is NP-hard**:\n",
    "   - To prove this, we need to reduce a known NP-complete problem to our problem. A suitable candidate for reduction could be the Edge-Disjoint Paths Problem, which is known to be NP-complete.\n",
    "   - **Reduction**: Given an instance of the Edge-Disjoint Paths Problem (a graph and a set of pairs of nodes to be connected by edge-disjoint paths), we transform it into an instance of the Directed Disjoint Spanning Trees problem. We could construct a graph where each pair of nodes in the Edge-Disjoint Paths Problem corresponds to a distinct spanning tree in the new problem. The solution to the Directed Disjoint Spanning Trees problem would then give us a solution to the Edge-Disjoint Paths Problem.\n",
    "   - This transformation needs to be shown to be doable in polynomial time.\n",
    "\n",
    "3. **Conclusion**: Since the Directed Disjoint Spanning Trees problem is in NP (as solutions can be verified in polynomial time) and it is NP-hard (as it can be reduced from an NP-complete problem), it is NP-complete.\n"
   ]
  },
  {
   "cell_type": "code",
   "execution_count": 2,
   "id": "dbac3564",
   "metadata": {},
   "outputs": [
    {
     "name": "stdout",
     "output_type": "stream",
     "text": [
      "Spanning trees are edge-disjoint: False\n",
      "Spanning trees are valid: True\n"
     ]
    }
   ],
   "source": [
    "def is_edge_disjoint(spanning_trees):\n",
    "    edges_used = set()\n",
    "    for tree in spanning_trees:\n",
    "        for edge in tree:\n",
    "            if edge in edges_used:\n",
    "                return False\n",
    "            edges_used.add(edge)\n",
    "    return True\n",
    "\n",
    "def is_valid_spanning_tree(graph, tree):\n",
    "    visited = set()\n",
    "    for edge in tree:\n",
    "        visited.add(edge[0])\n",
    "        visited.add(edge[1])\n",
    "    \n",
    "    if len(visited) != len(graph):\n",
    "        return False\n",
    "\n",
    "    # Convert tree to graph format for cycle checking\n",
    "    tree_graph = {node: [] for node in graph}\n",
    "    for (u, v) in tree:\n",
    "        tree_graph[u].append(v)\n",
    "\n",
    "    return not has_cycle(tree_graph, list(tree_graph.keys())[0], -1, set())\n",
    "\n",
    "def has_cycle(graph, current, parent, visited):\n",
    "    visited.add(current)\n",
    "    for neighbor in graph[current]:\n",
    "        if neighbor not in visited:\n",
    "            if has_cycle(graph, neighbor, current, visited):\n",
    "                return True\n",
    "        elif neighbor != parent:\n",
    "            return True\n",
    "    return False\n",
    "\n",
    "# Example Graph and Spanning Trees\n",
    "graph = {\n",
    "    1: [2, 3],\n",
    "    2: [4],\n",
    "    3: [4],\n",
    "    4: []\n",
    "}\n",
    "spanning_trees = [\n",
    "    [(1, 2), (2, 4), (1, 3)],\n",
    "    [(1, 3), (3, 4), (2, 4)]\n",
    "]\n",
    "\n",
    "are_disjoint = is_edge_disjoint(spanning_trees)\n",
    "are_valid = all(is_valid_spanning_tree(graph, tree) for tree in spanning_trees)\n",
    "\n",
    "print(\"Spanning trees are edge-disjoint:\", are_disjoint)\n",
    "print(\"Spanning trees are valid:\", are_valid)\n"
   ]
  },
  {
   "cell_type": "markdown",
   "id": "dcb83455",
   "metadata": {},
   "source": [
    "### Q3 (20 Points)\n",
    "You are coordinating a multinational conference and need interpreters who can cover all the languages spoken by the delegates. There are `n` languages that need interpretation. You have received applications from `m` potential interpreters. Each interpreter is fluent in a subset of these `n` languages. The question is: For a given number `k ≤ m`, is it possible to hire at most `k` interpreters who collectively cover all `n` languages? We’ll call this the Optimal Interpreter Set problem.\n",
    "\n",
    "Show that the Optimal Interpreter Set problem is NP-complete."
   ]
  },
  {
   "cell_type": "markdown",
   "id": "e34dabfc",
   "metadata": {},
   "source": [
    "### reflection\n",
    "\n",
    "1. **Problem Complexity and Real-world Applications**: The question elegantly ties a real-world scenario - hiring interpreters for a conference - to a complex computational problem. It highlights how everyday problems, such as resource allocation and optimization, can be framed within the realm of computational complexity. This connection underscores the relevance of theoretical computer science concepts in practical situations.\n",
    "\n",
    "2. **Understanding NP-Completeness**: The question serves as a teaching tool for understanding what it means for a problem to be NP-complete. It requires recognizing that a problem is not only difficult to solve (NP-hard) but also that any proposed solution can be quickly verified (in NP). This dual requirement is a cornerstone of NP-completeness and is critical in the field of computational complexity.\n",
    "\n",
    "3. **Reduction Technique in Proving Complexity**: The solution approach, using a reduction from a known NP-complete problem (like the Set Cover problem), is a standard method in computational complexity. This approach demonstrates the interconnectedness of different problems in the NP class and how solving one NP-complete problem can potentially lead to solutions for others.\n",
    "\n",
    "4. **Insights into Optimization Challenges**: The problem involves an optimization challenge common in many fields, such as logistics, event planning, and technology. It illustrates the inherent difficulties in making optimal decisions when faced with constraints (like hiring a limited number of interpreters to cover all languages).\n",
    "\n",
    "5. **Implications for Algorithm Design**: The classification of a problem as NP-complete often implies that there is no known efficient algorithm to solve all instances of the problem. This understanding is crucial for algorithm designers and computer scientists, as it guides them in seeking approximate or heuristic solutions, especially for large-scale instances.\n",
    "\n",
    "6. **Educational Value in Complexity Theory**: Such questions are vital in educational contexts, where students of computer science can apply theoretical concepts to tangible problems. Understanding NP-completeness through practical examples enhances comprehension and appreciation of the complexity in computational tasks."
   ]
  },
  {
   "cell_type": "markdown",
   "id": "29f5fc4b",
   "metadata": {},
   "source": [
    "### solution\n",
    "\n",
    "**Problem Statement**: Is it possible to hire at most `k` interpreters who collectively cover all `n` languages?\n",
    "\n",
    "1. **The Optimal Interpreter Set Problem is in NP**:\n",
    "   - Being in NP means that if you're given a solution (a set of at most `k` interpreters), you can verify that it is indeed a solution in polynomial time.\n",
    "   - Given a set of interpreters, you can quickly check whether all `n` languages are covered by these interpreters, which involves checking each interpreter's language skills and ensuring all required languages are included.\n",
    "\n",
    "2. **The Optimal Interpreter Set Problem is NP-hard**:\n",
    "   - To establish NP-hardness, we need to show that an already known NP-complete problem can be reduced to our problem in polynomial time.\n",
    "   - A suitable candidate for this reduction is the Set Cover problem, which is a well-known NP-complete problem. The Set Cover problem asks if a certain number of subsets (from a collection of subsets) can be chosen such that they cover a universal set.\n",
    "   - **Reduction from Set Cover to Optimal Interpreter Set**:\n",
    "     - Consider an instance of the Set Cover problem with a universal set `U` representing languages and a collection of subsets `S` where each subset represents the languages an interpreter can cover.\n",
    "     - The question in Set Cover is whether we can choose at most `k` subsets that cover all elements in `U`.\n",
    "     - This instance maps directly to our Optimal Interpreter Set problem: each subset in `S` represents an interpreter's language skills, and the goal is to find at most `k` interpreters to cover all languages in `U`.\n",
    "     - Since we can transform any instance of the Set Cover problem into an instance of the Optimal Interpreter Set problem, and the Set Cover problem is NP-complete, the Optimal Interpreter Set problem is NP-hard.\n",
    "\n",
    "3. **Conclusion**: As the Optimal Interpreter Set problem is in NP and NP-hard, it is NP-complete."
   ]
  },
  {
   "cell_type": "markdown",
   "id": "102baf5a",
   "metadata": {},
   "source": [
    "### Q4 (20 Points)\n",
    "Imagine you are coordinating a multi-disciplinary academic conference, and you face the following challenge. The conference will cover a variety of n academic fields (like mathematics, physics, literature, etc.). You have received applications from m potential speakers. Each speaker specializes in a subset of these n fields. The question is: For a given number k < m, is it possible to invite at most k of the speakers and ensure that all n academic fields are covered by at least one speaker? We’ll call this the Academic Conference Speaker Selection Problem.\n",
    "\n",
    "Show that the Academic Conference Speaker Selection Problem is NP-complete."
   ]
  },
  {
   "cell_type": "markdown",
   "id": "855d546b",
   "metadata": {},
   "source": [
    "### reflection\n",
    "\n",
    "1. **Linking Theoretical and Practical Problems**: The problem bridges a gap between theoretical computer science and practical, real-world scenarios. It exemplifies how abstract concepts in computational complexity, such as NP-completeness, have direct applications in everyday situations like organizing a conference. This connection enhances the appreciation of theoretical computer science in solving tangible problems.\n",
    "\n",
    "2. **The Essence of NP-Completeness**: This problem serves as an educational tool for understanding NP-completeness. It illustrates the dual aspects of NP-complete problems: the difficulty in finding a solution efficiently for all cases (NP-hardness) and the ability to verify a given solution quickly (being in NP). This is a fundamental concept in computational complexity theory and critical for students and professionals in the field.\n",
    "\n",
    "3. **Reduction as a Proof Technique**: The approach to proving NP-completeness typically involves reducing a known NP-complete problem to the problem in question. This technique demonstrates how various seemingly unrelated problems in the NP class are interconnected, and solving one can potentially offer insights into solving others.\n",
    "\n",
    "4. **Real-World Optimization Challenges**: The problem is an example of optimization challenges faced in various fields, including event planning, resource allocation, and logistics. It underscores the inherent complexities in making optimal decisions within constraints (like selecting a limited number of speakers to cover all fields).\n",
    "\n",
    "5. **Algorithmic Implications**: Identifying a problem as NP-complete suggests that there is no known efficient solution for all instances of the problem. This understanding is crucial for algorithm designers, as it shifts the focus towards developing heuristic or approximate methods, especially for large or complex instances.\n",
    "\n",
    "6. **Educational Value and Research Implications**: Such questions are not only valuable in educational settings for teaching computational theory but also indicate ongoing research areas. Understanding the complexity of these problems is vital for researchers and practitioners in computer science, as it guides the search for new algorithms and computational methods."
   ]
  },
  {
   "cell_type": "markdown",
   "id": "617ddd26",
   "metadata": {},
   "source": [
    "### solution\n",
    "\n",
    "**Problem Statement**: For a given number k < m, is it possible to invite at most k of the speakers and ensure that all n academic fields are covered by at least one speaker?\n",
    "\n",
    "1. **The Academic Conference Speaker Selection Problem is in NP**:\n",
    "   - Being in NP means that if you're given a solution (a set of at most `k` speakers), you can verify that it is indeed a solution in polynomial time.\n",
    "   - Given a set of speakers, you can quickly check whether all `n` academic fields are covered by these speakers, which involves checking each speaker's specialties and ensuring all required fields are included.\n",
    "\n",
    "2. **The Academic Conference Speaker Selection Problem is NP-hard**:\n",
    "   - To establish NP-hardness, we need to show that an already known NP-complete problem can be reduced to our problem in polynomial time.\n",
    "   - A suitable candidate for this reduction is the Set Cover problem, which is a well-known NP-complete problem. The Set Cover problem asks if a certain number of subsets (from a collection of subsets) can be chosen such that they cover a universal set.\n",
    "   - **Reduction from Set Cover to Academic Conference Speaker Selection**:\n",
    "     - Consider an instance of the Set Cover problem with a universal set `U` representing academic fields and a collection of subsets `S` where each subset represents the fields a speaker specializes in.\n",
    "     - The question in Set Cover is whether we can choose at most `k` subsets that cover all elements in `U`.\n",
    "     - This instance maps directly to our Academic Conference Speaker Selection problem: each subset in `S` represents a speaker's specialties, and the goal is to find at most `k` speakers to cover all fields in `U`.\n",
    "     - Since we can transform any instance of the Set Cover problem into an instance of the Academic Conference Speaker Selection problem, and the Set Cover problem is NP-complete, the Academic Conference Speaker Selection problem is NP-hard.\n",
    "\n",
    "3. **Conclusion**: As the Academic Conference Speaker Selection problem is in NP and NP-hard, it is NP-complete."
   ]
  },
  {
   "cell_type": "markdown",
   "id": "356338ec",
   "metadata": {},
   "source": [
    "### Q5 (20 Points)\n",
    "Suppose you are organizing a community volunteer event lasting `n` days, with `n - 1` different volunteer tasks to be completed, one each day. Each of the `n` volunteers has signed up to help, with each volunteer agreeing to take on exactly one task. However, every volunteer has certain days when they are unavailable due to other commitments (like work, classes, or personal matters). Let's label the volunteers ` V `in `{v_1, dots, v_n\\} `, the days ` D `in `{d_1, dots, d_n} `, and for each volunteer ` v_i `, there's a set of days ` T_i `subset `{d_1, dots, d_n} ` when they are not available to help. A volunteer cannot have ` T_i ` empty."
   ]
  },
  {
   "cell_type": "markdown",
   "id": "4a3f65fb",
   "metadata": {},
   "source": [
    "### reflection\n",
    "\n",
    "1. **Practical Application of Graph Theory**: The question is a practical example of how graph theory, specifically flow network concepts like maximum flow, can be applied to everyday problems. It illustrates how abstract mathematical concepts are not just theoretical but have real-world applicability in areas such as scheduling and resource allocation.\n",
    "\n",
    "2. **Complexity of Scheduling Problems**: The problem highlights the inherent complexity in scheduling tasks, a common challenge in many fields ranging from event planning to project management. It underscores the necessity of systematic approaches and algorithms to handle such complexities efficiently.\n",
    "\n",
    "3. **Understanding Maximum Flow Problems**: By framing the scheduling issue as a maximum flow problem, the question provides a concrete context to understand and apply the principles of flow networks. This approach is educational, helping to grasp how maximum flow algorithms like the Ford-Fulkerson algorithm can be used to find optimal solutions in matching problems.\n",
    "\n",
    "4. **Exploring Feasibility and Constraints**: Part B of the question, which asks whether a perfect matching is always possible, delves into the exploration of constraints and feasibility in optimization problems. This aspect is crucial in decision-making processes, where understanding the limits and capabilities of a system or situation is essential.\n",
    "\n",
    "5. **Algorithmic Thinking and Problem Solving**: The task of expressing a real-world problem in terms of a maximum flow model demonstrates algorithmic thinking - a key skill in computer science and mathematics. It involves breaking down a problem into its fundamental components and understanding how these components interact within a system.\n",
    "\n",
    "6. **Educational Value in Applied Mathematics**: Such questions have high educational value, particularly in teaching applied mathematics and computer science. They bridge the gap between theoretical knowledge and practical application, encouraging students to apply mathematical concepts to solve real-life problems."
   ]
  },
  {
   "cell_type": "markdown",
   "id": "b9119110",
   "metadata": {},
   "source": [
    "### A. (10 points) \n",
    "Express this problem as a maximum flow problem that schedules the maximum number of matches between the volunteers and the days.\n"
   ]
  },
  {
   "cell_type": "markdown",
   "id": "3a17ac4d",
   "metadata": {},
   "source": [
    "### solution \n",
    "\n",
    "1. **Construct a Flow Network**:\n",
    "   - Create a source node `S` and a sink node `T`.\n",
    "   - For each volunteer ` v_i `, create a node. Connect each volunteer node to the source node `S` with an edge of capacity 1. This represents that each volunteer can only be assigned to one day.\n",
    "   - For each day ` d_j `, create a node. Connect each day node to the sink node `T` with an edge of capacity 1. This represents that each day requires one volunteer.\n",
    "   - For each volunteer ` v_i `, and for each day ` d_j ` that they are available (i.e., ` d_j ` is not in ` T_i `), create an edge from the volunteer node to the day node with a capacity of 1. This represents the possibility of assigning volunteer ` v_i ` to day ` d_j `.\n",
    "\n",
    "2. **Find the Maximum Flow**:\n",
    "   - Use a maximum flow algorithm like Ford-Fulkerson to find the maximum flow in this network.\n",
    "   - The maximum flow value will be the maximum number of matches (volunteer-day assignments) you can make.\n",
    "\n",
    "In this setup, a flow of 1 through an edge from a volunteer to a day indicates that the volunteer is assigned to that day. The capacity constraints ensure that each volunteer is assigned to at most one day and each day has at most one volunteer. The maximum flow in this network is then the maximum number of such assignments you can make while respecting everyone's availability."
   ]
  },
  {
   "cell_type": "code",
   "execution_count": 9,
   "id": "583fb26d",
   "metadata": {},
   "outputs": [
    {
     "name": "stdout",
     "output_type": "stream",
     "text": [
      "The maximum number of volunteer-day is: 4\n"
     ]
    },
    {
     "data": {
      "image/png": "[encoded data removed]",
      "text/plain": [
       "<Figure size 640x480 with 1 Axes>"
      ]
     },
     "metadata": {},
     "output_type": "display_data"
    }
   ],
   "source": [
    "import matplotlib.pyplot as plt\n",
    "import networkx as nx\n",
    "from collections import defaultdict\n",
    "\n",
    "# This class represents a directed graph using adjacency matrix representation\n",
    "class Graph:\n",
    "    def __init__(self, graph):\n",
    "        self.graph = graph  # residual graph\n",
    "        self.ROW = len(graph)\n",
    "    \n",
    "    def BFS(self, s, t, parent):\n",
    "        visited = [False] * (self.ROW)\n",
    "        queue = []\n",
    "        queue.append(s)\n",
    "        visited[s] = True\n",
    "        \n",
    "        while queue:\n",
    "            u = queue.pop(0)\n",
    "            for ind, val in enumerate(self.graph[u]):\n",
    "                if visited[ind] == False and val > 0:\n",
    "                    queue.append(ind)\n",
    "                    visited[ind] = True\n",
    "                    parent[ind] = u\n",
    "\n",
    "        return True if visited[t] else False\n",
    "            \n",
    "    def FordFulkerson(self, source, sink):\n",
    "        parent = [-1] * (self.ROW)\n",
    "        max_flow = 0\n",
    "\n",
    "        while self.BFS(source, sink, parent):\n",
    "            path_flow = float(\"Inf\")\n",
    "            s = sink\n",
    "            while(s != source):\n",
    "                path_flow = min(path_flow, self.graph[parent[s]][s])\n",
    "                s = parent[s]\n",
    "\n",
    "            max_flow += path_flow\n",
    "\n",
    "            v = sink\n",
    "            while(v != source):\n",
    "                u = parent[v]\n",
    "                self.graph[u][v] -= path_flow\n",
    "                self.graph[v][u] += path_flow\n",
    "                v = parent[v]\n",
    "\n",
    "        return max_flow\n",
    "\n",
    "# Function to draw the flow network\n",
    "def draw_flow_network(graph, source, sink, n):\n",
    "    G = nx.DiGraph()\n",
    "\n",
    "    # Adding nodes\n",
    "    G.add_node(\"Source\", pos=(0, 2))\n",
    "    G.add_node(\"Sink\", pos=(4, 2))\n",
    "    for i in range(n):\n",
    "        G.add_node(f\"V{i+1}\", pos=(1, i + 1))\n",
    "        G.add_node(f\"D{i+1}\", pos=(3, i + 1))\n",
    "\n",
    "    # Adding edges\n",
    "    for i in range(n):\n",
    "        G.add_edge(\"Source\", f\"V{i+1}\", capacity=1)\n",
    "        for j in range(n):\n",
    "            if graph[i+1][n+1+j] == 1:\n",
    "                G.add_edge(f\"V{i+1}\", f\"D{j+1}\", capacity=1)\n",
    "        G.add_edge(f\"D{i+1}\", \"Sink\", capacity=1)\n",
    "\n",
    "    pos = nx.get_node_attributes(G, 'pos')\n",
    "    nx.draw(G, pos, with_labels=True)\n",
    "    labels = nx.get_edge_attributes(G, 'capacity')\n",
    "    nx.draw_networkx_edge_labels(G, pos, edge_labels=labels)\n",
    "\n",
    "# Number of volunteers and days\n",
    "n = 4\n",
    "\n",
    "# Volunteers' availability\n",
    "availability = [\n",
    "    [1, 2],\n",
    "    [0, 2],\n",
    "    [1, 3],\n",
    "    [0, 3]\n",
    "]\n",
    "\n",
    "# Create a graph with n volunteers and n days\n",
    "graph = [[0] * (2*n + 2) for _ in range(2*n + 2)]\n",
    "source = 0\n",
    "sink = 2*n + 1\n",
    "\n",
    "# Connect source to volunteers and volunteers to days\n",
    "for i in range(n):\n",
    "    graph[source][i+1] = 1\n",
    "    for day in availability[i]:\n",
    "        graph[i+1][n+1+day] = 1\n",
    "\n",
    "# Connect days to sink\n",
    "for i in range(n):\n",
    "    graph[n+1+i][sink] = 1\n",
    "\n",
    "g = Graph(graph)\n",
    "max_assignments = g.FordFulkerson(source, sink)\n",
    "print(\"The maximum number of volunteer-day is:\", max_assignments)\n",
    "\n",
    "# Draw the flow network\n",
    "draw_flow_network(graph, source, sink, n)\n",
    "plt.show()\n"
   ]
  },
  {
   "cell_type": "markdown",
   "id": "dce91b32",
   "metadata": {},
   "source": [
    "### B. (10 points) \n",
    "Can all `n` volunteers always be matched with one of the `n` days? Prove that it can or cannot.\n"
   ]
  },
  {
   "cell_type": "markdown",
   "id": "93f361e1",
   "metadata": {},
   "source": [
    "### Solution:\n",
    "\n",
    "1. **Understanding the Problem in Graph Terms**: This problem can be modeled as a bipartite graph where one set of nodes represents the people, and the other set represents the nights. An edge connects a person to a night if the person is available to cook on that night.\n",
    "\n",
    "2. **Applying Hall's Marriage Theorem**: This theorem provides a necessary and sufficient condition for a perfect matching in a bipartite graph. It states that a perfect matching exists if and only if for every subset of nodes ` A ` in one partition (say, people), the number of neighbors (nights they can cook) is at least as large as the size of ` A `.\n",
    "\n",
    "3. **Analysis**:\n",
    "   - If for any subset of people, the number of nights they are collectively available to cook is less than the number of people in the subset, then it is impossible to assign each person a unique night to cook.\n",
    "   - Conversely, if for every subset of people, the number of available nights is at least as large as the number of people in the subset, then it is possible to assign each person a unique night.\n",
    "\n",
    "4. **Conclusion**: All ` n ` people can be matched with one of the ` n ` nights if and only if for every subset of people, the number of nights they can collectively cook is at least as large as the number of people in the subset. Without knowing the specific availabilities of each person, we cannot guarantee that a perfect matching always exists. It depends on the specific sets of nights ` S_i ` when each person ` p_i ` is not able to cook."
   ]
  },
  {
   "cell_type": "code",
   "execution_count": 10,
   "id": "4ce86e2a",
   "metadata": {},
   "outputs": [
    {
     "name": "stdout",
     "output_type": "stream",
     "text": [
      "The maximum number of person-night is: 4\n"
     ]
    }
   ],
   "source": [
    "import matplotlib.pyplot as plt\n",
    "import networkx as nx\n",
    "from collections import defaultdict\n",
    "\n",
    "# This class represents a directed graph using adjacency matrix representation\n",
    "class Graph:\n",
    "    def __init__(self, graph):\n",
    "        self.graph = graph  # residual graph\n",
    "        self.ROW = len(graph)\n",
    "    \n",
    "    def BFS(self, s, t, parent):\n",
    "        visited = [False] * (self.ROW)\n",
    "        queue = []\n",
    "        queue.append(s)\n",
    "        visited[s] = True\n",
    "        \n",
    "        while queue:\n",
    "            u = queue.pop(0)\n",
    "            for ind, val in enumerate(self.graph[u]):\n",
    "                if visited[ind] == False and val > 0:\n",
    "                    queue.append(ind)\n",
    "                    visited[ind] = True\n",
    "                    parent[ind] = u\n",
    "\n",
    "        return True if visited[t] else False\n",
    "            \n",
    "    def FordFulkerson(self, source, sink):\n",
    "        parent = [-1] * (self.ROW)\n",
    "        max_flow = 0\n",
    "\n",
    "        while self.BFS(source, sink, parent):\n",
    "            path_flow = float(\"Inf\")\n",
    "            s = sink\n",
    "            while(s != source):\n",
    "                path_flow = min(path_flow, self.graph[parent[s]][s])\n",
    "                s = parent[s]\n",
    "\n",
    "            max_flow += path_flow\n",
    "\n",
    "            v = sink\n",
    "            while(v != source):\n",
    "                u = parent[v]\n",
    "                self.graph[u][v] -= path_flow\n",
    "                self.graph[v][u] += path_flow\n",
    "                v = parent[v]\n",
    "\n",
    "        return max_flow\n",
    "\n",
    "# Function to draw the flow network\n",
    "def draw_flow_network(graph, source, sink, n):\n",
    "    G = nx.DiGraph()\n",
    "\n",
    "    # Adding nodes\n",
    "    G.add_node(\"Source\", pos=(0, 2))\n",
    "    G.add_node(\"Sink\", pos=(4, 2))\n",
    "    for i in range(n):\n",
    "        G.add_node(f\"P{i+1}\", pos=(1, n-i))  # People\n",
    "        G.add_node(f\"N{i+1}\", pos=(3, n-i))  # Nights\n",
    "\n",
    "    # Adding edges\n",
    "    for i in range(n):\n",
    "        G.add_edge(\"Source\", f\"P{i+1}\", capacity=1)\n",
    "        for j in range(n):\n",
    "            if graph[i+1][n+1+j] == 1:\n",
    "                G.add_edge(f\"P{i+1}\", f\"N{j+1}\", capacity=1)\n",
    "        G.add_edge(f\"N{i+1}\", \"Sink\", capacity=1)\n",
    "\n",
    "    pos = nx.get_node_attributes(G, 'pos')\n",
    "    nx.draw(G, pos, with_labels=True)\n",
    "    labels = nx.get_edge_attributes(G, 'capacity')\n",
    "    nx.draw_networkx_edge_labels(G, pos, edge_labels=labels)\n",
    "\n",
    "# Number of people and nights\n",
    "n = 4\n",
    "\n",
    "# People's availability: person i is available on nights in availability[i]\n",
    "availability = [\n",
    "    [1, 2],\n",
    "    [0, 2],\n",
    "    [1, 3],\n",
    "    [0, 3]\n",
    "]\n",
    "\n",
    "# Create a graph with n people and n nights\n",
    "graph = [[0] * (2*n + 2) for _ in range(2*n + 2)]\n",
    "source = 0\n",
    "sink = 2*n + 1\n",
    "\n",
    "# Connect source to people and people to nights\n",
    "for i in range(n):\n",
    "    graph[source][i+1] = 1\n",
    "    for night in availability[i]:\n",
    "        graph[i+1][n+1+night] = 1\n",
    "\n",
    "# Connect nights to sink\n",
    "for i in range(n):\n",
    "    graph[n+1+i][sink] = 1\n",
    "\n",
    "g = Graph(graph)\n",
    "max_assignments = g.FordFulkerson(source, sink)\n",
    "print(\"The maximum number of person-night is:\", max_assignments)"
   ]
  },
  {
   "cell_type": "code",
   "execution_count": null,
   "id": "65eebb6b",
   "metadata": {},
   "outputs": [],
   "source": []
  }
 ],
 "metadata": {
  "kernelspec": {
   "display_name": "Python 3 (ipykernel)",
   "language": "python",
   "name": "python3"
  },
  "language_info": {
   "codemirror_mode": {
    "name": "ipython",
    "version": 3
   },
   "file_extension": ".py",
   "mimetype": "text/x-python",
   "name": "python",
   "nbconvert_exporter": "python",
   "pygments_lexer": "ipython3",
   "version": "3.11.4"
  }
 },
 "nbformat": 4,
 "nbformat_minor": 5
}
