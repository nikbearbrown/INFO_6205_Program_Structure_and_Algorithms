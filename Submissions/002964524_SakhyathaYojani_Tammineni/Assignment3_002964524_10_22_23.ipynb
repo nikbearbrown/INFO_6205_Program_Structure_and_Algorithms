{
  "nbformat": 4,
  "nbformat_minor": 0,
  "metadata": {
    "colab": {
      "provenance": []
    },
    "kernelspec": {
      "name": "python3",
      "display_name": "Python 3"
    },
    "language_info": {
      "name": "python"
    }
  },
  "cells": [
    {
      "cell_type": "markdown",
      "source": [
        "**1.**\n",
        "\n",
        "Given the items below, determine which combination of items will yield the highest value without exceeding a total weight of 7. Use dynamic programming.\n",
        "\n",
        "| Item | Value Weight |.               \n",
        "|------|-------|--------|\n",
        "| 1    | 3     | 2      |\n",
        "| 2    | 4     | 3      |\n",
        "| 3    | 5     | 4      |\n",
        "| 4    | 6     | 5      |\n",
        "| 5    | 7     | 6      |\n",
        "\n",
        "**Solution:**\n",
        "Items 1 and 2 are selected for a total value of 7.\n"
      ],
      "metadata": {
        "id": "2W7JETbznL-1"
      }
    },
    {
      "cell_type": "markdown",
      "source": [
        " **2.**\n",
        "Given a graph G = (V, E) where each edge has a weight, find a minimum spanning tree using Kruskal's algorithm.\n",
        "\n",
        "**Solution:**\n",
        "This solution depends on the specific graph given. Generally, sort the edges in increasing order and pick the smallest edge that doesn't form a cycle.\n",
        "\n"
      ],
      "metadata": {
        "id": "wBW5uMLfnjtc"
      }
    },
    {
      "cell_type": "markdown",
      "source": [
        "**3.**\n",
        "Describe the differences between Prim's and Kruskal's algorithm for finding a minimum spanning tree.\n",
        "\n",
        "**Solution:**\n",
        "Prim's algorithm starts with a node and selects the smallest edge from the tree to a non-tree vertex, while Kruskal's algorithm sorts all edges and picks the smallest edge that doesn't cause a cycle.\n",
        "\n"
      ],
      "metadata": {
        "id": "oVj7A3mrnoRB"
      }
    },
    {
      "cell_type": "markdown",
      "source": [
        "**4.**\n",
        "How would you determine if a directed graph contains a cycle?\n",
        "\n",
        "**Solution:**\n",
        "One way is to use depth-first search. If, during the traversal, we come across a vertex that is already in the recursion stack, then there is a cycle.\n",
        "\n"
      ],
      "metadata": {
        "id": "R7Ue7B-rnv9b"
      }
    },
    {
      "cell_type": "markdown",
      "source": [
        "**5.**\n",
        "Explain the concept of a maximum flow in a flow network and its importance.\n",
        "\n",
        "**Solution:**\n",
        "The maximum flow is the greatest rate at which material or information can be moved from the source to the sink without violating any capacity constraints. It's important as it determines the optimal usage of a network.\n",
        "\n"
      ],
      "metadata": {
        "id": "TBITj4rKn1gP"
      }
    },
    {
      "cell_type": "markdown",
      "source": [
        "**6.**\n",
        "Using Dijkstra's algorithm, find the shortest path from node A to node D in the given weighted graph.\n",
        "\n",
        "**Solution:**\n",
        "The specific solution depends on the graph. Generally, Dijkstra's algorithm would involve exploring paths starting from node A and choosing the path with the smallest weight at each step.\n",
        "\n"
      ],
      "metadata": {
        "id": "KFSD6N3poPy0"
      }
    },
    {
      "cell_type": "markdown",
      "source": [
        "**7.**\n",
        "Explain the greedy property and its significance in the context of algorithms.\n",
        "\n",
        "**Solution:**\n",
        "The greedy property suggests choosing the locally optimal solution at each step with the hope of finding the global optimum. It's significant because it can simplify problem-solving and improve efficiency for certain problems."
      ],
      "metadata": {
        "id": "Psfrlpq0odLE"
      }
    },
    {
      "cell_type": "markdown",
      "source": [
        "**8.**\n",
        "Describe the differences between dynamic programming and greedy algorithms.\n",
        "\n",
        "**Solution:**\n",
        "Dynamic programming breaks problems into smaller subproblems and solves each one just once, storing the solutions to subproblems to avoid redundant work. Greedy algorithms make a series of choices by picking the best available option at each step without considering global data.\n",
        "\n"
      ],
      "metadata": {
        "id": "QUyDaRZOojAw"
      }
    },
    {
      "cell_type": "markdown",
      "source": [
        "**9.**\n",
        "Explain the significance of the Bellman-Ford algorithm and where it can be applied.\n",
        "\n",
        "**Solution:**\n",
        "Bellman-Ford is used for finding the shortest path from a single source vertex to all other vertices in a weighted graph. It's significant because, unlike Dijkstra's, it can work with graphs with negative weight edges.\n",
        "\n"
      ],
      "metadata": {
        "id": "ayVyiarJoqR1"
      }
    },
    {
      "cell_type": "markdown",
      "source": [
        "**10.Problem Title**: Optimal Movie Selection\n",
        "\n",
        "**Problem Statement**:\n",
        "You're organizing a movie marathon night where you have a limited time to show as many movies as possible. Given the lengths of movies and their ratings, choose movies that will maximize the total rating without exceeding the time limit.\n",
        "\n",
        "**Input Format**:\n",
        "* An integer T representing the total time available (in minutes).\n",
        "* An integer N representing the number of movies.\n",
        "* N lines each containing two integers:\n",
        "  * the length of the movie (in minutes)\n",
        "  * the rating of the movie (out of 10)\n",
        "\n",
        "**Output Format**:\n",
        "* An integer representing the maximum total rating that can be achieved.\n",
        "\n",
        "**Sample Input**:\n",
        "```\n",
        "180\n",
        "3\n",
        "120 8\n",
        "60 6\n",
        "90 9\n",
        "```\n",
        "\n",
        "**Sample Output**:\n",
        "```\n",
        "17\n",
        "```\n",
        "\n",
        "**Constraints**:\n",
        "* 1 ≤ T ≤ 1000\n",
        "* 1 ≤ N ≤ 100\n",
        "* 1 ≤ movie length ≤ 200\n",
        "* 1 ≤ movie rating ≤ 10\n",
        "\n",
        "**Solution and Justification**:\n",
        "Use a dynamic programming approach similar to the 0-1 Knapsack problem. For every movie, decide whether to include it in the marathon or not based on maximizing the rating.\n",
        "\n",
        "**Proof of Correctness**:\n",
        "This solution uses dynamic programming to build up a solution incrementally. At each stage, it decides whether including a movie would maximize the total rating without exceeding the time limit.\n",
        "\n",
        "**Reflection**:\n",
        "* **How ChatGPT assisted**: ChatGPT helped by providing the essence of the knapsack problem and guiding towards formulating a new problem.\n",
        "* **Challenges faced**: The challenge was to keep the essence of the knapsack problem while making it original and not a mere replication.\n",
        "* **Learnings**: Designing algorithmic problems requires a deep understanding of the underlying concept and creative thinking to transform it into a new, yet similar, problem.\n",
        "\n"
      ],
      "metadata": {
        "id": "KgmnTUNSo5Dr"
      }
    },
    {
      "cell_type": "code",
      "source": [
        "def maxRating(T, movies):\n",
        "    n = len(movies)\n",
        "    dp = [[0 for w in range(T + 1)] for i in range(n + 1)]\n",
        "\n",
        "    for i in range(n + 1):\n",
        "        for w in range(T + 1):\n",
        "            if i == 0 or w == 0:\n",
        "                dp[i][w] = 0\n",
        "            elif movies[i-1][0] <= w:\n",
        "                dp[i][w] = max(movies[i-1][1] + dp[i-1][w - movies[i-1][0]], dp[i-1][w])\n",
        "            else:\n",
        "                dp[i][w] = dp[i-1][w]\n",
        "\n",
        "    return dp[n][T]"
      ],
      "metadata": {
        "id": "ZxDLnz1dpo1X"
      },
      "execution_count": 1,
      "outputs": []
    },
    {
      "cell_type": "markdown",
      "source": [
        "**11.Problem Title**: Optimal Library Route\n",
        "\n",
        "**Problem Statement**:\n",
        "A librarian wishes to place books on shelves across various aisles. Each aisle has a score based on the importance of the books. The librarian wants to choose aisles such that they maximize the score, but they must return to their starting aisle and can't visit an aisle more than once. Find the optimal route.\n",
        "\n",
        "**Input Format**:\n",
        "* An integer N representing the number of aisles.\n",
        "* A matrix of size N x N representing the distance between aisles.\n",
        "* A list of N integers representing the score of each aisle.\n",
        "\n",
        "**Output Format**:\n",
        "* An integer representing the maximum score achievable.\n",
        "\n",
        "**Sample Input**:\n",
        "```\n",
        "3\n",
        "[[0, 2, 9],\n",
        " [2, 0, 6],\n",
        " [9, 6, 0]]\n",
        "[5, 10, 6]\n",
        "```\n",
        "\n",
        "**Sample Output**:\n",
        "```\n",
        "21\n",
        "```\n",
        "\n",
        "**Constraints**:\n",
        "* 2 ≤ N ≤ 10\n",
        "* Distance values are between 1 and 1000, with the diagonal being 0.\n",
        "* Score values are between 1 and 100.\n",
        "\n",
        "** Solution and Justification**:\n",
        "This problem can be tackled using a recursive approach, where at each step, we choose the next aisle based on maximizing the score while keeping track of the total distance covered.\n",
        "\n",
        "```python\n",
        "def optimalRoute(matrix, scores, current, visited):\n",
        "    if len(visited) == len(matrix):\n",
        "        return scores[current]\n",
        "\n",
        "    maxScore = 0\n",
        "    for i in range(len(matrix)):\n",
        "        if i not in visited and matrix[current][i] != 0:\n",
        "            score = scores[current] + optimalRoute(matrix, scores, i, visited + [i])\n",
        "            maxScore = max(maxScore, score)\n",
        "\n",
        "    return maxScore\n",
        "\n",
        "result = 0\n",
        "for i in range(len(matrix)):\n",
        "    result = max(result, optimalRoute(matrix, scores, i, [i]))\n",
        "```\n",
        "\n",
        "**Proof of Correctness**:\n",
        "This solution uses recursion to explore all possible routes and chooses the optimal one based on the scores of aisles visited. The librarian's route is optimized to maximize the score of aisles visited.\n",
        "\n",
        "**Reflection**:\n",
        "* **How ChatGPT assisted**: ChatGPT offered insight into the underlying concept of TSP and helped translate it into a new problem context.\n",
        "* **Challenges faced**: Ensuring that the new problem retains the essence of TSP while making it feel fresh and unique.\n",
        "* **Learnings**: Creating problems from classic algorithms helps in understanding the core concept and teaches how different real-world scenarios can be mapped to algorithmic problems.\n"
      ],
      "metadata": {
        "id": "tI8BupF8qFZL"
      }
    },
    {
      "cell_type": "markdown",
      "source": [
        "**12.Problem Title: Balanced Bookshelf**\n",
        "\n",
        "**Problem Statement:**\n",
        "A library has a unique way of arranging books on a bookshelf. Each book has a unique identifier number. The left shelf contains books with identifiers less than the current book, while the right shelf contains books with identifiers greater than the current book. However, to ensure the shelf remains stable, the difference in heights between the left and right shelves for any book should not exceed 1. Determine if the given book arrangement is stable.\n",
        "\n",
        "**Input Format:**\n",
        "\n",
        "\t•\tA list of integers representing the arrangement of books.\n",
        "\n",
        "**Output Format:**\n",
        "\n",
        "\t•\t“YES” if the arrangement is stable, otherwise “NO”.\n",
        "\n",
        "**Sample Input:**\n",
        "\n",
        "[4, 2, 6, 1, 3, 5, 7]\n",
        "\n",
        "**Sample Output:**\n",
        "\n",
        "YES\n",
        "\n",
        "**Constraints:**\n",
        "\n",
        "\t•\tThe list of integers will have at least 1 and at most 10^4 integers.\n",
        "\t•\tEach integer is unique and between 1 to 10^6.\n",
        "\n",
        "**Solution and Justification:**\n",
        "The problem can be tackled by constructing the BST and then checking if it’s height-balanced.\n",
        "\n",
        "```python\n",
        "class TreeNode:\n",
        "    def __init__(self, val):\n",
        "        self.val = val\n",
        "        self.left = None\n",
        "        self.right = None\n",
        "\n",
        "def insert(root, val):\n",
        "    if not root:\n",
        "        return TreeNode(val)\n",
        "    if val < root.val:\n",
        "        root.left = insert(root.left, val)\n",
        "    else:\n",
        "        root.right = insert(root.right, val)\n",
        "    return root\n",
        "\n",
        "def isBalanced(root):\n",
        "    if not root:\n",
        "        return True, 0\n",
        "    leftBalanced, leftHeight = isBalanced(root.left)\n",
        "    rightBalanced, rightHeight = isBalanced(root.right)\n",
        "    if abs(leftHeight - rightHeight) <= 1 and leftBalanced and rightBalanced:\n",
        "        return True, 1 + max(leftHeight, rightHeight)\n",
        "    return False, 1 + max(leftHeight, rightHeight)\n",
        "\n",
        "root = None\n",
        "for val in input_list:\n",
        "    root = insert(root, val)\n",
        "balanced, _ = isBalanced(root)\n",
        "print(\"YES\" if balanced else \"NO\")\n",
        "```\n",
        "\n",
        "**Proof of Correctness:**\n",
        "The algorithm constructs the BST from the list and then checks each node to see if the height difference between its left and right child is at most 1.\n",
        "\n",
        " **Reflection:**\n",
        "\n",
        "\tHow ChatGPT assisted: ChatGPT provided a clear understanding of BSTs and guided the creation of a real-world scenario based on it.\n",
        "\tChallenges faced: Designing a problem that retains the essence of BSTs but in a library context.\n",
        "\tLearnings: Translating theoretical concepts into real-world scenarios is challenging but enlightening, revealing the pervasive nature of algorithmic logic in everyday life."
      ],
      "metadata": {
        "id": "vwqwzo-GsoLB"
      }
    },
    {
      "cell_type": "markdown",
      "source": [
        "**13.Problem Title: Social Network Influence**\n",
        "\n",
        "**Problem Statement:**\n",
        "In a small city, everyone is connected through a social network. Each person can influence their direct friends and spread a rumor to them. However, not everyone has an equal influence level. Some people have a higher influence, meaning when they spread a rumor, it’s more likely their friends will believe and spread it further. Determine the minimum number of individuals needed to spread a rumor so that it reaches the entire network.\n",
        "\n",
        "**Input Format:**\n",
        "\n",
        "\t•\tN - number of people in the network (1 <= N <= 10^4)\n",
        "\t•\tM - number of direct connections/friendships (1 <= M <= 10^5)\n",
        "\t•\tM lines, each containing two integers, representing a friendship between two people.\n",
        "\t•\tList of N integers, representing the influence level of each person.\n",
        "\n",
        "**Output Format:**\n",
        "\n",
        "\t•\tAn integer - the minimum number of individuals needed to spread a rumor to the entire network.\n",
        "\n",
        "**Sample Input:**\n",
        "\n",
        "5\n",
        "4\n",
        "1 2\n",
        "2 3\n",
        "3 4\n",
        "4 5\n",
        "3 2 1 2 3\n",
        "\n",
        "**Sample Output:**\n",
        "\n",
        "2\n",
        "\n",
        "**Constraints:**\n",
        "\n",
        "\t•\tFriendship connections are undirected.\n",
        "\t•\tInfluence level is between 1 (lowest) and 10 (highest).\n",
        "\n",
        " **Solution and Justification:**\n",
        "An effective approach would be to use a greedy algorithm. Start by spreading the rumor from the person with the highest influence level. Then perform a BFS traversal to mark all people who are influenced. Repeat the process until all people in the network are influenced.\n",
        "\n",
        "**Pseudocode:**\n",
        "```\n",
        "sort people by influence level in descending order\n",
        "set count = 0\n",
        "for each person in sorted list:\n",
        "    if person is not influenced:\n",
        "        perform BFS from person to mark all influenced\n",
        "        increase count by 1\n",
        "return count\n",
        "```\n",
        "\n",
        "\n",
        "**Proof of Correctness:**\n",
        "By targeting the most influential people first, the rumor spreads more quickly and efficiently, ensuring a minimal number of individuals are needed.\n",
        "\n",
        " **Reflection:**\n",
        "\n",
        "\t•\tHow ChatGPT assisted: ChatGPT offered insights into-how the core graph theory concepts could be used in a real-world context, especially in the domain of social networks.\n",
        "\n",
        "\t•\tChallenges faced: Translating graph algorithms to a context like social network influence without making it a straightforward traversal problem was a challenge.\n",
        "\t•\tLearnings: By adapting core algorithmic concepts to unique scenarios, it’s possible to test understanding beyond just the raw mechanics of the algorithm, but also its implications in different contexts.\n",
        "\n"
      ],
      "metadata": {
        "id": "mjhtBEho06ad"
      }
    },
    {
      "cell_type": "markdown",
      "source": [
        "**14.Problem Title**: City Water Distribution\n",
        "\n",
        "**Problem Statement**:\n",
        "A city has designed a new water distribution system. The system consists of reservoirs (nodes) connected with pipelines (edges). Each pipeline has a capacity indicating the maximum amount of water it can transport per hour. The city wants to ensure the maximum amount of water is transferred from the main reservoir to the city center. Using the Ford-Fulkerson algorithm, determine the maximum water flow from the main reservoir to the city center.\n",
        "\n",
        "**Input Format**:\n",
        "* N - number of reservoirs in the city (2 <= N <= 500).\n",
        "* M - number of pipelines connecting the reservoirs (1 <= M <= 10^4).\n",
        "* M lines, each containing three integers: two reservoir numbers (indicating the start and end reservoir) and the capacity of the pipeline.\n",
        "* Two integers representing the main reservoir and the city center reservoir.\n",
        "\n",
        "**Output Format**:\n",
        "* An integer - the maximum amount of water (in liters per hour) that can be transported from the main reservoir to the city center.\n",
        "\n",
        "**Sample Input**:\n",
        "```\n",
        "5\n",
        "6\n",
        "1 2 20\n",
        "2 3 30\n",
        "2 4 10\n",
        "3 4 10\n",
        "3 5 40\n",
        "4 5 20\n",
        "1 5\n",
        "```\n",
        "\n",
        "**Sample Output**:\n",
        "```\n",
        "50\n",
        "```\n",
        "\n",
        "**Constraints**:\n",
        "* Capacity of each pipeline is between 1 and 10^6.\n",
        "\n",
        "**Solution and Justification**:\n",
        "The solution involves implementing the Ford-Fulkerson algorithm and running it on the provided flow network.\n",
        "\n",
        "**Pseudocode**:\n",
        "```pseudocode\n",
        "initialize flow to 0\n",
        "while there exists an augmenting path p in the residual graph:\n",
        "    augment flow using path p\n",
        "return flow\n",
        "```\n",
        "\n",
        "**Proof of Correctness**:\n",
        "The Ford-Fulkerson algorithm ensures that we find the maximum flow in the network by iteratively finding augmenting paths and updating the flow.\n",
        "\n",
        "**Reflection**:\n",
        "* **How ChatGPT assisted**: ChatGPT helped provide a real-world context (water distribution) to the classic max-flow problem, allowing for a more tangible understanding.\n",
        "* **Challenges faced**: Balancing the real-world context with the complexities of the Ford-Fulkerson algorithm to ensure the problem remains meaningful.\n",
        "* **Learnings**: Representing algorithmic problems in a real-world scenario can make them more engaging and relatable while testing the same core concepts.\n",
        "\n"
      ],
      "metadata": {
        "id": "3v0oyZJL2Kwt"
      }
    }
  ]
}