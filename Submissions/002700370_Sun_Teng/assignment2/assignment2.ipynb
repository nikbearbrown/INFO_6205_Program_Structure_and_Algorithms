{
 "cells": [
  {
   "cell_type": "markdown",
   "id": "3be7970e-5cc2-4d7a-98fb-f29f64934fde",
   "metadata": {},
   "source": [
    "Q1: For each of the following recurrences, give an expression for the runtime T(n) if the recurrence can be solved with the Master Theorem. Otherwise, indicate that the Master Theorem does not apply.\n",
    "i. T(n) = 4T(n/2) + n^2\n",
    "ii. T(n) = 2T(n/4) + sqrt(n)\n",
    "iii. T(n) = 5T(n/5) + n^2 log n\n",
    "iv. T(n) = 3T(n/3) + n^3\n",
    "v. T(n) = T(n/3) + T(2n/3) + n\n",
    "Now, analyze each of these recurrences to determine whether the Master Theorem can be applied or not.\n",
    "Solution: \n",
    "i. T(n) = 4T(n/2) + n^2\n",
    "a = 4, b = 2\n",
    "f(n) = n^2\n",
    "This recurrence follows the form of the Master Theorem (a > 1 and f(n) is a polynomial in n). Therefore, we can apply the Master Theorem.\n",
    "The solution using the Master Theorem for this case is T(n) = Θ(n^2 log n).\n",
    "ii. T(n) = 2T(n/4) + sqrt(n)\n",
    "This recurrence does not directly fit the standard form of the Master Theorem. The Master Theorem typically deals with divisions by integers.\n",
    "In this case, we can't apply the Master Theorem directly.This can be analyzed using recursive trees or extension methods.\n",
    "iii. T(n) = 5T(n/5) + n^2 log n\n",
    "a = 5, b = 5\n",
    "f(n) = n^2 log n\n",
    "This recurrence follows the form of the Master Theorem (a = b^c, where c = 1). Therefore, we can apply the Master Theorem. The solution using the Master Theorem for this case is T(n) = Θ(n^2 log^2 n).\n",
    "iv. T(n) = 3T(n/3) + n^3\n",
    "a = 3, b = 3\n",
    "f(n) = n^3\n",
    "This recurrence also follows the form of the Master Theorem (a = b^c, where c = 1). Therefore, we can apply the Master Theorem. The solution using the Master Theorem for this case is T(n) = Θ(n^3 log n).\n",
    "v. T(n) = T(n/3) + T(2n/3) + n\n",
    "This recurrence does not fit the standard form of the Master Theorem. It has multiple recursive terms, and the division ratios are not integers.This can be analyzed using recursive trees or extension methods."
   ]
  },
  {
   "cell_type": "markdown",
   "id": "e042cb8a-5357-47a0-a218-7f90ac8fa6b1",
   "metadata": {},
   "source": [
    "Q2: You are given a weighted, connected, undirected graph G with N nodes and M edges. Each edge has a positive integer weight associated with it. Your task is to find the minimum spanning tree (MST) of this graph using Kruskal's algorithm.\n",
    "Solution:\n",
    "Create a list of all edges in the graph, sorted by their weight in ascending order. Initialize an empty forest to represent MST. Iterate over a sorted list of edges:\n",
    "A. Take the side with the smallest weight.\n",
    "b. If adding this edge to the MST does not create a cycle (that is, the edge's two endpoints are not yet connected in the MST), then add it to the MST.\n",
    "C. Otherwise, discard the edge.\n",
    "Repeat the above steps until the MST contains (N - 1) edges, where N is the number of nodes in the graph.\n",
    "N = 5 (nodes)\n",
    "M = 7 (edges)\n",
    "Edges:\n",
    "1. (A, B) with weight 2\n",
    "2. (A, C) with weight 4\n",
    "3. (B, C) with weight 1\n",
    "4. (B, D) with weight 7\n",
    "5. (C, D) with weight 3\n",
    "6. (C, E) with weight 5\n",
    "7. (D, E) with weight 6\n",
    "Start with an empty MST.\n",
    "Sort the edges in ascending order of weights:\n",
    "(B, C) with weight 1\n",
    "(A, B) with weight 2\n",
    "(C, D) with weight 3\n",
    "(A, C) with weight 4\n",
    "(C, E) with weight 5\n",
    "(D, E) with weight 6\n",
    "(B, D) with weight 7\n",
    "Take the edge (B, C) with weight 1 and add it to the MST. MST: (B, C) with weight 1.\n",
    "Take the edge (A, B) with weight 2 and add it to the MST. MST: (B, C) with weight 1, (A, B) with weight 2.\n",
    "Take the edge (C, D) with weight 3 and add it to the MST. MST: (B, C) with weight 1, (A, B) with weight 2, (C, D) with weight 3.\n",
    "Take the edge (A, C) with weight 4 and add it to the MST. MST: (B, C) with weight 1, (A, B) with weight 2, (C, D) with weight 3, (A, C) with weight 4.\n",
    "Take the edge (C, E) with weight 5 and add it to the MST. MST: (B, C) with weight 1, (A, B) with weight 2, (C, D) with weight 3, (A, C) with weight 4, (C, E) with weight 5.\n",
    "Take the edge (D, E) with weight 6 and add it to the MST. MST: (B, C) with weight 1, (A, B) with weight 2, (C, D) with weight 3, (A, C) with weight 4, (C, E) with weight 5, (D, E) with weight 6.\n",
    "Take the edge (B, D) with weight 7, but adding it to the MST would create a cycle, so we discard it.\n",
    "The MST now contains 5 edges, which is equal to (N - 1), where N is the number of nodes. Therefore, we have found the minimum spanning tree for the given graph.\n",
    "The minimum spanning tree for the sample graph is:\n",
    "Edge (B, C) with weight 1\n",
    "Edge (A, B) with weight 2\n",
    "Edge (C, D) with weight 3\n",
    "Edge (A, C) with weight 4\n",
    "Edge (C, E) with weight 5\n",
    "Total MST weight: 1 + 2 + 3 + 4 + 5 = 15 units."
   ]
  },
  {
   "cell_type": "markdown",
   "id": "b2911734-2f6d-41dd-9efa-8b2bfeb9d8a8",
   "metadata": {},
   "source": [
    "Q3: There's a category of nursery rhymes and cumulative songs where each verse builds upon the previous one by adding an extra element or line. For example, the popular children's song \"Old MacDonald Had a Farm\" follows this pattern. In each verse, the farm animal changes, but the rest of the verse remains the same, building on the previous one.\n",
    "These songs can be quite lengthy when fully sung, yet their scripts are relatively short because you don't need to rewrite the entire verse each time. Instead, you can describe the changes introduced in each verse, making the song easy to follow.\n",
    "Let's analyze this phenomenon from a computational perspective. Assume that each verse has a bounded length represented by a constant 'c,' and when sung aloud, the entire song contains 'n' words.\n",
    "Task:\n",
    "Explain the concept of cumulative songs briefly.\n",
    "Describe a coding approach that encodes a cumulative song efficiently with a script of length 'f(n)' for the slowest-growing function 'f(n)' possible.\n",
    "Provide an example of a cumulative song encoded using your approach and demonstrate how it works.\n",
    "Hint:\n",
    "Consider using a recursive function or a loop to generate verses efficiently without repeating the entire previous verses in the script.\n",
    "Solution:\n",
    "The songs are characterized by a repetitive structure in which most of the lyrics remain the same and only specific parts change with each iteration. This mode allows new elements or details to be gradually added, making the song longer and more complex as it progresses.\n",
    "We can use a recursive approach to efficiently encode cumulative songs using a script of minimum length \"f(n)\" applying the slowest growing function \"f(n)\". The idea is to generate each section based on the previous section and only Specifies new lines to add in each section. This approach minimizes the length of the script while still producing a complete song.\n",
    "First, initialize an empty list to store the lines of the song. Define a helper function to generate a section based on the previous section. Initialize the first verse with some starting lyrics. Iterate 'n' times to create 'n' verses: Append the current verse to the list of lines. Generate a new line for the next section. Update the current verse by concatenating new lines. Finally, the entire song is printed by iterating over the list of lines."
   ]
  },
  {
   "cell_type": "code",
   "execution_count": 1,
   "id": "ce4f7bda-7ca5-4732-8dbd-bb79f9f23054",
   "metadata": {},
   "outputs": [
    {
     "name": "stdout",
     "output_type": "stream",
     "text": [
      "Old MacDonald had a farm, E-I-E-I-O,\n",
      "Old MacDonald had a farm, E-I-E-I-O, And on that farm, he had a [new animal], E-I-E-I-O,\n",
      "Old MacDonald had a farm, E-I-E-I-O, And on that farm, he had a [new animal], E-I-E-I-O, And on that farm, he had a [new animal], E-I-E-I-O,\n",
      "Old MacDonald had a farm, E-I-E-I-O, And on that farm, he had a [new animal], E-I-E-I-O, And on that farm, he had a [new animal], E-I-E-I-O, And on that farm, he had a [new animal], E-I-E-I-O,\n",
      "Old MacDonald had a farm, E-I-E-I-O, And on that farm, he had a [new animal], E-I-E-I-O, And on that farm, he had a [new animal], E-I-E-I-O, And on that farm, he had a [new animal], E-I-E-I-O, And on that farm, he had a [new animal], E-I-E-I-O,\n"
     ]
    }
   ],
   "source": [
    "#Q3 code\n",
    "def generate_cumulative_song(n):\n",
    "    lines = []  # Initialize an empty list to store lines\n",
    "    \n",
    "    # Helper function to generate a verse based on the previous one\n",
    "    def generate_verse(previous_verse, new_line):\n",
    "        return previous_verse + \" \" + new_line\n",
    "    \n",
    "    # Initialize the first verse\n",
    "    current_verse = \"Old MacDonald had a farm, E-I-E-I-O,\"\n",
    "    \n",
    "    # Generate the song\n",
    "    for _ in range(n):\n",
    "        # Add the current verse to the list of lines\n",
    "        lines.append(current_verse)\n",
    "        \n",
    "        # Generate the new line for the next verse (new farm animal)\n",
    "        new_line = \"And on that farm, he had a [new animal], E-I-E-I-O,\"\n",
    "        \n",
    "        # Update the current verse by calling the helper function\n",
    "        current_verse = generate_verse(current_verse, new_line)\n",
    "    \n",
    "    # Print the entire song\n",
    "    for line in lines:\n",
    "        print(line)\n",
    "\n",
    "# Example: Generate a song with 5 verses (5 different farm animals)\n",
    "n = 5\n",
    "generate_cumulative_song(n)"
   ]
  },
  {
   "cell_type": "markdown",
   "id": "57c205fe-3a27-4520-92ed-8172915d5710",
   "metadata": {},
   "source": [
    "Q4:Given a binary tree, determine if it is balanced. A balanced binary tree is defined as a tree in which the depth of the two subtrees of every node never differs by more than one.\n",
    "Write a function isBalanced that takes the root of a binary tree as input and returns true if the tree is balanced, and false otherwise.\n",
    "Function Signature:\n",
    "def isBalanced(root: TreeNode) -> bool:\n",
    "    pass\n",
    "You are given the definition of a TreeNode:\n",
    "class TreeNode:\n",
    "    def __init__(self, val=0, left=None, right=None):\n",
    "        self.val = val\n",
    "        self.left = left\n",
    "        self.right = right"
   ]
  },
  {
   "cell_type": "code",
   "execution_count": 1,
   "id": "c37cd8c9-2687-4b27-89e5-ef119a300851",
   "metadata": {},
   "outputs": [
    {
     "name": "stdout",
     "output_type": "stream",
     "text": [
      "True\n",
      "False\n"
     ]
    }
   ],
   "source": [
    "#Q4:Solution\n",
    "class TreeNode:\n",
    "    def __init__(self, val=0, left=None, right=None):\n",
    "        self.val = val\n",
    "        self.left = left\n",
    "        self.right = right\n",
    "\n",
    "def isBalanced(root: TreeNode) -> bool:\n",
    "    def checkHeight(node):\n",
    "        if node is None:\n",
    "            return 0\n",
    "        \n",
    "        left_height = checkHeight(node.left)\n",
    "        if left_height == -1:\n",
    "            return -1\n",
    "        \n",
    "        right_height = checkHeight(node.right)\n",
    "        if right_height == -1:\n",
    "            return -1\n",
    "        \n",
    "        if abs(left_height - right_height) > 1:\n",
    "            return -1\n",
    "        \n",
    "        return max(left_height, right_height) + 1\n",
    "\n",
    "    return checkHeight(root) != -1\n",
    "\n",
    "# Example usage:\n",
    "root1 = TreeNode(3)\n",
    "root1.left = TreeNode(9)\n",
    "root1.right = TreeNode(20)\n",
    "root1.right.left = TreeNode(15)\n",
    "root1.right.right = TreeNode(7)\n",
    "\n",
    "print(isBalanced(root1))  # Output: True\n",
    "\n",
    "root2 = TreeNode(1)\n",
    "root2.left = TreeNode(2)\n",
    "root2.right = TreeNode(2)\n",
    "root2.left.left = TreeNode(3)\n",
    "root2.left.right = TreeNode(3)\n",
    "root2.left.left.left = TreeNode(4)\n",
    "root2.left.left.right = TreeNode(4)\n",
    "\n",
    "print(isBalanced(root2))  # Output: False"
   ]
  },
  {
   "cell_type": "markdown",
   "id": "fff2d8dd-b53c-4ac6-b48f-d0b97795494b",
   "metadata": {},
   "source": [
    "Q5:Given an integer array nums, find the maximum possible sum of a non-empty subarray of the array, where the subarray can be circular (i.e., the subarray can wrap around at the end). A circular subarray means that if you travel from the last element to the first element, it's still considered contiguous.\n",
    "Write a function maxCircularSubarraySum that takes an integer array nums as input and returns the maximum sum of any circular subarray.\n",
    "Function Signature:\n",
    "def maxCircularSubarraySum(nums: List[int]) -> int:\n",
    "    pass\n",
    "Soultion:What we need to consider is: the maximum sum of subarrays without wrapping and wrapping. The maximum subarray sum can be found by applying Kadane's algorithm without wrapping, and then, to handle looping subarrays, the same algorithm is used to find the minimum subarray sum. Subtracting the smallest subarray sum from the array sum gives you the wrapped largest subarray sum."
   ]
  },
  {
   "cell_type": "code",
   "execution_count": 2,
   "id": "1d3496b1-39ef-4cb7-9cb2-54882524a76e",
   "metadata": {},
   "outputs": [
    {
     "name": "stdout",
     "output_type": "stream",
     "text": [
      "3\n",
      "10\n",
      "4\n",
      "3\n"
     ]
    }
   ],
   "source": [
    "#Q5 code\n",
    "def maxCircularSubarraySum(nums):\n",
    "    def kadane(nums):\n",
    "        max_sum = float('-inf')\n",
    "        current_sum = 0\n",
    "        for num in nums:\n",
    "            current_sum = max(num, current_sum + num)\n",
    "            max_sum = max(max_sum, current_sum)\n",
    "        return max_sum\n",
    "\n",
    "    total_sum = sum(nums)\n",
    "    max_sum_without_wrap = kadane(nums)\n",
    "    \n",
    "    # Calculate the maximum sum with wrapping around by subtracting the minimum subarray sum\n",
    "    max_sum_with_wrap = total_sum + kadane([-num for num in nums[1:-1]])\n",
    "    \n",
    "    # Return the maximum of the two cases\n",
    "    return max(max_sum_without_wrap, max_sum_with_wrap)\n",
    "\n",
    "# Example usage:\n",
    "nums1 = [1, -2, 3, -2]\n",
    "print(maxCircularSubarraySum(nums1))  # Output: 3\n",
    "\n",
    "nums2 = [5, -3, 5]\n",
    "print(maxCircularSubarraySum(nums2))  # Output: 10\n",
    "\n",
    "nums3 = [3, -1, 2, -1]\n",
    "print(maxCircularSubarraySum(nums3))  # Output: 4\n",
    "\n",
    "nums4 = [3, -2, 2, -3]\n",
    "print(maxCircularSubarraySum(nums4))  # Output: 3"
   ]
  },
  {
   "cell_type": "markdown",
   "id": "36d9f2c0-e3ec-4939-85d2-560beaed16c4",
   "metadata": {},
   "source": [
    "Q6：Use Prim's algorithm to find a minimum spanning tree in a graph of your choice. Show your steps.\n",
    "Solution:\n",
    "First we start from vertex 0, which has four branches, and we choose the smallest edge as (0-2) which is 1.\n",
    "Then start from the edge with the smallest weight among the selected vertices 2. They are (0-3) (0-1) (0-4) (2-5) (2-6), and the minimum value is (0-3) whose value is 4.\n",
    "The next vertex is 3. We need to select the minimum value from the edges connected to vertex 3 and before it, which are (0-1) (0-4) (2-5) (2-6) (3-5), where The values of (0-1) and (2-6) are both 5, so you can choose either one. We choose (0-1) first here.\n",
    "The next vertex is 1, and there are no new edges connected to it, so the options available are the remaining edges in the previous step, and we choose (2-6).\n",
    "The next vertex is 6, the next branch is (6-5) (3-5) (0-4) (2-5), and the smallest edge is (3-5) with a value of 6.\n",
    "The next few steps are very simple. The minimum value starting from vertex 5 is (5-7), and the minimum starting from vertex 7 is (7-4). In this way, the minimum spanning tree is obtained. We are very lucky in this question and are not troubled by rings."
   ]
  },
  {
   "cell_type": "markdown",
   "id": "2f1a3162-6a13-404f-a267-86645c81a5ae",
   "metadata": {},
   "source": [
    "the picture is here\n",
    "![Alt text](prim1.png)\n",
    "![Alt text](prim2.png)\n",
    "![Alt text](prim3.png)"
   ]
  },
  {
   "cell_type": "markdown",
   "id": "d46d43af-1e3a-4661-b774-aa7a3c7cfa58",
   "metadata": {},
   "source": [
    "Q7:You are given a directed graph represented as an adjacency list. Write a function in your preferred programming language that determines whether the graph contains a cycle.\n",
    "Function Signature:\n",
    "def has_cycle(graph: Dict[int, List[int]]) -> bool:\n",
    "    pass\n",
    "Input:\n",
    "graph: A dictionary where keys are integers representing nodes, and values are lists of integers representing the neighboring nodes that can be reached from the key node.\n",
    "Output:\n",
    "Return True if the graph contains a cycle; otherwise, return False."
   ]
  },
  {
   "cell_type": "code",
   "execution_count": 1,
   "id": "305cccfd-939d-4960-9620-6af3f9f8379a",
   "metadata": {},
   "outputs": [
    {
     "name": "stdout",
     "output_type": "stream",
     "text": [
      "True\n"
     ]
    }
   ],
   "source": [
    "#Q7 code\n",
    "from collections import defaultdict\n",
    "\n",
    "def has_cycle(graph):\n",
    "    def dfs(node):\n",
    "        if node in visited:\n",
    "            return True\n",
    "        if node in visiting:\n",
    "            return False\n",
    "\n",
    "        visiting.add(node)\n",
    "        for neighbor in graph.get(node, []):\n",
    "            if dfs(neighbor):\n",
    "                return True\n",
    "        visiting.remove(node)\n",
    "        visited.add(node)\n",
    "        return False\n",
    "\n",
    "    visited = set()\n",
    "    visiting = set()\n",
    "\n",
    "    for node in graph:\n",
    "        if dfs(node):\n",
    "            return True\n",
    "\n",
    "    return False\n",
    "\n",
    "# Example usage:\n",
    "graph = {\n",
    "    0: [1, 2],\n",
    "    1: [2],\n",
    "    2: [0, 3],\n",
    "    3: [3]\n",
    "}\n",
    "\n",
    "result = has_cycle(graph)\n",
    "print(result)  # True, as the graph has a cycle: 2 -> 0 -> 1 -> 2"
   ]
  },
  {
   "cell_type": "markdown",
   "id": "b165699b-479f-451a-906e-9a97dec83661",
   "metadata": {},
   "source": [
    "Summary\n",
    "Through the practice of these exercises, I have a clearer understanding of the purpose and role of the algorithm. For example, Prim's algorithm is used to find the minimum spanning tree in a weighted connected graph. It ensures that the generated tree spans all vertices with the smallest possible total weight. DFS, BFS are applied to graph traversal algorithms to explore as far as possible along each branch before backtracking. I won’t explain them one by one here.\n",
    "Each algorithm has its unique advantages, and we need to understand its special application scenarios, advantages and disadvantages.For example, Dijkstra's algorithm is a powerful tool for finding the shortest path in non-negatively weighted graphs, and has many practical applications such as computing, GPS, and even flight distance calculations. However, its limitations, such as the inability to handle negative weights and negative loops, should be considered when choosing it for a specific scenario.\n",
    "In summary, algorithms are important tools that contribute to efficiency, automation, optimization, and decision-making processes in many fields. They enable us to solve complex problems, make informed choices, and extract valuable insights from data, ultimately advancing knowledge, technology, and human capabilities in a variety of fields."
   ]
  }
 ],
 "metadata": {
  "kernelspec": {
   "display_name": "Python 3 (ipykernel)",
   "language": "python",
   "name": "python3"
  },
  "language_info": {
   "codemirror_mode": {
    "name": "ipython",
    "version": 3
   },
   "file_extension": ".py",
   "mimetype": "text/x-python",
   "name": "python",
   "nbconvert_exporter": "python",
   "pygments_lexer": "ipython3",
   "version": "3.9.12"
  }
 },
 "nbformat": 4,
 "nbformat_minor": 5
}
