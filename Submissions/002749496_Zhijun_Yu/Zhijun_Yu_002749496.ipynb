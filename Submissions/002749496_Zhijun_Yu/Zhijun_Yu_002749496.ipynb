{
 "cells": [
  {
   "cell_type": "markdown",
   "id": "35962585",
   "metadata": {},
   "source": [
    "# INFO 6205 Assignment 1"
   ]
  },
  {
   "cell_type": "markdown",
   "id": "88a3b285",
   "metadata": {},
   "source": [
    "Q1 (15 Points) Arrange the following functions in increasing order of growth:\n",
    "• log(333n)\n",
    "• nlog(n)\n",
    "• log(n^3)\n",
    "• n^2.5+n^1.1+2023\n",
    "• 2023+0.5^n\n",
    "• log(log(n))\n",
    "• n!\n",
    "• log(n!)\n",
    "• n/(50log(n))\n",
    "• 20^n+40^n\n",
    "• (n^3)*log(n)\n",
    "• (3^n)*log(n)\n",
    "• (log(n))^2\n",
    "• n*(log(n))^2\n"
   ]
  },
  {
   "cell_type": "markdown",
   "id": "b4dec5b5",
   "metadata": {},
   "source": [
    "SOL:\n",
    "\n",
    "1. Constant and Exponential Decay: \n",
    "2023+(1/2)^n\n",
    "As n approaches positive infinity, (1/2)^n will approach zero positive, so this function becomes close to a constant function. Among all functions in the list, it grows most slowly.\n",
    "2. Nested Logarithm:\n",
    "log(log(n))\n",
    "This grows more slowly than non-nested logarithmic function. To prove it, we can first calculate the derivatives respectively. Use the chain rule to calculate the derivative of log(log(n)). Since the base of logrithm is not specified, if base is e, then derivative is 1/(nlog(n)); if base is 10, then derivative is (1/(ln10)^2)* (1/(nlog(n))). Calculate the derivative of log(n), if base is e, then derivative is 1/n; if base is 10, then derivative is (1/(nln10)). Therefore, the dominant part in each derivative to compare is (1/(nlog(n))) and 1/n. When n approaches positive infinite, since the functions are continuous on (1,+∞), the derivative value of log(log(n)) at a point approaching infinity less than that of log(n) (there can be a very little slot that log(log(n)) grows faster, but generally in most part of the domain log(n) grows faster), thus, generally log(log(n)) grows more slowly than log(n), as n approaches sufficiently large, the trend is more clear. The derivative calculation for next several comparisons will be trival.\n",
    "3. Logarithmic Functions:\n",
    "log(333n),log(n^3),(log(n))^2\n",
    "Notice that log(333n) = log(333)+log(n) = constant+log(n) is obviously Θ(log(n));\n",
    "log(n^3) = 3 * log(n) is also Θ(log(n)) but increases faster than log(333n);\n",
    "(log(n))^2 grows faster than the above two because it's log(n) is squared, when n approaches infinity, (log(n))^2 will have two positive infinity multiplying with each other, so it grows faster than log(n^3). After calculating the derivatives, we can get 2log(n)/n. Notice that there may be a little slot (when n is a small positive number) that log(n^3) grows faster, but the overall trend (when n approaches infinity) is that (log(n))^2 grows faster in the long term.\n",
    "4. Linear-Logarithmic Function:\n",
    "n/(50log(n))\n",
    "As n approaches infinity, log(n) also goes to infinity, but at a much slower rate than n itself. Therefore, the overall function n/(50log(n)) grows towards infinity as n becomes very large, albeit more slowly than a linear function would. For n/(50log(n)) and (log(n))^2, we can take the ratio and simplify: n/(50* (log(n))^3). As \n",
    "n approaches infinity, the denominator (log(n))^3 grows much slower than n. Therefore, n/(50log(n)) grows faster as n approaches infinity.\n",
    "5. Linearithmic Functions: \n",
    "nlog(n), n*(log(n))^2\n",
    "As we mentioned before, n/(50log(n)) grows slower than linear functions. In this case, n/(50log(n)) grows slower than nlog(n); obviously, nlog(n) grows slower than n*(log(n))^2 as well.\n",
    "6. Polynomial Function:\n",
    "n^2.5+n^1.1+2023\n",
    "This function is the polynomial function that grows faster than linearithmic functions. n^2.5 dominates this sum in terms of growth (power function model), and this function is Θ(n^2.5).\n",
    "7. Polynomial-Logarithmic Function:\n",
    "(n^3)* log(n)\n",
    "Obviously, this function grows faster than n^2.5+n^1.1+2023. When n approaches infinity, n^3* log(n) undoubtedly grows faster than n^2.5+n^1.1+2023 because n^3 grows much faster than n^2.5 when n approaches positive infinity, and log(n) as a factor of n^3 activates the n^3 greatly. you can also calculate the derivatives to formally prove it.\n",
    "8. Exponential Function with Log Factor: \n",
    "(3^n)* log(n)\n",
    "Since the exponential function grows faster than polynomial function, (3^n)* log(n) undoubtedly grows faster than last function which is (n^3)* log(n) when n approaches positive infinity.\n",
    "9. Exponential Functions:\n",
    "20^n+40^n\n",
    "40^n dominates this sum; this function is Θ(40^n), which grows faster than (3^n)* log(n). The rule also could be drawn by calculating and compare the derivative.\n",
    "10. Logarithmic Factorial:\n",
    "log(n!)\n",
    "Such function grows faster than any exponential function but slower than the factorial function.\n",
    "11. Factorial Function:\n",
    "n!\n",
    "This is obviously the fastest-growing function in the list.\n",
    "\n",
    "Therefore, in conclusion, the functions in increasing order of growth could be arranged as:\n",
    "2023+(1/2)^n, log(log(n)), log(333n), log(n^3), (log(n))^2, n/(50log(n)), nlog(n), n*(log(n))^2, n^2.5+n^1.1+2023, (n^3)* log(n), (3^n)* log(n), 20^n+40^n, log(n!), n!\n"
   ]
  },
  {
   "cell_type": "markdown",
   "id": "382aa202",
   "metadata": {},
   "source": [
    "Q2 (10 Points)\n",
    "Assume that you have function f and g such that f(n) is O(g(n)). For each of the following statements decide whether it is true or false and give a proof or counter example.\n",
    "Statement 1: 2^f(n) is O(2^g(n))\n",
    "Statement 2: f(n)+g(n) = O(g(n))\n",
    "Statement 3: If f(n) is O(g(n)), then g(n) is Omega(f(n))\n",
    "Statement 4: f(n) * g(n) is O(g(n)^2)\n"
   ]
  },
  {
   "cell_type": "markdown",
   "id": "5c26302f",
   "metadata": {},
   "source": [
    "SOL: \n",
    "For Statement 1, it is false. Consider f(n) = n and g(n) = n+1. Even though f(n) is O(g(n)), 2^n is not O(2^(n+1)) because the base is the same and an additive increase in the exponent results in an exponential increase in value.\n",
    "For Statement 2, it is true. Since f(n) is O(g(n)), there exists constant c and n0 such that for all n>=n0, f(n) <= c* g(n). Therefore, for f(n)+g(n), there exists constant c and n0 such that for all n>=n0, f(n)+g(n) <= (c* g(n))+g(n) = (c+1)g(n). Therefore, f(n)+g(n) = O(g(n)) holds.\n",
    "For Statement 3, it is true. By definition of Big-O, if f(n) is O(g(n)), then for some constant c and n0, f(n) <= cg(n) for all n>=n0. This can be rewritten as g(n) >= (1/c)* f(n) for all n>=n0, which is the definition of Omega.\n",
    "For Statement 4, it is true. Since f(n) is O(g(n)), there exists constant c and n0 such that for all n>=n0, f(n) <= c* g(n). Therefore, there exists constant c and n0 such that for all n>=n0, f(n)g(n) <= c* (g(n)^2). Therefore, f(n) * g(n) is O(g(n)^2) holds.\n"
   ]
  },
  {
   "cell_type": "markdown",
   "id": "24ad5bdf",
   "metadata": {},
   "source": [
    "Q3 (15 Points)\n",
    "Imagine a bustling city with n apartments available for rent and m families looking for a place to live (m>n). Each apartment could at most house one family, and each family could at most live in one apartment. There are more families (m) looking for apartments than there are apartments (n) available. This means that, while every apartment will be occupied, there will be families that do not get an apartment in the stable matching. Each family has ranked all the available apartments according to their preference (taking into consideration factors like location, rent, size, etc.), and similarly, each apartment owner has ranked the families based on criteria like credit score, references, etc. Your goal is to find a stable matching where no apartment owner would want to evict their current tenant family for another higher-ranked family that also ranks that apartment higher than their current residence. The challenge is two-fold: Prove that a stable matching always exists; Devise an algorithm to find such matching.\n"
   ]
  },
  {
   "cell_type": "markdown",
   "id": "5f3497b4",
   "metadata": {},
   "source": [
    "SOL: We will use a modified version of the Gale-Shapley algorithm.\n",
    "If the solution will tend to be more optimal for the families:\n",
    "Algorithm (Family Proposing): \n",
    "    Step One: Start with all families being unmatched and all apartments being unoccupied.\n",
    "    Step Two: While there exists a new unmatched family that hasn't proposed to all apartments:\n",
    "        a. The family proposes to the highest-ranked apartment on their list which they haven't proposed to yet.\n",
    "        b. If the apartment is unoccupied, they move in.\n",
    "        c. If the apartment is occupied by another family:\n",
    "            c1. If the apartment owner prefers the new family to the current one, the current family is evicted and becomes unmatched, and the new family moves in.\n",
    "            c2. Otherwise, the new family remains unmatched.\n",
    "\n",
    "If the solution will tend to be more optimal for the apartments (apartment owners):\n",
    "Algorithm (Apartment Proposing):\n",
    "    Step One: Start with all apartments being unoccupied and all families being unmatched.\n",
    "    Step Two: While there exists an unoccupied apartment that hasn't proposed to all families:\n",
    "        a. The apartment proposes to the highest-ranked family on its list which it hasn't proposed to yet.\n",
    "        b. If the family hasn't been matched with an apartment, they accept.\n",
    "        c. If the family has been matched with another apartment:\n",
    "            c1. If the family prefers the new apartment over the current one, they accept the new apartment, and the previous apartment becomes unoccupied.\n",
    "            c2. Otherwise, the apartment remains unoccupied.\n",
    "\n",
    "            \n",
    "            \n",
    "Pseudo Code:\n",
    "F: Set of families\n",
    "A: Set of apartments\n",
    "f: A single family\n",
    "a: A single apartment\n",
    "P_f(a): Preference rank of apartment a by family f\n",
    "P_a(f): Preference rank of family f by apartment a\n",
    "match(f): The apartment matched with family f\n",
    "match(a): The family matched with apartment a\n",
    "\n",
    "Pseudo Code for Family Proposing:\n",
    "\n",
    "Initialize every family f in F as unmatched\n",
    "Initialize every apartment a in A as unmatched\n",
    "\n",
    "while there exists an unmatched family f who hasn't proposed to every apartment:\n",
    "    a = the highest-ranked apartment in f's preference list to which f has not yet proposed\n",
    "    if a is unmatched:\n",
    "        match(a) = f\n",
    "        match(f) = a\n",
    "    else:\n",
    "        f' = match(a)  // currently matched family for apartment a\n",
    "        if P_a(f) < P_a(f'):  // a prefers f over f'\n",
    "            match(f') = None  // release f' to unmatched state\n",
    "            match(a) = f\n",
    "            match(f) = a\n",
    "\n",
    "Return all matches\n",
    "\n",
    "\n",
    "Pseudo Code for Apartment proposing:\n",
    "\n",
    "Initialize every family f in F as unmatched\n",
    "Initialize every apartment a in A as unmatched\n",
    "\n",
    "while there exists an unmatched apartment a that hasn't proposed to every family:\n",
    "    f = the highest-ranked family in a's preference list to which a has not yet proposed\n",
    "    if f is unmatched:\n",
    "        match(a) = f\n",
    "        match(f) = a\n",
    "    else:\n",
    "        a' = match(f)  // currently matched apartment for family f\n",
    "        if P_f(a) < P_f(a'):  // f prefers a over a'\n",
    "            match(a') = None\n",
    "            match(f) = a\n",
    "            match(a) = f\n",
    "\n",
    "Return all matches\n",
    "\n",
    "\n",
    "Worst-Case Running Time:\n",
    "For Family Proposing: The worst-case running time is when each of the m families proposes to each of the n apartments once. This results in a worst-case time complexity of O(mn).\n",
    "For Apartment Proposing: The worst-case running time is when each of the n apartments proposes to each of the m families once. This results in a worst-case time complexity of O(mn).\n"
   ]
  },
  {
   "cell_type": "markdown",
   "id": "16c8c709",
   "metadata": {},
   "source": [
    "Q4 (10 Points)\n",
    "Consider two algorithms for a given task. Algorithm A requires 8log2(n) milliseconds to execute, while Algorithm B requires n^0.4 milliseconds. Which one is asymptotically faster?\n"
   ]
  },
  {
   "cell_type": "markdown",
   "id": "4d989758",
   "metadata": {},
   "source": [
    "SOL.\n",
    "Let's compare the growth rates of the two algorithms.\n",
    "Algorithm A: TA(n) = 8log2(n)\n",
    "Algorithm B: TB(n) = n^0.4\n",
    "The function log2(n) is a logarithmic function.\n",
    "The function n^0.4 is a polynomial function.\n",
    "As n becomes larger, polynomial functions grow faster than logarithmic functions. Thus, n^0.4 grows faster than log2(n) as n approaches positive infinity.\n",
    "Based on such comparison, Algorithm A which has a time complexity of 8log2(n) is asymptotically faster than Algorithm B with a time complexity of n^0.4.\n"
   ]
  },
  {
   "cell_type": "markdown",
   "id": "629f184a",
   "metadata": {},
   "source": [
    "Q5 (10 Points)\n",
    "You are given a list of n integers, and you need to find all possible tuples of three integers from the list that sum up to a given integer k. Notice that elements in each tuple cannot repeat. Analyze the time complexity of your algorithm.\n",
    "For example,\n",
    "nums = nums = [0, 1, 2, 3, 4, 5, 6]\n",
    "k = 7\n",
    "find_trios(nums, k)\n",
    "\n",
    "// Algorithm should return [(0, 1, 6), (0, 2, 5), (0, 3, 4), (1, 2, 4)]\n"
   ]
  },
  {
   "cell_type": "code",
   "execution_count": 13,
   "id": "59438bd5",
   "metadata": {},
   "outputs": [
    {
     "data": {
      "text/plain": [
       "[(0, 1, 6), (0, 2, 5), (0, 3, 4), (1, 2, 4)]"
      ]
     },
     "execution_count": 13,
     "metadata": {},
     "output_type": "execute_result"
    }
   ],
   "source": [
    "# SOL\n",
    "def find_trios(nums, k):\n",
    "    trios = []\n",
    "    n = len(nums)\n",
    "    for i in range(n):\n",
    "        for j in range(i+1, n):\n",
    "            for l in range(j+1, n):\n",
    "                if nums[i] + nums[j] + nums[l] == k:\n",
    "                    trios.append((nums[i], nums[j], nums[l]))\n",
    "    return trios\n",
    "nums = [0, 1, 2, 3, 4, 5, 6]\n",
    "k = 7\n",
    "find_trios(nums, k)"
   ]
  },
  {
   "cell_type": "markdown",
   "id": "a2933157",
   "metadata": {},
   "source": [
    "SOL: There are three nested loops in the solution:\n",
    "The outer loop runs n times, for each iteration of the outer loop, the second loop runs up to n-1 times, For each iteration of the second loop, the innermost loop runs up to n-2 times. Therefore, the worst-case time complexity of this brute-force solution is O(n^3). This solution has a cubic time complexity and can be quite slow for larger input sizes. Optimization techniques, like using sorting or hashing, could help improve the solution.\n"
   ]
  },
  {
   "cell_type": "markdown",
   "id": "1484fad1",
   "metadata": {},
   "source": [
    "Q6 (10 Points)\n",
    "One algorithm requires n^4* log2(n) seconds and another algorithm requires 2^n+n+1 seconds. Which one grows asymptotically faster? That is, which grows faster as n gets large?"
   ]
  },
  {
   "cell_type": "markdown",
   "id": "b0ed9759",
   "metadata": {},
   "source": [
    "SOL.\n",
    "To determine which function grows faster as n gets large, we'll compare the growth rates of the two functions.\n",
    "n^4* log2(n): This is a polynomial function multiplied by a logarithmic function.\n",
    "2^n+n+1: The dominant term here is 2^n, which is exponential.\n",
    "Exponential growth outpaces polynomial growth, even if the polynomial has a logarithmic factor. Thus, as \n",
    "n becomes very large, 2^n+n+1 grows asymptotically faster than n^4* log2(n)."
   ]
  },
  {
   "cell_type": "markdown",
   "id": "6f2f7938",
   "metadata": {},
   "source": [
    "Q7 (20 Points)\n",
    "The Stable Marriage Problem states that given N men and N women, where each person has ranked all members of the opposite sex in order of preference, marry the men and women together such that there are no two people of opposite sex who would both rather have each other than their current partners.Please use Python to implement Gale–Shapley algorithm to find the stable matching and create test cases to test the reliability. Meanwhile, analyze the time complexity of the algorithm."
   ]
  },
  {
   "cell_type": "code",
   "execution_count": 5,
   "id": "45f71986",
   "metadata": {},
   "outputs": [
    {
     "name": "stdout",
     "output_type": "stream",
     "text": [
      "next_w_ptr for test: [1, 1, 1]\n",
      "[0, 1, 2]\n"
     ]
    }
   ],
   "source": [
    "# Stable Marriage Problem SOL\n",
    "'''\n",
    "Input: two 2D List men_pref AND women_pref\n",
    "men numbered from 0 to n-1\n",
    "women numbered from n to 2n-1\n",
    "Output: a list of men who are corresponding partners of the women in order\n",
    "'''\n",
    "def gale_shapley(men_pref, women_pref):\n",
    "    # Number of men and number of women\n",
    "    n = len(men_pref)\n",
    "\n",
    "    # Store partner of each woman. The value/ele of w_partner[i] indicates partner no currently assigned to ith woman.\n",
    "    w_partner = [-1 for i in range(n)]\n",
    "\n",
    "    # An array to store the availability of men. If m_free[i] is True, then man 'i' is free, otherwise engaged.\n",
    "    m_free = [True for i in range(n)]\n",
    "    \n",
    "    # NextWomanIndex track the index of next woman for a specified man in his preference list\n",
    "    next_w_ptr = [0 for i in range(n)]\n",
    "    \n",
    "\n",
    "    # How many unmatched men there initially are\n",
    "    free_count = n\n",
    "    \n",
    "    # When there is an unmatched man that does not propose to every woman\n",
    "    while free_count > 0:\n",
    "        # Find the first free man id in m_free list\n",
    "        m = 0\n",
    "        while m < n:\n",
    "            if m_free[m] == True:\n",
    "                break\n",
    "            m += 1\n",
    "\n",
    "        # Here m is the picked first free man in m_free list, and meanwhile get next w ptr\n",
    "        # Since the number of men = number of women, if the man has proposed to every woman, he must be engaged\n",
    "        i = next_w_ptr[m]\n",
    "        next_w_ptr[m] = next_w_ptr[m] + 1\n",
    "        # First free man in list propose to the top woman and next till he is temporarily engaged\n",
    "        while i < n and m_free[m] == True:\n",
    "            # first woman id in preference list of man m\n",
    "            w = men_pref[m][i]\n",
    "\n",
    "            # The woman of preference is free, w and m become partners (Note that the partnership maybe changed later).\n",
    "            # Note that men are assigned indices from 0 to n-1, and women are assigned indices from n to 2n-1\n",
    "            # Here we transfer woman id to index to check whether engaged\n",
    "            # Success and Update\n",
    "            if w_partner[w - n] == -1:\n",
    "                w_partner[w - n] = m\n",
    "                m_free[m] = False     # m is not free now\n",
    "                free_count -= 1\n",
    "                break\n",
    "\n",
    "            else:\n",
    "                # If w is not free, find current engagement of w\n",
    "                m1 = w_partner[w - n]\n",
    "\n",
    "                # Check if w prefers m over her current engagement m1\n",
    "                # Success and Update\n",
    "                if not prefers_m1_over_m(women_pref, w-n, m, m1):\n",
    "                    w_partner[w - n] = m\n",
    "                    m_free[m] = False    # update the new partner as not free\n",
    "                    m_free[m1] = True    # make the previous partner free\n",
    "                    # no change for free count\n",
    "                    break\n",
    "                # Failure    \n",
    "                else:\n",
    "                    i += 1\n",
    "                    next_w_ptr[m] = next_w_ptr[m] + 1\n",
    "\n",
    "                    \n",
    "    print(\"next_w_ptr for test: \"+str(next_w_ptr))\n",
    "    return w_partner\n",
    "\n",
    "\n",
    "def prefers_m1_over_m(women_pref, w, m, m1):\n",
    "    # Check if w prefers m over her current engagement m1\n",
    "    n = len(women_pref)\n",
    "    for i in range(n):\n",
    "        # If m1 comes before m in list of w, then w prefers her current engagement\n",
    "        if women_pref[w][i] == m1:\n",
    "            return True\n",
    "        # If m comes before m1 in w's list, then free her current engagement and engage her with m\n",
    "        if women_pref[w][i] == m:\n",
    "            return False\n",
    "\n",
    "\n",
    "# Test Case 1\n",
    "men_pref = [[3, 4, 5], [4, 3, 5], [5, 4, 3]]\n",
    "women_pref = [[0, 1, 2], [2, 1, 0], [1, 0, 2]]\n",
    "print(gale_shapley(men_pref, women_pref))\n"
   ]
  },
  {
   "cell_type": "code",
   "execution_count": 3,
   "id": "96be4eeb",
   "metadata": {},
   "outputs": [
    {
     "name": "stdout",
     "output_type": "stream",
     "text": [
      "next_w_ptr for test: [1, 1, 1, 3]\n",
      "[2, 1, 3, 0]\n"
     ]
    }
   ],
   "source": [
    "# Test Case 2\n",
    "women_pref = [[0, 1, 2, 3], [0, 1, 2, 3], [0, 1, 2, 3],[0, 1, 2, 3]]\n",
    "men_pref = [[7, 5, 6, 4], [5, 4, 6, 7], [4, 5, 6, 7], [4, 5, 6, 7]]\n",
    "print(gale_shapley(men_pref, women_pref))\n"
   ]
  },
  {
   "cell_type": "code",
   "execution_count": 16,
   "id": "87059197",
   "metadata": {},
   "outputs": [
    {
     "name": "stdout",
     "output_type": "stream",
     "text": [
      "next_w_ptr for test: [1, 1, 1]\n",
      "[0, 1, 2]\n"
     ]
    }
   ],
   "source": [
    "# Test Case 3\n",
    "men_pref = [[3, 4, 5], [4, 5, 3], [5, 3, 4]]\n",
    "women_pref = [[0, 1, 2], [1, 2, 0], [2, 0, 1]]\n",
    "print(gale_shapley(men_pref, women_pref))"
   ]
  },
  {
   "cell_type": "code",
   "execution_count": 17,
   "id": "1a50702c",
   "metadata": {},
   "outputs": [
    {
     "name": "stdout",
     "output_type": "stream",
     "text": [
      "next_w_ptr for test: [1, 2, 3]\n",
      "[0, 1, 2]\n"
     ]
    }
   ],
   "source": [
    "# Test Case 4\n",
    "men_pref = [[3, 4, 5], [3, 4, 5], [3, 4, 5]]\n",
    "women_pref = [[0, 1, 2], [0, 1, 2], [0, 1, 2]]\n",
    "print(gale_shapley(men_pref, women_pref))"
   ]
  },
  {
   "cell_type": "code",
   "execution_count": 18,
   "id": "334bbcff",
   "metadata": {},
   "outputs": [
    {
     "name": "stdout",
     "output_type": "stream",
     "text": [
      "next_w_ptr for test: [3, 2, 1]\n",
      "[0, 1, 2]\n"
     ]
    }
   ],
   "source": [
    "# Test Case 5\n",
    "men_pref = [[5, 4, 3], [5, 4, 3], [5, 4, 3]]\n",
    "women_pref = [[2, 1, 0], [2, 1, 0], [2, 1, 0]]\n",
    "print(gale_shapley(men_pref, women_pref))"
   ]
  },
  {
   "cell_type": "code",
   "execution_count": 19,
   "id": "71c05d3a",
   "metadata": {},
   "outputs": [
    {
     "name": "stdout",
     "output_type": "stream",
     "text": [
      "next_w_ptr for test: [1, 1, 1]\n",
      "[0, 2, 1]\n"
     ]
    }
   ],
   "source": [
    "# Test Case 6\n",
    "men_pref = [[3, 5, 4], [5, 3, 4], [4, 3, 5]]\n",
    "women_pref = [[2, 0, 1], [1, 2, 0], [0, 2, 1]]\n",
    "print(gale_shapley(men_pref, women_pref))"
   ]
  },
  {
   "cell_type": "code",
   "execution_count": 20,
   "id": "ac0c35ae",
   "metadata": {},
   "outputs": [
    {
     "name": "stdout",
     "output_type": "stream",
     "text": [
      "next_w_ptr for test: [1, 1, 1]\n",
      "[0, 1, 2]\n"
     ]
    }
   ],
   "source": [
    "# Test Case 7\n",
    "men_pref = [[3, 4, 5], [4, 5, 3], [5, 3, 4]]\n",
    "women_pref = [[2, 1, 0], [2, 0, 1], [2, 1, 0]]\n",
    "print(gale_shapley(men_pref, women_pref))"
   ]
  },
  {
   "cell_type": "markdown",
   "id": "44ea91e6",
   "metadata": {},
   "source": [
    "Time complxity analysis:\n",
    "The worst-case scenario: In the absolute worst-case scenario,every man may have to propose to every woman before the algorithm terminates. If there are N men and N women, then in the worst case, each man proposes to each woman once. This gives N^2 proposals in the worst case. Therefore, the worst-case time complexity is O(N^2).\n",
    "The best-case scenario: In the best-case scenario, each man gets accepted by his top choice, meaning each man proposes only once. This would result in N proposals in total. The best-case time complexity is O(N).\n"
   ]
  },
  {
   "cell_type": "markdown",
   "id": "3b2a508c",
   "metadata": {},
   "source": [
    "Q8 (10 Points)\n",
    "In astronomy, constellations are formed by connecting stars in the night sky with imaginary lines, creating recognizable patterns. However, in a faraway galaxy, constellations are formed by the mutual attractions between stars. Imagine a galaxy with n stars. Each star has a list of preferences ranking other stars based on their gravitational attraction to it. Among these stars, there are two specific stars, s1 and s2, with a special relationship:s1 rank s2 as its top attraction, and s2 rank s1 as its top attraction. This mutual ranking indicates a very strong gravitational pull between these two stars. Here is a statement: For every stable constellation configuration C in this galaxy, the pair (s1, s2) will always be in C. Your task is to either prove the claim by explaining why it's true or provide a counter-example to show it's false."
   ]
  },
  {
   "cell_type": "markdown",
   "id": "e0263cba",
   "metadata": {},
   "source": [
    "SOL.\n",
    "Assume, for the sake of contradiction, that in a stable constellation configuration C, s1 and s2 are not paired together. Instead, s1 is paired with another star, say s1', and s2 is paired with another star, say s2'.\n",
    "Given the preference list that s1 rank s2 as its top attraction and s2 rank s1 as its top attraction. It means s1 prefers s2 over s1', and s2 prefers s1 over s2'. This creates a problem. Both s1 and s2 would rather be paired with each other than with their current partners. They are a blocking pair with respect to the supposed stable configuration C, which contradicts the definition of C being a stable configuration.\n",
    "Hence, our initial assumption was wrong. Therefore, in any stable constellation configuration C, the pair (s1, s2) must always exist.\n",
    "This proves the statement to be True.\n"
   ]
  },
  {
   "cell_type": "markdown",
   "id": "a3ad03e4",
   "metadata": {},
   "source": [
    "Reflection HERE\n",
    "  In this assignment, I first read and solve the problems in the sample file myself and compare my answers with the standard solutions. In this way, I understand the essence and the core of the sample problems. Based on this, I use the Chatgpt AI to set similar questions that change the background and some unimportant constraints but preserving the spirit of the sample questions. Meanwhile, I think my problems are flexible. They are not limited to changing the problem background. They rather get to the heart of the problem and examine the important learning outcomes.\n",
    "  Chatgpt is mainly responsible for building a different background or giving some academic statement of a problem, or only giving me some ideas of setting my own problems. By asking Chatgpt to provide a new background or idea, I could always come up with a case that another topic in some domain utilizes the algorithm we learn from class. Thinking about these cases or ideas deeply, I could set up a problem preliminarily. I will solve my problem and ask the Chatgpt to analyze my problems. If the ideas of solving problems are similar, then my problem's reliability will be tested.\n",
    "  The challenge I met in maintaining the spirit of the example mainly lies in understanding some sample questions. Some sample problems tend to be complicated in terms of background, so it cost me a lot of time to understand them and get to know the essence of them. Once I understand the core of the sample questions by removing the 'background' shell, it is convenient for me to build my own question aligning the essence with those sample questions. \n",
    "  I think I really learn a lot from this assignment. In terms of problem design, I learn that a good problem design shall focus on the essence of the problem and well package the problems to be more interesting and practical. The testing of the reliability is also important. That means the problem could not only follow your personal logic, instead, it shall conform to the recognition of all students. Of course, the problem shall also be accurate and academic. When it comes to designing algorithms, I find that most times before I often use brute-force algorithms to solve problems. Since those problems are simple, I could get results without considering the time complexity. However, the computational capability is always limited when we tend to solve practical problems in our life. We need to try to either simplify the question from the problem source or optimize the algorithm structure to optimize the time complexity and the space complexity. Time complexity shall be attached great importance to to make the algorithm more practical and elegant."
   ]
  }
 ],
 "metadata": {
  "kernelspec": {
   "display_name": "Python 3 (ipykernel)",
   "language": "python",
   "name": "python3"
  },
  "language_info": {
   "codemirror_mode": {
    "name": "ipython",
    "version": 3
   },
   "file_extension": ".py",
   "mimetype": "text/x-python",
   "name": "python",
   "nbconvert_exporter": "python",
   "pygments_lexer": "ipython3",
   "version": "3.10.9"
  }
 },
 "nbformat": 4,
 "nbformat_minor": 5
}
