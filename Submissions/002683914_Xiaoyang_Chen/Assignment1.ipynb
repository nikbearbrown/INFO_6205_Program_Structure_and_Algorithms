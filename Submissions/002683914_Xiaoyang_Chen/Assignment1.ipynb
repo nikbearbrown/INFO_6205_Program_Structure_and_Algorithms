{
 "cells": [
  {
   "cell_type": "markdown",
   "id": "c68443c2",
   "metadata": {},
   "source": [
    "# INFO 6205 – Program Structure and Algorithms Worked Assignment 1"
   ]
  },
  {
   "cell_type": "markdown",
   "id": "a9323afd",
   "metadata": {},
   "source": [
    "Student Name:**Xiaoyang Chen**               \n",
    "Professor: **Nik Bear Brown**"
   ]
  },
  {
   "cell_type": "markdown",
   "id": "b03b8372",
   "metadata": {},
   "source": [
    "## Q1 (10 Points) \n",
    "Arrange the following functions in increasing order of growth\n",
    "• log^2(n)\n",
    "• 5n^2 + 3n\n",
    "• n^0.5 + 7\n",
    "• n log(n)\n",
    "• 3^n\n",
    "• 2n^3\n",
    "• n^2 log(n)"
   ]
  },
  {
   "cell_type": "markdown",
   "id": "37bfe5f9",
   "metadata": {},
   "source": [
    "Solution:        \n",
    "1、n^0.5 + 7     \n",
    "2、log^2(n)     \n",
    "3、n log(n)   \n",
    "4、5n^2 + 3n   \n",
    "5、n^2 log(n)      \n",
    "6、2n^3    \n",
    "7、3^n"
   ]
  },
  {
   "cell_type": "markdown",
   "id": "2dbbcb60",
   "metadata": {},
   "source": [
    "Explain:    \n",
    "1、n^0.5 + 7   \n",
    "For large n, the constant part has little effect on the overall growth, so it is mostly a square root growth.\n",
    "\n",
    "2、log^2(n)     \n",
    "For large values of n, the square of the logarithmic function will grow faster than the single logarithmic function, but still slower than linear, polynomial, and exponential functions.\n",
    "\n",
    "3、n log(n)\n",
    "When n is large, linear logarithmic functions are faster than linear functions but slower than polynomial functions.\n",
    "\n",
    "4、5n^2 + 3n\n",
    "The quadratic part dominates the growth, so it grows as n squared.\n",
    "\n",
    "5、n^2 log(n)\n",
    "This is faster than n^2 but slower than n^3. Its growth is dominated by the n^2 part, but log(n) makes it grow slightly faster.\n",
    "\n",
    "6、2n^3\n",
    "\n",
    "7、3^n\n",
    "The exponential function grows very fast, far exceeding all the polynomial functions above."
   ]
  },
  {
   "cell_type": "markdown",
   "id": "f4fedfd6",
   "metadata": {},
   "source": [
    "## Q2 (10 Points)\n",
    "Proposition 1:If f(n)=O(g(n)) and g(n)=O(h(n)),then f(n)=O(h(n)).        \n",
    "Proposition 2:If f(n)=O(g(n)+h(n)),then f(n)=O(g(n)) or f(n)=O(h(n))    \n",
    "Proposition 3:If f(n)is a polynomial function and g(n) is an exponential function,then f(n)=o(g(n))."
   ]
  },
  {
   "cell_type": "markdown",
   "id": "a7b03a65",
   "metadata": {},
   "source": [
    "Answer:      \n",
    "1、Counter proof：\n",
    "If f(n)=O(g(n)), then there exists a constant C1 such that f(n)≤C1*g(n) for sufficiently large n.\n",
    "If g(n)=O(h(n)), then there exists a constant C2 such that g(n)≤C2*h(n).\n",
    "Combining the two inequalities, we get f(n)≤C1*C2*×h(n), thus f(n)=O(h(n)).\n",
    "\n",
    "2、Counter proof：\n",
    "Let f(n)=2n, g(n)=n, and h(n)=n.\n",
    "Clearly, f(n)=2n is O(n+n), but f(n)=2n is neither an upper bound of O(n) nor lower bound of O(n).\n",
    "\n",
    "3、Let f(n)=n^k where k is any positive constant.\n",
    "   Let g(n)=a^n where a is a constant greater than 1.\n",
    "For any polynomial f(n), its growth rate is always surpassed by the corresponding exponential function g(n). That is, f(n)<g(n) for sufficiently large n.\n",
    "Therefore, f(n)=o(g(n))."
   ]
  },
  {
   "cell_type": "markdown",
   "id": "97c53cf2",
   "metadata": {},
   "source": [
    "## Q3 (10 Points)\n",
    "In a massive multiplayer online role-playing game, players often form teams for cooperative missions. Suppose there are n players and m tasks, where n>m. Each mission requires a specific player skill set to complete. Each player has a set of skills, but they may not be good at all tasks. In addition, each player has a preference list for tasks based on the rewards they wish to receive. Missions also have a list of player preferences based on the skills required to complete the mission.\n",
    "\n",
    "Question: How to assign a player to each task so that as many tasks as possible are completed by the appropriate player, taking into account player and task preferences?"
   ]
  },
  {
   "cell_type": "markdown",
   "id": "ef115d7b",
   "metadata": {},
   "source": [
    "Solution：         \n",
    "The solution to this problem is different from the Gale-Shapley algorithm, because we are not only looking for stable matching, but also consider both aspects of skill matching and preference. Furthermore, we are also more concerned with maximizing the number of completed tasks than just finding stable matches.\n",
    "\n",
    "\n",
    "The algorithm terminates in O(mnlog(n)).The algorithm is as follows:"
   ]
  },
  {
   "cell_type": "code",
   "execution_count": null,
   "id": "b80a7aa6",
   "metadata": {},
   "outputs": [],
   "source": [
    "function assignPlayersToTasks(players, tasks):\n",
    "    unassignedTasks = []\n",
    "    for task in tasks:\n",
    "        suitablePlayers = findPlayersWithRequiredSkills(task, players)\n",
    "        if suitablePlayers is empty:\n",
    "            unassignedTasks.append(task)\n",
    "            continue\n",
    "        sortedPlayers = sortPlayersByPreference(suitablePlayers, task)\n",
    "        assignPlayerToTask(sortedPlayers[0], task)\n",
    "\n",
    "    for task in unassignedTasks:\n",
    "        alternativePlayers = findPlayersWithoutRequiredSkills(task, players)\n",
    "        if alternativePlayers is not empty:\n",
    "            sortedPlayers = sortPlayersByPreference(alternativePlayers, task)\n",
    "            assignPlayerToTask(sortedPlayers[0], task)\n",
    "\n",
    "function findPlayersWithRequiredSkills(task, players):\n",
    "    suitablePlayers = []\n",
    "    for player in players:\n",
    "        if player has all skills required by task:\n",
    "            suitablePlayers.append(player)\n",
    "    return suitablePlayers\n",
    "\n",
    "function sortPlayersByPreference(suitablePlayers, task):\n",
    "    return players sorted by:\n",
    "        1. Player's preference for the task\n",
    "        2. Task's preference for the player's skills\n"
   ]
  },
  {
   "cell_type": "markdown",
   "id": "b6e25f9a",
   "metadata": {},
   "source": [
    "## Q4 (10 Points)\n",
    "One algorithm requires 10log3(n) microseconds, and another algorithm requires n^(1/3) microseconds. Which one is asymptotically faster? What is the cross-over value of n?\n",
    "\n",
    "Solution:\n",
    "The first algorithm is asymptotically faster than the second.\n",
    "The order of growth of 10log3(n) is less than the order of growth of n^(1/3)\n",
    "Crossover point of n is when 10log3(n)=n^(1/3)."
   ]
  },
  {
   "cell_type": "markdown",
   "id": "a15955db",
   "metadata": {},
   "source": [
    "## Q5（10 Points）\n",
    "A tower is built using a sequence of cubic blocks. The total number of blocks used to build each level is the product of the number of blocks used to build the current level and the level just below it. Suppose for validation, each level has a total number of blocks that is bounded by constant d, and the tower will comprise at most m blocks. Demonstrate how to construct such a tower with blocks which have height g(m), for a function g(m) that escalates as slowly as possible."
   ]
  },
  {
   "cell_type": "markdown",
   "id": "3f8c27d0",
   "metadata": {},
   "source": [
    "Suppose to accumulate m blocks, we require L levels. We document the process as follows:"
   ]
  },
  {
   "cell_type": "code",
   "execution_count": null,
   "id": "9503cd60",
   "metadata": {},
   "outputs": [],
   "source": [
    "Level 1 = <no of blocks for this>\n",
    "Level 2 = <no of blocks for this level>\n",
    "...\n",
    "Level L = <no of blocks for this level>\n",
    "\n",
    "For i = 1,2,..L\n",
    "    For j = 1,2,...i\n",
    "        Multiply blocks j through L\n",
    "    Endfor\n",
    "Endfor"
   ]
  },
  {
   "cell_type": "markdown",
   "id": "1d87372c",
   "metadata": {},
   "source": [
    "The nested For loops have a span bounded by constant d1. Hence, the significant space in the documentation is consumed by the number of blocks on the level. Each of these levels in the documentation has a span at most d2(where d2 is the maximum number of blocks d for a level plus the space to add a new block). Therefore, in total, the space necessitated by the documentation D=d1+(d2∗L).\n",
    "\n",
    "Recall that m symbolizes the number of blocks needed to erect the tower, m is at least \n",
    "1∗2∗....∗L=L!. This leads us to L!≤m, which gives us an estimate on L.\n",
    "\n",
    "Plugging this into our limit on the span of the documentation, we derive g(m)=D≤d1+d2\n",
    "∗L=O(L). Given the factorial relationship, the slowest growth would be closer to logarithmic, but it's more complex to precisely determine without further context."
   ]
  },
  {
   "cell_type": "markdown",
   "id": "445970de",
   "metadata": {},
   "source": [
    "## Q6 (5 Points）\n",
    "One algorithm takes log4(n) seconds and another algorithm requires n^(1/4) seconds. Which one grows asymptotically faster? In other words, which one grows faster as \n",
    "n becomes larger? What is the cross-over value of n? (The point where the two time complexities intersect)?"
   ]
  },
  {
   "attachments": {
    "%E5%BE%AE%E4%BF%A1%E5%9B%BE%E7%89%87_20230922204528.png": {
     "image/png": "[encoded data removed]"
    }
   },
   "cell_type": "markdown",
   "id": "ecb65cdf",
   "metadata": {},
   "source": [
    "log4(n) grows logarithmically, which means it will grow slower than any polynomial function of n (including n^(1/4)).\n",
    "n^(1/4) grows as the cube root of n, which means it will grow faster than log 4(n) but slower than linear growth.\n",
    "So, Algorithm B that takes n^(1/4) seconds grows faster asymptotically than Algorithm A that takes log4(n) seconds.\n",
    "![%E5%BE%AE%E4%BF%A1%E5%9B%BE%E7%89%87_20230922204528.png](attachment:%E5%BE%AE%E4%BF%A1%E5%9B%BE%E7%89%87_20230922204528.png)"
   ]
  },
  {
   "cell_type": "markdown",
   "id": "c2b07404",
   "metadata": {},
   "source": [
    "x = 256           \n",
    "The order of growth of log4(n) is less (slower) than the order of growth of n^(1/4)\n",
    "Crossover point of n is 256."
   ]
  },
  {
   "cell_type": "markdown",
   "id": "f3f436bb",
   "metadata": {},
   "source": [
    "## Q7 (10 Points）         \n",
    "In a town of artists, every artist has a preference list of galleries where they'd like to display their artwork. Consider a scenario where Gallery X ranks Artist Y as its top choice and Artist Y ranks Gallery X as its top choice. If we try to create a stable matching between artists and galleries, will Artist Y and Gallery X always be matched together? State your reasoning or provide a counterexample.\n"
   ]
  },
  {
   "cell_type": "markdown",
   "id": "869d1cee",
   "metadata": {},
   "source": [
    "Statement: Yes.\n",
    "\n",
    "Explanation: In the context of the Stable Matching problem, if Gallery X ranks Artist Y as its top choice and Artist Y ranks Gallery X as its top choice, then in any stable matching, Artist Y and Gallery X must be matched together. If they weren't paired in some proposed stable matching, it implies that either Artist Y is displaying at another gallery or Gallery X is hosting another artist (or both). Given their mutual top preferences for each other, they would prefer to be matched together over their current matches. This forms a blocking pair, contradicting the definition of a stable matching. Hence, for a matching to be stable, Artist Y and Gallery X must be paired together."
   ]
  },
  {
   "cell_type": "markdown",
   "id": "b12d39f3",
   "metadata": {},
   "source": [
    "## Q8 （10 Points）      \n",
    "Two competing research institutions, Lab Alpha and Lab Beta, are involved in various research projects. Each lab has several scientists with specific expertise. Each research project requires expertise in one particular field, and each scientist can only be assigned to one project.\n",
    "\n",
    "Each scientist has a proficiency score for each project based on their expertise and previous work. A project is considered successful if the assigned scientist from Lab Alpha has a higher proficiency score for that project than the scientist from Lab Beta, and vice versa. Both labs aim to have as many successful projects as possible.\n",
    "\n",
    "Let's suppose in the initial planning phase, Lab Alpha chooses a strategy P (scientists to projects) and Lab Beta chooses a strategy Q. The pair (P,Q) is stable if neither lab can change its strategy unilaterally to have more successful projects. That means there isn't a strategy P for Lab Alpha such that they would have more successful projects with (P ,Q), and there isn't a strategy Q for Lab Beta such that they would have more successful projects with (P,Q).\n",
    "\n",
    "Given the set of scientists and their proficiency scores for each project, is there always a stable pair of strategies?"
   ]
  },
  {
   "cell_type": "markdown",
   "id": "c0bc2a14",
   "metadata": {},
   "source": [
    "False\n",
    "\n",
    "Counterexample for Stable Laboratory Assignments:\n",
    "\n",
    "Consider two projects: Project 1 and Project 2. Let's have two scientists from each lab:\n",
    "\n",
    "For Lab Alpha:             \n",
    "Scientist A1 has proficiency scores of 5 for Project 1 and 6 for Project 2.             \n",
    "Scientist A2 has proficiency scores of 7 for Project 1 and 4 for Project 2.           \n",
    "                 \n",
    "For Lab Beta:            \n",
    "Scientist B1 has proficiency scores of 6 for Project 1 and 5 for Project 2.          \n",
    "Scientist B2 has proficiency scores of 8 for Project 1 and 3 for Project 2.          \n",
    "\n",
    "Now, consider the initial strategies:         \n",
    "P: A1 -> Project 1, A2 -> Project 2          \n",
    "Q: B1 -> Project 1, B2 -> Project 2          \n",
    "\n",
    "Using these strategies, Lab Beta wins both projects. However, Lab Alpha can change its strategy by assigning A2 to Project 1 and A1 to Project 2, and they would win Project 1. When they do this, Lab Beta could switch B1 and B2, making them win both projects again. This can keep going in circles without arriving at a stable assignment.\n",
    "\n",
    "Thus, there isn't always a guaranteed stable pair of strategies for the given problem."
   ]
  },
  {
   "cell_type": "markdown",
   "id": "5ded01c4",
   "metadata": {},
   "source": [
    "## Q9 （25 Points）\n",
    "A large university library is introducing a study-group matching system. The library has several study rooms available for booking, and students form groups for collaborative learning. However, the library has noted that many groups tend to shift rooms, leading to logistical challenges.\n",
    "\n",
    "To address this, they decide to use the Gale-Shapley matching algorithm. Each study group will rank their preferred rooms based on factors like lighting, room size, proximity to resources, etc. Each room has a \"personality\" based on its attributes, and room managers will rank study groups based on the kind of group activity (quiet discussion, multimedia presentations, etc.).\n",
    "\n",
    "A study group-room match is stable if:\n",
    "\n",
    "No study group and room both prefer each other over their current assignments.           \n",
    "No study group remains without a room.           \n",
    "Students, library staff, and faculty will be asked to provide input to create these rankings, ensuring that each study group is matched with a room that best fits their needs."
   ]
  },
  {
   "cell_type": "markdown",
   "id": "7dab72dd",
   "metadata": {},
   "source": [
    "### A\n",
    "Modify an existing Gale-Shapley implementation in python to build stable maching for assgining the roommates       \n",
    "\n",
    "### Solution:\n"
   ]
  },
  {
   "cell_type": "code",
   "execution_count": null,
   "id": "ac4fb5ee",
   "metadata": {},
   "outputs": [],
   "source": [
    "def gale_shapley_study_groups(study_groups_prefs, study_rooms_prefs):\n",
    "    # Initialize the unmatched study groups and their current proposals\n",
    "    unmatched_study_groups = list(study_groups_prefs.keys())\n",
    "    proposals = {}\n",
    "\n",
    "    # Each study room is initially available\n",
    "    room_matches = {room: None for room in study_rooms_prefs}\n",
    "\n",
    "    while unmatched_study_groups:\n",
    "        study_group = unmatched_study_groups.pop(0)\n",
    "        study_group_prefs = study_groups_prefs[study_group]\n",
    "\n",
    "        # Propose to the first preferred room not yet proposed to\n",
    "        for room in study_group_prefs:\n",
    "            if room not in proposals.get(study_group, []):\n",
    "                if room_matches[room] is None:\n",
    "                    # The room is free, match the study group\n",
    "                    room_matches[room] = study_group\n",
    "                    proposals[study_group] = proposals.get(study_group, []) + [room]\n",
    "                    break\n",
    "                else:\n",
    "                    current_study_group = room_matches[room]\n",
    "                    if study_rooms_prefs[room].index(study_group) < study_rooms_prefs[room].index(current_study_group):\n",
    "                        # The room prefers the new study group\n",
    "                        room_matches[room] = study_group\n",
    "                        proposals[study_group] = proposals.get(study_group, []) + [room]\n",
    "                        unmatched_study_groups.append(current_study_group)\n",
    "                        break\n",
    "                    else:\n",
    "                        # Continue with the next preference\n",
    "                        proposals[study_group] = proposals.get(study_group, []) + [room]\n",
    "\n",
    "    return room_matches\n",
    "\n",
    "# Example usage:\n",
    "\n",
    "study_groups_prefs = {\n",
    "    'GroupA': ['Room1', 'Room2', 'Room3'],\n",
    "    'GroupB': ['Room2', 'Room3', 'Room1'],\n",
    "    'GroupC': ['Room3', 'Room1', 'Room2']\n",
    "}\n",
    "\n",
    "study_rooms_prefs = {\n",
    "    'Room1': ['GroupA', 'GroupB', 'GroupC'],\n",
    "    'Room2': ['GroupB', 'GroupA', 'GroupC'],\n",
    "    'Room3': ['GroupC', 'GroupA', 'GroupB']\n",
    "}\n",
    "\n",
    "matches = gale_shapley_study_groups(study_groups_prefs, study_rooms_prefs)\n",
    "print(matches)\n"
   ]
  },
  {
   "cell_type": "markdown",
   "id": "3e23bcaa",
   "metadata": {},
   "source": [
    "### B\n",
    "suppose that instead of a simple ranked preference list, each study room and study group assigns weights to their preferences. The weight reflects how suitable or ideal a match is.\n",
    "\n",
    "For instance, a study group might assign a weight of 0.9 to a particular room indicating a strong preference, whereas a weight of 0.2 indicates a weak preference. Similarly, study rooms would assign weights to study groups."
   ]
  },
  {
   "cell_type": "markdown",
   "id": "8fcec67b",
   "metadata": {},
   "source": [
    "### Solution:        \n",
    "Start with the Gale-Shapley algorithm but use weights instead of rankings to establish initial matches.       \n",
    "Check for stability. If stable, calculate the total weight.        \n",
    "If not stable, adjust the rankings based on weights and re-run the Gale-Shapley algorithm.      \n",
    "Repeat the above steps iteratively until a stable match with a high total weight is found.      "
   ]
  },
  {
   "cell_type": "code",
   "execution_count": null,
   "id": "4849ff14",
   "metadata": {},
   "outputs": [],
   "source": [
    "import random\n",
    "\n",
    "def gale_shapley_weighted(study_groups_prefs, study_rooms_prefs):\n",
    "    unmatched_study_groups = list(study_groups_prefs.keys())\n",
    "    proposals = {}\n",
    "    room_matches = {room: None for room in study_rooms_prefs}\n",
    "\n",
    "    while unmatched_study_groups:\n",
    "        study_group = unmatched_study_groups.pop(0)\n",
    "        study_group_prefs = sorted(study_groups_prefs[study_group].items(), key=lambda x: x[1], reverse=True)\n",
    "        for room, _ in study_group_prefs:\n",
    "            if room not in proposals.get(study_group, []):\n",
    "                if room_matches[room] is None:\n",
    "                    room_matches[room] = study_group\n",
    "                    proposals[study_group] = proposals.get(study_group, []) + [room]\n",
    "                    break\n",
    "                else:\n",
    "                    current_study_group = room_matches[room]\n",
    "                    if study_rooms_prefs[room][study_group] > study_rooms_prefs[room][current_study_group]:\n",
    "                        room_matches[room] = study_group\n",
    "                        proposals[study_group] = proposals.get(study_group, []) + [room]\n",
    "                        unmatched_study_groups.append(current_study_group)\n",
    "                        break\n",
    "                    else:\n",
    "                        proposals[study_group] = proposals.get(study_group, []) + [room]\n",
    "    return room_matches\n",
    "\n",
    "def total_weight(matches, study_groups_prefs, study_rooms_prefs):\n",
    "    weight = 0\n",
    "    for room, study_group in matches.items():\n",
    "        weight += study_groups_prefs[study_group][room] + study_rooms_prefs[room][study_group]\n",
    "    return weight\n",
    "\n",
    "study_groups_prefs = {\n",
    "    'GroupA': {'Room1': 0.9, 'Room2': 0.5, 'Room3': 0.4},\n",
    "    'GroupB': {'Room2': 0.8, 'Room3': 0.7, 'Room1': 0.4},\n",
    "    'GroupC': {'Room3': 0.9, 'Room1': 0.6, 'Room2': 0.5}\n",
    "}\n",
    "\n",
    "study_rooms_prefs = {\n",
    "    'Room1': {'GroupA': 0.9, 'GroupB': 0.5, 'GroupC': 0.7},\n",
    "    'Room2': {'GroupB': 0.7, 'GroupA': 0.5, 'GroupC': 0.6},\n",
    "    'Room3': {'GroupC': 0.8, 'GroupA': 0.4, 'GroupB': 0.7}\n",
    "}\n",
    "\n",
    "max_weight = 0\n",
    "best_match = None\n",
    "\n",
    "# Iterative process\n",
    "for _ in range(1000): # You can adjust the number of iterations\n",
    "    matches = gale_shapley_weighted(study_groups_prefs, study_rooms_prefs)\n",
    "    weight = total_weight(matches, study_groups_prefs, study_rooms_prefs)\n",
    "    \n",
    "    if weight > max_weight:\n",
    "        max_weight = weight\n",
    "        best_match = matches\n",
    "    \n",
    "    # Randomly shuffle the preferences to potentially find better matches\n",
    "    for prefs in [study_groups_prefs, study_rooms_prefs]:\n",
    "        for entity in prefs:\n",
    "            items = list(prefs[entity].items())\n",
    "            random.shuffle(items)\n",
    "            prefs[entity] = dict(items)\n",
    "\n",
    "print(\"Best Match:\", best_match)\n",
    "print(\"Max Weight:\", max_weight)\n"
   ]
  },
  {
   "cell_type": "markdown",
   "id": "2c8bff13",
   "metadata": {},
   "source": [
    "### C       \n",
    "Double the size of the lists preferences and measure the amount of time it takes to create stable matches. How fast does the execution time grow in relation to the size of the lists?\n",
    "\n",
    "### Solution:          \n",
    "Given the initial assumption:\n",
    "\n",
    "There are n+1 students.\n",
    "Each student has a preference list of length n.\n",
    "So, the algorithm's time complexity is O((n+1)×n)=O(n^2).\n",
    "\n",
    "Now, when the preference list doubles to 2n:\n",
    "The number of students becomes 2(n+1).\n",
    "Each student has a preference list of length 2n.\n",
    "The algorithm's time complexity would be O((2(n+1))×2n)=O(4n^2+4n)=O(n^2) because we drop constant factors and lower-order terms for Big-O notation.\n",
    "Therefore, despite the doubling of the preference list and student number, the algorithm's time complexity remains \n",
    "O(n^2) in both scenarios."
   ]
  },
  {
   "cell_type": "code",
   "execution_count": null,
   "id": "149351f8",
   "metadata": {},
   "outputs": [],
   "source": []
  }
 ],
 "metadata": {
  "kernelspec": {
   "display_name": "Python 3 (ipykernel)",
   "language": "python",
   "name": "python3"
  },
  "language_info": {
   "codemirror_mode": {
    "name": "ipython",
    "version": 3
   },
   "file_extension": ".py",
   "mimetype": "text/x-python",
   "name": "python",
   "nbconvert_exporter": "python",
   "pygments_lexer": "ipython3",
   "version": "3.9.13"
  }
 },
 "nbformat": 4,
 "nbformat_minor": 5
}
