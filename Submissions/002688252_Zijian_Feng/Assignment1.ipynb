{
 "cells": [
  {
   "cell_type": "markdown",
   "metadata": {},
   "source": [
    "# Assignment 1\n",
    "- Student Name:Zijian Feng\n",
    "- NUID:002688252\n",
    "- Professor: Nik Bear Brown"
   ]
  },
  {
   "cell_type": "markdown",
   "metadata": {},
   "source": [
    "## Q1 Arrange the following functions in increasing order of growth:\n",
    "- log(log(10n))\n",
    "- 0.8^n\n",
    "- n!\n",
    "- n^2+n+101\n",
    "- n+10\n",
    "- log(100n+101)\n",
    "- 10^n+2000"
   ]
  },
  {
   "cell_type": "markdown",
   "metadata": {},
   "source": [
    "## Solution:\n",
    "1. 0.8^n  \n",
    "As n tends to infinity, the expression tends to a constant  \n",
    "2. log(log(10n))  \n",
    "This is the logarithm of log(logarithmic) in log(logarithmic), which grows very slowly.  \n",
    "3. log(100n+10)  \n",
    "Logarithmic time complexity: although it contains a linear term, the lower terms and constant factors are usually ignored in large O representations, so this is still logarithmic level time complexity.  \n",
    "4. n+10\n",
    "The growth rate is linear.  \n",
    "5. n^2+n+101  \n",
    "This is quadratic time complexity because the main growth term is n^2. Despite the fact that there is a linear term, the main focus is on the highest-order term in the big-O representation.  \n",
    "6. 10^n+2000  \n",
    "Exponential time complexity.When n grows, this is a very fast exponential growth.  \n",
    "7. n!  \n",
    "Factorial Time Complexity: this is the highest time complexity because it grows very fast, as n increases, the execution time grows at a factorial level, much faster than the other functions.  "
   ]
  },
  {
   "cell_type": "markdown",
   "metadata": {},
   "source": [
    "## Q2\n",
    "Assume that the function f and g such that f(n) is O(g(n)). Please judge the following statements are true or false.\n",
    "- $f(n)=θ(f(n/2)$\n",
    "- $f(n)=O(f(\\sqrt[3]{n}))$\n",
    "- If f(n) is a linear function and g(n) is an exponential function,then f(n) = O(g(n))."
   ]
  },
  {
   "cell_type": "markdown",
   "metadata": {},
   "source": [
    "## Solution\n",
    "- Proof:\n",
    "    - f(n) = O(log(2n));\n",
    "    - f(n/2) = O(log2(n/2)) = O(log(2n)-1); \n",
    "    - So we can suppose f(n)=θ(f(n/2)\n",
    "- Counter proof:$f(n) = n = O(n) ≠O(\\sqrt[3]{n})$\n",
    "- Proof:\n",
    "    - Since f(n) is a linear function, so we assume f(n)=n+10\n",
    "    - Since g(n) is an exponential function, so we assume g(n)=10^n+2000\n",
    "    - From quetsion 1 we have already know that when n grows very large, f(n)<g(n). Therefore f(n)=O(g(n))."
   ]
  },
  {
   "cell_type": "markdown",
   "metadata": {},
   "source": [
    "## Q3\n",
    "Since graduate students are not assigned a dormitory, they need to find an apartment to rent and select their roommates by themselves. Assuming that we have a `students` list and their `preference` list. How should we make roommate assignments so that they are all as satisfied as possible.\n",
    "The assignment of roommate is stable if following situation don't arise:\n",
    "- student already has a roommate,but he is more prefer the current candidate and the current candidate is free\n"
   ]
  },
  {
   "cell_type": "markdown",
   "metadata": {},
   "source": [
    "## Solution:\n",
    "We iterate through each student in the student list and try to assign roommates in their preference order. If the student is free, we can assign him to the student. If the current student already has a roommate but prefers a new roommate to the current one, then change the roommate. We can use the following pseudocode to simulate this process.\n",
    "\n",
    "    for student in students:  \n",
    "        for preferred_roommate in preferences:  \n",
    "            if preferred_roommate is free  \n",
    "                assign preferred_roommate to student  \n",
    "                break\n",
    "            else  \n",
    "                if current_roommate's rating < preferred_roommate:\n",
    "                    change roommate\n",
    "                else:\n",
    "                    continue\n",
    "\n",
    "\n"
   ]
  },
  {
   "cell_type": "markdown",
   "metadata": {},
   "source": [
    "## Q4\n",
    "One algorithm requires $\\sqrt[3]{n}$ microseconds and another algorithm requires 8log(n) microseconds.Which one is asymptotically faster? What is the cross-over value of n?"
   ]
  },
  {
   "cell_type": "markdown",
   "metadata": {},
   "source": [
    "## Solution:\n",
    "The first algorithm is faster.The following program calculate the cross-over point."
   ]
  },
  {
   "cell_type": "code",
   "execution_count": 8,
   "metadata": {
    "ExecuteTime": {
     "end_time": "2023-09-22T21:07:11.029568Z",
     "start_time": "2023-09-22T21:07:10.666093Z"
    }
   },
   "outputs": [
    {
     "name": "stdout",
     "output_type": "stream",
     "text": [
      "The crossover point is : 1465239\n"
     ]
    }
   ],
   "source": [
    "import math\n",
    "def find_intersection():\n",
    "    n = 2\n",
    "    while True:\n",
    "        if 8*math.log(n) <= n**(1/3):\n",
    "            return n\n",
    "        n += 1\n",
    "crossover_point = find_intersection()\n",
    "print(\"The crossover point is :\", crossover_point)"
   ]
  },
  {
   "cell_type": "markdown",
   "metadata": {},
   "source": [
    "## Q5\n",
    "Given `n` items, each item has a weight and a value. There is also a backpack that can carry items of weight `m`. The goal is to select items to put into the backpack without exceeding their weight. The goal is to maximize the total value of the items in the backpack by selecting a number of items to be placed in the backpack without exceeding the weight of the backpack. Assume that there are an infinite number of each item. If the function is f(n),what is the O(f(n))?"
   ]
  },
  {
   "cell_type": "markdown",
   "metadata": {},
   "source": [
    "## Solution:\n",
    "    item_1 = w1  \n",
    "    item_2 = w2  \n",
    "    item_3 = w3  \n",
    "    ...  \n",
    "    item_n = wn  \n",
    "\n",
    "    dp = [[0] * (m + 1) for _ in range(n + 1)] \n",
    "    for i = 1,,2,3...n+1:  \n",
    "        for j = 0,1,2,3...m+1:  \n",
    "            for k*mi <= j:  \n",
    "                dp[i][j] = max(dp[i][j],dp[i-1][j-k*vi]+k*wi]  \n",
    "    print(\"The answer is:\" dp[n][m])\n",
    "The first loop has length bounded by n,and the second loop has length bounded by m.The third loop relatives with the second loop and in the worst case has length bounded by m. So the O(f(n)) is $O(n\\times m \\times m)$."
   ]
  },
  {
   "cell_type": "markdown",
   "metadata": {},
   "source": [
    "## Q6\n",
    "One algorithm requires log3 (n) seconds and another algorithm requires $\\sqrt[3]{n}$ seconds. Which one grows\n",
    "asymptotically slower? That is, which grows slower as n gets large? What is the cross-over value of n? (The\n",
    "value at which the curves intersect)?"
   ]
  },
  {
   "cell_type": "markdown",
   "metadata": {},
   "source": [
    "## Solution:\n",
    "We can plot the graph to find out which grow faster and calculate the crossover point."
   ]
  },
  {
   "cell_type": "code",
   "execution_count": 9,
   "metadata": {},
   "outputs": [
    {
     "data": {
      "image/png": "[encoded data removed]",
      "text/plain": [
       "<Figure size 1000x600 with 1 Axes>"
      ]
     },
     "metadata": {},
     "output_type": "display_data"
    }
   ],
   "source": [
    "import matplotlib.pyplot as plt\n",
    "import numpy as np\n",
    "\n",
    "x = np.arange(1, 101)\n",
    "\n",
    "y1 = np.power(x, 1/3)\n",
    "y2 = np.log(x) / np.log(3)\n",
    "\n",
    "plt.figure(figsize=(10, 6))\n",
    "\n",
    "plt.plot(x, y1, label='n^(1/3)', color='red')\n",
    "\n",
    "\n",
    "plt.plot(x, y2, label='log3(n)', color='blue')\n",
    "\n",
    "plt.legend()\n",
    "\n",
    "plt.title('n^(1/3) vs. log3(n)')\n",
    "plt.xlabel('n')\n",
    "plt.ylabel('Value')\n",
    "\n",
    "plt.grid(True)\n",
    "plt.show()\n"
   ]
  },
  {
   "cell_type": "markdown",
   "metadata": {},
   "source": [
    "log3(n) is slower when n gets larger."
   ]
  },
  {
   "cell_type": "code",
   "execution_count": 11,
   "metadata": {},
   "outputs": [
    {
     "name": "stdout",
     "output_type": "stream",
     "text": [
      "The crossover point is approximately 15.2171\n"
     ]
    }
   ],
   "source": [
    "from scipy.optimize import fsolve\n",
    "import numpy as np\n",
    "\n",
    "def equation(x):\n",
    "    return np.log(x) / np.log(3) - x**(1/3)\n",
    "\n",
    "initial_guess = 2.0 \n",
    "\n",
    "result = fsolve(equation, initial_guess)\n",
    "\n",
    "print(f\"The crossover point is approximately {result[0]:.4f}\")\n"
   ]
  },
  {
   "cell_type": "markdown",
   "metadata": {},
   "source": [
    "## Q7\n",
    "For selecting the roommates. If student A is ranked first in the preference list of student B and B is also ranked first in the preference list of student A. Whether pair(A,B) is stable matching for all matches."
   ]
  },
  {
   "cell_type": "markdown",
   "metadata": {},
   "source": [
    "## Solution:\n",
    "Pair(A,B) is stable matching for all matches. If we have another pair (A,C) instead of (A,B),which means A prefer C to B. But B is ranked first in the preference list of A. So (A,B) is a stable matching."
   ]
  },
  {
   "cell_type": "markdown",
   "metadata": {},
   "source": [
    "## Q8\n",
    "In the context of horse races in Hong Kong, where each owner selects three horses and the goal is to win at least two out of three races to secure all the chips, we consider different strategies employed by owners. Let's denote one owner's strategy as 'S' and another owner's strategy as 'T'. \n",
    "\n",
    "We say that the pair (S, T) is stable if either team can unilaterally change their schedule and win more races. If there is no strategy S' that allows team X to win more games in the pair (S', T), symmetrically, there is no strategy T' that allows team Y to win more games in the pair (S, T') than in the pair (S, T). Then we can claim that (S,T) is stable.  \n",
    "\n",
    "Is there have a stable pair in horse racing？"
   ]
  },
  {
   "cell_type": "markdown",
   "metadata": {},
   "source": [
    "## Solution：\n",
    "- Let's assume that Boss A has three horses and their ratings are 70, 80, 90.\n",
    "- We also assume that Boss B has three horses with ratings of 65, 75, 85.\n",
    "- Assuming that Boss A's strategy is (70,65),(80,75),(90,85), then the current Boss A can win. \n",
    "- But if Boss B changes his strategy to (70,75),(80,85),(90,65), then Boss B can win. \n",
    "- Therefore there is no stable pair."
   ]
  },
  {
   "cell_type": "markdown",
   "metadata": {},
   "source": [
    "## Q9\n",
    "Since graduate students are not assigned a dormitory, they need to find an apartment to rent and select their roommates by themselves. Assuming that we have a `students` list and their `preferences` list. How should we make roommate assignments so that they are all as satisfied as possible.\n",
    "The assignment of roommate is stable if following situation don't arise:\n",
    "- student already has a roommate,but he is more prefer the current candidate and the current candidate is free"
   ]
  },
  {
   "cell_type": "markdown",
   "metadata": {},
   "source": [
    "## A \n",
    "Modify an existing Gale-Shapley implementation in python to build stable maching for assgining the roommates."
   ]
  },
  {
   "cell_type": "markdown",
   "metadata": {},
   "source": [
    "## Solution:"
   ]
  },
  {
   "cell_type": "code",
   "execution_count": 20,
   "metadata": {},
   "outputs": [
    {
     "name": "stdout",
     "output_type": "stream",
     "text": [
      "Bob -> Alice\n",
      "Alice -> Bob\n",
      "Dave -> Charlie\n",
      "Charlie -> Dave\n"
     ]
    }
   ],
   "source": [
    "students = [\"Alice\", \"Bob\", \"Charlie\", \"Dave\"]\n",
    "preferences = {\n",
    "    \"Alice\": [\"Bob\", \"Charlie\", \"Dave\"],\n",
    "    \"Bob\": [\"Alice\", \"Dave\", \"Charlie\"],\n",
    "    \"Charlie\": [\"Bob\", \"Dave\", \"Alice\"],\n",
    "    \"Dave\": [\"Charlie\", \"Bob\", \"Alice\"]\n",
    "}\n",
    "\n",
    "# Initialize roommate assignments\n",
    "roommates = {}\n",
    "\n",
    "# create a list to store the student current consider\n",
    "students_to_consider = students.copy()\n",
    "\n",
    "while students_to_consider:\n",
    "    current_student = students_to_consider.pop(0)\n",
    "    current_preference_list = preferences[current_student]\n",
    "\n",
    "    for preferred_roommate in current_preference_list:\n",
    "        # if preferred_roommate is free, the assign him to current student\n",
    "        if preferred_roommate not in roommates:\n",
    "            roommates[preferred_roommate] = current_student\n",
    "            break\n",
    "        else:\n",
    "            current_roommate = roommates[preferred_roommate]\n",
    "            # if student prefer the current roommate,we don't need to make any change\n",
    "            if preferences[preferred_roommate].index(current_roommate) < preferences[preferred_roommate].index(current_student):\n",
    "                continue\n",
    "            else:\n",
    "                # otherwise,change the roommate\n",
    "                roommates[preferred_roommate] = current_student\n",
    "                students_to_consider.append(current_roommate)\n",
    "\n",
    "# show the result\n",
    "for student, roommate in roommates.items():\n",
    "    print(f\"{student} -> {roommate}\")"
   ]
  },
  {
   "cell_type": "markdown",
   "metadata": {},
   "source": [
    "## B\n",
    "Suppose when a candidate is selected successfully, it has to be removed from the preferences list, is the current algorithm still a stable algorithm?"
   ]
  },
  {
   "cell_type": "markdown",
   "metadata": {},
   "source": [
    "## Solution:\n",
    "No.Because sometimes the eliminate candidates are asymmetrically."
   ]
  },
  {
   "cell_type": "markdown",
   "metadata": {},
   "source": [
    "## C\n",
    "Double the size of the lists preferences and measure the amount of time it takes to create stable matches. How fast does the execution time grow in relation to the size of the lists?"
   ]
  },
  {
   "cell_type": "markdown",
   "metadata": {},
   "source": [
    "## Solution:\n",
    "We assume the student number is n+1,so the preferences list length is n.The Algorithm is f(n) and the O(f(n)) is O((n+1)*n).When the preferencea list become to 2n which means the length of students also become to 2(n+1). We assume the new algorithem is g(n) and the O(g(n)) equals to f((2n+2)*(2n)). So both time complexity are O(n^2)."
   ]
  }
 ],
 "metadata": {
  "kernelspec": {
   "display_name": "Python 3 (ipykernel)",
   "language": "python",
   "name": "python3"
  },
  "language_info": {
   "codemirror_mode": {
    "name": "ipython",
    "version": 3
   },
   "file_extension": ".py",
   "mimetype": "text/x-python",
   "name": "python",
   "nbconvert_exporter": "python",
   "pygments_lexer": "ipython3",
   "version": "3.11.0"
  }
 },
 "nbformat": 4,
 "nbformat_minor": 1
}
