{
 "cells": [
  {
   "cell_type": "markdown",
   "id": "83668f8f-9515-46e3-95b3-f3d5a0d2ee1e",
   "metadata": {},
   "source": [
    "# Assignment 2"
   ]
  },
  {
   "cell_type": "markdown",
   "id": "31bc715c-011f-47db-8b9e-dc3788894d64",
   "metadata": {},
   "source": [
    "Q1  \n",
    "Use Kruskal's algorithm to find a minimum spanning tree for the connected weighted graph below:"
   ]
  },
  {
   "cell_type": "markdown",
   "id": "29416c63-1b92-45df-a180-12ea371138ae",
   "metadata": {},
   "source": [
    "![pic](pic1.jpg)\n"
   ]
  },
  {
   "cell_type": "raw",
   "id": "2b38aaff-3ec6-4370-882a-d72b5eaee2d3",
   "metadata": {},
   "source": [
    "Solution:  \n",
    "Kruskal's algorithm pseudocode:  \n",
    "Kruskal(G):\r\n",
    "    1. Initialize an empty minimum spanning tree (MST).\r\n",
    "    2. Sort all the edges in graph G in ascending order of their weights.\r\n",
    "    3. Initialize an empty disjoint-set data structure to track the connectivity of nodes.\r\n",
    "    4. For each edge (u, v) in the sorted order:\r\n",
    "        a. If the edge (u, v) does not form a cycle (i.e., u and v are not in the same connected component):\r\n",
    "            i. Add the edge (u, v) to MST.\r\n",
    "            ii. Merge the connected components containing u and v.\r\n",
    "   rn MST.\n",
    "Steps:\n",
    "1. connect A-C(1)\n",
    "2. connect C-D(1)\n",
    "3. connect A-B(2)\n",
    "4. connect C-F(2)\n",
    "5. connect D-E(2)\n",
    "6. MST formed, (5 edges 6 vertices)formed.\r\n"
   ]
  },
  {
   "cell_type": "markdown",
   "id": "2692ceff-a98e-43c1-ac75-cee696e4235f",
   "metadata": {},
   "source": [
    "![pic](1A.jpg)"
   ]
  },
  {
   "cell_type": "raw",
   "id": "e958b800-df8d-42e9-99ba-93b3f8040773",
   "metadata": {},
   "source": [
    "Kruskal's algorithm is O(E log V) time. Where E is the set of edges and V is the set of vertices"
   ]
  },
  {
   "cell_type": "markdown",
   "id": "b022be1a-c3ab-46fc-a2fe-9ef498cf9fe4",
   "metadata": {},
   "source": [
    "Q2  \n",
    "Use Prim's algorithm to find a minimum spanning tree for the connected weighted graph below:"
   ]
  },
  {
   "cell_type": "markdown",
   "id": "dd504ab4-ee45-44c2-8e7f-ab3bd9b294cc",
   "metadata": {},
   "source": [
    "![pic](pic1.jpg)"
   ]
  },
  {
   "cell_type": "raw",
   "id": "ee444c90-3297-4a9d-8eb4-ee65a7c76cac",
   "metadata": {},
   "source": [
    "Solution:  \n",
    "Prim's algorithm pseudocode: \n",
    "Prim(G, start_vertex):\n",
    "    1. Initialize an empty minimum spanning tree MST.\n",
    "    2. Initialize a priority queue (or a min-heap) Q to store candidate edges.\n",
    "    3. Add start_vertex to MST.\n",
    "    4. Add all edges (u, v) from start_vertex to its neighbors to Q.\n",
    "    5. While the number of nodes in MST is less than the total number of nodes in G, repeat:\n",
    "        a. Remove the edge (u, v) with the smallest weight from Q.\n",
    "        b. If vertex v is not in MST:\n",
    "            i. Add edge (u, v) to MST.\n",
    "            ii. Add all edges (v, w) from vertex v to its unvisited neighbors w to Q.\n",
    "    6. Return MST.\n",
    "\n",
    "Steps:\n",
    "1. Select A, MST={A}, Q={B,C,D,E,F}\n",
    "2. A-C has the shortest path, so select C, connect A-C, MST={A,C}, Q={B,D,E,F}\n",
    "3. C-D has the shortest path, so select D, connect C-D, MST={A,C,D}, Q={B,E,F}\n",
    "4. D-E has the shortest path, so select E, connect D-E, MST={A,C,D,E}, Q={B,E}\n",
    "5. C-F has the shortest path, so select F, connect C-F, MST={A,C,D,E,F}, Q={B}\n",
    "5. A-B has the shortest path, so select B, connect A-B, MST={A,C,D,E,F,B}, Q={}\n",
    "7. Done, return MST"
   ]
  },
  {
   "cell_type": "markdown",
   "id": "d4593432-f638-4883-9b1d-4b7ab325547b",
   "metadata": {},
   "source": [
    "![pic](1A.jpg)"
   ]
  },
  {
   "cell_type": "raw",
   "id": "ed6c2447-9c5b-48e7-b775-9c1e8eed18ec",
   "metadata": {},
   "source": [
    "When using simple data structure, the Prim's algorithm is O(V^2) time, where V is the number of vertices"
   ]
  },
  {
   "cell_type": "markdown",
   "id": "5c42a6ed-2708-4bea-b145-665f25fcd862",
   "metadata": {},
   "source": [
    "Q3  \n",
    "Given the DAG below, determine whether it can be topological sorted or not, give the pseudocode of topological sorted"
   ]
  },
  {
   "cell_type": "markdown",
   "id": "a10f1d90-3eb6-46d7-a54f-e07ca51181f4",
   "metadata": {},
   "source": [
    "![pic](pic2.jpg)"
   ]
  },
  {
   "cell_type": "raw",
   "id": "b70e21b3-a961-4f0f-b0e7-23524f0b931d",
   "metadata": {},
   "source": [
    "Solution:\n",
    "Yes, it can be topologically sorted, pseudocode:\n",
    "TopologicalSort(G):\n",
    "    1. Initialize an empty array result to store the topological ordering.\n",
    "    2. Create an empty queue or stack called queue to store nodes with in-degree 0.\n",
    "    3. Calculate the in-degree of each node and add nodes with in-degree 0 to the queue.\n",
    "    4. Enter the main loop until the queue is empty:\n",
    "        a. Dequeue a node u from the queue.\n",
    "        b. Add node u to the result.\n",
    "        c. Iterate through all neighboring nodes v of node u:\n",
    "            i. Decrease the in-degree of node v.\n",
    "            ii. If the in-degree of node v becomes 0, enqueue node v.\n",
    "    5. If the number of nodes in the result is equal to the number of nodes in graph G, the topological sort is successful, and return the result.\n",
    "    6. Otherwise, there is a cycle in graph G, and topological sorting is not possible.\n",
    "\n",
    "Steps:\n",
    "L= {}\n",
    "Remove A (no incoming edges) L= {A}\n",
    "Remove B (no incoming edges) L= {A, B}\n",
    "Remove C (no incoming edges) L= {A, B, C}\n",
    "Remove D (no incoming edges) L= {A, B, C, D}\n",
    "Remove E (no incoming edges) L= {A, B, C, D, E,}\n",
    "Remove F (no incoming edges) L= {A, B, C, D, E, F}\n",
    "Done"
   ]
  },
  {
   "cell_type": "markdown",
   "id": "29bb2784-b127-47bc-9c10-6bcbe3a539cd",
   "metadata": {},
   "source": [
    "Q4  \n",
    "For each of the following recurrences, give an expression for the runtime T(n) if the recurrence can be \n",
    "solved with the Master Theorem. Otherwise, indicate that the Master Theorem does not apply"
   ]
  },
  {
   "cell_type": "raw",
   "id": "b722512e-0297-49ab-8579-08f945eb092c",
   "metadata": {},
   "source": [
    "i. T(n) = 4T(n/2) + n^2\n",
    "ii. T(n) = 5T(n/3) + n^3\n",
    "iii. T(n) = 2T(n/4) + n\n",
    "iv. T(n) = 3nT(n/3) + n^2.5\n",
    "v. T(n) = n^2T(n/2) + n^1.5"
   ]
  },
  {
   "cell_type": "raw",
   "id": "c1b490b0-e5ac-4ca2-9b14-5ae34a06678f",
   "metadata": {},
   "source": [
    "Solution: \n",
    "i. T(n) = 4T(n/2) + n^2\n",
    "a = 4, b = 2, and f(n) = n^2\n",
    "Here, a = b^c, where c = 2. So, it falls into Case 2 of the Master Theorem.\n",
    "T(n) = Θ(n^c * log n) = Θ(n^2 * log n)\n",
    "\n",
    "ii. T(n) = 5T(n/3) + n^3\n",
    "a = 5, b = 3, and f(n) = n^3\n",
    "Here, a > b^c, where c = 3. So, it falls into Case 1 of the Master Theorem.\n",
    "T(n) = Θ(n^c) = Θ(n^3)\n",
    "\n",
    "iii. T(n) = 2T(n/4) + n\n",
    "a = 2, b = 4, and f(n) = n\n",
    "Here, a < b^c for any positive c. So, it falls into Case 1 of the Master Theorem.\n",
    "T(n) = Θ(n^c) = Θ(1)\n",
    "\n",
    "iv. T(n) = 3nT(n/3) + n^2.5\n",
    "Master Theorem does not apply A is a function of n.\n",
    "\n",
    "v. T(n) = n^2T(n/2) + n^1.5\n",
    "Master Theorem does not apply A is a function of n."
   ]
  },
  {
   "cell_type": "markdown",
   "id": "d4718bf8-46b2-44e5-886c-4269c4e391bb",
   "metadata": {},
   "source": [
    "Q5  \n",
    "Given the following graph, use the Dijkstra algorithm to find the shortest paths from point A to all other points, and show your steps."
   ]
  },
  {
   "cell_type": "markdown",
   "id": "be81a73a-3448-4500-9316-8a0f5f24a7dd",
   "metadata": {},
   "source": [
    "![pic](pic5.jpg)"
   ]
  },
  {
   "cell_type": "raw",
   "id": "d8220d13-19af-4ed1-8fec-7aaa0f95728a",
   "metadata": {},
   "source": [
    "Solution:\n",
    "Pseudocode:\n",
    "\n",
    "Step 1: Initialization\n",
    "Create an empty set of the shortest paths called S.\n",
    "Create a distance table to record distances from A to all points. Initially, set the distance from A to itself to 0, and set the distances to all other points to infinity.\n",
    "Create a priority queue (or a min-heap) called Q and add all nodes to it.\n",
    "\n",
    "Step 2: Starting from A\n",
    "Select the node X with the smallest distance from A in the queue Q.\n",
    "Remove node X from the queue Q and add it to the set S.\n",
    "\n",
    "Step 3: Update the Distance Table\n",
    "For all unvisited neighbor nodes Y of node X, calculate the distance from A to Y through X (i.e., the distance from A to X plus the weight of the edge from X to Y). If this distance is smaller than the recorded distance to node Y in the distance table, update the distance value for Y in the distance table.\n",
    "Repeat Step 2 and Step 3 until the queue Q is empty.\n",
    "\n",
    "Step 4: Shortest Paths\n",
    "In the end, the distance table records the distances from A to all other points, representing the shortest paths.\n",
    "These steps will help you use the Dijkstra algorithm to find the shortest paths from point A to all other points and illustrate the detailed operations at each step."
   ]
  },
  {
   "cell_type": "markdown",
   "id": "f3875b00-0cf1-48e9-99f6-db69019dbfb3",
   "metadata": {},
   "source": [
    "| Vertex | Known | Cost  | Previous |\r\n",
    "|--------|-------|-------|----------|\r\n",
    "|   A    |   F   |   0   |          |\r\n",
    "|   B    |   F   | -INF  |        \n",
    "|   C    |   F   |  INF  |          |\n",
    "|   D    |   F   |  INF  |          |\n",
    "|   E    |   F   |  INF  |          |\n",
    "|   F    |   F   |  INF  |          |  | |   |\r\n"
   ]
  },
  {
   "cell_type": "raw",
   "id": "895b02c7-591d-4a02-b9d8-1af190bdb567",
   "metadata": {},
   "source": [
    "Update neighbor of A:"
   ]
  },
  {
   "cell_type": "markdown",
   "id": "cbdd5695-adcc-4cc7-942f-3e51ce434f4e",
   "metadata": {},
   "source": [
    "| Vertex | Known | Cost  | Previous |\n",
    "|--------|-------|-------|----------|\n",
    "|   A    |   T   |   0   |          |\n",
    "|   B    |   F   |   2   |    A     |\n",
    "|   C    |   F   |   7   |    A     |\n",
    "|   D    |   F   |  INF  |          |\n",
    "|   E    |   F   |  INF  |          |\n",
    "|   F    |   F   |   8   |    A     |"
   ]
  },
  {
   "cell_type": "raw",
   "id": "4b041b0e-8d1d-4f84-92e1-d45f606008c9",
   "metadata": {},
   "source": [
    "Select minimum cost from unknown vertex, B, mark as known, and update ist nerghbor"
   ]
  },
  {
   "cell_type": "markdown",
   "id": "13896089-d299-4329-ae13-c3bc09a61b4c",
   "metadata": {},
   "source": [
    "| Vertex | Known | Cost  | Previous |\n",
    "|--------|-------|-------|----------|\n",
    "|   A    |   T   |   0   |          |\n",
    "|   B    |   T   |   2   |    A     |\n",
    "|   C    |   F   |   5   |    B     |\n",
    "|   D    |   F   |   6   |    B     |\n",
    "|   E    |   F   |  INF  |          |\n",
    "|   F    |   F   |   8   |    A     |"
   ]
  },
  {
   "cell_type": "raw",
   "id": "68f98f42-ba34-4ead-9f8f-905774c9faff",
   "metadata": {},
   "source": [
    "Select minimum cost from unknown vertex, C, mark as known, and update ist nerghbor"
   ]
  },
  {
   "cell_type": "markdown",
   "id": "a0d88625-5f0d-4f04-999a-205a9f397e1c",
   "metadata": {},
   "source": [
    "| Vertex | Known | Cost  | Previous |\n",
    "|--------|-------|-------|----------|\n",
    "|   A    |   T   |   0   |          |\n",
    "|   B    |   T   |   2   |    A     |\n",
    "|   C    |   T   |   5   |    B     |\n",
    "|   D    |   F   |   6   |    B     |\n",
    "|   E    |   F   |   7   |    C     |\n",
    "|   F    |   F   |   8   |    A     |"
   ]
  },
  {
   "cell_type": "raw",
   "id": "df37f709-b303-49c1-9779-d32d0b798890",
   "metadata": {},
   "source": [
    "Select minimum cost from unknown vertex, D, mark as known, and update ist nerghbor(none of them would be updated)"
   ]
  },
  {
   "cell_type": "markdown",
   "id": "0d3563de-35f4-447f-80a6-cefb22a51001",
   "metadata": {},
   "source": [
    "| Vertex | Known | Cost  | Previous |\n",
    "|--------|-------|-------|----------|\n",
    "|   A    |   T   |   0   |          |\n",
    "|   B    |   T   |   2   |    A     |\n",
    "|   C    |   T   |   5   |    B     |\n",
    "|   D    |   T   |   6   |    B     |\n",
    "|   E    |   F   |   7   |    C     |\n",
    "|   F    |   F   |   8   |    A     |"
   ]
  },
  {
   "cell_type": "raw",
   "id": "693244c3-4104-4341-a988-321504e08077",
   "metadata": {},
   "source": [
    "Select minimum cost from unknown vertex, E, mark as known, and update ist nerghbor(none of them would be updated)"
   ]
  },
  {
   "cell_type": "markdown",
   "id": "3533996c-f0e7-4eba-acca-4dac12beb4f0",
   "metadata": {},
   "source": [
    "| Vertex | Known | Cost  | Previous |\n",
    "|--------|-------|-------|----------|\n",
    "|   A    |   T   |   0   |          |\n",
    "|   B    |   T   |   2   |    A     |\n",
    "|   C    |   T   |   5   |    B     |\n",
    "|   D    |   T   |   6   |    B     |\n",
    "|   E    |   T   |   7   |    C     |\n",
    "|   F    |   T   |   8   |    A     |"
   ]
  },
  {
   "cell_type": "raw",
   "id": "c1adb3e7-f7d3-444f-a4a0-1b3585999bfe",
   "metadata": {},
   "source": [
    "Select minimum cost from unknown vertex, F, mark as known, and update ist nerghbor(none of them would be updated)\n",
    "Done, the shortest path from A to E is A-B-C-E"
   ]
  },
  {
   "cell_type": "markdown",
   "id": "15109414-4f55-45f3-85d7-5e70c3bf0c8d",
   "metadata": {},
   "source": [
    "Q6  \n",
    "You have a knapsack with a capacity of W, and you have 6 items with their respective weights and values as follows:\n",
    "\n",
    "- Item 1: Weight 2, Value 5\n",
    "- Item 2: Weight 3, Value 7\n",
    "- Item 3: Weight 1, Value 2\n",
    "- Item 4: Weight 4, Value 9\n",
    "- Item 5: Weight 5, Value 10\n",
    "- Item 6: Weight 2, Value 4\n",
    "\n",
    "Your task is to choose which items to put into the knapsack, such that the total weight does not exceed the knapsack's capacity W, and the total value of the items is maximized.\n",
    "What items should you choose to maximize the total value, and what is the maximum total value you can achieve?"
   ]
  },
  {
   "cell_type": "raw",
   "id": "a2e32064-814e-462b-bfac-7705909b1d95",
   "metadata": {},
   "source": [
    "Solution:\n",
    "Pseudocode: \n",
    "Initialize a 2D array dp[n+1][W+1] with zeros\n",
    "for i from 1 to n:\n",
    "    for j from 1 to W:\n",
    "        if weights[i-1] > j:\n",
    "            dp[i][j] = dp[i-1][j]\n",
    "        else:\n",
    "            dp[i][j] = max(dp[i-1][j], dp[i-1][j-weights[i-1]] + values[i-1])\n",
    "\n",
    "Initialize an empty list selected_items\n",
    "i = n\n",
    "j = W\n",
    "while i > 0 and j > 0:\n",
    "    if dp[i][j] != dp[i-1][j]:\n",
    "        Add i to selected_items\n",
    "        j = j - weights[i-1]\n",
    "    Decrement i by 1"
   ]
  },
  {
   "cell_type": "markdown",
   "id": "369fded7-6bae-4903-84e5-f985b37317c4",
   "metadata": {},
   "source": [
    "| Item\\Capacity | 0  | 1  | 2  | 3  | 4  | 5  | 6  | 7  |\n",
    "|---------------|----|----|----|----|----|----|----|----|\n",
    "| Item 1        | 0  | 0  | 5  | 5  | 10 | 10 | 15 | 15 |\n",
    "| Item 2        | 0  | 0  | 5  | 7  | 10 | 12 | 15 | 17 |\n",
    "| Item 3        | 0  | 2  | 5  | 7  | 10 | 12 | 15 | 17 |\n",
    "| Item 4        | 0  | 2  | 5  | 7  | 9  | 12 | 14 | 17 |\n",
    "| Item 5        | 0  | 2  | 5  | 7  | 9  | 10 | 12 | 14 |\n",
    "| Item 6        | 0  | 2  | 4  | 7  | 9  | 10 | 11 | 14 |"
   ]
  },
  {
   "cell_type": "raw",
   "id": "a3327e05-d73b-47e9-a03c-f12e8386474c",
   "metadata": {},
   "source": [
    "Each element in the table represents the maximum total value that can be obtained with the given capacity when selecting the corresponding items. By filling out the table, we can observe that when the knapsack capacity is 7, selecting items 1, 2, and 4 yields the maximum total value of 17.\n",
    "\n",
    "Therefore, when the knapsack capacity is 7, the optimal choice is items 1, 2, and 4, resulting in a total value of 17."
   ]
  },
  {
   "cell_type": "markdown",
   "id": "256c1b47-5bdd-4b28-9a5d-e42658e7e2c4",
   "metadata": {},
   "source": [
    "Q7  \n",
    "Prove that in any binary tree, the sum of depths of nodes with two children is equal to the sum of depths of leaf nodes."
   ]
  },
  {
   "cell_type": "raw",
   "id": "847c7a52-0e10-496a-a7dd-fa99a7c3bb64",
   "metadata": {},
   "source": [
    "Solution:\n",
    "Base Case: For a single-node binary tree (root only), the depth sum for the node with two children (the root) equals the depth sum for the leaf node (the root), which is 1.\n",
    "\n",
    "Inductive Hypothesis: Assume the statement holds for a binary tree with k nodes.\n",
    "\n",
    "Inductive Step: Prove that for a binary tree with k+1 nodes, the sum of depths of nodes with two children equals the sum of depths of leaf nodes.\n",
    "\n",
    "In a tree with k+1 nodes, we can add nodes in two ways:\n",
    "\n",
    "1. Adding a leaf node as a child to a node with one child (no change in depth sum).\n",
    "2. Adding a node with two children as a child to a leaf node (increase depth sum by 1 for both).\n",
    "Considering a tree with k nodes in both cases, according to the inductive hypothesis:\n",
    "\n",
    "Depth sum for nodes with two children = Depth sum for leaf nodes\n",
    "Now, after considering both cases for a tree with k+1 nodes:\n",
    "Depth sum for nodes with two children = Depth sum for leaf nodes\n",
    "Therefore, in any binary tree, the sum of depths of nodes with two children equals the sum of depths of leaf nodes. This proof holds for all binary trees by induction."
   ]
  },
  {
   "cell_type": "markdown",
   "id": "3a7c5d6b-a283-4ad1-80c3-1f53934649fd",
   "metadata": {},
   "source": [
    "Q8  \n",
    "There's a book in which each page contains the content of the previous page plus some new sentences. The length of sentences on each page is limited to a constant 'c,' and the entire book contains 'n' words in total. Explain how to encode this book to minimize the encoding length 'f(n)' while ensuring that 'f(n)' grows as slowly as possible."
   ]
  },
  {
   "cell_type": "raw",
   "id": "377d8712-c451-461c-80f5-15329eb8c12a",
   "metadata": {},
   "source": [
    "Solution:\n",
    "This book can be encoded using a recursive or iterative approach where only the new sentences on each page need to be written, without the need to repeat the content from previous pages.\n",
    "\n",
    "For the first page, you need to write all the sentences on that page, which will require an encoding length of 'c.'\n",
    "\n",
    "For the second page, you only need to write the newly added sentences without repeating the content from the first page. This will also require an encoding length of 'c' because the length of sentences on each page is limited to 'c.'\n",
    "\n",
    "For subsequent pages, you similarly only need to write the newly added sentences without repeating the previous content. This will continue to require an encoding length of 'c.'\n",
    "\n",
    "Therefore, the total encoding length 'f(n)' will be proportional to the total word count 'n' in the book, without exhibiting faster growth. This helps minimize the encoding length while preserving the book's structure.\n",
    "\n",
    "Pseudocode:\n",
    "for i from 1 to n:\n",
    "    new_page = generate_new_page()  \n",
    "    encoded_book += new_page\n",
    "\n",
    "    if length_of_page(new_page) > c:\n",
    "        excess_length = length_of_page(new_page) - c\n",
    "        new_page = trim_page(new_page, excess_length)\n",
    "        encoded_book = encoded_book[:-excess_length]\n"
   ]
  },
  {
   "cell_type": "markdown",
   "id": "53930468-cefc-4e61-a165-421e223f10f7",
   "metadata": {},
   "source": [
    "## Reflection"
   ]
  },
  {
   "cell_type": "raw",
   "id": "75d916ad-4308-40a4-b34a-7ec98e950db9",
   "metadata": {},
   "source": [
    "1. I used ChatGPT to read, to deepen my understanding of the problem, I tried to get it to tell me what the field of the problem was, what the nature of the problem was, and then after figuring it out, I went on to ask him if there were any other similar questions, and then I read and understood deeply, and then created my own questions and answered them. I also tried to use chatGPT to answer my questions. Interestingly, I found that chatGPT always gave me different answers, but I ultimately chose to stick with my answers.\n",
    "\n",
    "2. However, this time, chatGPT did not play a big role. The homework I designed covered the specific algorithm practice of kruskal, Prim, Dijkstra, judging whether a DAG can be topologically sorted, dynamic programming (01 knapsack), the use of the master theorem, and two proof problems that modeled examples. For the first six questions, the description of the questions is relatively simple and easy to understand, so I slightly used the following chatGPT understanding, and then drew the pictures myself and gave myself the questions. Only the last two questions, after I used it to deeply understand the nature, I was able to write my own questions."
   ]
  },
  {
   "cell_type": "code",
   "execution_count": null,
   "id": "7d6c329f-f5d6-4bec-b2c8-aa68e893f22d",
   "metadata": {},
   "outputs": [],
   "source": []
  }
 ],
 "metadata": {
  "kernelspec": {
   "display_name": "Go",
   "language": "go",
   "name": "gophernotes"
  },
  "language_info": {
   "codemirror_mode": "",
   "file_extension": ".go",
   "mimetype": "",
   "name": "go",
   "nbconvert_exporter": "",
   "pygments_lexer": "",
   "version": "go1.20"
  }
 },
 "nbformat": 4,
 "nbformat_minor": 5
}
