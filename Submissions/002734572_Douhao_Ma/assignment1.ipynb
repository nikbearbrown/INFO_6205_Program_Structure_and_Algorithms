{
 "cells": [
  {
   "cell_type": "markdown",
   "id": "f2f9669f-5910-4c8f-a673-8a02e3f364dc",
   "metadata": {},
   "source": [
    "## Assignment1"
   ]
  },
  {
   "cell_type": "raw",
   "id": "a29304c1-d732-4b1c-a048-87888b52007c",
   "metadata": {},
   "source": [
    "Q1 (10 Points) Arrange the following functions in increasing order of growth:\n",
    "\n",
    "• 2^n\n",
    "• log(n!)\n",
    "• n^0.5\n",
    "• 4n^n\n",
    "• n!/n^2\n",
    "• 5log(n) + n^(1/4)\n",
    "• log(n^2)\n",
    "• log(n)/e\n",
    "• log(log(n^(1/2)))\n",
    "• 100n\n",
    "\n",
    "Solution:\n",
    "1. log(log(n^(1/2))) &Theta;(log(log(n)))\n",
    "2. log(n)/e &Theta;(1/e * log(n)) \n",
    "3. log(n^2) &Theta(2log(n));\n",
    "4. log(n!) &Theta(nlog(n)); \n",
    "5. 100n &Theta;(n)\n",
    "6. 5log(n) + n^(1/4) &Theta;(n^0.25)\n",
    "7. n^0.5 &Theta;(n^0.5) \n",
    "8. 2^n &Theta;(2^n) \n",
    "9. n!/n^2 &Theta;(n!) \n",
    "10. 4n^n &Theta;(n^n)  "
   ]
  },
  {
   "cell_type": "raw",
   "id": "3f219df0-8220-4c60-8d71-d83ea6ad11a8",
   "metadata": {},
   "source": [
    "Q2 (10 Points) Assume that you have functions f and g such that f(n) is O(g(n/2)). For each of the following statements\n",
    "decide whether it is true or false and give a proof or counter-example.\n",
    "• f(n) = Θ(2f(n)).\n",
    "• f(n) = O(f(n^3)).\n",
    "• f(n) = O(g(n/2)). Implies g(n) = Ω(f(n))\n",
    "\n",
    "Solution:\n",
    "Counter Proof: n^0.5 ≠ (2n^0.5=n)\n",
    "Counter Proof: f(n) = 1/n ≠ O(1/(n^3) )\n",
    "• f(n) = O(g(n/2))\n",
    "     0 <= f(n) <= c1.g(n) for some c1>0 and all n > n0\n",
    "     0 <= (1/c1) f(n) <= g(n/2)\n",
    "     g(n) = Ω(f(n))\n"
   ]
  },
  {
   "cell_type": "raw",
   "id": "c6629cea-bd3a-41bb-8691-2dfe236107cd",
   "metadata": {},
   "source": [
    "Q3 (10 Points) Consider there are x men, each with certain interests and criteria, looking for a partner among n women who have expressed interest in men. Each woman has preferences for men, and some men may not find suitable partners. The goal is to find a way of pairing each man with a woman, where each man has only one partner, and it maximizes the satisfaction of women's preferences.\n",
    "\n",
    "The pairing is considered stable if neither of the following situations occurs:\n",
    "\n",
    "There are two men, m1 and m2, and one woman, w, such that:\n",
    "    m1 is paired with w, and m2 is unpaired.\n",
    "    w prefers m2 over m1.\n",
    "There are two men, m1 and m2, and two women, w1 and w2, such that:\n",
    "    m1 is paired with w1, and m2 is paired with w2.\n",
    "    w1 prefers m2 over m1.\n",
    "    m2 prefers w1 over w2.\n",
    "\n",
    "The problem is to find a stable pairing that maximizes women's preferences. Design an algorithm to solve this problem.\n",
    "\n",
    "\n",
    "Solution:\n",
    "Start with all men being single and all women open to relationships. As long as there is a single man:\n",
    "    The man proposes to the next woman he prefers.\n",
    "    If the woman is not in a relationship, she accepts the proposal.\n",
    "    If the woman is already with another man:\n",
    "        If the woman prefers her current partner, she rejects the proposal.\n",
    "        If she prefers the new man, she switches to him.\n",
    "        The new man becomes her partner, and the old man is left single.\n",
    "This algorithm continues until all men are in stable relationships. It guarantees stability and respects everyone's preferences. It takes at most O(mn) steps, where m is the number of men and n is the number of women."
   ]
  },
  {
   "cell_type": "code",
   "execution_count": 10,
   "id": "dbcd3f2e-8efe-43ff-bb1c-c20a816a66a4",
   "metadata": {},
   "outputs": [
    {
     "name": "stdout",
     "output_type": "stream",
     "text": [
      "Stable Matches:\n",
      "Man 0 is matched with Woman 1\n",
      "Man 1 is matched with Woman 3\n",
      "Man 2 is matched with Woman 0\n",
      "Man 3 is matched with Woman 2\n"
     ]
    }
   ],
   "source": [
    "func stableMatching(menPrefs [][]int, womenPrefs [][]int) []int {\n",
    "\tn := len(menPrefs)\n",
    "\tmatches := make([]int, n)\n",
    "\twomanMatched := make([]bool, n)\n",
    "\n",
    "\tfor i := 0; i < n; i++ {\n",
    "\t\tmatches[i] = -1\n",
    "\t\twomanMatched[i] = false\n",
    "\t}\n",
    "\n",
    "\t\n",
    "\tfor count := 0; count < n; count++ {\n",
    "\t\tm := -1\n",
    "\t\tfor i := 0; i < n; i++ {\n",
    "\t\t\tif matches[i] == -1 {\n",
    "\t\t\t\tm = i\n",
    "\t\t\t\tbreak\n",
    "\t\t\t}\n",
    "\t\t}\n",
    "\n",
    "\t\tfor i := 0; i < n && matches[m] == -1; i++ {\n",
    "\t\t\tw := menPrefs[m][i]\n",
    "\t\t\tif !womanMatched[w] {\n",
    "\t\t\t\tmatches[m] = w\n",
    "\t\t\t\twomanMatched[w] = true\n",
    "\t\t\t} else {\n",
    "\t\t\t\tcurrentPartner := -1\n",
    "\t\t\t\tfor j := 0; j < n; j++ {\n",
    "\t\t\t\t\tif womenPrefs[w][j] == matches[m] {\n",
    "\t\t\t\t\t\tcurrentPartner = j\n",
    "\t\t\t\t\t}\n",
    "\t\t\t\t\tif womenPrefs[w][j] == m {\n",
    "\t\t\t\t\t\tbreak\n",
    "\t\t\t\t\t}\n",
    "\t\t\t\t}\n",
    "\n",
    "\t\t\t\tif currentPartner > i {\n",
    "\t\t\t\t\tmatches[m] = w\n",
    "\t\t\t\t\twomanMatched[w] = true\n",
    "\t\t\t\t\tmatches[currentPartner] = -1\n",
    "\t\t\t\t}\n",
    "\t\t\t}\n",
    "\t\t}\n",
    "\t}\n",
    "\n",
    "\treturn matches\n",
    "}\n",
    "\n",
    "\n",
    "menPrefs := [][]int{\n",
    "\t{1, 0, 2, 3},\n",
    "\t{3, 2, 1, 0},\n",
    "\t{0, 1, 2, 3},\n",
    "\t{3, 2, 0, 1},\n",
    "}\n",
    "\n",
    "womenPrefs := [][]int{\n",
    "\t{2, 3, 1, 0},\n",
    "\t{1, 2, 3, 0},\n",
    "\t{3, 2, 1, 0},\n",
    "\t{0, 1, 3, 2},\n",
    "}\n",
    "\n",
    "matches := stableMatching(menPrefs, womenPrefs)\n",
    "fmt.Println(\"Stable Matches:\")\n",
    "for i, j := range matches {\n",
    "\tfmt.Printf(\"Man %d is matched with Woman %d\\n\", i, j)\n",
    "}\n",
    "\n"
   ]
  },
  {
   "cell_type": "raw",
   "id": "745ead65-5e4e-46ee-93d6-b05a87f4230b",
   "metadata": {},
   "source": [
    "Q4 (10 Points) One algorithm requires  nlog2(n) seconds and another algorithm requires n microseconds.\n",
    "Which one is asymptotically faster? What is the cross-over value of n?\n",
    "\n",
    "Solution:\n",
    "The first algorithm is asymptotically faster than the second.\n",
    "The order of growth of n log2(n) is more than the order of growth of n.\n",
    "The Crossover point of n is 2."
   ]
  },
  {
   "cell_type": "raw",
   "id": "0ec04ecb-ceb3-41bb-af35-a120d12409c4",
   "metadata": {},
   "source": [
    "Q5 (10 Points) Consider building a bridge using a series of rectangular planks. The total number of planks used to build each section of the bridge is determined by adding the number used in the current section to the number used in the previous quarter. We aim to analyze this process asymptotically.\n",
    "\n",
    "Suppose, for the sake of simplicity, that each section of the bridge is bounded by a constant, denoted as 'c.' Additionally, let's assume that the bridge will consist of at most 'n' planks. How can we construct such a bridge using planks of length 'f(n),' where 'f(n)' grows as slowly as possible?\n",
    "\n",
    "Solution\n",
    "We can construct the bridge following this approach:\n",
    "\n",
    "1. Start with a plank of length 1, representing the first section of the bridge.\n",
    "2. Gradually increase the length of each plank by adding a natural number length to it.\n",
    "3. Connect each newly added plank to the end of the bridge to ensure a continuous structure.\n",
    "The key to this construction method is adding planks of consecutive natural numbers, such as 1, 2, 3, 4, 5, and so on. This means that the bridge's length will increase according to the sequence of natural numbers, but the growth rate will be linear, i.e., f(n) = n.\n",
    "\n",
    "Therefore, we can use planks of length f(n) = n to build the bridge, ensuring that the bridge's length increases at the slowest possible rate because the growth of f(n) is linear."
   ]
  },
  {
   "cell_type": "raw",
   "id": "ce964601-7be0-414c-b3b6-df080bc844fb",
   "metadata": {},
   "source": [
    "Q6 (5 Points)\n",
    "One algorithm requires 2^n seconds and another algorithm requires n^2 seconds. Which one grows\n",
    "asymptotically faster? That is, which grows faster as n gets large? What is the cross-over value of n? (The\n",
    "value at which the curves intersect)?\n",
    "\n",
    "Solution:\n",
    "The first algorithm, 2^n is asymptotically faster than the second one, and the cross-over point of n is 4."
   ]
  },
  {
   "cell_type": "markdown",
   "id": "ea82f250-8c41-4f43-8bea-1ea74f1c8eac",
   "metadata": {},
   "source": [
    "![pic](pic.png)"
   ]
  },
  {
   "cell_type": "raw",
   "id": "468c3257-5c8a-466f-a396-d0a3df8cc1b5",
   "metadata": {},
   "source": [
    "Q7 In a small town, there are 3 men (A, B, C) and 3 women (X, Y, Z). They each have a preference list for marriage. Can we find a stable marriage where no one can do better through divorce?\n",
    "\n",
    "Solution: Yes. Suppose there's a pair (A, X) who thinks they can do better by divorcing and marrying someone else. But if they divorce, the new marriages won't be stable either. So, no one can improve their situation through divorce in a stable marriage."
   ]
  },
  {
   "cell_type": "raw",
   "id": "b642ad90-689d-494e-8035-be6bccd0f589",
   "metadata": {},
   "source": [
    "Q8 In a small town, there are two groups of volunteers, Group A and Group b. Each group is made up of members, each with their own skill level and area of volunteer interest. Both groups wanted to devise a strategy that assigned each member to a different area of volunteering to stand out in community service. The assessment of the group's performance is based solely on the performance of its members in the chosen voluntary field. There are no other criteria for assessing team performance other than the performance of individual members in specific areas.\n",
    "\n",
    "To determine how well the two groups performed, they published their respective strategies (assigning members to volunteer areas). If neither group can unilaterally change its strategy to win more in community service activities, then A pair of strategies (strategy A and strategy B) is considered stable. Is there always a stable strategy for any group of team members and their skill levels?\n",
    "\n",
    "Solution: \n",
    "Answer is no. Consider the following scenario: Group A has two members {A1, A2} with skill levels of 25 and 50 in their respective areas of volunteer service, while Group B has two members {B1, B2} with skill levels of 15 and 35 in the same area of volunteer service. Each group can choose two different strategies, which include assigning members to different areas of volunteering.\n",
    "If A1 is assigned to volunteer Area B1 in the final community service event, Group B may wish to change strategy and win at least one area. Similarly, if A1 is assigned to volunteer area B2, Group A may wish to change strategy and win both areas instead of one.\n",
    "This example illustrates that in certain situations, no matter which group makes its strategy public, the other group can find a way to adjust its strategy to win more in community service activities. Therefore, depending on the skill level of the group members and their strategy choices, there may not always be a stable pair of strategies."
   ]
  },
  {
   "cell_type": "code",
   "execution_count": 12,
   "id": "93296b6b-438c-4711-ae09-6de6576bf7f7",
   "metadata": {},
   "outputs": [
    {
     "name": "stdout",
     "output_type": "stream",
     "text": [
      "Group A wins with strategy [{A1 25 Area X} {B1 15 Area X}] (Total Wins: 40)\n",
      "Group B wins with strategy [{B1 15 Area X} {A1 25 Area X}] (Total Wins: 40)\n",
      "Group A wins with strategy [{A1 25 Area X} {B2 35 Area Y}] (Total Wins: 60)\n",
      "Group B wins with strategy [{B2 35 Area Y} {A1 25 Area X}] (Total Wins: 60)\n",
      "Group A wins with strategy [{A2 50 Area Y} {B1 15 Area X}] (Total Wins: 65)\n",
      "Group B wins with strategy [{B1 15 Area X} {A2 50 Area Y}] (Total Wins: 65)\n",
      "Group A wins with strategy [{A2 50 Area Y} {B2 35 Area Y}] (Total Wins: 85)\n",
      "Group B wins with strategy [{B2 35 Area Y} {A2 50 Area Y}] (Total Wins: 85)\n"
     ]
    }
   ],
   "source": [
    "func evaluatePerformance(strategy []Member, groupName string) int {\n",
    "    totalWins := 0\n",
    "    for _, member := range strategy {\n",
    "        // 在此示例中，胜利次数取决于特长评级\n",
    "        totalWins += member.SkillRating\n",
    "    }\n",
    "    fmt.Printf(\"%s wins with strategy %v (Total Wins: %d)\\n\", groupName, strategy, totalWins)\n",
    "    return totalWins\n",
    "}\n",
    "\n",
    "type Member struct {\n",
    "    Name         string\n",
    "    SkillRating  int\n",
    "    VolunteeringArea string\n",
    "}\n",
    "\n",
    "type Group struct {\n",
    "    Name     string\n",
    "    Members  []Member\n",
    "    Strategy []Member\n",
    "}\n",
    "\n",
    "    groupA := Group{Name: \"Group A\"}\n",
    "    groupB := Group{Name: \"Group B\"}\n",
    "\n",
    "    groupA.Members = append(groupA.Members, Member{Name: \"A1\", SkillRating: 25, VolunteeringArea: \"Area X\"})\n",
    "    groupA.Members = append(groupA.Members, Member{Name: \"A2\", SkillRating: 50, VolunteeringArea: \"Area Y\"})\n",
    "    \n",
    "    groupB.Members = append(groupB.Members, Member{Name: \"B1\", SkillRating: 15, VolunteeringArea: \"Area X\"})\n",
    "    groupB.Members = append(groupB.Members, Member{Name: \"B2\", SkillRating: 35, VolunteeringArea: \"Area Y\"})\n",
    "\n",
    "    for i := 0; i < len(groupA.Members); i++ {\n",
    "        for j := 0; j < len(groupB.Members); j++ {\n",
    "            strategyA := []Member{groupA.Members[i], groupB.Members[j]}\n",
    "            strategyB := []Member{groupB.Members[j], groupA.Members[i]}\n",
    "            \n",
    "            winsWithStrategyA := evaluatePerformance(strategyA, groupA.Name)\n",
    "            winsWithStrategyB := evaluatePerformance(strategyB, groupB.Name)\n",
    "            \n",
    "            if winsWithStrategyA > winsWithStrategyB || winsWithStrategyB > winsWithStrategyA {\n",
    "                fmt.Printf(\"Unstable Strategy Pair Found: %v vs %v\\n\", strategyA, strategyB)\n",
    "            }\n",
    "        }\n",
    "    }\n",
    "\n"
   ]
  },
  {
   "cell_type": "raw",
   "id": "b0dd395f-be30-4bc2-b68e-4074fc0315fb",
   "metadata": {},
   "source": [
    "Q9 The LPL (League of Legends Pro League) playoffs are adopting a new format using the Gale-Shapley matching algorithm. Instead of having the four teams from the LPL's Upper Bracket play against each other and the four teams from the Lower Bracket face off separately, they will now be matched against each other using the Gale-Shapley matching algorithm. Additionally, social media will be utilized to solicit rankings from fans, media, players, and coaches regarding which teams they would most like to compete against in the playoffs.\n",
    "\n",
    "A. Create a new Gale-Shapley implementation in Go to match the four teams from the Upper Bracket against the four teams from the Lower Bracket. You should generate preference lists for each team as part of the implementation.\n",
    "\n",
    "Solution:"
   ]
  },
  {
   "cell_type": "code",
   "execution_count": 1,
   "id": "6e684915-e696-479f-8680-aeeb5a1d3466",
   "metadata": {},
   "outputs": [
    {
     "name": "stdout",
     "output_type": "stream",
     "text": [
      "BLG is matched with WBG\n",
      "TES is matched with OMG\n",
      "JDG is matched with RNG\n",
      "LNG is matched with EDG\n"
     ]
    }
   ],
   "source": [
    "import \"fmt\"\n",
    "\n",
    "type Team struct {\n",
    "\tName        string\n",
    "\tPreferences []string\n",
    "\tMatched     string\n",
    "}\n",
    "\n",
    "\n",
    "func removeTeam(teams []Team, teamName string) []Team {\n",
    "\tresult := []Team{}\n",
    "\tfor _, team := range teams {\n",
    "\t\tif team.Name != teamName {\n",
    "\t\t\tresult = append(result, team)\n",
    "\t\t}\n",
    "\t}\n",
    "\treturn result\n",
    "}\n",
    "\n",
    "func findTeam(teams []Team, teamName string) *Team {\n",
    "\tfor _, team := range teams {\n",
    "\t\tif team.Name == teamName {\n",
    "\t\t\treturn &team\n",
    "\t\t}\n",
    "\t}\n",
    "\treturn nil\n",
    "}\n",
    "\n",
    "func indexOf(slice []string, item string) int {\n",
    "\tfor i, value := range slice {\n",
    "\t\tif value == item {\n",
    "\t\t\treturn i\n",
    "\t\t}\n",
    "\t}\n",
    "\treturn -1\n",
    "}\n",
    "\tupperTeams := []Team{\n",
    "\t\t{Name: \"BLG\", Preferences: []string{\"WBG\", \"OMG\", \"EDG\", \"RNG\"}},\n",
    "\t\t{Name: \"JDG\", Preferences: []string{\"OMG\", \"WBG\", \"RNG\", \"EDG\"}},\n",
    "\t\t{Name: \"LNG\", Preferences: []string{\"RNG\", \"OMG\", \"WBG\", \"EDG\"}},\n",
    "\t\t{Name: \"TES\", Preferences: []string{\"OMG\", \"RNG\", \"EDG\", \"WBG\"}},\n",
    "\t}\n",
    "\n",
    "\tlowerTeams := []Team{\n",
    "\t\t{Name: \"WBG\", Preferences: []string{\"OMG\", \"JDG\", \"LNG\", \"TES\"}},\n",
    "\t\t{Name: \"OMG\", Preferences: []string{\"TES\", \"BLG\", \"JDG\", \"LNG\"}},\n",
    "\t\t{Name: \"EDG\", Preferences: []string{\"LNG\", \"TES\", \"BLG\", \"JDG\"}},\n",
    "\t\t{Name: \"RNG\", Preferences: []string{\"JDG\", \"LNG\", \"TES\", \"BLG\"}},\n",
    "\t}\n",
    "\n",
    "\tmatching := make(map[string]string)\n",
    "\tfor len(upperTeams) > 0 {\n",
    "\t\tfor _, upperTeam := range upperTeams {\n",
    "\t\t\tpreferredLowerTeam := upperTeam.Preferences[0]\n",
    "\t\t\tif matching[preferredLowerTeam] == \"\" {\n",
    "\t\t\t\tmatching[preferredLowerTeam] = upperTeam.Name\n",
    "\t\t\t\tupperTeams = removeTeam(upperTeams, upperTeam.Name)\n",
    "\t\t\t\tbreak\n",
    "\t\t\t} else {\n",
    "\t\t\t\tcurrentUpperTeam := matching[preferredLowerTeam]\n",
    "\t\t\t\tlowerTeam := findTeam(lowerTeams, preferredLowerTeam)\n",
    "\t\t\t\tif lowerTeam == nil {\n",
    "\t\t\t\t\tcontinue\n",
    "\t\t\t\t}\n",
    "\t\t\t\tif indexOf(lowerTeam.Preferences, currentUpperTeam) > indexOf(lowerTeam.Preferences, upperTeam.Name) {\n",
    "\t\t\t\t\tmatching[preferredLowerTeam] = upperTeam.Name\n",
    "\t\t\t\t\tupperTeams = removeTeam(upperTeams, upperTeam.Name)\n",
    "\t\t\t\t\tupperTeams = append(upperTeams, Team{currentUpperTeam, upperTeam.Preferences[1:], \"\"})\n",
    "\t\t\t\t\tbreak\n",
    "\t\t\t\t}\n",
    "\t\t\t}\n",
    "\t\t}\n",
    "\t}\n",
    "\n",
    "\tfor lowerTeam, upperTeam := range matching {\n",
    "\t\tfmt.Printf(\"%s is matched with %s\\n\", upperTeam, lowerTeam)\n",
    "\t}\n"
   ]
  },
  {
   "cell_type": "raw",
   "id": "1fe93201-c136-40b7-a130-6542ac616f14",
   "metadata": {},
   "source": [
    "B. Use a loop to shuffle the preference lists for upper team 100 times. Calculate the percentage of stable playoff matches."
   ]
  },
  {
   "cell_type": "code",
   "execution_count": 16,
   "id": "f0fb509d-01e1-4ffe-965d-7dc2884488eb",
   "metadata": {
    "scrolled": true
   },
   "outputs": [
    {
     "name": "stdout",
     "output_type": "stream",
     "text": [
      "The percentage of stabl matching: 100.00%"
     ]
    },
    {
     "data": {
      "text/plain": [
       "41 <nil>"
      ]
     },
     "execution_count": 16,
     "metadata": {},
     "output_type": "execute_result"
    }
   ],
   "source": [
    "import (\n",
    "\t\"fmt\"\n",
    "\t\"math/rand\"\n",
    ")\n",
    "func shufflePreferences(teams []Team) {\n",
    "\trand.Shuffle(len(teams), func(i, j int) {\n",
    "\t\tteams[i].Preferences, teams[j].Preferences = teams[j].Preferences, teams[i].Preferences\n",
    "\t})\n",
    "}\n",
    "\n",
    "func isStableMatching(matching map[string]string) bool {\n",
    "\tfor upperTeam, lowerTeam := range matching {\n",
    "\t\tfor otherUpperTeam, otherLowerTeam := range matching {\n",
    "\t\t\tif upperTeam != otherUpperTeam && lowerTeam == otherLowerTeam {\n",
    "\t\t\t\treturn false\n",
    "\t\t\t}\n",
    "\t\t}\n",
    "\t}\n",
    "\treturn true\n",
    "}\n",
    "stableCount := 0\n",
    "\ttotalRuns := 100\n",
    "\n",
    "\tfor i := 0; i < totalRuns; i++ {\n",
    "\t\tshufflePreferences(upperTeams)\n",
    "\n",
    "\t\tmatching := make(map[string]string)\n",
    "\t\tfor len(upperTeams) > 0 {\n",
    "\t\t\tfor _, upperTeam := range upperTeams {\n",
    "\t\t\t\tif len(upperTeam.Preferences) == 0 {\n",
    "\t\t\t\t\tbreak\n",
    "\t\t\t\t}\n",
    "\t\t\t\tpreferredLowerTeam := upperTeam.Preferences[0]\n",
    "\t\t\t\tif matching[preferredLowerTeam] == \"\" {\n",
    "\t\t\t\t\tmatching[preferredLowerTeam] = upperTeam.Name\n",
    "\t\t\t\t\tupperTeams = removeTeam(upperTeams, upperTeam.Name)\n",
    "\t\t\t\t\tbreak\n",
    "\t\t\t\t} else {\n",
    "\t\t\t\t\tcurrentUpperTeam := matching[preferredLowerTeam]\n",
    "\t\t\t\t\tlowerTeam := findTeam(lowerTeams, preferredLowerTeam)\n",
    "\t\t\t\t\tif lowerTeam == nil {\n",
    "\t\t\t\t\t\tcontinue\n",
    "\t\t\t\t\t}\n",
    "\t\t\t\t\tif indexOf(lowerTeam.Preferences, currentUpperTeam) > indexOf(lowerTeam.Preferences, upperTeam.Name) {\n",
    "\t\t\t\t\t\tmatching[preferredLowerTeam] = upperTeam.Name\n",
    "\t\t\t\t\t\tupperTeams = removeTeam(upperTeams, upperTeam.Name)\n",
    "\t\t\t\t\t\tupperTeams = append(upperTeams, Team{currentUpperTeam, upperTeam.Preferences[1:], \"\"})\n",
    "\t\t\t\t\t\tbreak\n",
    "\t\t\t\t\t}\n",
    "\t\t\t\t}\n",
    "\t\t\t}\n",
    "\t\t}\n",
    "\n",
    "\t\tif isStableMatching(matching) {\n",
    "\t\t\tstableCount++\n",
    "\t\t}\n",
    "\t}\n",
    "\n",
    "\tstablePercentage := float64(stableCount) / float64(totalRuns) * 100\n",
    "\tfmt.Printf(\"The percentage of stabl matching: %.2f%%\", stablePercentage)\n"
   ]
  },
  {
   "cell_type": "raw",
   "id": "86ed950b-b575-4a08-9833-535c4455f0c0",
   "metadata": {},
   "source": [
    "C. Is it possible to maintain a stable match during the knockout process?\n",
    "\n",
    "Solution\n",
    "Yes, it is possible to maintain a stable match during the knockout process. The stability of the match depends on how the knockout process is designed and executed. By carefully organizing the matchups and ensuring that the principles of stability are upheld, a stable match can be maintained even as teams are eliminated in each round of the knockout process."
   ]
  },
  {
   "cell_type": "raw",
   "id": "b319d9b1-92eb-40ff-a6e5-31e7fa160d33",
   "metadata": {},
   "source": [
    "D. If the upper and lower halves are not considered, can this algorithm still obtain stable matching? If yes, please prove, if not, please give a counterexample\n",
    "\n",
    "Solution\n",
    "If we only consider matching teams without distinguishing between upper and lower halves, using just the Gale-Shapley algorithm may not always guarantee stable matches. This means that there can be situations where teams may prefer each other over their current matches and change partners, leading to instability.\n",
    "\n",
    "For instance, imagine we have two halves of teams, and their preferences are as follows:\n",
    "\n",
    "Half 1: Prefers Half 2 teams over its own.\n",
    "Half 2: Prefers Half 1 teams over its own.\n",
    "If we apply the Gale-Shapley algorithm without considering the halves, teams may keep changing their matches, resulting in instability. This shows that when not distinguishing between upper and lower halves, stable matching is not always ensured."
   ]
  },
  {
   "cell_type": "raw",
   "id": "1dfc50bc-a891-41b3-936b-460ce90571c4",
   "metadata": {},
   "source": [
    "E. What is the time complexity of this algorithm, and how does the execution time change as the number of teams increases?\n",
    "\n",
    "Solution:\n",
    "The time complexity is O(n^2), where n is the number of teams in a half zone. As n gets bigger, the running time increases dramatically, because this is the quadratic function"
   ]
  },
  {
   "cell_type": "markdown",
   "id": "4668cd6f-cce3-4d86-a27d-5d4352aa925c",
   "metadata": {},
   "source": [
    "## Reflection："
   ]
  },
  {
   "cell_type": "raw",
   "id": "1e10d1cd-a6f2-4e5b-aea6-0a29f1808dec",
   "metadata": {},
   "source": [
    "1. I used ChatGPT to read, to deepen my understanding of the problem, I tried to get it to tell me what the field of the problem was, what the nature of the problem was, and then after figuring it out, I went on to ask him if there were any other similar questions, and then I read and understood deeply, and then created my own questions and answered them. I also tried to use chatGPT to answer my questions. Interestingly, I found that chatGPT always gave me different answers, but I ultimately chose to stick with my answers.\n",
    "\n",
    "2. I encountered many problems and challenges in this process. First, I often couldn't understand the meaning of the questions, for example, I didn't know what Omega and theta meant except for big O. It took me a long time to use chatGPT to figure out what the questions were asking. Then I found it difficult to ask similar questions, and I didn't know much about these kinds of questions. Finally, another difficulty is that when I use chatGPT to answer my questions, it sometimes gives different answers from me, which I think is wrong, such as the first question of time complexity ranking.\n",
    "\n",
    "3. The first thing I've learned is clarity, and questions that aren't clear can be difficult to understand. Then there is the skill of breaking down complex problems into simpler, more manageable sub-problems. Then, you need to add some constraints to the design process to make the problem more rigorous. Then, for algorithmic problems, we should be good at understanding the essence, so that we can solve this kind of problem. Finally, the algorithm problem must analyze the complexity of the algorithm, which is the core of the algorithm in my opinion."
   ]
  }
 ],
 "metadata": {
  "kernelspec": {
   "display_name": "Go",
   "language": "go",
   "name": "gophernotes"
  },
  "language_info": {
   "codemirror_mode": "",
   "file_extension": ".go",
   "mimetype": "",
   "name": "go",
   "nbconvert_exporter": "",
   "pygments_lexer": "",
   "version": "go1.20"
  }
 },
 "nbformat": 4,
 "nbformat_minor": 5
}
