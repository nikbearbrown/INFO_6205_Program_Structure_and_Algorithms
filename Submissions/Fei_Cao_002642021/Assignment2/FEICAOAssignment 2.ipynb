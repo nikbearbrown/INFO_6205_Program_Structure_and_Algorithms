{
 "cells": [
  {
   "cell_type": "markdown",
   "id": "6c3fd155-49e7-4318-b263-f6bc2c7dd021",
   "metadata": {},
   "source": [
    "## INFO 6205 – Program Structures and Algorithms\n",
    "### Worked Assignment 2 Solutions\n",
    "#### Student Name:  FEICAO\n",
    "\n",
    "#### Professor: Nik Bear Brown"
   ]
  },
  {
   "cell_type": "markdown",
   "id": "bf671741-9404-45d0-81cf-534ed595b258",
   "metadata": {},
   "source": [
    "## Q1 (15 Points)\n",
    "\n",
    "One approach to detect if a directed graph G=(V, E) has a cycle is to repeatedly find a vertex of out-degree 0, mark it, and remove it and all of its incoming edges from the graph. Explain how to implement this idea so that it runs in time O(V+ E). How does this algorithm behave if G is acyclic?\n",
    "\n"
   ]
  },
  {
   "cell_type": "markdown",
   "id": "434fdf07-2d48-43bf-a75a-8d0c2facfefe",
   "metadata": {},
   "source": [
    "## Solution:\n",
    "\n",
    "To implement this idea, we proceed as follows:\n",
    "\n",
    "Create an array R of size |V| and initialize its entries to zero, and create an initially empty queue Q.\n",
    "Let Adj denote the adjacency-list representation of G.\n",
    "We scan through all the edges in Adj, incrementing R[v] each time we see a vertex v. In a directed graph, if there's no cycle, there must be at least one vertex of out-degree 0, so we know that there is at least one entry of R that is zero.\n",
    "We scan through R a second time and for every vertex v such that R[v] = 0, we enqueue v in Q.\n",
    "Dequeue Q and mark v.\n",
    "When we mark a vertex, we do as follows: for each vertex u in Adj[v] we decrement R[u] by one.\n",
    "If any of these R[u] = 0, then enqueue u in Q.\n",
    "To prove our algorithm is correct: At each step, if there's no cycle, there must be at least one vertex with out-degree 0, so the queue is never empty, and every vertex will be enqueued and dequeued once, so we will mark all the vertices.\n",
    "\n",
    "For a vertex u with out-degree k ≥ 1, there are k vertices v1, v2, ... vk which will appear after u in the traversal of G. Then R[u] = k, since u ∈ Adj[vi] for i = 1, ... , k vertices of G, and u will only be enqueued after all vi have already been dequeued (each dequeue decrements R[u] by one).\n",
    "\n",
    "The running time is Θ(V) to initialize R, O(1) to initialize Q, and Θ(E) to scan the edges of E and count out-degrees. The second scan of R is Θ(V). Every vertex will be enqueued and dequeued from the queue exactly once. The |E| edges are removed from the graph once (which corresponds to decrementing entries of R Θ(E) times). This gives a total running time of Θ(V) + O(1) + Θ(E) + Θ(V) + Θ(E) = Θ(V + E).\n",
    "\n",
    "If the graph is acyclic, then our algorithm will mark all vertices, and the queue will be empty at the end, indicating that the graph doesn't have any cycles.\n",
    "\n"
   ]
  },
  {
   "cell_type": "markdown",
   "id": "7c657209-e417-4da8-81b1-ec0067b760fd",
   "metadata": {},
   "source": [
    "## Q2 (15 Points)\n",
    "Use  Prim's algorithm  to find the shortest path in a directed graph of your choice. Show your steps."
   ]
  },
  {
   "cell_type": "markdown",
   "id": "d027f6a6-008e-414e-ba80-cdcd4069a29d",
   "metadata": {},
   "source": [
    "## Solution:\n",
    "Go to https://www.cs.usfca.edu/~galles/visualization/Prim.html\n",
    "\n",
    "The site will generate numerous examples, an adjacency list, an adjacency matrix, and an animated solution to help you understand the algorithm's workings."
   ]
  },
  {
   "cell_type": "markdown",
   "id": "662eb589-8411-4e15-8597-5e1b8d8d155b",
   "metadata": {},
   "source": [
    "<img src=\"https://github.com/875216663/INFO_6205_Program_Structure_and_Algorithms/blob/Students/Submissions/002642021_FEI_CAO/Assignment2/%E6%88%AA%E5%B1%8F2023-10-05%20%E4%B8%8B%E5%8D%886.10.19.png?raw=true\" width=\"400\"/>\n"
   ]
  },
  {
   "cell_type": "raw",
   "id": "2d203108-62ff-4e7d-bb5f-b4166ae9a199",
   "metadata": {},
   "source": [
    "1. Starting from the vertices, select the edge with the lowest weight first\n",
    "2. Then select the edge with the lowest selected weight\n",
    "3. Until all vertices are linked"
   ]
  },
  {
   "cell_type": "markdown",
   "id": "6052fe34-8c04-43d8-847d-a5be26573771",
   "metadata": {},
   "source": [
    "Steps of Execution:\n",
    "Step 1: Start from vertex 0.\n",
    "Step 2: The edge 0-2 has the smallest weight (2) among edges going out from 0. Add edge 0-2 to the MST and mark vertex 2 as visited.\n",
    "Step 3: Among the edges going out from the visited vertices (0 and 2), 0-3 has the smallest weight (1). Add edge 0-3 to the MST and mark vertex 3 as visited.\n",
    "Step 4: The edge 2-6 has the smallest weight (5) among the edges going out from the visited vertices (0, 2, and 3). Add edge 2-6 to the MST and mark vertex 6 as visited.\n",
    "Step 5: The edge 6-5 has the smallest weight (3) from the visited vertices (0, 2, 3, and 6). Add edge 6-5 to the MST and mark vertex 5 as visited.\n",
    "Step 6: The edge 1-3 has a weight of 6 which is the smallest among the edges connecting the visited vertices to vertex 1. Add edge 1-3 to the MST and mark vertex 1 as visited.\n",
    "Step 7: The edge 6-4 has the smallest weight (7) connecting the visited vertices to vertex 4. Add edge 6-4 to the MST and mark vertex 4 as visited.\n",
    "Step 8: Finally, the edge 4-7 has the smallest weight (5) connecting the visited vertices to vertex 7. Add edge 4-7 to the MST and mark vertex 7 as visited."
   ]
  },
  {
   "cell_type": "markdown",
   "id": "530d89fa-273c-4aaf-8888-96c76b47812c",
   "metadata": {},
   "source": [
    "The Minimum Spanning Tree (MST) formed by Prim's Algorithm consists of the edges: 0-2, 0-3, 2-6, 6-5, 1-3, 6-4, and 4-7."
   ]
  },
  {
   "cell_type": "markdown",
   "id": "88425aa5-d7eb-4440-854c-625a3f633dac",
   "metadata": {},
   "source": [
    "## Q3 (15 Points)\n",
    "logistics company manages the transportation of goods through a series of routes. Each route connects two cities and has a transportation cost associated with it. Some cities act as hubs, where goods can be transferred to other routes. Each city has a storage cost for goods waiting to be transferred. Additionally, each route has a maximum capacity of goods it can transport per day. Every day, the company wants to determine the most cost-effective route to transport a certain good from a source city to a destination city, considering both transportation and storage costs. Develop an algorithm that will efficiently determine the most cost-effective route for the day. Explain why your algorithm is efficient."
   ]
  },
  {
   "cell_type": "markdown",
   "id": "e246e402-6cb6-40c1-9048-6c47efdf9825",
   "metadata": {},
   "source": [
    "## Solution:\n",
    "This can be modeled as a graph problem. Construct a weighted directed graph where each city is represented as a node. Each route between two cities is represented as an edge, with the weight being the transportation cost. For cities acting as hubs, consider the storage cost as an additional weight on the node.\n",
    "\n",
    "To find the most cost-effective route for transporting goods from a source city to a destination city, use Dijkstra's shortest path algorithm. This algorithm will give the shortest (least cost) path from the source to every other city, including the destination. The time complexity of Dijkstra's algorithm using a priority queue is O((V+E)log(V)).\n",
    "\n",
    "After determining the shortest path, the total cost for the route is the sum of the edge weights (transportation costs) and any node weights (storage costs) encountered along the path. Since the number of cities and routes are given as input, and the algorithm efficiently computes the shortest path, the overall complexity remains O((V+E)log(V))."
   ]
  },
  {
   "cell_type": "markdown",
   "id": "6137eb0a-5458-42cf-9e17-6a980a0de7d7",
   "metadata": {},
   "source": [
    "## Q4 (15 Points)\n",
    "Determine the maximum flow from source node X to sink node Y using Dijkstra's algorithm algorithm in a flow network of your choice. Detail your steps."
   ]
  },
  {
   "cell_type": "markdown",
   "id": "9076caea-e05f-4a05-9251-d4dcda2c8568",
   "metadata": {},
   "source": [
    "## Solution:\n",
    "Solution:\n",
    "Visit https://www.cs.usfca.edu/~galles/visualization/Dijkstra.html\n",
    "\n",
    "The site will generate numerous examples, an adjacency list, an adjacency matrix, and an animated solution to help you understand the algorithm's workings."
   ]
  },
  {
   "cell_type": "markdown",
   "id": "087269de-075d-4010-b259-e4b9e5b2f2a7",
   "metadata": {},
   "source": [
    "<img src=\"https://github.com/875216663/INFO_6205_Program_Structure_and_Algorithms/blob/Students/Submissions/002642021_FEI_CAO/Assignment2/%E6%88%AA%E5%B1%8F2023-10-05%20%E4%B8%8B%E5%8D%886.33.05.png?raw=true\" width=\"400\"/>\n"
   ]
  },
  {
   "cell_type": "markdown",
   "id": "ff5e02f0-3258-47a2-9855-15faf6793ecc",
   "metadata": {},
   "source": [
    "### Initialization:\n",
    "Set the initial vertex's (vertex 0) shortest-path estimate to 0 and all other vertices' shortest-path estimates to infinity.\n",
    "Set the source vertex (vertex 0) as the current vertex.\n",
    "Mark all vertices as unvisited.\n",
    "### Iterate until all vertices are visited:"
   ]
  },
  {
   "cell_type": "raw",
   "id": "2deb4255-b72a-4b35-9cca-0c8c754fa45f",
   "metadata": {},
   "source": [
    "For the current vertex, consider all of its unvisited neighbors and calculate their tentative distances. If the newly calculated tentative distance is less than the current assigned value, update the shortest path for that neighbor.\n",
    "For vertex 0, its only neighbor is vertex 3 with a weight of 8.\n",
    "Mark the current vertex as visited.\n",
    "Select the unvisited vertex with the smallest tentative distance, set it as the new current vertex, and return to the previous step."
   ]
  },
  {
   "cell_type": "markdown",
   "id": "3b17e31b-a631-4b84-a2c2-61178bc5aa3d",
   "metadata": {},
   "source": [
    "### Iterative Process:"
   ]
  },
  {
   "cell_type": "raw",
   "id": "3eb5f80a-88ea-4fa8-aadd-bba73bac1718",
   "metadata": {},
   "source": [
    "Starting with Vertex 0:\n",
    "Distance to Vertex 3 = 8\n",
    "Visit Vertex 1 (since it has the smallest edge 1 to vertex 6):\n",
    "Distance to Vertex 2 = 3\n",
    "Distance to Vertex 3 = 8 (No change)\n",
    "Distance to Vertex 6 = 1\n",
    "Visit Vertex 6 (since it has the smallest distance of 1 via vertex 1):\n",
    "Distance to Vertex 1 = 1 (No change)\n",
    "Distance to Vertex 2 = 8\n",
    "Distance to Vertex 3 = 8 (No change)\n",
    "Distance to Vertex 4 = 4 (0 -> 1 -> 6 -> 4 = 1 + 4 = 5)\n",
    "Distance to Vertex 5 = 3 (0 -> 1 -> 6 -> 5 = 1 + 3 = 4)\n",
    "Visit Vertex 2 (since it has the second smallest distance of 3 via vertex 1):\n",
    "All distances remain unchanged because other paths through Vertex 2 are not shorter.\n",
    "Visit Vertex 5:\n",
    "All distances remain unchanged because other paths through Vertex 5 are not shorter.\n",
    "Visit Vertex 4:\n",
    "All distances remain unchanged.\n",
    "Visit Vertex 3:\n",
    "All distances remain unchanged.\n",
    "Visit Vertex 7:\n",
    "Distance to Vertex 5 = 4 (0 -> 1 -> 6 -> 5 -> 7 = 1 + 3 + 4 = 8)\n",
    "Final Shortest Path Estimates from Vertex 0:\n",
    "Vertex 1 = 1 (via Vertex 6)\n",
    "Vertex 2 = 3 (directly from Vertex 1)\n",
    "Vertex 3 = 8 (directly from Vertex 0)\n",
    "Vertex 4 = 5 (via Vertex 6)\n",
    "Vertex 5 = 4 (via Vertex 6)\n",
    "Vertex 6 = 1 (directly from Vertex 1)\n",
    "Vertex 7 = 8 (via Vertex 5)"
   ]
  },
  {
   "cell_type": "markdown",
   "id": "3a9519ea-9c3d-41d2-80c2-bc670ad6385e",
   "metadata": {},
   "source": [
    "## Q5 \n",
    "Determine if a given directed graph is strongly connected. If it is, find the strongly connected components. Show your work.\n",
    "\n",
    "Express the directed graph above as:\n",
    "A. An adjacency list (2.5 points)\n",
    "B. An adjacency matrix (2.5 points)\n",
    "Is the directed graph strongly connected? If so, identify the strongly connected components of the graph. (10 points)"
   ]
  },
  {
   "cell_type": "markdown",
   "id": "806d4c16-f590-477f-beca-7aad7e2129f1",
   "metadata": {},
   "source": [
    "## Solution:\n",
    "Go to https://www.cs.usfca.edu/~galles/visualization/TopoSortIndegree.html and \r\n",
    "https://www.cs.usfca.edu/~galles/visualization/TopoSortDFS.html\r\n",
    "The site will generate hundreds of examples, an adjacency list, an adjacency matrix and an animated \r\n",
    "solution."
   ]
  },
  {
   "cell_type": "markdown",
   "id": "986907a4-0028-4fe4-9411-02b44bc146c1",
   "metadata": {},
   "source": [
    "<img src=\"https://github.com/875216663/INFO_6205_Program_Structure_and_Algorithms/blob/Students/Submissions/002642021_FEI_CAO/Assignment2/%E6%88%AA%E5%B1%8F2023-10-05%20%E4%B8%8B%E5%8D%886.47.05.png?raw=true\" width=\"400\"/>\n"
   ]
  },
  {
   "cell_type": "markdown",
   "id": "e84501c8-76a1-4f20-86d9-50c6a5dccc3c",
   "metadata": {},
   "source": [
    "### A. Adjacency List:\n",
    "An adjacency list represents the graph as a map from nodes to lists of neighboring vertices. Here's how the adjacency list would look for the given graph:"
   ]
  },
  {
   "cell_type": "raw",
   "id": "a9fcf253-0054-4fba-90de-209b19eba149",
   "metadata": {},
   "source": [
    "0 -> [3, 2]\n",
    "1 -> [5]\n",
    "2 -> [4, 6]\n",
    "3 -> [7, 5]\n",
    "4 -> [6, 7]\n",
    "5 -> [6]\n",
    "6 -> [7]\n",
    "7 -> []"
   ]
  },
  {
   "cell_type": "markdown",
   "id": "a77a38ac-1fa5-44e4-8ba2-bba0cb102567",
   "metadata": {},
   "source": [
    "### B. Adjacency Matrix:\n",
    "An adjacency matrix is a square matrix used to represent a finite graph. The elements of the matrix indicate whether pairs of vertices are adjacent or not in the graph.\n",
    "\n",
    "For the given graph, if we label the vertices from 0 to 7, the adjacency matrix would look like this (with 1s indicating a connection between nodes and 0s indicating no connection):"
   ]
  },
  {
   "cell_type": "markdown",
   "id": "d07cde46-0588-4932-8b1a-41579d657c25",
   "metadata": {},
   "source": [
    "   0 1 2 3 4 5 6 7\n",
    "0 [0 0 1 1 0 0 0 0]\n",
    "1 [0 0 0 0 0 1 0 0]\n",
    "2 [0 0 0 0 1 0 1 0]\n",
    "3 [0 0 0 0 0 1 0 1]\n",
    "4 [0 0 0 0 0 0 1 1]\n",
    "5 [0 0 0 0 0 0 1 0]\n",
    "6 [0 0 0 0 0 0 0 1]\n",
    "7 [0 0 0 0 0 0 0 0]\n"
   ]
  },
  {
   "cell_type": "markdown",
   "id": "81de29c3-79f1-4cf9-8fa1-833099586ac8",
   "metadata": {},
   "source": [
    "### Topological Sort:\n",
    "A directed graph can be topologically sorted if it does not contain a directed cycle. In this graph, no cycles are evident, so it can be topologically sorted.\n",
    "\n",
    "To topologically sort the graph, one approach is to iteratively find vertices of in-degree 0, output them, and then remove them and their edges.\n",
    "\n",
    "A possible topological sort order for this graph is:"
   ]
  },
  {
   "cell_type": "raw",
   "id": "cb00fbc1-20e9-4f78-94d4-69530be84540",
   "metadata": {},
   "source": [
    "0, 1, 2, 3, 4, 5, 6, 7"
   ]
  },
  {
   "cell_type": "markdown",
   "id": "7b3a0941-d622-476d-b5f6-d7f1598922b8",
   "metadata": {},
   "source": [
    "## Q6\n",
    "Find shortest path from node A to node B using Breadth-First Search in a graph of your choice. Show \r\n",
    "your steps."
   ]
  },
  {
   "cell_type": "markdown",
   "id": "9a913851-1e46-4f0a-890e-cc45fffba9d2",
   "metadata": {},
   "source": [
    "## Solution:\n",
    "Go to https://www.cs.usfca.edu/~galles/visualization/BFS.html\r\n",
    "The site will generate hundreds of examples, an adjacency list, an adjacency matrix and an animated \r\n",
    "solution."
   ]
  },
  {
   "cell_type": "markdown",
   "id": "97bf57f7-3842-4ca0-bfd4-96bef68bbf7d",
   "metadata": {},
   "source": [
    "\n",
    "<img src=\"https://github.com/875216663/INFO_6205_Program_Structure_and_Algorithms/blob/Students/Submissions/002642021_FEI_CAO/Assignment2/%E6%88%AA%E5%B1%8F2023-10-05%20%E4%B8%8B%E5%8D%887.12.31.png?raw=true\" width=\"400\"/>\n"
   ]
  },
  {
   "cell_type": "markdown",
   "id": "46fd5820-aa0a-4400-a60a-a33e1b965fa8",
   "metadata": {},
   "source": [
    "### Initialization:"
   ]
  },
  {
   "cell_type": "raw",
   "id": "beedf265-e488-4953-80e1-486cc7ca428f",
   "metadata": {},
   "source": [
    "Start from vertex 0.\n",
    "Create an empty queue and push the source vertex (0) into it.\n",
    "Mark vertex 0 as visited.\n",
    "Create an empty list for the path and add vertex 0 to it."
   ]
  },
  {
   "cell_type": "raw",
   "id": "1b30608d-e4e7-4514-8a4e-628d2eaf21cf",
   "metadata": {},
   "source": [
    "Step 1: Dequeue vertex 0 from the queue.\n",
    "Visit its unvisited neighbors: 1, 2, 3.\n",
    "Mark them as visited.\n",
    "Enqueue vertices 1, 2, 3.\n",
    "Remember the parent of 1, 2, 3 as 0 (for backtracking).\n",
    "Step 2: Dequeue vertex 1 from the queue.\n",
    "Visit its unvisited neighbors: (only 5 since 1's connection to 0 is the backward direction in BFS).\n",
    "Mark vertex 5 as visited.\n",
    "Enqueue vertex 5.\n",
    "Remember the parent of 5 as 1.\n",
    "Step 3: Dequeue vertex 2 from the queue. (Note: 2 does not lead us to 4, but it's part of BFS traversal.)\n",
    "Its neighbors are already visited, so we continue.\n",
    "Step 4: Dequeue vertex 3 from the queue.\n",
    "Visit its unvisited neighbor: 7.\n",
    "Mark vertex 7 as visited.\n",
    "Enqueue vertex 7.\n",
    "Remember the parent of 7 as 3.\n",
    "Step 5: Dequeue vertex 5 from the queue.\n",
    "Visit its unvisited neighbor: 6.\n",
    "Mark vertex 6 as visited.\n",
    "Enqueue vertex 6.\n",
    "Remember the parent of 6 as 5.\n",
    "Step 6: Dequeue vertex 7 from the queue. (Note: 7 does not lead us to 4, but it's part of BFS traversal.)\n",
    "Its neighbors are already visited, so we continue.\n",
    "Step 7: Dequeue vertex 6 from the queue.\n",
    "Visit its unvisited neighbor: 4.\n",
    "Mark vertex 4 as visited.\n",
    "Remember the parent of 4 as 6.\n",
    "Since we've now reached vertex 4 (our destination), we stop our BFS."
   ]
  },
  {
   "cell_type": "markdown",
   "id": "630520a4-55da-4091-9133-675025c53d79",
   "metadata": {},
   "source": [
    "### Backtracking for the path:"
   ]
  },
  {
   "cell_type": "raw",
   "id": "3833d84c-fb48-4fd8-995c-2a967aab0019",
   "metadata": {},
   "source": [
    "Starting from vertex 4:\n",
    "4 (from 6)\n",
    "6 (from 5)\n",
    "5 (from 1)\n",
    "1 (from 0)\n",
    "0\n",
    "So, the shortest path from vertex 0 to vertex 4 using BFS is: 0 -> 1 -> 5 -> 6 -> 4."
   ]
  },
  {
   "cell_type": "markdown",
   "id": "3885b64e-48e1-457a-8adb-0acda5711a91",
   "metadata": {},
   "source": [
    "## Q7\n",
    "Use Kruskal's algorithm to find a minimum spanning tree in a graph of your choice. Show your steps"
   ]
  },
  {
   "cell_type": "markdown",
   "id": "caeb7026-3f1c-41bc-a421-fe5e3d18b660",
   "metadata": {},
   "source": [
    "## Solution:"
   ]
  },
  {
   "cell_type": "markdown",
   "id": "43d56b5c-1794-47cb-9a5b-65c708295658",
   "metadata": {},
   "source": [
    "Go to https://www.cs.usfca.edu/~galles/visualization/Kruskal.html\n",
    "The site will generate hundreds of examples, an adjacency list, an adjacency matrix and an animated \n",
    "solution."
   ]
  },
  {
   "cell_type": "markdown",
   "id": "a87ca71c-db3c-4d00-8534-d663ae9004b5",
   "metadata": {},
   "source": [
    "\n",
    "\n",
    "<img src=\"https://github.com/875216663/INFO_6205_Program_Structure_and_Algorithms/blob/Students/Submissions/002642021_FEI_CAO/Assignment2/%E6%88%AA%E5%B1%8F2023-10-05%20%E4%B8%8B%E5%8D%887.25.48.png?raw=true\" width=\"400\"/>\n"
   ]
  },
  {
   "cell_type": "markdown",
   "id": "37d1c422-ee6c-4ffd-a9d8-a3458fd2778b",
   "metadata": {},
   "source": [
    "### Kruskal's Algorithm:\n"
   ]
  },
  {
   "cell_type": "raw",
   "id": "efc5d08d-dbf0-4e81-8233-ef059c45bdc3",
   "metadata": {},
   "source": [
    "Sort all the edges in ascending order of their weight.\n",
    "Start adding edges to the MST from the smallest weight edge, ensuring that no cycle is formed. Keep adding edges until you have (Vertices-1) edges in your MST."
   ]
  },
  {
   "cell_type": "markdown",
   "id": "72f17f4a-9ec1-46cc-8264-3e5e55b58409",
   "metadata": {},
   "source": [
    "### Sorted Edges by Weight:"
   ]
  },
  {
   "cell_type": "raw",
   "id": "e6c4d7ab-fc13-4052-85c4-2819fa4dddbd",
   "metadata": {},
   "source": [
    "5-7: 2\n",
    "2-6: 3\n",
    "0-3: 5\n",
    "5-6: 5\n",
    "4-6: 6\n",
    "0-1: 6\n",
    "1-5: 9\n",
    "6-7: 8\n",
    "2-5: 7"
   ]
  },
  {
   "cell_type": "markdown",
   "id": "05690d1a-17bf-4353-98ab-988fde39b6f9",
   "metadata": {},
   "source": [
    "### Kruskal's Steps:"
   ]
  },
  {
   "cell_type": "raw",
   "id": "9d6351b0-28db-4c98-9d89-3a9346d44a93",
   "metadata": {},
   "source": [
    "Add edge 5-7 (Weight: 2).\n",
    "Add edge 2-6 (Weight: 3).\n",
    "Add edge 0-3 (Weight: 5).\n",
    "Add edge 5-6 (Weight: 5).\n",
    "Add edge 4-6 (Weight: 6).\n",
    "Add edge 0-1 (Weight: 6).\n",
    "(Till this step we have covered all the vertices so we can stop here, but let's just see the remaining edges to ensure we're getting the minimum spanning tree.)\n",
    "Skip edge 1-5 (Weight: 9) because adding this will form a cycle.\n",
    "Skip edge 6-7 (Weight: 8) because adding this will form a cycle.\n",
    "Skip edge 2-5 (Weight: 7) because adding this will form a cycle.\n",
    "Minimum Spanning Tree edges are:\n",
    "\n",
    "5-7: 2\n",
    "2-6: 3\n",
    "0-3: 5\n",
    "5-6: 5\n",
    "4-6: 6\n",
    "0-1: 6\n",
    "Total weight of the Minimum Spanning Tree = 2 + 3 + 5 + 5 + 6 + 6 = 27."
   ]
  },
  {
   "cell_type": "markdown",
   "id": "0a8c7248-dfbd-43c8-839b-7f3e2a7d9294",
   "metadata": {},
   "source": [
    "## Q8\n",
    "Find whether node A is reachable from node B using Depth-First Search in a graph of your choice. Show \r\n",
    "your steps."
   ]
  },
  {
   "cell_type": "markdown",
   "id": "03c0b7fd-1cef-459c-bf83-0d568561faea",
   "metadata": {},
   "source": [
    "### Solution:\n",
    "Go to https://www.cs.usfca.edu/~galles/visualization/DFS.html\n",
    "The site will generate hundreds of examples, an adjacency list, an adjacency matrix and an animated \n",
    "solution."
   ]
  },
  {
   "cell_type": "markdown",
   "id": "006996b3-ceb2-4b7c-b8b9-f571a76c7382",
   "metadata": {},
   "source": [
    "\n",
    "<img src=\"https://github.com/875216663/INFO_6205_Program_Structure_and_Algorithms/blob/Students/Submissions/002642021_FEI_CAO/Assignment2/%E6%88%AA%E5%B1%8F2023-10-05%20%E4%B8%8B%E5%8D%887.41.23.png?raw=true\" width=\"400\"/>\n"
   ]
  },
  {
   "cell_type": "raw",
   "id": "bb7a7bd4-4ed0-4548-81af-61df0f8e66c5",
   "metadata": {},
   "source": [
    "Let's use depth-first search (DFS) to determine if node A is reachable from node B. For ease of explanation, let us assume that node A is vertex 0 and node B is vertex 7 in the given graph.\n",
    "\n",
    "Start at vertex B (vertex 7):\n",
    "\n",
    "Vertex 7 (node B): the neighboring node is vertex 6. mark vertex 7 as visited.\n",
    "Vertex 6: neighboring nodes are vertex 4, vertex 2, and vertex 7. we have already visited vertex 7, so we move to vertex 4. mark vertex 6 as visited.\n",
    "Vertex 4: The neighboring node is vertex 6. Since vertex 6 has already been visited, we backtrack to vertex 6 and move to the next neighboring node, vertex 2.\n",
    "Vertex 2: The neighboring node is vertex 0. This is our target node A. Mark vertex 2 as visited.\n",
    "Vertex 0 (node A): We have reached our target node. Therefore, node A can be reached from node B.\n",
    "Thus, with depth-first search, we determine that node A (vertex 0) can be reached from node B (vertex 7)."
   ]
  }
 ],
 "metadata": {
  "kernelspec": {
   "display_name": "Python 3 (ipykernel)",
   "language": "python",
   "name": "python3"
  },
  "language_info": {
   "codemirror_mode": {
    "name": "ipython",
    "version": 3
   },
   "file_extension": ".py",
   "mimetype": "text/x-python",
   "name": "python",
   "nbconvert_exporter": "python",
   "pygments_lexer": "ipython3",
   "version": "3.11.5"
  }
 },
 "nbformat": 4,
 "nbformat_minor": 5
}
