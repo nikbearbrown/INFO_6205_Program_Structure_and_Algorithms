{
 "cells": [
  {
   "cell_type": "markdown",
   "id": "6c3fd155-49e7-4318-b263-f6bc2c7dd021",
   "metadata": {},
   "source": [
    "# INFO 6205 – Program Structures and Algorithms\n",
    "## Worked Assignment 3 Solutions\n",
    "#### Student Name:  FEICAO\n",
    "\n",
    "#### Professor: Nik Bear Brown"
   ]
  },
  {
   "cell_type": "markdown",
   "id": "1c5fbf55",
   "metadata": {},
   "source": [
    "## Q1 (15 Points)"
   ]
  },
  {
   "cell_type": "raw",
   "id": "8ad3a207",
   "metadata": {},
   "source": [
    "Let's use depth-first search (DFS) to determine if node A is reachable from node B. For ease of explanation, let us assume that node A is vertex 0 and node B is vertex 7 in the given graph.\n",
    "\n",
    "Start at vertex B (vertex 7):\n",
    "\n",
    "Vertex 7 (node B): the neighboring node is vertex 6. mark vertex 7 as visited.\n",
    "Vertex 6: neighboring nodes are vertex 4, vertex 2, and vertex 7. we have already visited vertex 7, so we move to vertex 4. mark vertex 6 as visited.\n",
    "Vertex 4: The neighboring node is vertex 6. Since vertex 6 has already been visited, we backtrack to vertex 6 and move to the next neighboring node, vertex 2.\n",
    "Vertex 2: The neighboring node is vertex 0. This is our target node A. Mark vertex 2 as visited.\n",
    "Vertex 0 (node A): We have reached our target node. Therefore, node A can be reached from node B.\n",
    "Thus, with depth-first search, we determine that node A (vertex 0) can be reached from node B (vertex 7)."
   ]
  },
  {
   "cell_type": "raw",
   "id": "e91864e9",
   "metadata": {},
   "source": [
    "Give a brief definitions for the following:\n",
    "i. Residual Network\n",
    "ii. Cut set\n",
    "iii. Preflow-Push Algorithm\n",
    "iv. Network Flow\n",
    "v. Bellman-Ford"
   ]
  },
  {
   "cell_type": "markdown",
   "id": "434fdf07-2d48-43bf-a75a-8d0c2facfefe",
   "metadata": {},
   "source": [
    "## Solution:"
   ]
  },
  {
   "cell_type": "raw",
   "id": "9f65873f",
   "metadata": {},
   "source": [
    "i. Residual Network: A type of neural network architecture that incorporates \"skip connections\" to bypass one or more layers during training. This helps solve the vanishing gradient problem and enables the training of deeper networks.\n",
    "\n",
    "ii. Cut set: In graph theory, a cut set is a collection of edges that, when removed, disconnects the graph into two or more disconnected subgraphs.\n",
    "\n",
    "iii. Preflow-Push Algorithm: An algorithm for solving the maximum flow problem in a flow network. It initially saturates some edges with \"preflow\" and then iteratively pushes excess flow towards the sink while relabeling vertices to allow flow to be pushed more effectively.\n",
    "\n",
    "iv. Network Flow: A concept in graph theory that quantifies how much \"stuff\" (like water, data, etc.) can flow through a network from a source to a sink under certain constraints like edge capacities.\n",
    "\n",
    "v. Bellman-Ford: An algorithm for finding the shortest path in a weighted graph. It's especially useful for graphs with negative weight edges, provided there are no negative weight cycles."
   ]
  },
  {
   "cell_type": "markdown",
   "id": "7c657209-e417-4da8-81b1-ec0067b760fd",
   "metadata": {},
   "source": [
    "## Q2 (15 Points)\n",
    "Use the Bellman-Ford algorithm to find the shortest path from node 0 to 4 in the weighted directed\n",
    "graph above. Show your work."
   ]
  },
  {
   "cell_type": "markdown",
   "id": "662eb589-8411-4e15-8597-5e1b8d8d155b",
   "metadata": {},
   "source": [
    "<img src=\"https://github.com/875216663/INFO_6205_Program_Structure_and_Algorithms/blob/Students/Submissions/Fei_Cao_002642021/Assignment3/%E6%88%AA%E5%B1%8F2023-10-21%20%E4%B8%8B%E5%8D%8811.15.46.png?raw=true\" width=\"400\"/>\n"
   ]
  },
  {
   "cell_type": "markdown",
   "id": "d027f6a6-008e-414e-ba80-cdcd4069a29d",
   "metadata": {},
   "source": [
    "## Solution:"
   ]
  },
  {
   "cell_type": "raw",
   "id": "5d873d0e",
   "metadata": {},
   "source": [
    "Initialization：\n",
    "Initialize the distance to the source node to 0 (i.e. distance[0] = 0) and set all other distances to infinity.\n",
    "\n",
    "\n",
    "for each vertex v in graph:\n",
    "    distance[v] = ∞\n",
    "distance[0] = 0"
   ]
  },
  {
   "cell_type": "raw",
   "id": "dbf2e411",
   "metadata": {},
   "source": [
    "This results in：\n",
    "\n",
    "distance[0] = 0\n",
    "distance[1] = ∞\n",
    "distance[2] = ∞\n",
    "distance[3] = ∞\n",
    "distance[4] = ∞"
   ]
  },
  {
   "cell_type": "raw",
   "id": "2d203108-62ff-4e7d-bb5f-b4166ae9a199",
   "metadata": {},
   "source": [
    "Relaxation Process.\n",
    "For each edge in the graph, a relaxation operation is performed, i.e., if a shorter path can be found through an edge, the distance to the corresponding node and the predecessor node are updated. This operation is repeated n-1 times, where n is the number of nodes."
   ]
  },
  {
   "cell_type": "raw",
   "id": "89124c6b",
   "metadata": {},
   "source": [
    "Start Iteratively Updating：\n",
    "for i from 1 to V-1:\n",
    "    for each edge (u, v) with weight w in graph:\n",
    "        if distance[u] + w < distance[v]:\n",
    "            distance[v] = distance[u] + w\n"
   ]
  },
  {
   "cell_type": "raw",
   "id": "c2547632",
   "metadata": {},
   "source": [
    "# First Iteration:\n",
    "distance[0] = 0\n",
    "distance[1] = 4  # Updated by the edge (0 -> 1)\n",
    "distance[2] = 6  # Updated via the sequence (0 -> 1 -> 2)\n",
    "distance[3] = 6  # Updated by the edge (0 -> 3)\n",
    "distance[4] = 6  # Updated by the edge (0 -> 4)"
   ]
  },
  {
   "cell_type": "raw",
   "id": "3614e3c4",
   "metadata": {},
   "source": [
    "Second Iteration:\n",
    "distance[0] = 0\n",
    "distance[1] = 4\n",
    "distance[2] = 6\n",
    "distance[3] = 6\n",
    "distance[4] = 6"
   ]
  },
  {
   "cell_type": "raw",
   "id": "02903cb4",
   "metadata": {},
   "source": [
    "Check for Negative Weight Cycles：\n",
    "for each edge (u, v) with weight w in graph:\n",
    "    if distance[u] + w < distance[v]:\n",
    "        print(\"Graph contains a negative weight cycle\")\n",
    "        return"
   ]
  },
  {
   "cell_type": "raw",
   "id": "7a1b3cc5",
   "metadata": {},
   "source": [
    "Result:\n",
    "    print(\"Shortest distance from node\", start_node, \"to node 4 is\", distance[4])"
   ]
  },
  {
   "cell_type": "raw",
   "id": "5ab6e414",
   "metadata": {},
   "source": [
    "outputs:\n",
    "    Shortest distance from node 0 to node 4 is 6"
   ]
  },
  {
   "cell_type": "markdown",
   "id": "88425aa5-d7eb-4440-854c-625a3f633dac",
   "metadata": {},
   "source": [
    "## Q3 (15 Points)\n",
    "Use the Ford-Fulkerson algorithm to find the maximum flow from node 0 to 4 in the weighted directed\n",
    "graph above. Show your work."
   ]
  },
  {
   "cell_type": "markdown",
   "id": "087269de-075d-4010-b259-e4b9e5b2f2a7",
   "metadata": {},
   "source": [
    "<img src=\"https://github.com/875216663/INFO_6205_Program_Structure_and_Algorithms/blob/Students/Submissions/Fei_Cao_002642021/Assignment3/%E6%88%AA%E5%B1%8F2023-10-21%20%E4%B8%8B%E5%8D%8811.24.17.png?raw=true\" width=\"400\"/>\n"
   ]
  },
  {
   "cell_type": "markdown",
   "id": "e246e402-6cb6-40c1-9048-6c47efdf9825",
   "metadata": {},
   "source": [
    "## Solution:\n",
    "Solution:\n",
    "AP stands for Augmenting Path.\n",
    "\n",
    "Augmenting Path 1 (AP1):\n",
    "\n",
    "From Node 0 to Node 2, current flow 0, capacity 5.\n",
    "From Node 2 to Node 1, current flow 0, capacity 3.\n",
    "From Node 1 to Node 4, current flow 0, capacity 99.\n",
    "Flow: 3 (since 3 is the minimum capacity on this path)\n",
    "Augmenting Path 2 (AP2):\n",
    "\n",
    "From Node 0 to Node 3, current flow 0, capacity 3.\n",
    "From Node 3 to Node 1, current flow 0, capacity 6.\n",
    "From Node 1 to Node 4, current flow 3 (from AP1), capacity 99.\n",
    "Flow: 3 (again, 3 is the minimum capacity on this path)\n",
    "Achieve a maximum flow of 6. Continue searching for more augmenting paths. If no more augmenting paths are found, then the algorithm concludes with a max flow of 6."
   ]
  },
  {
   "cell_type": "markdown",
   "id": "6137eb0a-5458-42cf-9e17-6a980a0de7d7",
   "metadata": {},
   "source": [
    "## Q4 (15 Points)\n",
    "Use the Preflow-Push (Push–relabel) maximum flow algorithm to find the maximum flow from node 0 to\n",
    "3 in the weighted directed graph above. Show your work."
   ]
  },
  {
   "cell_type": "markdown",
   "id": "986907a4-0028-4fe4-9411-02b44bc146c1",
   "metadata": {},
   "source": [
    "<img src=\"https://github.com/875216663/INFO_6205_Program_Structure_and_Algorithms/blob/Students/Submissions/Fei_Cao_002642021/Assignment3/%E6%88%AA%E5%B1%8F2023-10-21%20%E4%B8%8B%E5%8D%8811.47.20.png?raw=true\" width=\"400\"/>\n"
   ]
  },
  {
   "cell_type": "markdown",
   "id": "9076caea-e05f-4a05-9251-d4dcda2c8568",
   "metadata": {},
   "source": [
    "## Solution:\n",
    "Initialize:\n",
    "\n",
    "Set all node heights to zero, except for 0 (the source) which is set to 4 (total number of nodes).\n",
    "\n",
    "0 (Source, height=4)\n",
    "\n",
    "0-1: Push -> {0-1, flow = 8, excess at 1 = 8}\n",
    "0-2: Push -> {0-2, flow = 8, excess at 2 = 8}\n",
    "\n",
    "End initialize.\n",
    "\n",
    "2-1: Push -> {2-1, flow = 1, excess at 1 = 7, excess at 2 = 7}\n",
    "2-3: Push -> {2-3, flow = 7, excess at 2 = 0, excess at 3 = 7}\n",
    "\n",
    "1: Relabel -> {1, height = 1}\n",
    "\n",
    "1-3: Push -> {1-3, flow = 8, excess at 1 = 0, excess at 3 = 15}\n",
    "\n",
    "No remaining excess at nodes other than the source and sink. Algorithm terminates.\n",
    "\n",
    "The maximum flow to node E (node 3 in this graph) is 15."
   ]
  },
  {
   "cell_type": "markdown",
   "id": "3a9519ea-9c3d-41d2-80c2-bc670ad6385e",
   "metadata": {},
   "source": [
    "## Q5 \n",
    "Consider a flow network where each edge has a capacity of 2. This is a directed graph G=(V, E) with a source vertex s ∈ V, and a target/sink vertex t ∈ V. Every edge e ∈ E has a capacity Ce= 2.\n",
    "Given an integer parameter l < ｜E｜ , your objective is to minimize the flow from s to t by removing l edges. ln other words, you should identify a subset of edges N from E with cardinality l (i.e., ｜N｜ = l and V is a subset of E) such that the flow from s - t in G\"(V, E - N) is minimized.\n",
    "Find an algorithm that operates in polynomial time to ensure the flow from s - t in G\"(V, E - V) is minimized."
   ]
  },
  {
   "cell_type": "markdown",
   "id": "530d89fa-273c-4aaf-8888-96c76b47812c",
   "metadata": {},
   "source": [
    "## Solution:"
   ]
  },
  {
   "cell_type": "markdown",
   "id": "ff5e02f0-3258-47a2-9855-15faf6793ecc",
   "metadata": {},
   "source": [
    "If the minimum s - t cut has size less than or equal to l then it's possible to reduce the flow to 0. Otherwise, let g > l be the value of the minimum s - t flow. We determine theminimum s - t cut (C, D), and remove l edges leaving C. The derived sub-graphpossesses a max flow value no more than g - l\n",
    "Moreover, we assert that for any set of edges H of size l, the sub-graph G\" = (V, E - Maintains an s - t flow value of at least g - l. lndeed, when considering any cut (C', D) of G, there are a minimum of g edges leaving C in G, and at most l have been removed, so aminimum of g - l edges leave C' in G\". Consequently, the minimum cut in G\" holds a value of at least g - l, thus there exists a flow of this magnitude."
   ]
  },
  {
   "cell_type": "markdown",
   "id": "6052fe34-8c04-43d8-847d-a5be26573771",
   "metadata": {},
   "source": [
    "## Q6"
   ]
  },
  {
   "cell_type": "raw",
   "id": "2deb4255-b72a-4b35-9cca-0c8c754fa45f",
   "metadata": {},
   "source": [
    "During a massive power outage in a metropolitan area, there's a need to evacuate peoplefrom affected regions to different safe zones equipped with power generators. Let's considerthe following situation:\n",
    "There are m residents spread out in different districts of the city who need immediateevacuation. The city has p safe zones equipped with power generators. Each of the mresidents needs to be moved to a safe zone that is within a 15-minute walk of their currentposition (thus, depending on their current location, residents will have different availablesafe zones)\n",
    "Moreover, to avoid crowding and ensure everyone gets adeguate resources, no safe zoneshould accommodate more than m/p residents.\n",
    "You are tasked with developing a polynomial-time algorithm that uses the provided dataabout residents' locations and ascertains whether a feasible evacuation plan exists thatmeets the criteria."
   ]
  },
  {
   "cell_type": "markdown",
   "id": "3b17e31b-a631-4b84-a2c2-61178bc5aa3d",
   "metadata": {},
   "source": [
    "## Solution:"
   ]
  },
  {
   "cell_type": "raw",
   "id": "3eb5f80a-88ea-4fa8-aadd-bba73bac1718",
   "metadata": {},
   "source": [
    "We can model this problem using a bipartite graph where one set represents the residentsand the other set represents the safe zones.\n",
    "1，Create a source node s and a target node t.\n",
    "2，Connect the source s to each resident with an edge capacity of 1 (indicating that each2resident can be evacuated once).\n",
    "3，Connect each safe zone to the target t with an edge capacity of m p (indicating themaximum capacity of each safe zone)\n",
    "4，For each resident, connect them to the safe zones that are within a 15-minute walk. Each of\n",
    "these edges will have a capacity of 1.\n",
    "5，Use the Ford-Fulkerson max-flow algorithm to find the maximum flow in this network.\n",
    "If the maximum flow is egual to m, then it is feasible to evacuate all residents following theconstraints. Otherwise, it is not possible."
   ]
  },
  {
   "cell_type": "markdown",
   "id": "806d4c16-f590-477f-beca-7aad7e2129f1",
   "metadata": {},
   "source": [
    "## Q7"
   ]
  },
  {
   "cell_type": "markdown",
   "id": "a77a38ac-1fa5-44e4-8ba2-bba0cb102567",
   "metadata": {},
   "source": [
    "You are the city planner for the lively city of Harmony, and you're tasked with placing parks along the city's central Riverside Avenue. There is a potential spot for a park on each block, for M blocks, all aligned linearly. For spot j, if you establish a park there, the city's happiness index will increase by hj>0. However, the city council has decided that no two parks can be on adjacent blocks to prevent noise and traffic congestion. \n",
    "\n",
    "Your objective is to establish parks at a subset of the M spots that maximize the total happiness index of the locations you pick, while adhering to the non-adjacency rule.\n",
    "\n",
    "2.1 Define the Sub Problems\n",
    "\n",
    "Let PARK(j) be the maximum happiness index achievable from establishing parks only on blocks 1 . . . j.\n",
    "\n",
    "2.2 Present Your Recurrence\n",
    "\n",
    "TODO: Offer a recurrence for PARK(j).\n",
    "\n",
    "2.3 Prove your recurrence is correct\n",
    "\n",
    "TODO: Prove your recurrence is valid.\n",
    "\n",
    "2.4 State and Prove Base Cases\n",
    "\n",
    "TODO: Declare the base case(s) for your recurrence."
   ]
  },
  {
   "cell_type": "markdown",
   "id": "9a913851-1e46-4f0a-890e-cc45fffba9d2",
   "metadata": {},
   "source": [
    "## Solution:"
   ]
  },
  {
   "cell_type": "markdown",
   "id": "d07cde46-0588-4932-8b1a-41579d657c25",
   "metadata": {},
   "source": [
    "2.2 Present Your Recurrence\n",
    "PARK(j) = max(PARK(j - 1), h + PARK(j - 2))\n",
    "\n",
    "2.3 Prove your recurrence is correct\n",
    "When determining parks' locations on blocks 1 ...j, you either decide to place a park onblock j or refrain. lf you choose not to, then you must place parks optimally on blocks 1...j1, resulting in a happiness index of PARK(j - 1).\n",
    "lf you decide to establish a park on block j, you gain a happiness increase of hj, but you'renow obligated to optimally place parks on blocks 1...j - 2 (since j- 1 is prohibited by yourplacement on block j). This leads to a happiness index of PARK(j - 2) + hj. As you wouldselect the more favorable of these options, you opt for the greater of the two.\n",
    "\n",
    "2.4 State and Prove Base Cases\n",
    "PARK(0) = 0,\n",
    "PARK(1) = h1"
   ]
  },
  {
   "cell_type": "markdown",
   "id": "e84501c8-76a1-4f20-86d9-50c6a5dccc3c",
   "metadata": {},
   "source": [
    "## Q8"
   ]
  },
  {
   "cell_type": "raw",
   "id": "e7cd20e7",
   "metadata": {},
   "source": [
    "Given the weights and values of the six items in the table below, select a subset of items with the maximum combined value that will fit in a knapsack with a weight limit, W, of 11. Use dynamic programming. Show your work."
   ]
  },
  {
   "cell_type": "markdown",
   "id": "7b3a0941-d622-476d-b5f6-d7f1598922b8",
   "metadata": {},
   "source": [
    "| Item i | Value \\(v_i\\) | Weight \\(w_i\\) |\n",
    "|--------|---------------|----------------|\n",
    "| 1      | 4             | 5              |\n",
    "| 2      | 1             | 2              |\n",
    "| 3      | 3             | 3              |\n",
    "| 4      | 6             | 4              |\n",
    "| 5      | 5             | 6              |\n",
    "| 6      | 2             | 1              |\n"
   ]
  },
  {
   "cell_type": "raw",
   "id": "cb00fbc1-20e9-4f78-94d4-69530be84540",
   "metadata": {},
   "source": [
    "Capacity of knapsack W=11"
   ]
  },
  {
   "cell_type": "markdown",
   "id": "81de29c3-79f1-4cf9-8fa1-833099586ac8",
   "metadata": {},
   "source": [
    "## Solution:"
   ]
  },
  {
   "cell_type": "markdown",
   "id": "97bf57f7-3842-4ca0-bfd4-96bef68bbf7d",
   "metadata": {},
   "source": [
    "Capacity of knapsack W=11\n",
    "Algorithm: given two arrays w[15, 2, 3, 4, 6, 1] and v[4, 1, 3, 6, 5, 2]\n",
    "For i <- 1 to n:\n",
    "For x <- 1 to W:\n",
    "If w[i]>x:\n",
    "OPT[i,x]- OPT[i-1,x]\n",
    "Else\n",
    "OPT[i,x]< max(oPT[i- 1,x], OPT[i-1,x- w[i]]++v[i])\n",
    "Using dynamic programming table:"
   ]
  },
  {
   "cell_type": "markdown",
   "id": "46fd5820-aa0a-4400-a60a-a33e1b965fa8",
   "metadata": {},
   "source": [
    "|   | 0 | 1 | 2 | 3 | 4 | 5 | 6 | 7 | 8 | 9 | 10| 11|\n",
    "|---|---|---|---|---|---|---|---|---|---|---|---|---|\n",
    "| 1 | 0 | 0 | 0 | 0 | 0 | 4 | 4 | 4 | 4 | 4 | 4 | 4 |\n",
    "| 2 | 0 | 0 | 1 | 1 | 1 | 4 | 5 | 5 | 5 | 5 | 5 | 5 |\n",
    "| 3 | 0 | 0 | 1 | 3 | 4 | 4 | 5 | 7 | 8 | 8 | 8 | 8 |\n",
    "| 4 | 0 | 0 | 1 | 3 | 6 | 7 | 7 |10 |10 |11 |13 |14 |\n",
    "| 5 | 0 | 0 | 1 | 3 | 6 | 7 | 8 |10 |11 |12 |13 |14 |\n",
    "| 6 | 0 | 2 | 2 | 3 | 5 | 6 | 7 | 8 |11 |12 |13 |14 |\n"
   ]
  },
  {
   "cell_type": "raw",
   "id": "3afc9982",
   "metadata": {},
   "source": [
    "From the table, the optimal solution has a value of 14 with items 3, 4, and 6. The\n",
    "combined weight is 8 and their combined value is 14.\n",
    "herefore, the subset of items with the maximum combined value that fts in the\n",
    "knapsack is S={3, 4, 6}."
   ]
  }
 ],
 "metadata": {
  "kernelspec": {
   "display_name": "Python 3 (ipykernel)",
   "language": "python",
   "name": "python3"
  },
  "language_info": {
   "codemirror_mode": {
    "name": "ipython",
    "version": 3
   },
   "file_extension": ".py",
   "mimetype": "text/x-python",
   "name": "python",
   "nbconvert_exporter": "python",
   "pygments_lexer": "ipython3",
   "version": "3.11.5"
  }
 },
 "nbformat": 4,
 "nbformat_minor": 5
}
