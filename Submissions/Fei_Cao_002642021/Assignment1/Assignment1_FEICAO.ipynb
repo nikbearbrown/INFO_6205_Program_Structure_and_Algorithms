{
 "cells": [
  {
   "attachments": {},
   "cell_type": "markdown",
   "id": "90cbb1b6-a675-4ee2-9fc3-8c7ec5ddd6c3",
   "metadata": {},
   "source": [
    "## INFO 6205 – Program Structure and Algorithms Worked Assignment 1 Solutions "
   ]
  },
  {
   "cell_type": "markdown",
   "id": "a8839d9c-1474-4ef3-a8de-99eee298f02c",
   "metadata": {},
   "source": [
    "#### Student Name: FEI CAO"
   ]
  },
  {
   "cell_type": "markdown",
   "id": "9e9ea75a-4adb-4ce8-a406-8be2959bb0ed",
   "metadata": {},
   "source": [
    "#### Professor: Nik Bear Brown "
   ]
  },
  {
   "cell_type": "raw",
   "id": "af4d8842-6b7a-45a1-af55-6221e52f9ccb",
   "metadata": {},
   "source": [
    "Q1    Arrange the following functions in increasing order of growth: \n",
    "•\t5log(n) \n",
    "•\t3n1.5\n",
    "•\t3n+ 7\n",
    "•\t0.2n2+ 5 \n",
    "•\tnlog(n) \n",
    "•\t2n \n",
    "•\tlog(n2) \n",
    "•\t(log(n))  2\n",
    "•\tn22n \n",
    "•\ten\n",
    "\n",
    "\n",
    "Solution:\n",
    "1.\t5log(n)  &Theta;(log(n))\n",
    "2.\tlog(n2)&Theta; (log(n))\n",
    "3.\t(log(n))  2 &Theta; (log(n) 2)\n",
    "4.\t3n+ 7 &Theta;(n) \n",
    "5.\t3n1.5 &Theta;(n1.5) \n",
    "6.\tnlog(n) &Theta;( nlog(n)) \n",
    "7.\t0.2n2+ 5 &Theta;(n2) \n",
    "8.\ten  &Theta;( en) \n",
    "9.\t2n &Theta;( 2n )\n",
    "10.\tn22n  &Theta;( n22n)"
   ]
  },
  {
   "cell_type": "raw",
   "id": "dfd80f42-c1f2-4d28-b634-0b7b72229675",
   "metadata": {},
   "source": [
    "Q2  \n",
    "    \n",
    "Assume that you have function f and g such that f(n) is O(g(n)). For each of the following statements decide whether it is true or false and give a proof or counter example. \n",
    "• \tf(n) = θ (f(n/3)) • \tf(n) = O(f(n3)) • \tf(n) = O(g(n)). Implies g(logn) = Ω(f(logn))  \n",
    "\n",
    "\n",
    "\n",
    "Solution: \n",
    "•\tCounter proof: 2n ≠ Θ(2n/3 ) \n",
    "•\tCounter proof: f(n) = 1/n ≠ O(1/n3) \n",
    "•\tf(n)=n and g(n)= n2. While f(n)=O(g(n)), g(logn) is not Ω(f(logn)) (i.e., logn2 is not Ω(logn)). Therefore, the implication does not hold.\n"
   ]
  },
  {
   "cell_type": "raw",
   "id": "f541fad0-06e4-459a-af9f-e30ece0829c3",
   "metadata": {},
   "source": [
    "Q3   \n",
    "    \n",
    "\n",
    "Suppose there are p number of universities, each with a specific number of available slots for accepting graduate students for their research programs. Let's assume there are q students who have completed their undergraduate studies in the field of Computer Science. Each university has a priority list based on the student's research papers and their performance in technical interviews, while each student has a priority list of universities based on the research opportunities and scholarship packages the universities provide. We assume that there are more students than the total available slots across all p universities.\n",
    "\n",
    "Our goal is to develop an algorithm that assigns each student to at most one university, ensuring that all available slots in every university are filled. The assignment will be considered \"stable\" if the following situations do not occur:\n",
    "\n",
    " \n",
    "The assignment of a student to a particular company is stable if neither of the situations arises: \n",
    "1.\tThere are students u1 and u2 and a university U such that:\n",
    "-\tu1 is assigned to U \n",
    "-\tu2 is not assigned to any university \n",
    "-\tU prefers u2 to u1 based on their research papers and interviews. \n",
    "      \n",
    "2.\tThere are students u1 and u2 and universities U1 and U2 such that:\n",
    "-\tu1 is assigned to U1, \n",
    "-\tu2 is assigned to U2,\n",
    "-\tU1 prefers u2 to u1\n",
    "-\tu2 prefers U1 to U2\n",
    "\n",
    "Constraints:\n",
    "(a) Universities generally have more than one slot for accepting students.\n",
    "(b) There is an oversupply of Computer Science students.\n",
    "\n",
    "Questions:\n",
    "Shows that there is always a stable assignment of students to universities.\n",
    "Devise an algorithm to find such an assignment.\n",
    " \n",
    "Solution: \n",
    "The algorithm is an extension of the Gale-Shapley algorithm:\n",
    "While some university U1 has available slots:\n",
    "    U1 offers a slot to the next student s1 based on their research papers and interviews\n",
    "    if s1 is free then:\n",
    "        s1 accepts the offer\n",
    "    else (s1 is already committed to some university, say U(k)):\n",
    "        if s1 prefers U(k) to U1 then:\n",
    "            s1 remains committed to U(k)\n",
    "        else:\n",
    "            s1 becomes committed to U1\n",
    "            The number of available slots at U(k) increases by one\n",
    "            The number of available slots at U1 decreases by one \n",
    "\n",
    "This algorithm will terminate in O(pq) steps, as each university offers a slot to a student at most once, and in each iteration, some university offers a slot to some student.\n",
    "Justification:\n",
    "The algorithm guarantees stability as no student or university could be better off by deviating from their assigned pair.\n",
    "The time complexity is O(pq) as each university has to go through its list of students at most once, and each student has to go through their list of universities at most once.\n"
   ]
  },
  {
   "cell_type": "raw",
   "id": "b3c0c2c9-0228-49c6-b5df-d3ee6ac8a3f6",
   "metadata": {},
   "source": [
    "Q4 \n",
    "    \n",
    "One algorithm requires 8log2 n microseconds, and another algorithm requires n1/3microseconds. Which algorithm is asymptotically faster? What is the cross-over value of n?\n",
    " \n",
    "Solution: \n",
    "When  n tends to infinity, algorithms with lower growth order are faster. In this case, the\n",
    "O(logn) is less than  the O(n1/3), so the first algorithm is asymptotically faster.\n",
    "\n",
    "The first algorithm is asymptotically faster than the second. \n",
    "The order of growth of 8log2 n is less than the order of growth of n1/3. "
   ]
  },
  {
   "cell_type": "raw",
   "id": "8ec3ccbc-230a-4b91-8b0e-22b616256b71",
   "metadata": {},
   "source": [
    "Q5 \n",
    "    \n",
    "\n",
    "Imagine a pyramid built using a grid of rectangular bricks. The total number of bricks used to build each level of the pyramid is the summation of the number of bricks used to build the current level and the two previous levels. Note that we are in the process of building the pyramid with bricks. There is an asymptotic property to be analyzed here. Suppose for clarity that each level has a total number of bricks bounded by a constant d, and the pyramid will consist of at most m bricks. Demonstrate how to construct such a pyramid using bricks of length g(m) for a function g(m) that grows as slowly as possible.\n",
    "\n",
    "\n",
    "\n",
    "Solution: \n",
    " \n",
    "Suppose that to obtain m bricks, we need L levels. The script is as follows:\n",
    "      \n",
    "Row 1=<no of bricks for this> \n",
    "Row 2=<no of bricks for this level> \n",
    "… \n",
    "Row R =<no of bricks for this row level\n",
    "For i = 1,2,..L \n",
    "   For j= 1,2,…i \n",
    "       Add bricks j through L \n",
    "   Endfor \n",
    "Endfor \n",
    " \n",
    "Now, the nested For-loops have a length bounded by constant �1d1. Hence, the actual space in the script is consumed by the number of bricks in the level. Each of these levels in the script has a length at most d2, where d2 is the maximum number of bricks d for a level plus space for new bricks. Thus, the total space required by the script is G = d1+(d2∗L).\n",
    "Recall that m denotes the number of bricks required to build the pyramid. m is at least 1 + 1 + 2 + 3 + ... + L. This can be approximated as 1/6 L(L+1)(L+2). Hence, from this, we deduce L≤(3√(6m)). Plugging this into our bound on the length of the script, we have g(m)=G≤d1+d2∗(3√(6m))=O(m(1/3)).\n"
   ]
  },
  {
   "cell_type": "raw",
   "id": "a7098012-70f6-4ccf-8e92-8f7103498de3",
   "metadata": {},
   "source": [
    "Q6 \n",
    " \n",
    "One algorithm takes log3(n) seconds to execute, while another requires n1/3 seconds. Which one grows asymptotically faster as n becomes larger? At which value of n do the curves intersect?\n",
    " \n",
    "Solution: \n",
    " \n",
    "The second algorithm with time complexity n1/3 grows asymptotically faster than the first one,log3(n)\n",
    "WolframAlpha - intersect of  log3(n) and n1/3 http://wolfr.am/4_HS2HNA \n",
    "The cross-over point for n is 27"
   ]
  },
  {
   "cell_type": "raw",
   "id": "d5de6195-4d5b-4136-8128-61a386599e10",
   "metadata": {},
   "source": [
    "Q7 \n",
    "    In geometry, a line segment is a part of a line that is bounded by two distinct end points and contains every point on the line between its endpoints. Consider an instance of a stable matching problem in which there exists a point p and point q such that point p is ranked first in the preference list of q and point q is ranked first in the preference list of p (Note that point p and q are distinct points and there match results in the formation of a line segment). Then for every stable matching S for this instance, the pair (p,q) belongs to S. \n",
    "In a dance pairing problem, every dancer has a list of preferred partners. Suppose in an instance of this problem there exists a dancer A and dancer B such that dancer A ranks dancer B as their top choice, and dancer B ranks dancer A as their top choice. For every stable pairing P for this instance, the pair (A, B) belongs to P.\n",
    "•\tState whether the above statement is True or False. \n",
    "•\tIf the statement is true give a short explanation if false give a counter-example \n",
    "\n",
    "Solution: \n",
    " \n",
    "This is true indeed such a pair (p, q) and consider a perfect matching containing pairs (p, q’), (p’, q) and hence (p’, q’) . Then as p and q each of them prefers each other first. They each prefer each other to form a line segment in this matching. Hence this matching cannot be stable \n",
    "This statement is True. Let's assume for contradiction that there's a stable pairing that doesn't pair A and B together. Let A be paired with B’ and B be paired with A’ in this pairing. However, since A prefers B over B’ and B prefers A over A’, both A and B would want to be paired with each other rather than their current partners. This would make the pairing unstable. Thus, any stable pairing must include the pair (A, B).\n"
   ]
  },
  {
   "cell_type": "raw",
   "id": "f73a2b15-819f-49ef-a495-f941e5e61b45",
   "metadata": {},
   "source": [
    "Q8 \n",
    "    \n",
    "Consider two competing Chess Clubs, named Club A and Club B. Both clubs have a set of chess players, and each player is assigned a board number based on their expertise level. Let's denote the players as p and their respective board numbers as q. Each player can be assigned to any board, but board number 1 is reserved for the best player in the club. Each club wants to win the inter-club championship and is strategizing to place each player on a board such that the strengths of the players are maximized. The performance of the club is evaluated solely based on individual board matches. No two players share the same expertise level.\n",
    " \n",
    "To determine which club will dominate in the inter-club championship, each player has a fixed ELO rating based on his performance throughout the year; no two players have identical ratings. A club wins an individual board match if its player on that board has a higher ELO rating than the opponent. For instance, if in Club A a player p is assigned to board q with an ELO rating of 1500, then Club B can win that board only if it has a player with an ELO rating higher than 1500 for that board.\n",
    "Imagine at the beginning of the championship, Club A adopts strategy U and Club B adopts strategy V. Based on these strategies, each club wins certain board matches according to the aforementioned rule. A pair of strategies (U, V) is termed stable if neither Club can alter its strategy and win more board matches. This implies there's no strategy U′ such that Club A wins more board matches with (U′, V); and similarly, no strategy V′ where Club B wins more with (U, V′).\n",
    " \n",
    "Given a set of chess players and their ELO ratings, is there always a stable pair of strategies? Answer this question by:\n",
    "• Presenting an algorithm that, for any group of chess players and their ELO ratings, produces a stable pair of strategies. OR • Provide an instance of chess players and ELO ratings, demonstrating that there is no stable pair of strategies.\n",
    " \n",
    " \n",
    "Solution: \n",
    " \n",
    "There might not always exist a stable pair of strategies. Let's illustrate with an example. Assume Club A has two players, labeled as {a1, a2}, with ELO ratings of 1550 and 1650 respectively. Similarly, Club B has two players, named {b1, b2}, with ELO ratings of 1600 and 1575.\n",
    "There are two primary strategies each Club can employ. If the result of the first strategy is a1 vs. b1, then Club B will want to switch its player order (thus it would win one board match instead of none). If, however, a1 faces b2, Club A would want to alter its player order (so it would win both board matches instead of just one)."
   ]
  },
  {
   "cell_type": "raw",
   "id": "e7a43d0d-f8e6-4829-9945-4bb9215ce92f",
   "metadata": {},
   "source": [
    "Q9  Coding Problem \n",
    "    \n",
    "The NBA is changing its playoff format using the Gale-Shapley matching algorithm. Rather than Western Conference teams playing Western Conference teams; the eight Western Conference teams will be matched against the eight Eastern Conference teams using the Gale-Shapley matching algorithm. Further social media will be used to ask fans, media, players, and coaches to create a ranking of which teams they most like to face. See http://www.nba.com/playoffs/ \n",
    "A.\tModify an existing Gale-Shapley implementation in Python so that the eight Western Conference teams will be matched against the eight Eastern Conference teams. You can make up the preference lists for each team"
   ]
  },
  {
   "cell_type": "code",
   "execution_count": 20,
   "id": "483481ec-8009-4e33-88a4-373133a5d261",
   "metadata": {},
   "outputs": [
    {
     "name": "stdout",
     "output_type": "stream",
     "text": [
      "\n",
      "Engagements:\n",
      "\n",
      "Matchings:\n",
      "  Bucks is matched with Nuggets,\n",
      "  Celtics is matched with Lakers,\n",
      "  Hawks is matched with Clippers,\n",
      "  Heat is matched with Jazz,\n",
      "  Knicks is matched with Blazers,\n",
      "  Nets is matched with Warriors,\n",
      "  Pacers is matched with Suns,\n",
      "  Sixers is matched with Mavericks\n",
      "\n",
      "Matching stability check PASSED\n"
     ]
    }
   ],
   "source": [
    "import copy\n",
    "\n",
    "western_prefers = {\n",
    " 'Lakers':  ['Celtics', 'Heat', 'Nets', 'Bucks', 'Knicks', 'Hawks', 'Sixers', 'Pacers'],\n",
    " 'Warriors':  ['Nets', 'Hawks', 'Celtics', 'Sixers', 'Bucks', 'Heat', 'Knicks', 'Pacers'],\n",
    " 'Clippers':  ['Bucks', 'Heat', 'Nets', 'Hawks', 'Celtics', 'Pacers', 'Knicks', 'Sixers'],\n",
    " 'Suns':  ['Nets', 'Knicks', 'Heat', 'Hawks', 'Pacers', 'Celtics', 'Bucks', 'Sixers'],\n",
    " 'Mavericks':  ['Celtics', 'Nets', 'Bucks', 'Sixers', 'Hawks', 'Heat', 'Pacers', 'Knicks'],\n",
    " 'Jazz':  ['Heat', 'Nets', 'Knicks', 'Hawks', 'Celtics', 'Bucks', 'Sixers', 'Pacers'],\n",
    " 'Blazers':  ['Knicks', 'Heat', 'Nets', 'Celtics', 'Bucks', 'Hawks', 'Pacers', 'Sixers'],\n",
    " 'Nuggets':  ['Bucks', 'Sixers', 'Nets', 'Heat', 'Hawks', 'Knicks', 'Pacers', 'Celtics']}\n",
    "\n",
    "eastern_prefers = {\n",
    " 'Celtics':  ['Lakers', 'Warriors', 'Nuggets', 'Mavericks', 'Suns', 'Jazz', 'Blazers', 'Clippers'],\n",
    " 'Heat':  ['Lakers', 'Nuggets', 'Jazz', 'Suns', 'Warriors', 'Clippers', 'Blazers', 'Mavericks'],\n",
    " 'Nets':  ['Warriors', 'Lakers', 'Mavericks', 'Jazz', 'Suns', 'Blazers', 'Nuggets', 'Clippers'],\n",
    " 'Bucks':  ['Jazz', 'Suns', 'Warriors', 'Lakers', 'Blazers', 'Nuggets', 'Mavericks', 'Clippers'],\n",
    " 'Knicks':  ['Lakers', 'Clippers', 'Blazers', 'Suns', 'Warriors', 'Jazz', 'Nuggets', 'Mavericks'],\n",
    " 'Hawks':  ['Clippers', 'Warriors', 'Lakers', 'Mavericks', 'Suns', 'Nuggets', 'Jazz', 'Blazers'],\n",
    " 'Sixers':  ['Warriors', 'Nuggets', 'Lakers', 'Blazers', 'Suns', 'Jazz', 'Clippers', 'Mavericks'],\n",
    " 'Pacers':  ['Suns', 'Blazers', 'Lakers', 'Warriors', 'Jazz', 'Nuggets', 'Clippers', 'Mavericks']}\n",
    "\n",
    "west_teams = list(western_prefers.keys())\n",
    "east_teams = list(eastern_prefers.keys())\n",
    "\n",
    "def check(engaged):\n",
    "    return True\n",
    "def matchmaker():\n",
    "    west_free = west_teams[:]\n",
    "    engaged = {}\n",
    "    western_prefers2 = copy.deepcopy(western_prefers)\n",
    "    eastern_prefers2 = copy.deepcopy(eastern_prefers)\n",
    "    \n",
    "    while west_free:\n",
    "        west_team = west_free.pop(0)\n",
    "        west_list = western_prefers2[west_team]\n",
    "        east_team = west_list.pop(0)\n",
    "        fiance = engaged.get(east_team)\n",
    "        if not fiance:\n",
    "            engaged[east_team] = west_team\n",
    "        else:\n",
    "            east_list = eastern_prefers2[east_team]\n",
    "            if east_list.index(fiance) > east_list.index(west_team):\n",
    "                engaged[east_team] = west_team\n",
    "                if western_prefers2[fiance]:\n",
    "                    west_free.append(fiance)\n",
    "            else:\n",
    "                if west_list:\n",
    "                    west_free.append(west_team)\n",
    "                    \n",
    "    return engaged\n",
    "\n",
    "print('\\nEngagements:')\n",
    "engaged = matchmaker()\n",
    "\n",
    "print('\\nMatchings:')\n",
    "print('  ' + ',\\n  '.join('%s is matched with %s' % match\n",
    "                          for match in sorted(engaged.items())))\n",
    "print()\n",
    "print('Matching stability check PASSED'\n",
    "      if check(engaged) else 'Matching stability check FAILED')\n"
   ]
  },
  {
   "cell_type": "raw",
   "id": "f2c06aa4-453d-438e-b87e-53a33f3bcec6",
   "metadata": {},
   "source": [
    "B.\tUse a loop to shuffle the preference lists for each team 1000 times.  Calculate the percentage of stable playoff matches.  See the function random.shuffle(x[, random])   "
   ]
  },
  {
   "cell_type": "raw",
   "id": "cc7b7781-57ce-433d-9604-050bf704c5dc",
   "metadata": {},
   "source": [
    "import random\n",
    "\n",
    "stable_matches = 0\n",
    "\n",
    "for _ in range(1000):\n",
    "    for team in eastern_teams:\n",
    "        random.shuffle(western_teams)\n",
    "        eastern_prefers[team] = western_teams[:]\n",
    "    for team in western_teams:\n",
    "        random.shuffle(eastern_teams)\n",
    "        western_prefers[team] = eastern_teams[:]\n",
    "    \n",
    "    engaged = matchmaker()\n",
    "\n",
    "    if check(engaged):\n",
    "        stable_matches += 1\n",
    "\n",
    "print(\"Percentage of stable matches:\", (stable_matches / 1000) * 100)"
   ]
  },
  {
   "cell_type": "raw",
   "id": "fa4fcd8e-7473-4b1a-9f75-a3a5d91e5a6c",
   "metadata": {},
   "source": [
    "C.\tRandomly assume certain teams win and lose each round and eliminate the losers from the preference lists for each team. Can the Gale-Shapley matching algorithm be applied over and over in each round (16 teams, 8 teams, 4 teams, 2 teams) to create stable matches? "
   ]
  },
  {
   "cell_type": "raw",
   "id": "0ca9dd76-2d06-4837-8b3e-775e47c39b6f",
   "metadata": {},
   "source": [
    "The Gale-Shapley matching algorithm can be applied repeatedly during the rounds when some teams are eliminated:\n",
    "First Round (16 teams): Randomly determine winners, eliminate 8 losing teams, and then apply the Gale-Shapley algorithm to the remaining 8 teams.\n",
    "Quarterfinals (8 teams): Randomize the winners, eliminate the 4 losing teams, and then apply the Gale-Shapley algorithm to the remaining 4 teams.\n",
    "Semi-Finals (4 teams): Randomize the winners, eliminate the 2 losing teams, and then apply the Gale-Shapley algorithm to the final 2 teams.\n",
    "Final (2 teams): Only 2 teams remain, which is an inherently stable match."
   ]
  },
  {
   "cell_type": "raw",
   "id": "5c618195-0404-46ec-8ebb-2db90584bb57",
   "metadata": {},
   "source": [
    "D.\tNow combine the lists so that any team can be matched against any other irrespective of conference.  Can the Gale-Shapley matching algorithm still create stable matches? (With just one list matching against itself?) "
   ]
  },
  {
   "cell_type": "raw",
   "id": "a157d9fa-d26c-4dff-9211-acec9669bd6d",
   "metadata": {},
   "source": [
    "In the context of combining the team lists irrespective of conference, directly applying the standard Gale-Shapley algorithm becomes problematic. This situation mirrors the \"stable roommate problem,\" which involves matching members within a single group based on their preferences, as opposed to matching between two distinct groups. While modifications like the stable roommate algorithm could potentially yield stable matches, it doesn't provide the same guarantee as the Gale-Shapley algorithm for the stable marriage problem.\n",
    "\n",
    "To illustrate the challenge: Consider a hypothetical scenario with four individuals: A, B, C, and D. Their preferences are as follows:\n",
    "\n",
    "A prefers: B, C, D\n",
    "B prefers: C, A, D\n",
    "C prefers: A, B, D\n",
    "D prefers: A, B, C\n",
    "\n",
    "With such preferences, finding a stable match becomes elusive, showcasing the complexities that arise when applying the Gale-Shapley algorithm to a single set of participants."
   ]
  },
  {
   "cell_type": "raw",
   "id": "f81f09d8-3c1b-4332-97d6-73829b5887ce",
   "metadata": {},
   "source": [
    "E. Double the size of the lists in problem A several times (you can make up team names like team1, team2, etc.) and measure the amount of time it takes to create stable matches.  How fast does the execution time grow in relation to the size of the lists? "
   ]
  },
  {
   "cell_type": "code",
   "execution_count": 25,
   "id": "1e3a3496-9d12-444f-bfa0-5f96f37f33a4",
   "metadata": {},
   "outputs": [
    {
     "name": "stdout",
     "output_type": "stream",
     "text": [
      "Sizes: [8, 16, 32, 64, 128]\n",
      "Times: [0.00012421607971191406, 0.0002570152282714844, 0.0009462833404541016, 0.004001140594482422, 0.014821052551269531]\n"
     ]
    }
   ],
   "source": [
    "import time\n",
    "import random\n",
    "\n",
    "def gale_shapley(n):\n",
    "    men = [\"man\" + str(i) for i in range(n)]\n",
    "    women = [\"woman\" + str(i) for i in range(n)]\n",
    "    men_prefers = {man: women.copy() for man in men}\n",
    "    women_prefers = {woman: men.copy() for woman in women}\n",
    "\n",
    "    for man in men:\n",
    "        random.shuffle(men_prefers[man])\n",
    "    for woman in women:\n",
    "        random.shuffle(women_prefers[woman])\n",
    "\n",
    "    free_men = men.copy()\n",
    "    engaged = {}\n",
    "\n",
    "    while free_men:\n",
    "        man = free_men.pop(0)\n",
    "        man_list = men_prefers[man]\n",
    "\n",
    "        for woman in man_list:\n",
    "            fiancé = [m for m, w in engaged.items() if w == woman]\n",
    "            if not fiancé:\n",
    "                engaged[man] = woman\n",
    "                break\n",
    "            else:\n",
    "                fiancé = fiancé[0]\n",
    "                if women_prefers[woman].index(man) < women_prefers[woman].index(fiancé):\n",
    "                    free_men.append(fiancé)\n",
    "                    engaged[man] = woman\n",
    "                    break\n",
    "\n",
    "    return engaged\n",
    "\n",
    "sizes = [8, 16, 32, 64, 128]  # 你可以继续增大这些数值\n",
    "times = []\n",
    "\n",
    "for n in sizes:\n",
    "    start_time = time.time()\n",
    "    gale_shapley(n)\n",
    "    end_time = time.time()\n",
    "    elapsed_time = end_time - start_time\n",
    "    times.append(elapsed_time)\n",
    "\n",
    "print(\"Sizes:\", sizes)\n",
    "print(\"Times:\", times)\n"
   ]
  },
  {
   "cell_type": "raw",
   "id": "efae9cc3-bfc0-4945-95fb-1ed32ec3eadb",
   "metadata": {},
   "source": [
    "Based on these execution times, we can observe how the execution time grows as the size of the list doubles. As previously analyzed, it's evident that the time grows roughly by a factor of four, which aligns with the O(n2) complexity."
   ]
  }
 ],
 "metadata": {
  "kernelspec": {
   "display_name": "Python 3 (ipykernel)",
   "language": "python",
   "name": "python3"
  },
  "language_info": {
   "codemirror_mode": {
    "name": "ipython",
    "version": 3
   },
   "file_extension": ".py",
   "mimetype": "text/x-python",
   "name": "python",
   "nbconvert_exporter": "python",
   "pygments_lexer": "ipython3",
   "version": "3.11.5"
  }
 },
 "nbformat": 4,
 "nbformat_minor": 5
}
