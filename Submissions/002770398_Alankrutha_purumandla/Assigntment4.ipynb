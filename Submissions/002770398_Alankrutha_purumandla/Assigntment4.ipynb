{
  "nbformat": 4,
  "nbformat_minor": 0,
  "metadata": {
    "colab": {
      "provenance": []
    },
    "kernelspec": {
      "name": "python3",
      "display_name": "Python 3"
    },
    "language_info": {
      "name": "python"
    }
  },
  "cells": [
    {
      "cell_type": "code",
      "execution_count": null,
      "metadata": {
        "id": "58D5PXJwnXwv"
      },
      "outputs": [],
      "source": [
        "\n"
      ]
    },
    {
      "cell_type": "markdown",
      "source": [
        "Question 1:  Consider the following problem: given a graph G = (V, E) with\n",
        "n vertices and m edges, does G contain a clique of size 5?\n",
        "Is this problem NP-complete, or in P? Prove your answer.\n",
        "\n",
        "\n",
        "Solution:\n",
        "Given a graph G = (V, E) with |V | = n,we assume n > 5.\n",
        "\n",
        "*   Now we list  all possible subsets of V with size 5. This can be done in O(n^5) time complexity,Since there are n vertices in the graph, the number of ways to choose 5 vertices out of n is given by \"n choose 5,\" which is O(n^5).\n",
        "*   For each of these subsets S (which contain 5 vertices), check if there is a clique over S. This can be done in O(|E|) time complexity.\n",
        "\n",
        "\n",
        "*   Checking for a clique over a set of vertices can be done by examining the edges in the graph.\n",
        "*   we need to check if all possible pairs of vertices in S are connected by edges in G.\n",
        "\n",
        "\n",
        "*   The number of edges in the graph is given by |E|, and checking for a clique over 5 vertices can be done in O(|E|) time complexity.\n",
        ", to determine whether the problem is in P or NP-complete:\n",
        "\n",
        "An algorithm is in P if it can be solved in polynomial time.\n",
        "An algorithm is NP-complete if it is at least as hard as the hardest problems in NP.\n",
        "In this case, the provided algorithm runs in polynomial time because the time complexity is bounded by O(n^5 * |E|), which is polynomial in the size of the input (the size of the graph). Therefore, the \"5-Clique\" problem is in P according to this solution, as it can be decided in polynomial time.\n",
        "\n",
        "\n",
        "\n",
        "\n",
        "\n",
        "\n",
        "\n",
        "\n",
        "\n",
        "\n",
        "\n",
        "\n",
        "\n",
        "\n",
        "\n",
        "\n"
      ],
      "metadata": {
        "id": "llQpwlm4obKB"
      }
    },
    {
      "cell_type": "markdown",
      "source": [
        "**Question-2:**\n",
        "A tennis racket of size n is a graph that has a simple cycle of length\n",
        "n/2 (the body of the racket) and a handle (a path of nodes) of length n/2 that connects to\n",
        "the body. The handle and the body have just one intersection point, which happens to be\n",
        "one of the ends of the handle.\n",
        "\n",
        "Show that answering whether a given graph of n nodes has a\n",
        "tennis racket of size n is NP-complete.\n",
        "\n",
        "**Solution**: Tennis Racket is clearly in NP, since we can check whether there is a simple cycle in nodes from the body and a path visit all nodes from the handle using polynomial time.\n",
        "\n",
        "We next show that Hamilton Cycle ≤P Tennis Racket. Given an undirected graph G =\n",
        "(V, E), where V = {v1, v2, . . . , vn}. We construct a new undirected graph G′ = (V′, E′), where V′ = {v1, v2, . . . , v2n}, and E′ = E ∪ {(vn, vn+1),(vn+1, vn+2), . . . ,(v2n−1, v2n)}.\n",
        "\n",
        " This\n",
        "reduction can be done in O(n) time.\n",
        "We now claim that G′ has a tennis racket if and only if G has a Hamiltonian cycle.\n",
        "Suppose G′ has a tennis racket, by the construction of G′\n",
        ", the vertices on the body of\n",
        "the tennis racket have to be v1, v2, . . . , vn, therefore G has a Hamiltonian cycle. Suppose\n",
        "G has a Hamiltonian cycle, then G′ has a tennis racket with v1, v2, . . . , vn as body and\n",
        "vn+1, vn+2, . . . , v2n as handle."
      ],
      "metadata": {
        "id": "-D8jq81JxjVj"
      }
    },
    {
      "cell_type": "markdown",
      "source": [
        "**Question 3:** A store trying to analyze the behavior of its customers will\n",
        "often maintain a two-dimensional array A, where the rows correspond to its customers and\n",
        "the columns correspond to the products it sells. The entry A[i, j] specifies the quantity of\n",
        "product j that has been purchased by customer i\n",
        "\n",
        "One thing that a store might want to do with this data is the following. Let us say\n",
        "that a subset S of the customers is diverse if no two of the of the customers in S have ever\n",
        "bought the same product (i.e., for each product, at most one of the customers in S has ever\n",
        "bought it). A diverse set of customers can be useful, for example, as a target pool for market\n",
        "research.\n",
        "We can now define the Diverse Subset Problem as follows: Given an m × n array A as\n",
        "defined above, and a number k ≤ m, is there a subset of at least k of customers that is\n",
        "diverse?\n",
        "\n",
        "Show that Diverse Subset is NP-complete."
      ],
      "metadata": {
        "id": "Er3QFYTQ5Ken"
      }
    },
    {
      "cell_type": "markdown",
      "source": [
        "**Solution:**\n",
        "The problem is in NP because we can exhibit a set of k customers, and in\n",
        "polynomial time it can be checked that no two bought any product in common.\n",
        "We now show that Independent Set ≤P Diverse Subset.\n",
        "\n",
        " Given a graph G and a number\n",
        "k, we construct a customer for each node of G, and a product for each edge of G.\n",
        "\n",
        " We then\n",
        "build an array that says customer v bought product e if edge e is incident to node v.\n",
        "\n",
        "Finally,\n",
        "we ask whether this array has a diverse subset of size k.\n",
        "We claim that this holds if and only if G has an independent set of size k.\n",
        "\n",
        " If there is a\n",
        "diverse subset of size k, then the corresponding set of nodes has the property that no two\n",
        "are incident to the same edge, so it is an independent set of size k.\n",
        "\n",
        "Conversely, if there is an\n",
        "independent set of size k, then the corresponding set of customers has the property that no\n",
        "two bought the same product, so it is diverse.\n"
      ],
      "metadata": {
        "id": "2JGCNZMD54mE"
      }
    },
    {
      "cell_type": "markdown",
      "source": [
        "**Question 4:**\n",
        "\n",
        "A DNF boolean formula is expressed as an OR of clauses:\n",
        "clause1 ∨ clause2 ∨ · · · ∨ clause n.\n",
        "In the case of 3-DNF problem, each clause is the AND of 3 literals. As an example, we have\n",
        "the following problem instance:\n",
        "(x1 ∧ x2 ∧ x3) ∨ (x1 ∧ x3 ∧ ¬x4) ∨ (x1 ∧ x2 ∧ x4).\n",
        "Is 3-DNF SAT NP-complete, or in P? Prove your answer\n",
        "\n"
      ],
      "metadata": {
        "id": "dvDAq9Fc7M3S"
      }
    },
    {
      "cell_type": "markdown",
      "source": [
        "**Solution:**\n",
        "\n",
        " It is in P. We process the DNF clause by clause. For each clause we test 2 ^3 = 8\n",
        "different assignments to see if it is satisfiable.\n",
        "\n",
        " If one clause is satisfiable, then we are done\n",
        "– we simply output YES.\n",
        "\n",
        "Otherwise, we move to the next clause. If no clause is satisfiable,\n",
        "we output NO.\n",
        "\n",
        " Clearly our algorithm runs in polynomial time."
      ],
      "metadata": {
        "id": "-zApMxvz86dA"
      }
    },
    {
      "cell_type": "markdown",
      "source": [
        "Reflection:\n",
        "\n",
        "Interacting with ChatGPT helped in brainstorming ideas for creating a problem that captures the\n",
        "essence of the Efficient Recruiting Problem. The model's responses guided the formulation of a\n",
        "problem that aligns with the given sample problem's structure and logic."
      ],
      "metadata": {
        "id": "BNFnS1pp87SL"
      }
    }
  ]
}