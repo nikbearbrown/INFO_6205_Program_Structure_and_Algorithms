{
 "cells": [
  {
   "cell_type": "markdown",
   "id": "612c98ac",
   "metadata": {},
   "source": [
    "# Assignments-1"
   ]
  },
  {
   "cell_type": "markdown",
   "id": "6cb69809",
   "metadata": {},
   "source": [
    "# 09/24/2023"
   ]
  },
  {
   "cell_type": "markdown",
   "id": "b7024ae8",
   "metadata": {},
   "source": [
    "# Q1"
   ]
  },
  {
   "cell_type": "markdown",
   "id": "50bac24f",
   "metadata": {},
   "source": [
    "Suppose there are two groups of people, one consisting of males (M1, M2, M3, M4...) and the other of females (W1, W2, W3, W4...). Each male has a preference list ranking their preferences for females, and likewise, each female has a preference list ranking their preferences for males.\n",
    "\n",
    "Using the Gale-Shapley Stable Marriage Algorithm, males and females will propose to each other based on their preferences. When a female receives a proposal, she will consider her preference list. If the current proposer is more preferable than the previous one, she will accept the proposal; otherwise, she will reject it. Males continue proposing to the next female on their preference list until either all males have been rejected or all females have accepted."
   ]
  },
  {
   "cell_type": "markdown",
   "id": "9627866c",
   "metadata": {},
   "source": [
    "### (a)"
   ]
  },
  {
   "cell_type": "raw",
   "id": "6a0710b9",
   "metadata": {},
   "source": [
    "Provide preference lists for both males and females. For example:\n",
    "Male preference lists:\n",
    "M1: W2, W1, W3, W4\n",
    "M2: W1, W2, W3, W4\n",
    "M3: W2, W3, W4, W1\n",
    "M4: W1, W2, W3, W4\n",
    "Female preference lists:\n",
    "W1: M2, M1, M3, M4\n",
    "W2: M1, M2, M3, M4\n",
    "W3: M1, M2, M4, M3\n",
    "W4: M3, M2, M1, M4\n",
    "Using the Gale-Shapley Stable Marriage Algorithm, calculate a stable marriage matching and list the final matches for each male and female. For example, the output format should be like [[M1, W1][M2, W2]]."
   ]
  },
  {
   "cell_type": "markdown",
   "id": "e24c9ed7",
   "metadata": {},
   "source": [
    "### (b)"
   ]
  },
  {
   "cell_type": "markdown",
   "id": "78b04444",
   "metadata": {},
   "source": [
    "Explain what a stable marriage is and how this algorithm ensures stability in marriages."
   ]
  },
  {
   "cell_type": "markdown",
   "id": "7a9582e0",
   "metadata": {},
   "source": [
    "### Ans:"
   ]
  },
  {
   "cell_type": "raw",
   "id": "9d627ccd",
   "metadata": {},
   "source": [
    "(a)\n",
    "According to Gale-Shapley, we know that males and females will prefer to their first choice, then the second choice, the third choice and so on. Given the preference lists above, we can simulate the process.\n",
    "\n",
    "We use '->' to represent a male proposes to a female or a female accepts a male.\n",
    "M1 -> W2\n",
    "W2 -> M1\n",
    "M2 -> W1\n",
    "W1 -> M2\n",
    "M3 -> W2\n",
    "W2 rejected M3\n",
    "M4 -> W1\n",
    "W1 rejected M4\n",
    "Now, M1 and M2 have been accepted. M3 and M4 have been rejected.\n",
    "\n",
    "M3 -> W3\n",
    "W3 -> M3\n",
    "M4 -> W2\n",
    "W2 rejected M4\n",
    "Now, M1, M2 and M3 have been accepted. M4 has been rejected.\n",
    "\n",
    "M4 -> W3\n",
    "W3 rejected M3\n",
    "W3 -> M4\n",
    "Now, M1, M2 and M4 have been accepted cause W3 prefers M4 to M3. M3 has been rejected.\n",
    "\n",
    "M3 -> W4\n",
    "W4 -> M3\n",
    "Now, all the males have been accepted.\n",
    "\n",
    "The final matches should be:\n",
    "[[M1, W2]\n",
    " [M2, W1]\n",
    " [M3, W4]\n",
    " [M4, W3]]\n",
    "\n",
    "We can use pseudo code to represent the process:"
   ]
  },
  {
   "cell_type": "code",
   "execution_count": null,
   "id": "13b98931",
   "metadata": {},
   "outputs": [],
   "source": [
    "maleList:[(male preference lists)]\n",
    "femaleList:[(female preference lists)]\n",
    "matchList:[]\n",
    "while (there is a male M who has not been accepetd):\n",
    "    M proposes to the highest-ranked female W that he has not proposed yet in his maleList\n",
    "    if (W has accepted a male M2 already):\n",
    "        if(W prefers M to M2 in femaleList):\n",
    "            W rejects M2\n",
    "            W accepts M\n",
    "            delete [W, M2] in matchList\n",
    "            add [W, M] matchList\n",
    "        else:\n",
    "            W rejects M\n",
    "    else:\n",
    "        W accepts M\n",
    "        add [W, M] in matchList\n",
    "        \n",
    "return matchList"
   ]
  },
  {
   "cell_type": "raw",
   "id": "f5f28a8a",
   "metadata": {},
   "source": [
    "(b)\n",
    "In my opinion, a stable marriage means that there are no such a male and a female that would prefer each other instead of their current partners. That is to say, they have already proposed to or accepted the best-suited partners for them.\n",
    "\n",
    "The algorithm ensures the marriage stability by:\n",
    "A male M will propose to females in his preference list in order. When M proposes to a female W, W will first compare M with her current partner(if exists) and accept the preferable one. In this way, W can always choose the she preferred the most.\n",
    "When it comes to males, if M get rejected by W, M will keep proposing to the next female in his preference list unitl he is accepted or get rejected by every female. In this way, M can also find the best-suited female."
   ]
  },
  {
   "cell_type": "markdown",
   "id": "8bf76622",
   "metadata": {},
   "source": [
    "# Reflection"
   ]
  },
  {
   "cell_type": "raw",
   "id": "f145a8e5",
   "metadata": {},
   "source": [
    "How ChatGPT or the tool you used assisted in this task:\n",
    "I used ChatGPT to assist me in this task. It's really a cool tool for us to create something and learn something. When I have confusion about the sample questions, ChatGPT could provide me explanations. And it produced a typical Gale-Shapley problem for me which I think the process I solved this problem can greatly enhance my understanding to this algorithm.\n",
    "\n",
    "Challenges you faced while ensuring the problem maintained the spirit of the example:\n",
    "It's not difficult to ensure the problem maintained the spirit of the example since it's a very typical Gale-Shapley problem. When I saw the problem, I can realize it ask me to find a stable marriage for males and females.\n",
    "\n",
    "What you learned about problem design in the realm of algorithms:\n",
    "- The most important thing that I've learned is that a well-designed algorithmic problem is clear and precisely defined. Ambiguity can lead to confusion and difficulties in understanding the problem's requirements. Therefore, it's of great essential to provide a clear and unambiguous problem statement.\n",
    "- Moreover, it's also helpful to provide clear sample input and output since they clarify the problem's requirements."
   ]
  },
  {
   "cell_type": "code",
   "execution_count": null,
   "id": "ad8a4b55",
   "metadata": {},
   "outputs": [],
   "source": []
  }
 ],
 "metadata": {
  "kernelspec": {
   "display_name": "Python 3 (ipykernel)",
   "language": "python",
   "name": "python3"
  },
  "language_info": {
   "codemirror_mode": {
    "name": "ipython",
    "version": 3
   },
   "file_extension": ".py",
   "mimetype": "text/x-python",
   "name": "python",
   "nbconvert_exporter": "python",
   "pygments_lexer": "ipython3",
   "version": "3.11.4"
  }
 },
 "nbformat": 4,
 "nbformat_minor": 5
}
