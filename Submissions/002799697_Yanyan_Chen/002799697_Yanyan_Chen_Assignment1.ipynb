{
  "nbformat": 4,
  "nbformat_minor": 0,
  "metadata": {
    "colab": {
      "provenance": [],
      "toc_visible": true
    },
    "kernelspec": {
      "name": "python3",
      "display_name": "Python 3"
    },
    "language_info": {
      "name": "python"
    }
  },
  "cells": [
    {
      "cell_type": "markdown",
      "source": [
        "# INFO 6205 – Program Structure and Algorithms Assignment 1 Solutions\n",
        "## Name: Yanyan Chen\n",
        "## NUID: 002799697\n",
        "## Date: 09/24/2023\n",
        "***Note: that there are some snippets of code that are pseudo-code, to better explain and answer questions, and don't really run***"
      ],
      "metadata": {
        "id": "MEiyuZw68mET"
      }
    },
    {
      "cell_type": "markdown",
      "source": [
        "## **Q1:**\n",
        "Arrange the following functions in increasing order of growth as n approaches infinity:\n",
        "* $ log_3{(n^4)} $\n",
        "* $ 2^n+3^n $\n",
        "* $ 0.5^n+12 $\n",
        "* $ log(n)+n^\\frac{1}{2} $\n",
        "* $ log(log_2(n)) $\n",
        "* $ log_3(n^5) $\n",
        "* $ (n+1)!+2^n $\n",
        "* $ n^\\frac{3}{2} $\n",
        "* $ 10^n $\n",
        "\n",
        "###**Answer:**\n",
        "Sort the given functions by slowest growth to fastest growth and analyze each function briefly.\n",
        "\n",
        "#### **Function Analysis:**\n",
        "\n",
        "**1. $ 0.5^n+12 $**\n",
        "\n",
        "$0.5^n$ is an exponentially decreasing term. As n increases, it gradually decreases to 0, eventually dominated by the constant 12, making this the slowest growing function. It is $O(1)$.\n",
        "\n",
        "**2. $ log(log_2(n)) $**\n",
        "\n",
        "This is a double logarithm function, growing very slowly, even slower than a single logarithm function. It is $O(log(log n))$.\n",
        "\n",
        "**3. $ log_3(n^5) $ and  $ log_3{(n^4)} $**\n",
        "\n",
        "These two functions can be simplified to $4 log_2{n}$ and $5 log_3{n}$ respectively. Despite the constant multipliers, their growth rates remain $O(log{n})$\n",
        "\n",
        "**4. $ log(n)+n^\\frac{1}{2} $**\n",
        "\n",
        "This function's growth is dominated by $ n^\\frac{1}{2} $ (the square root of n). Thus, it grows faster than the preceding logarithmic functions, but still slower than linear and polynomial functions. It is $O(n^\\frac{1}{2})$.\n",
        "\n",
        "\n",
        "**5. $ n^\\frac{3}{2} $**\n",
        "\n",
        "This is a polynomial function, which grows faster than all the preceding functions as n increases. It is $O(n^\\frac{3}{2})$.\n",
        "\n",
        "**6. $ 2^n+3^n $**\n",
        "\n",
        "This function's growth is dominated by the $ 3^n $ term, representing exponential growth, which is very rapid.\n",
        "\n",
        "**7. $ 10^n $**\n",
        "\n",
        "Also an exponential growth function, but with a base of 10, it grows faster than $ 2^n+3^n $.\n",
        "\n",
        "**8. $ (n+1)!+2^n $**\n",
        "\n",
        "This function's growth is dominated by $ (n+1)! $ (the factorial), which grows extremely fast and is the fastest growing function among all listed.\n",
        "\n",
        "#### **Final Ordering**\n",
        "Based on the analysis above, the order from the slowest to fastest growing functions as\n",
        "\n",
        "\n",
        "1. $ 0.5^n+12 $\n",
        "2. $ log(log_2(n)) $\n",
        "3. $ log_3(n^4) $\n",
        "3. $ log_3{(n^5)} $\n",
        "5. $ log(n)+n^\\frac{1}{2} $\n",
        "6. $ n^\\frac{3}{2} $\n",
        "7. $ 2^n+3^n $\n",
        "8. $ 10^n $\n",
        "9. $ (n+1)!+2^n $"
      ],
      "metadata": {
        "id": "OXilDH8TGxBJ"
      }
    },
    {
      "cell_type": "markdown",
      "source": [
        "## **Q2**:\n",
        "\n",
        "consider two functions $ a(n)$ and $b(n)$ such that $a(n)=O(b(n))$. Analyze the following statements for truth or falsity, providing proofs or counterexamples as needed:\n",
        "\n",
        "1. $a(n)=O(a(n/4))$\n",
        "2. $a(n)=Θ(a(3n))$\n",
        "3. $a(n)=O(b(n))$ Implies $b(n)=Ω(a(n))$\n",
        "\n",
        "### **Answer:**\n",
        "\n",
        "#### **Analysis:**\n",
        "\n",
        "**1. $a(n)=O(a(n/4))$**\n",
        "\n",
        "This statement suggests that $a(n)$ is bounded above by $a(n/4)$ up to a constant factor, which doesn't hold in general. For a counter example, consider\n",
        "$a(n)=4^n$ . Here, $a(n/4)=4^\\frac{n}{4}$ and $a(n)=4^n $, which clearly shows that $a(n)$ is not bounded by $a(n/4)$ as n grows.\n",
        "\n",
        "Counter example: $ a(n)=4^n $.\n",
        "\n",
        "**2. $a(n)=Θ(a(3n))$**\n",
        "\n",
        "This statement suggests that $a(n)$ and $a(3n)$ grow at the same rate, up to constant factors. This is generally false as well. For instance, consider $a(n)=2^n$ . Here $a(n)=2^n$ and $a(3n)=2^3n$, which simplifies to $a(3n)=(2^n)^3$. Clearly, $a(3n)$ grows much faster than $a(n)$.\n",
        "\n",
        "Counter example: $a(n)=2^n$.\n",
        "\n",
        "**3. $a(n)=O(b(n))$ Implies $b(n)=Ω(a(n))$**\n",
        "\n",
        "This statement is true by definition, similar to the corresponding statements in the previous questions. If $a(n)=O(b(n))$, this means there exists a constant $C$ and a value $n_0$ such that $0≤a(n)≤C$. $b(n)$ for all $n>n_0$. This is exactly the definition of $b(n)=Ω(a(n))$, which means that $b(n)$ is a lower bound for $a(n)$ up to a constant factor.\n",
        "\n",
        "Proof:\n",
        "From the definition of Big O notation, $a(n)=O(b(n))$ if there exist constants\n",
        "$C>0$ and $n_0$ such that for all $n>n_0, a(n)≤C⋅b(n)$.\n",
        "This implies that $b(n)≥(1/C)⋅a(n)$ for all $n>n_0$, which is exactly the definition of Big Omega: $ b(n)=Ω(a(n))$."
      ],
      "metadata": {
        "id": "aZaOZoXwoYgu"
      }
    },
    {
      "cell_type": "markdown",
      "source": [
        "## **Q3:**\n",
        "\n",
        "Problem Statement:\n",
        "\n",
        "In the city of Algorithmville, there are $x$ tech firms, each with a certain number of job openings for software developers. In the same city, $n$ software developers are seeking employment, each interested in joining one of the tech firms. Each tech firm has a ranking of developers based on their coding skills, work experience, and portfolio. Each developer also has a ranking of tech firms based on the work culture, projects, and salary the firms offer. We assume that there are more software developers seeking employment than there are job openings across $x$ tech firms.\n",
        "\n",
        "The goal is to find a method of assigning each developer to at most one tech firm, in such a way that all the job openings in a particular firm are filled (Some developers will not secure a job as the number of developers exceeds the number of job openings).\n",
        "\n",
        "An assignment of a developer to a particular tech firm is termed stable if neither of the conditions arise:\n",
        "\n",
        "1. There are developers $d1$ and $d2$ and tech firm $f$, such that:\n",
        "* $d1$ is assigned to $f$,\n",
        "* $d2$ is unassigned, and\n",
        "* $f$ prefers $d2$ to $d1$ based on their rankings.\n",
        "\n",
        "2. There are developers $d1$ and $d2$ and tech firms $f1$ and $f2$, such that:\n",
        "* $d1$ is assigned to $f1$,\n",
        "* $d2$ is assigned to $f2$,\n",
        "* $f1$ prefers $d2$ to $d1$, and\n",
        "* $d2$ prefers $f1$ to $f2$.\n",
        "\n",
        "Devise a stable matching algorithm to solve this problem, and prove its correctness.\n",
        "\n",
        "###**Answer:**\n",
        "\n",
        "**Solution Framework:**\n",
        "\n",
        "The problem can be addressed using a variation of the Gale-Shapley algorithm. Here’s how you might structure the algorithm in **pseudocode**:\n",
        "\n",
        "*** *Attention: it's pseudocode for better explanation. It's not runnable.***"
      ],
      "metadata": {
        "id": "j2w4dQWE3soy"
      }
    },
    {
      "cell_type": "code",
      "source": [
        "function StableMatching(Developers, Firms):\n",
        "    while there exists an unassigned developer d who has not proposed to every firm:\n",
        "        let f be the highest-ranked firm on d’s list to which d has not yet proposed\n",
        "        d proposes to f\n",
        "        if f has available positions:\n",
        "            f temporarily hires d\n",
        "        else if f prefers d to one of its current hires d_old:\n",
        "            f fires d_old and hires d\n",
        "            d_old becomes unassigned\n",
        "        end if\n",
        "    end while\n",
        "    return the current assignment\n",
        "\n",
        "Developers = list of developers with their preferences\n",
        "Firms = list of firms with their preferences and job openings\n",
        "assignment = StableMatching(Developers, Firms)\n"
      ],
      "metadata": {
        "id": "2H96OR187pqZ"
      },
      "execution_count": null,
      "outputs": []
    },
    {
      "cell_type": "markdown",
      "source": [
        "**Proof of Stability:**\n",
        "1. **Unassigned Preference Condition:** Similar to the original proof, the proposal process ensures that there is no developer unassigned whom a firm prefers over a currently assigned developer, given that developers propose in order of their preference, and firms always replace less preferred developers with more preferred developers.\n",
        "2. **Mutual Preference Condition:** Similarly, there cannot be developers and firms as described that would cause an instability as the algorithm ensures every developer proposes to firms in their order of preference and firms accept developers based on their preference until the positions are filled.\n",
        "\n",
        "**Example:**\n",
        "\n",
        "Suppose there are three firms: Alpha, Beta, and Gamma, with 2, 1, and 1 job openings respectively. There are five developers: Dave, Eve, Mike, Nick, and Olivia. After applying the StableMatching algorithm, we can obtain a stable matching where all job openings are filled and no unstable conditions arise.\n",
        "\n",
        "**Code Explanations:**\n",
        "\n",
        "The function StableMatching takes two arguments: a list of Developers and a list of Firms. Each developer and each firm have a list of preferences.\n",
        "The while loop continues until every unassigned developer has proposed to every firm on their list.\n",
        "Inside the loop, a developer d proposes to a firm f, and f either accepts the proposal (temporarily if there are still open positions, or permanently by replacing a less preferred developer) or rejects it.\n",
        "The loop ends when there are no more proposals to be made, and the function returns the current assignment of developers to firms.\n",
        "\n",
        "\n"
      ],
      "metadata": {
        "id": "tnL8DQgc8z4W"
      }
    },
    {
      "cell_type": "markdown",
      "source": [
        "## **Q4:**\n",
        "One algorithm requires $20 log_{10} (n)$ milliseconds, and another algorithm requires $n^{0.2}$ milliseconds.\n",
        "\n",
        "Which one is asymptotically faster? What is the cross-over value of $n$?\n",
        "\n",
        "### **Solution:**\n",
        "\n",
        "We are given two algorithms with their time complexities in milliseconds:\n",
        "\n",
        "Algorithm 1: $20 log_{10} (n)$\n",
        "Algorithm 2: $n^{0.2}$\n",
        "\n",
        "As $n$ approaches infinity, logarithmic functions grow slower than polynomial functions. Therefore, algorithm 1 with time complexity $20 log_{10} (n)$ is asymptotically faster than algorithm 2 with time complexity $n^{0.2}$.\n",
        "\n",
        "To find the cross-over point, we need to set the expressions equal to each other and solve for n:\n",
        "$$20 log_{10} (n)$$\n",
        "\n",
        "To solve this equation, it might be easier to use a numerical method or a calculator or software. One way to do this in a programming language like Python is to use a simple iterative method or use a library like sympy.\n",
        "\n",
        "Here's a python code snippet using sympy to solve the equation:"
      ],
      "metadata": {
        "id": "eUeQSL1UBfFe"
      }
    },
    {
      "cell_type": "code",
      "source": [
        "from sympy import Eq, log, solve, symbols\n",
        "\n",
        "n = symbols('n', real=True, positive=True)  # Define n as a symbol\n",
        "\n",
        "# Define the equation 20*log(n, 10) = n**0.2\n",
        "equation = Eq(20 * log(n, 10), n**0.2)\n",
        "\n",
        "# Solve for n\n",
        "cross_over_value = solve(equation, n)\n",
        "print(cross_over_value)\n"
      ],
      "metadata": {
        "colab": {
          "base_uri": "https://localhost:8080/"
        },
        "id": "RwpTnFv3Dt1c",
        "outputId": "f290f75a-a680-4044-b9e4-8386ebf7bc0d"
      },
      "execution_count": 1,
      "outputs": [
        {
          "output_type": "stream",
          "name": "stdout",
          "text": [
            "[1.12510424016175, 756938225911.552]\n"
          ]
        }
      ]
    },
    {
      "cell_type": "markdown",
      "source": [
        "In the provided code snippet, the solution to the equation $20 log_{10} (n) = n^{0.2}$ which represents the cross-over point at which both algorithms perform equally in terms of time complexity. By running the Python code, it should obtain a numerical value for $n$ that satisfies this equation.\n",
        "\n",
        "The solve function from the sympy library is used to solve the equation for\n",
        "$n$, and the result will be printed to the console.\n",
        "\n",
        "It's necessary to mention that the actual numerical solution may not be an integer, and depending on the context, the nearest integer value for $n$ need to be considered."
      ],
      "metadata": {
        "id": "xepXik9FE5No"
      }
    },
    {
      "cell_type": "markdown",
      "source": [
        "##**Q5:**\n",
        "You are constructing a novel display stand for a tech exhibit, where each level of the stand is comprised of LED panels. The design of the stand is such that the total number of LED panels on each level is the sum of the number of panels on the current level and the previous level. During the creation of the stand, you notice an asymptotic behavior worth analyzing. Assume for this analysis that each level has a total number of LED panels bounded by a constant $p$, and the stand will consist of at most $q$ LED panels. Determine how to construct such a stand using LED panels, with each panel having an area of $h(q)$, where $h(q)$ is a function that grows as slowly as possible.\n",
        "\n",
        "### **Solution:**\n",
        "* Let $l_i$ denote the number of LED panels on level $i$ (for $i=1,2,3,…$).\n",
        "* Let $U_i$ denote the total number of LED panels used up to and including level $i$ (so $U_i=l_1+l_2+l_3+...+l_i$)\n",
        "\n",
        "From the problem statement, we have the relation $l_i = l_{i-1} + l_{i-2}$ for $i≥3 $, with base cases $l_1$ and $l_2$ to be determined.\n",
        "\n",
        "The requirement that the total number of LED panels used is at most $q$ gives us the inequality:\n",
        "$$U_i=l_1+l_2+...+l_i≤q$$\n",
        "\n",
        "We're also given that $l_i≤p$ for some constant $p$, and we are to design the stand such that each LED panel has an area of $h(q)$, with $h(q)$ growing as slowly as possible.\n",
        "\n",
        "As before, an initial guess might be to start with $l_1=1$ and $l_2=1$ to minimize the number of LED panels used initially.\n",
        "\n",
        "However, to satisfy the boundedness condition $l_i≤p$, a more refined approach might be needed. One potential strategy could be to reset the number of LED panels to 1 whenever it exceeds $p$, but this may not minimize $h(q)$.\n",
        "\n",
        "A programmatic solution could potentially involve an iterative algorithm to construct the stand level by level, checking at each step whether the conditions $U_i≤p$ and $l_i≤p$ are satisfied, and adjusting the values of $l_i$ accordingly. This way, you could explore various configurations to find the one that minimizes $h(q)$ while satisfying the constraints.\n",
        "\n",
        "Here’s a simplified example in Python, which is more of a brute force approach and may not find the optimal solution:"
      ],
      "metadata": {
        "id": "hhHrt6_jHWMs"
      }
    },
    {
      "cell_type": "code",
      "source": [
        "p = 10  # Replace with the actual bound\n",
        "q = 100  # Replace with the actual total LED panel limit\n",
        "\n",
        "def construct_stand():\n",
        "    l = [1, 1]  # Starting with 1 panel on each of the first two levels\n",
        "    U = sum(l)\n",
        "    i = 3\n",
        "    while U + l[-1] + l[-2] <= q and l[-1] + l[-2] <= p:\n",
        "        next_level = l[-1] + l[-2]\n",
        "        l.append(next_level)\n",
        "        U += next_level\n",
        "        i += 1\n",
        "        if next_level > p:  # Resetting the number of panels to 1 if it exceeds p\n",
        "            l[-1] = 1\n",
        "\n",
        "    h_q = (q - U) / (q - len(l)) if len(l) < q else 0  # Calculating h(q)\n",
        "    return l, h_q\n",
        "\n",
        "# Calling the function\n",
        "levels, h_q = construct_stand()\n",
        "print(levels)\n",
        "print(h_q)\n"
      ],
      "metadata": {
        "colab": {
          "base_uri": "https://localhost:8080/"
        },
        "id": "TKD9hUtcPraU",
        "outputId": "478e0b1e-f46e-4d93-c47c-fdff507959f3"
      },
      "execution_count": 2,
      "outputs": [
        {
          "output_type": "stream",
          "name": "stdout",
          "text": [
            "[1, 1, 2, 3, 5, 8]\n",
            "0.851063829787234\n"
          ]
        }
      ]
    },
    {
      "cell_type": "markdown",
      "source": [
        "In this code snippet:\n",
        "\n",
        "1. Define p and q as the given constants.\n",
        "2. The construct_stand function initializes the stand with 1 LED panel on each of the first two levels.\n",
        "3. It then iteratively constructs each subsequent level, checking the conditions at each step.\n",
        "4. If the number of panels on a level exceeds p, it resets the number of panels on that level to 1.\n",
        "5. It calculates a simplistic h(q) based on the remaining number of panels that can be used.\n",
        "6. The function returns the configuration of levels and the calculated h(q)."
      ],
      "metadata": {
        "id": "ENvpfTVZPuHS"
      }
    },
    {
      "cell_type": "markdown",
      "source": [
        "In order to approach this problem in a more optimized manner and align with the earlier explanation, it might be beneficial to consider a dynamic programming approach. Dynamic programming can help in keeping track of the optimal solutions to sub-problems to avoid redundant computations.\n",
        "\n",
        "The optimization goal here is to minimize $h(q)$ while ensuring that the total number of LED panels does not exceed $q$ and the number of LED panels on each level does not exceed $p$.\n",
        "\n",
        "The core idea can be to work backwards: start with the total number of panels $q$, and distribute them across the levels while adhering to the constraints. The following code snippet is a simplified illustrative attempt, rather than a fully optimized solution:"
      ],
      "metadata": {
        "id": "9M1Kh9LAR3vb"
      }
    },
    {
      "cell_type": "code",
      "source": [
        "import numpy as np\n",
        "\n",
        "# Set the constants p and q\n",
        "p = 10\n",
        "q = 100\n",
        "\n",
        "# Initialize a memoization table to store the minimum h(q) for each level and remaining panels\n",
        "memo = np.full((q+1, q+1), float('inf'))\n",
        "\n",
        "# Base case: if there are no remaining panels, h(q) is 0\n",
        "memo[0, :] = 0\n",
        "\n",
        "def h(q_remaining, panels_last_level, panels_second_last_level):\n",
        "    # If we've already computed the minimum h(q) for this sub-problem, return it\n",
        "    if memo[q_remaining, panels_last_level] != float('inf'):\n",
        "        return memo[q_remaining, panels_last_level]\n",
        "\n",
        "    # If there are no remaining panels, h(q) is 0\n",
        "    if q_remaining == 0:\n",
        "        return 0\n",
        "\n",
        "    # Calculate the panels for the current level based on the previous two levels\n",
        "    panels_current_level = panels_last_level + panels_second_last_level\n",
        "\n",
        "    # If the panels for the current level exceed p or q_remaining, reset the panels for the current level to 1\n",
        "    if panels_current_level > p or panels_current_level > q_remaining:\n",
        "        panels_current_level = 1\n",
        "\n",
        "    # Update q_remaining for the next sub-problem\n",
        "    q_remaining_next = q_remaining - panels_current_level\n",
        "\n",
        "    # Recur for the next sub-problem\n",
        "    h_q_next = h(q_remaining_next, panels_current_level, panels_last_level)\n",
        "\n",
        "    # Update the memoization table with the minimum h(q) for this sub-problem\n",
        "    memo[q_remaining, panels_last_level] = min(memo[q_remaining, panels_last_level], h_q_next + panels_current_level)\n",
        "\n",
        "    return memo[q_remaining, panels_last_level]\n",
        "\n",
        "# Call the function with initial values\n",
        "h_initial = h(q, 1, 1)\n",
        "\n",
        "print(f'Minimum h(q): {h_initial}')\n"
      ],
      "metadata": {
        "id": "yP5ICruHSD1j"
      },
      "execution_count": null,
      "outputs": []
    },
    {
      "cell_type": "markdown",
      "source": [
        "1. The constants p and q are set.\n",
        "2. A memoization table memo is initialized to store the minimum $h(q)$ for each level and remaining panels, with initial values set to inf.\n",
        "3. The h function defines the recursive sub-problems, taking the remaining number of panels q_remaining, and the number of panels on the last two levels panels_last_level and panels_second_last_level as arguments.\n",
        "4. The function first checks the memoization table to see if the minimum $h(q)$ for this sub-problem has already been computed.\n",
        "5. It then calculates the number of panels for the current level based on the previous two levels.\n",
        "6. If the number of panels for the current level exceeds p or q_remaining, it resets the number of panels for the current level to 1.\n",
        "7. It recurs for the next sub-problem, with updated values for q_remaining, panels_last_level, and panels_second_last_level.\n",
        "8. It updates the memoization table with the minimum $h(q)$ for this sub-problem.\n",
        "9. Finally, the function returns the minimum $h(q)$ for this sub-problem, and the h function is called with initial values to compute the minimum $h(q)$.\n",
        "\n",
        "This attempt is simplified and might not fully optimize $h(q)$ or handle all cases, but illustrates a more structured approach towards solving the problem programmatically."
      ],
      "metadata": {
        "id": "j_7REELpSP-N"
      }
    },
    {
      "cell_type": "markdown",
      "source": [
        "## **Q6:**\n",
        "One algorithm requires $2^n$ operations and another algorithm requires $n^3$ perations to perform a task. Which one grows asymptotically faster? That is, which grows faster as $n$ gets large? What is the cross-over value of $n$ (the value at which the curves intersect)? Provide a graphical representation and code to support your explanation.\n",
        "\n",
        "### **Solution:**\n",
        "1. Asymptotic Behavior:\n",
        "* The function $f(n)=2^n$ grows exponentially as $n$ increases.\n",
        "* The function $g(n)=n^3$ grows polynomially as $n$ increases.\n",
        "\n",
        "Between the two, $2^n$ grows faster asymptotically than $n^3$.\n",
        "\n",
        "2. Cross-over point:\n",
        "The cross-over point is the value of $n$ at which both functions yield the same result. We can find this by setting them equal to each other and solving for $n$:\n",
        "$2^n=n^3$\n",
        "\n",
        "For a graphical representation and to find the cross-over point numerically, you can use Python and matplotlib:"
      ],
      "metadata": {
        "id": "HyGKtsccVNEU"
      }
    },
    {
      "cell_type": "code",
      "source": [
        "import matplotlib.pyplot as plt\n",
        "import numpy as np\n",
        "\n",
        "n = np.linspace(1, 10, 400)  # Adjust this range as needed\n",
        "exp_n = 2**n\n",
        "poly_n = n**3\n",
        "\n",
        "# Plot the functions\n",
        "plt.plot(n, exp_n, label='2^n')\n",
        "plt.plot(n, poly_n, label='n^3')\n",
        "plt.legend(loc='upper left')\n",
        "plt.yscale('log')  # Setting the y-scale to logarithmic for better visualization\n",
        "plt.xlabel('n')\n",
        "plt.ylabel('Value')\n",
        "plt.grid(True)\n",
        "plt.title('Comparison of 2^n and n^3')\n",
        "plt.show()\n",
        "\n",
        "# To find the cross-over point manually\n",
        "cross_over_point = None\n",
        "for i in range(1, 11):  # Adjust this range as needed\n",
        "    if 2**i <= i**3 and 2**(i+1) >= (i+1)**3:\n",
        "        cross_over_point = i\n",
        "        break\n",
        "\n",
        "if cross_over_point is not None:\n",
        "    print(f'Cross-over point: n ≈ {cross_over_point}')\n",
        "else:\n",
        "    print('No cross-over point found in the checked range.')\n"
      ],
      "metadata": {
        "colab": {
          "base_uri": "https://localhost:8080/",
          "height": 489
        },
        "id": "izb1CeKtXegZ",
        "outputId": "b6079ff1-43d0-4ad7-f130-b181d6dcbc89"
      },
      "execution_count": 4,
      "outputs": [
        {
          "output_type": "display_data",
          "data": {
            "text/plain": [
              "<Figure size 640x480 with 1 Axes>"
            ],
            "image/png": "[encoded data removed]"
          },
          "metadata": {}
        },
        {
          "output_type": "stream",
          "name": "stdout",
          "text": [
            "Cross-over point: n ≈ 9\n"
          ]
        }
      ]
    },
    {
      "cell_type": "markdown",
      "source": [
        "## **Q7:**\n",
        "In a computer network, a packet is a formatted unit of data carried by a network. Consider an instance of a routing problem where there exists a router R1 and a router R2 such that router R1 is the most preferred in the routing table of R2 and router R2 is the most preferred in the routing table of R1 (Note that R1 and R2 are distinct routers and their connection results in a direct route). Then for every optimal routing table T for this instance, the pair (R1, R2) exists in T.\n",
        "\n",
        "• State whether the above statement is True or False?\n",
        "\n",
        "• If the statement is true give a short explanation if false give a counter example.\n",
        "\n",
        "### **Answer:**\n",
        "Explanation:\n",
        "In the instance of a routing problem, if we have two routers R1 and R2 such that R1 is the most preferred in the routing table of R2 and R2 is the most preferred in the routing table of R1, then the pair (R1, R2) will be a part of every optimal routing table T for this instance due to their mutual preference and direct connection.\n",
        "\n",
        "In network routing, the goal is to find the most efficient path to transmit data packets from source to destination. An optimal routing table should guide packets through the most efficient route possible, reducing latency and maximizing the use of network resources. In this particular case, the mutual preference of R1 and R2 for each other, coupled with the direct connection between them, ensures a highly efficient route for data packets to travel between these two routers. Therefore, any optimal routing table will include the pair (R1, R2) to maintain this efficiency.\n",
        "\n",
        "In coding terms, if we were to use an algorithm like Dijkstra's Algorithm to find the shortest path in a network, the direct connection between R1 and R2, coupled with their mutual preference, would ensure that the pair (R1, R2) is included in the resulting optimal routing table T.\n",
        "\n",
        "In a simplified routing scenario, we can use Dijkstra's Algorithm to find the shortest paths from a source router to all other routers in the network. Let's consider that the routers and connections between them form a weighted graph where the weights represent the cost (e.g., latency, distance) of routing through a particular connection.\n",
        "\n",
        "Here's a simplified pseudocode to illustrate how the mutual preference between R1 and R2 would result in the pair (R1, R2) being included in the optimal routing table:\n",
        "\n",
        "*** *Attention: it's pseudocode for better explanation. It's not runnable.***"
      ],
      "metadata": {
        "id": "aDjpsggLYEf6"
      }
    },
    {
      "cell_type": "code",
      "source": [
        "function Dijkstra(Graph, source):\n",
        "    distance[source] = 0\n",
        "    for each vertex v in Graph:\n",
        "        if v ≠ source:\n",
        "            distance[v] = infinity\n",
        "        previous[v] = undefined\n",
        "        add v to unvisited\n",
        "\n",
        "    while unvisited is not empty:\n",
        "        current = vertex in unvisited with min distance\n",
        "        remove current from unvisited\n",
        "\n",
        "        for each neighbor v of current:\n",
        "            alt = distance[current] + cost_between(current, v)\n",
        "            if alt < distance[v]:\n",
        "                distance[v] = alt\n",
        "                previous[v] = current\n",
        "\n",
        "    return previous\n",
        "\n",
        "# Assuming R1 is the source router\n",
        "routing_table = Dijkstra(Graph, R1)\n",
        "\n",
        "# Check if R2 is directly connected to R1 in the routing table\n",
        "if routing_table[R2] == R1:\n",
        "    print(\"(R1, R2) is included in the optimal routing table\")\n",
        "\n"
      ],
      "metadata": {
        "id": "QTkZpUs4dBWR"
      },
      "execution_count": null,
      "outputs": []
    },
    {
      "cell_type": "markdown",
      "source": [
        "In this pseudocode:\n",
        "\n",
        "1. Initialize the distance to the source router R1 as 0 and to all other routers as infinity.\n",
        "2. Keep a previous array to track the previous router in the optimal path to each router.\n",
        "3. Use a loop to explore all unvisited routers, updating the distance and previous arrays based on the cost of the connections.\n",
        "4. Finally, check if R2's previous router in the optimal routing table is R1. If it is, this confirms that the pair (R1, R2) is included in the optimal routing table.\n",
        "\n",
        "The mutual preference between R1 and R2 (expressed as a lower cost in the graph) ensures that R2 is directly reached from R1 in the optimal routing table."
      ],
      "metadata": {
        "id": "sUdxlO9xdMXe"
      }
    },
    {
      "cell_type": "markdown",
      "source": [
        "## **Q8:**\n",
        "Suppose we have two competing courier companies, let's call them Courier Alpha and Courier Beta. Each company has a set of delivery vehicles and each vehicle has a particular zone in the city where it operates. Let’s assume the vehicles to be $v$ and their respective zones to be $z$. Note that each vehicle can operate in different zones within the city except the central zone. Each company wants to maximize its delivery efficiency for which it wants to devise a strategy - assignment of each vehicle to a distinct optimal zone within the city - so that each vehicle can deliver packages to its fullest capacity. The efficiency of the company is judged only on the vehicle's delivery performance in the assigned zone. Note that there is no other criterion to evaluate the company’s efficiency except the performance of a vehicle for a particular zone.\n",
        "\n",
        "One way to determine how well the two courier companies will perform relative to each other, given their strategies, is through a common efficiency index. Each vehicle has a fixed rating based on its performance in the current season; we will assume that no two vehicles share the same rating. A company achieves higher efficiency in a given comparison if it has a greater rating for the vehicle assigned to a particular zone than the other company. For example, in Courier Alpha if a vehicle $v$ is assigned a zone $z$ which has a rating of 9 for that zone, then Courier Beta can achieve higher efficiency only if it has a vehicle whose rating is greater than 9 for that same zone. The goal of each company is to achieve higher efficiency in as many zone comparisons to be considered more efficient.\n",
        "\n",
        "Suppose at the beginning of the year, Courier Alpha reveals a strategy $A$ and Courier Beta reveals a strategy $B$. On the basis of this pair of strategy, each company achieves certain efficiencies, according to the rule above. We'll say that the pair of strategies $(A,B)$ is stable if neither Company can unilaterally change its own strategy and achieve higher efficiency. That is, there is no strategy $A'$ such that Courier Alpha achieves higher efficiency with the pair $(A',B)$; and symmetrically there is no strategy $B'$such that Courier Beta achieves higher efficiency with the pair $(A,B')$ than it did with pair $(A,B)$.\n",
        "\n",
        "For every set of vehicles and their rating for the zone they operate in, is there a stable pair of strategies?\n",
        "Resolve this question by doing one of the following two things:\n",
        "\n",
        "* Give an algorithm that, for any set of vehicles and their ratings associated for a particular zone, produces a stable pair of strategies.\n",
        "* Give an example of a set of vehicles and associated ratings for a particular zone they operate in for which there is no stable pair of strategies.\n",
        "\n",
        "### **Answer:**\n",
        "The key to finding a stable pair of strategies is to examine how the companies could iteratively adjust their strategies in response to each other until neither can unilaterally improve their efficiency.\n",
        "\n",
        "**Algorithm:**\n",
        "\n",
        "1. Start with initial strategies $A$ and $B$ for Courier Alpha and Courier Beta, respectively.\n",
        "2. For each zone, find the vehicle for Courier Alpha and Courier Beta that maximizes the efficiency in that zone. Update the strategies accordingly.\n",
        "3. Repeat step 2 until neither company can improve its efficiency by unilaterally changing its strategy."
      ],
      "metadata": {
        "id": "4oup7riGfrrk"
      }
    },
    {
      "cell_type": "code",
      "source": [
        "def evaluate_efficiency(vehicle, zone):\n",
        "    # Assume some function that returns the efficiency of a vehicle in a zone.\n",
        "    pass\n",
        "\n",
        "def find_best_vehicle_for_zone(zone, vehicles, other_company_vehicle):\n",
        "    best_vehicle = None\n",
        "    best_efficiency = 0\n",
        "    for vehicle in vehicles:\n",
        "        efficiency = evaluate_efficiency(vehicle, zone)\n",
        "        if efficiency is None:\n",
        "            continue  # Skip this iteration if efficiency is None\n",
        "        other_efficiency = 0  # Default to 0\n",
        "        if other_company_vehicle is not None:\n",
        "            other_efficiency = evaluate_efficiency(other_company_vehicle, zone)\n",
        "            if other_efficiency is None:\n",
        "                other_efficiency = 0  # Set to 0 if None\n",
        "        if efficiency > best_efficiency and efficiency > other_efficiency:\n",
        "            best_vehicle = vehicle\n",
        "            best_efficiency = efficiency\n",
        "    return best_vehicle\n",
        "\n",
        "\n",
        "def find_stable_pair(vehicles_alpha, vehicles_beta, zones):\n",
        "    strategy_alpha = {zone: None for zone in zones}\n",
        "    strategy_beta = {zone: None for zone in zones}\n",
        "    stable = False\n",
        "    while not stable:\n",
        "        stable = True  # Assume the strategies are stable, to begin with.\n",
        "        for zone in zones:\n",
        "            new_vehicle_alpha = find_best_vehicle_for_zone(zone, vehicles_alpha, strategy_beta[zone])\n",
        "            new_vehicle_beta = find_best_vehicle_for_zone(zone, vehicles_beta, strategy_alpha[zone])\n",
        "            if new_vehicle_alpha != strategy_alpha[zone] or new_vehicle_beta != strategy_beta[zone]:\n",
        "                stable = False  # Strategies are not stable, as we've found a better assignment.\n",
        "            strategy_alpha[zone] = new_vehicle_alpha\n",
        "            strategy_beta[zone] = new_vehicle_beta\n",
        "    return (strategy_alpha, strategy_beta)\n",
        "\n",
        "# Assuming some initial sets of vehicles and zones.\n",
        "vehicles_alpha = {...}\n",
        "vehicles_beta = {...}\n",
        "zones = {...}\n",
        "stable_pair = find_stable_pair(vehicles_alpha, vehicles_beta, zones)\n"
      ],
      "metadata": {
        "id": "gQfomeKyjIW4"
      },
      "execution_count": 9,
      "outputs": []
    },
    {
      "cell_type": "markdown",
      "source": [
        "In this algorithm, find_stable_pair is an iterative procedure that tries to find a better vehicle assignment for each zone, for each company, in each iteration. A new iteration is triggered if at least one better vehicle assignment is found. The process repeats until no better assignments are found, implying a stable pair of strategies.\n",
        "\n",
        "**Limitations and Non-Trivial Example:**\n",
        "\n",
        "One of the limitations of this approach is that it assumes that the efficiency of a vehicle in a zone is independent of the other vehicles and zones. In real-world scenarios, this assumption may not hold.\n",
        "\n",
        "Additionally, finding a stable pair of strategies might not always be possible due to various complexities and interdependencies among vehicles and zones. For instance, if vehicles have varying capacities and zones have varying demand, the problem becomes much more complex. Similarly, in the soccer team scenario, player ratings in positions might change based on the overall team strategy, making it harder to find a stable pair of strategies.\n",
        "\n",
        "These limitations lead us towards a scenario where a stable pair of strategies may not exist, thus making it a non-trivial example to the posed questions. Without a clear measure of efficiency or performance that can be universally applied regardless of strategy, and with varying capacities and demands, the problem does not guarantee a stable solution."
      ],
      "metadata": {
        "id": "BvReNPzxjth3"
      }
    },
    {
      "cell_type": "markdown",
      "source": [
        "## **Q9:**\n",
        "Modify a Gale-Shapley algorithm implementation to match 4 Western Conference teams with 4 Eastern Conference teams based on provided preference lists. Show how the stable matchings are obtained. You can use the following preference lists:\n",
        "\n",
        "Western Conference Teams Preference Lists:\n",
        "\n",
        "Team A: 1, 2, 3, 4\n",
        "\n",
        "Team B: 3, 4, 1, 2\n",
        "\n",
        "Team C: 2, 1, 4, 3\n",
        "\n",
        "Team D: 4, 3, 2, 1\n",
        "\n",
        "Eastern Conference Teams Preference Lists:\n",
        "\n",
        "Team 1: B, C, A, D\n",
        "\n",
        "Team 2: A, B, D, C\n",
        "\n",
        "Team 3: D, A, C, B\n",
        "\n",
        "Team 4: C, D, B, A"
      ],
      "metadata": {
        "id": "AoREBM0KnPyA"
      }
    },
    {
      "cell_type": "markdown",
      "source": [
        "First, modify the Gale-Shapley algorithm to create stable matchings between Western and Eastern Conference teams. The algorithm proceeds by each Western Conference team proposing to the Eastern Conference teams in the order of their preferences, until every team has a match."
      ],
      "metadata": {
        "id": "90cR4l91oStm"
      }
    },
    {
      "cell_type": "code",
      "source": [
        "def gale_shapley(western_prefs, eastern_prefs):\n",
        "    n = len(western_prefs)\n",
        "    free_western = list(range(n))\n",
        "    matchings = [-1] * n\n",
        "    eastern_partners = [-1] * n\n",
        "\n",
        "    while free_western:\n",
        "        west = free_western.pop(0)\n",
        "        east = western_prefs[west].pop(0)\n",
        "        if eastern_partners[east] == -1:\n",
        "            eastern_partners[east] = west\n",
        "            matchings[west] = east\n",
        "        else:\n",
        "            current_partner = eastern_partners[east]\n",
        "            if eastern_prefs[east].index(west) < eastern_prefs[east].index(current_partner):\n",
        "                eastern_partners[east] = west\n",
        "                matchings[west] = east\n",
        "                free_western.append(current_partner)\n",
        "\n",
        "    return matchings\n",
        "\n",
        "# Preference lists\n",
        "western_prefs = [[0, 1, 2, 3], [2, 3, 0, 1], [1, 0, 3, 2], [3, 2, 1, 0]]\n",
        "eastern_prefs = [[1, 2, 0, 3], [0, 1, 3, 2], [3, 0, 2, 1], [2, 3, 1, 0]]\n",
        "\n",
        "# Call the function\n",
        "matchings = gale_shapley(western_prefs, eastern_prefs)\n",
        "print(matchings)\n"
      ],
      "metadata": {
        "colab": {
          "base_uri": "https://localhost:8080/"
        },
        "id": "CXEu_Ol4pNH1",
        "outputId": "73fa2f72-d00d-458c-df65-8dec7ccee2d2"
      },
      "execution_count": 10,
      "outputs": [
        {
          "output_type": "stream",
          "name": "stdout",
          "text": [
            "[0, 2, 1, 3]\n"
          ]
        }
      ]
    },
    {
      "cell_type": "markdown",
      "source": [
        "In the code above:\n",
        "\n",
        "1. We start with a list of free Western teams.\n",
        "2. Each free Western team proposes to the Eastern teams in the order of their preferences.\n",
        "3. If an Eastern team is unengaged or prefers the new proposal over its current match, it accepts the proposal. Otherwise, the Western team moves on to its next preference.\n",
        "4. The algorithm proceeds until all teams have a match.\n",
        "5. The function returns a list of matchings, where the indices represent the Western teams and the values represent the Eastern teams they are matched with.\n",
        "\n",
        "Running the code will output a list of stable matchings between the Western and Eastern Conference teams."
      ],
      "metadata": {
        "id": "aAXKvJlIpXRw"
      }
    },
    {
      "cell_type": "markdown",
      "source": [
        "## **Reflection:**\n",
        "\n",
        "1. How ChatGPT or the tool you used assisted in this task?\n",
        "\n",
        "* I mainly used chatgpt for learning the concepts and explaining the code. Designing algorithmic problems is much more difficult than I thought, which requires a high level of algorithmic knowledge, and the most important role of chatgpt is to help me learn the principles and knowledge. At the same time, I also used chatgpt to explain some of the code in the sample questions to help me understand the code better. Of course, chatgpt's answers to some questions are not always correct, at this time I will use google to search and collect multiple resources to find the correct answer.\n",
        "2. Challenges you faced while ensuring the problem maintained the spirit of the example\n",
        "\n",
        "* I think that keeping the essence of the example problem to design the problem is also one of the biggest difficulties, firstly it requires that you already fully understand the topic itself and can use the knowledge from it to create new problems. Secondly, it requires more than just knowing the knowledge, it requires us to think about the different scenarios in which a certain algorithm, a certain piece of knowledge (e.g., time complexity), will be examined and utilized, and the different effects it will have. In short, using chatgpt alone is not entirely sufficient in this process, and it is important to use more specialized books to make sure that the questions and answers you create are reasonable.\n",
        "3. What you learned about problem design in the realm of algorithms\n",
        "\n",
        "* The first thing was definitely learning Big O, the comparison of the growth rate of each function, and the complexity analysis, and also gaining a deeper understanding of the Gale-Shapley algorithm and so on. Secondly, I learned how the Gale-Shapley algorithm is used in several different situations and what further improvements and optimizations need to be made. I also learned how important it is to have a clear problem statement in designing an algorithmic problem, especially for Input and Output formats and Constraints, which often need to be considered in various boundary cases to ensure the effectiveness of an algorithmic problem."
      ],
      "metadata": {
        "id": "My7536QMpvjL"
      }
    },
    {
      "cell_type": "markdown",
      "source": [
        "## **Reference:**\n",
        "* https://towardsdatascience.com/gale-shapley-algorithm-simply-explained-\n",
        "* https://www.geeksforgeeks.org/understanding-time-complexity-simple-examples/\n",
        "* https://www.enjoyalgorithms.com/blog/time-complexity-analysis-in-data-structure-and-algorithms\n"
      ],
      "metadata": {
        "id": "MMQIbkNWusSr"
      }
    },
    {
      "cell_type": "markdown",
      "source": [
        "## **License:**\n",
        "Copyright <2023> < Yanyan Chen>\n",
        "\n",
        "Permission is hereby granted, free of charge, to any person obtaining a copy of this software and associated documentation files (the “Software”), to deal in the Software without restriction, including without limitation the rights to use, copy, modify, merge, publish, distribute, sublicense, and/or sell copies of the Software, and to permit persons to whom the Software is furnished to do so, subject to the following conditions:\n",
        "\n",
        "The above copyright notice and this permission notice shall be included in all copies or substantial portions of the Software.\n",
        "\n",
        "THE SOFTWARE IS PROVIDED “AS IS”, WITHOUT WARRANTY OF ANY KIND, EXPRESS OR IMPLIED, INCLUDING BUT NOT LIMITED TO THE WARRANTIES OF MERCHANTABILITY, FITNESS FOR A PARTICULAR PURPOSE AND NONINFRINGEMENT. IN NO EVENT SHALL THE AUTHORS OR COPYRIGHT HOLDERS BE LIABLE FOR ANY CLAIM, DAMAGES OR OTHER LIABILITY, WHETHER IN AN ACTION OF CONTRACT, TORT OR OTHERWISE, ARISING FROM, OUT OF OR IN CONNECTION WITH THE SOFTWARE OR THE USE OR OTHER DEALINGS IN THE SOFTWARE."
      ],
      "metadata": {
        "id": "88MWs8ldwkA2"
      }
    }
  ]
}