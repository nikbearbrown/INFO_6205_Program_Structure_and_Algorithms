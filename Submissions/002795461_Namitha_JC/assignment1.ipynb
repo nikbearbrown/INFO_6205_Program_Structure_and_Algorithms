{
 "cells": [
  {
   "attachments": {},
   "cell_type": "markdown",
   "metadata": {},
   "source": [
    "**Assignment 1:**"
   ]
  },
  {
   "attachments": {},
   "cell_type": "markdown",
   "metadata": {},
   "source": [
    "**Question1** \n",
    "\n",
    "**Arrange the given space complexities in ascending order based on their memory usage. Start with the space complexity that requires the least memory and end with the one that requires the most.**\n",
    "\n",
    "- A. O(log(log n))\n",
    "- B. O(n^e)\n",
    "- C. O(log(n)^2)\n",
    "- D. O(log(n!))\n",
    "- E. O(e^n)\n",
    "- F. O(e^(e^n))\n",
    "- G. O(n^log n)\n",
    "- H. O(n^(e^2))\n",
    "- I. O(e^(n^2))\n",
    "- J. O(log(log(n)^e))"
   ]
  },
  {
   "attachments": {},
   "cell_type": "markdown",
   "metadata": {},
   "source": [
    "**Answer1** \n",
    "\n",
    "- O(log(log n))\n",
    "- O(log(n)^2)\n",
    "- O(log(n!))\n",
    "- O(n^log n)\n",
    "- O(e^n)\n",
    "- O(n^e)\n",
    "- O(e^(n^2))\n",
    "- O(n^(e^2))\n",
    "- O(e^(e^n))\n",
    "- O(log(log(n)^e))"
   ]
  },
  {
   "attachments": {},
   "cell_type": "markdown",
   "metadata": {},
   "source": [
    "**Question2**\n",
    "\n",
    "**Given two functions P and Q such that P(n) is O(Q(n)), evaluate the following statements to determine whether they are true or false. Provide proofs or counterexamples as needed.**\n",
    "\n",
    "**P(n) = θ(P(n + 1))**\n",
    "**P(n) = O(P(n/2))**\n",
    "**P(n) = O(Q(n^2)) implies Q(n) = Ω(P(n))**"
   ]
  },
  {
   "attachments": {},
   "cell_type": "markdown",
   "metadata": {},
   "source": [
    "**Answer2** \n",
    "\n",
    "<ins>Statement 1</ins>: Is it true that P(n) = θ(P(n + 1))?\n",
    "\n",
    "<ins>Solution 1</ins>: This statement is not true.\n",
    "\n",
    "<ins>Counterexample</ins>: Let P(n) = n. In this case, P(n) = θ(P(n + 1)) is not true because n and n + 1 have different growth rates. P(n + 1) grows faster by a constant factor than P(n).\n",
    "\n",
    "<ins>Statement 2</ins>: Is it true that P(n) = O(P(n/2))?\n",
    "\n",
    "<ins>Solution 2</ins>: This statement is true.\n",
    "\n",
    "<ins>Explanation</ins>: To prove this, we can demonstrate that P(n) = O(P(n/2)). This is often true in algorithms where the input size is halved in each step, leading to a logarithmic growth rate.\n",
    "\n",
    "<ins>Statement 3</ins>: Does P(n) = O(Q(n^2)) imply Q(n) = Ω(P(n))?\n",
    "\n",
    "<ins>Solution 3</ins>: This statement is true.\n",
    "\n",
    "<ins>Explanation</ins>: If P(n) = O(Q(n^2)), it means that P(n) grows at a rate bounded by Q(n^2). To prove that Q(n) = Ω(P(n)), we can show that Q(n) grows at least as fast as P(n) (with some positive constant factor) for all n greater than or equal to a certain value (n0). This is a common property of Big O notation.\n",
    "\n",
    "**Psdeudo Code:**\n",
    "\n",
    "*Given functions P and Q*\n",
    "function P(n):\n",
    "    *Implementation of function P*\n",
    "    return n\n",
    "\n",
    "function Q(n):\n",
    "    *Implementation of function Q*\n",
    "    return n^2\n",
    "\n",
    "*Statement 1*\n",
    "function isStatement1True():\n",
    "    for n from 1 to infinity:\n",
    "        if P(n) != θ(P(n + 1)):\n",
    "            return False\n",
    "    return True\n",
    "\n",
    "*Statement 2*\n",
    "function isStatement2True():\n",
    "    for n from 1 to infinity:\n",
    "        if P(n) > O(P(n/2)):\n",
    "            return False\n",
    "    return True\n",
    "\n",
    "*Statement 3*\n",
    "function isStatement3True():\n",
    "    for n from 1 to infinity:\n",
    "        if P(n) <= O(Q(n^2)):\n",
    "            if Q(n) < Ω(P(n)):\n",
    "                return False\n",
    "    return True\n"
   ]
  },
  {
   "attachments": {},
   "cell_type": "markdown",
   "metadata": {},
   "source": [
    "**Question3**\n",
    "\n",
    "**Consider a scenario in a bustling city where there are \"x\" restaurants and \"n\" food delivery drivers. Each restaurant has a ranking of drivers based on their delivery speed and customer ratings, and each driver also has a ranking of restaurants based on factors like cuisine type and location. Assume that there are more food delivery drivers than there are available delivery slots at the restaurants.**\n",
    "\n",
    "**The objective is to devise an algorithm to find a stable assignment of drivers to restaurants, ensuring that each restaurant fills its available delivery slots and no driver is left without a delivery assignment. A stable assignment is one in which neither of the following situations arises:**\n",
    "\n",
    "**a. There are drivers \"D1\" and \"D2\" and a restaurant \"R,\" such that:**\n",
    "\n",
    "**\"D1\" is assigned to \"R,\"**\n",
    "**\"D2\" is not assigned to any restaurant, and**\n",
    "**\"R\" prefers \"D2\" to \"D1\" based on cuisine type and location.**\n",
    "**b. There are drivers \"D1\" and \"D2\" and restaurants \"R1\" and \"R2,\" such that:**\n",
    "\n",
    "**\"D1\" is assigned to \"R1,\"**\n",
    "**\"D2\" is assigned to \"R2,\"**\n",
    "**\"R1\" prefers \"D2\" to \"D1,\" and**\n",
    "**\"D2\" prefers \"R1\" to \"R2.\"**\n",
    "**Demonstrate that there is always a stable assignment of drivers to restaurants under these conditions, and outline an algorithm to find such a stable assignment.**"
   ]
  },
  {
   "attachments": {},
   "cell_type": "markdown",
   "metadata": {},
   "source": [
    "**Answer3**\n",
    "\n",
    "The algorithm to find a stable assignment of drivers to restaurants, taking into account the new conditions, follows a structure similar to the Gale-Shapley algorithm for the Stable Marriage Problem. At any given time, a driver is either matched with a restaurant or remains unmatched, and each restaurant can have a certain number of available delivery slots or be fully occupied. The algorithm proceeds as follows:\n",
    "\n",
    "**Input:**\n",
    "**x: Number of restaurants**\n",
    "**n: Number of food delivery drivers**\n",
    "**restaurant_rankings: A 2D array where restaurant_rankings[i][j] represents the ranking of driver j by restaurant i**\n",
    "**driver_rankings: A 2D array where driver_rankings[i][j] represents the ranking of restaurant j by driver i**\n",
    "\n",
    "**Initialize an array to keep track of driver assignments**\n",
    "driver_assignment = [-1] * n\n",
    "\n",
    "**Initialize an array to keep track of the number of available delivery slots at each restaurant**\n",
    "available_slots = [x] * x\n",
    "\n",
    "**Create a dictionary to store the current position in the preference list for each driver**\n",
    "driver_position = {driver: 0 for driver in range(n)}\n",
    "\n",
    "**While there exists a restaurant R1 with available delivery slots:**\n",
    "while any(available_slots):\n",
    "    for driver in range(n):\n",
    "        if driver_assignment[driver] == -1:\n",
    "            # Get the current restaurant that the driver is considering\n",
    "            current_restaurant = driver_rankings[driver][driver_position[driver]]\n",
    "            driver_position[driver] += 1\n",
    "            \n",
    "            # If the restaurant has available delivery slots\n",
    "            if available_slots[current_restaurant] > 0:\n",
    "                driver_assignment[driver] = current_restaurant\n",
    "                available_slots[current_restaurant] -= 1\n",
    "            else:\n",
    "                # The restaurant is fully occupied, check if the restaurant prefers the current driver\n",
    "                current_driver = driver_assignment.index(current_restaurant)\n",
    "                if restaurant_rankings[current_restaurant][driver] < restaurant_rankings[current_restaurant][current_driver]:\n",
    "                    # The restaurant prefers the current driver, so switch the assignments\n",
    "                    driver_assignment[driver] = current_restaurant\n",
    "                    driver_assignment[current_driver] = -1\n",
    "\n",
    "**The driver_assignment array now contains the stable assignment of drivers to restaurants**\n",
    "\n",
    "This pseudo-code implements the algorithm to find a stable assignment of food delivery drivers to restaurants based on their preferences, which now include cuisine type, location, delivery speed, and customer ratings. The algorithm ensures that each restaurant fills its available delivery slots, and no driver is left unassigned. The algorithm continues until all restaurants have assigned their available slots or until no further stable assignments are possible.\n"
   ]
  },
  {
   "attachments": {},
   "cell_type": "markdown",
   "metadata": {},
   "source": [
    "**Question4** \n",
    "\n",
    "**Two sorting algorithms, Bubble Sort and Merge Sort, are compared based on their runtime complexities. Bubble Sort takes 10log2(n) microseconds to sort an array of size n, while Merge Sort takes 5sqrt(n) microseconds. Which of these sorting algorithms demonstrates superior asymptotic efficiency, and at what value of n do they reach a point of intersection in terms of runtime efficiency?**"
   ]
  },
  {
   "attachments": {},
   "cell_type": "markdown",
   "metadata": {},
   "source": [
    "**Answer4**\n",
    "\n",
    "In this examination of sorting algorithms, the first algorithm corresponds to Bubble Sort, while the second algorithm corresponds to Merge Sort.\n",
    "\n",
    "Bubble Sort exhibits a runtime complexity of 10*log2(n) microseconds.\n",
    "Merge Sort demonstrates a runtime complexity of 5*sqrt(n) microseconds.\n",
    "To determine which algorithm boasts superior asymptotic efficiency, it's crucial to assess their respective order of growth:\n",
    "\n",
    "The order of growth associated with Bubble Sort (10log2(n)) is less significant than the order of growth associated with Merge Sort (5sqrt(n)).\n",
    "Consequently, Bubble Sort stands as the asymptotically faster algorithm when compared to Merge Sort.\n",
    "\n",
    "Now, let's pinpoint the crossover value of n, indicating the threshold at which Merge Sort surpasses Bubble Sort in terms of runtime efficiency:\n",
    "\n",
    "The crossover point for n materializes when both algorithms exhibit equivalent runtime durations, specifically when 10log2(n) microseconds equals 5sqrt(n) microseconds.\n",
    "To arrive at the precise crossover value, further mathematical analysis or numerical methods may be essential. The provided solution indicates that the crossover value for n occurs when 10log2(n) equals 5sqrt(n)."
   ]
  },
  {
   "attachments": {},
   "cell_type": "markdown",
   "metadata": {},
   "source": [
    " Let's illustrate the concept with Python code using the specific runtime values provided:"
   ]
  },
  {
   "cell_type": "code",
   "execution_count": 2,
   "metadata": {},
   "outputs": [
    {
     "name": "stdout",
     "output_type": "stream",
     "text": [
      "Merge Sort is faster for n = 2000\n"
     ]
    }
   ],
   "source": [
    "import time\n",
    "import math\n",
    "import random\n",
    "\n",
    "# Bubble Sort - Runtime: 10 * log2(n) microseconds\n",
    "def bubble_sort(arr):\n",
    "    n = len(arr)\n",
    "    for i in range(n):\n",
    "        for j in range(0, n - i - 1):\n",
    "            if arr[j] > arr[j + 1]:\n",
    "                arr[j], arr[j + 1] = arr[j + 1], arr[j]\n",
    "\n",
    "# Merge Sort - Runtime: 5 * sqrt(n) microseconds\n",
    "def merge_sort(arr):\n",
    "    if len(arr) > 1:\n",
    "        mid = len(arr) // 2\n",
    "        left_half = arr[:mid]\n",
    "        right_half = arr[mid:]\n",
    "\n",
    "        merge_sort(left_half)\n",
    "        merge_sort(right_half)\n",
    "\n",
    "        i = j = k = 0\n",
    "\n",
    "        while i < len(left_half) and j < len(right_half):\n",
    "            if left_half[i] < right_half[j]:\n",
    "                arr[k] = left_half[i]\n",
    "                i += 1\n",
    "            else:\n",
    "                arr[k] = right_half[j]\n",
    "                j += 1\n",
    "            k += 1\n",
    "\n",
    "        while i < len(left_half):\n",
    "            arr[k] = left_half[i]\n",
    "            i += 1\n",
    "            k += 1\n",
    "\n",
    "        while j < len(right_half):\n",
    "            arr[k] = right_half[j]\n",
    "            j += 1\n",
    "            k += 1\n",
    "\n",
    "# Test the Algorithms\n",
    "crossover_value = 2000  # Adjust this value as needed\n",
    "\n",
    "random.seed(42)\n",
    "array = [random.randint(1, 1000) for _ in range(crossover_value)]\n",
    "\n",
    "# Measure the runtime of Bubble Sort\n",
    "start_time = time.time()\n",
    "bubble_sort(array.copy())\n",
    "bubble_sort_time = (time.time() - start_time) * 1e6  # Convert to microseconds\n",
    "\n",
    "# Measure the runtime of Merge Sort\n",
    "start_time = time.time()\n",
    "merge_sort(array.copy())\n",
    "merge_sort_time = (time.time() - start_time) * 1e6  # Convert to microseconds\n",
    "\n",
    "if bubble_sort_time < 5 * math.sqrt(crossover_value):\n",
    "    print(f\"Bubble Sort is faster for n = {crossover_value}\")\n",
    "else:\n",
    "    print(f\"Merge Sort is faster for n = {crossover_value}\")\n"
   ]
  },
  {
   "attachments": {},
   "cell_type": "markdown",
   "metadata": {},
   "source": [
    "**Question5** \n",
    "\n",
    "**Imagine you are tasked with designing a sequence of picture frames to hang on a wall, and you want to minimize the growth rate of the function f(n), where n represents the total number of frames used in the design. Each row of frames will be placed one below the other, and you want to ensure that the number of frames used in each row is bounded by a constant c. Your objective is to create this design using frames with widths determined by the function f(n), where f(n) grows as slowly as possible.**\n",
    "\n",
    "**How can you design this arrangement of picture frames while adhering to the constraints mentioned above?**"
   ]
  },
  {
   "attachments": {},
   "cell_type": "markdown",
   "metadata": {},
   "source": [
    "**Answer5**\n",
    "\n",
    "Suppose we want to construct a series of shelves to hold a total of n books, with each shelf having a maximum capacity of c books. To minimize the growth rate of the function f(n), we can approach this problem using a binary search-like algorithm.\n",
    "\n",
    "Here's a code example and complexity explanation:"
   ]
  },
  {
   "cell_type": "code",
   "execution_count": 3,
   "metadata": {},
   "outputs": [
    {
     "name": "stdout",
     "output_type": "stream",
     "text": [
      "Minimum number of shelves needed: 6\n"
     ]
    }
   ],
   "source": [
    "def find_min_shelves(n, c):\n",
    "    left, right = 1, n  # Initialize the search range for the number of shelves\n",
    "\n",
    "    while left <= right:\n",
    "        mid = (left + right) // 2  # Calculate the midpoint\n",
    "        total_books = mid * c  # Calculate the total books with mid shelves\n",
    "\n",
    "        if total_books == n:\n",
    "            return mid  # Exact match found\n",
    "        elif total_books < n:\n",
    "            left = mid + 1  # Adjust the search range to the right\n",
    "        else:\n",
    "            right = mid - 1  # Adjust the search range to the left\n",
    "\n",
    "    return right  # Return the minimum number of shelves needed\n",
    "\n",
    "# Example usage\n",
    "total_books_needed = 30  # Total number of books needed\n",
    "books_per_shelf = 5     # Maximum number of books per shelf\n",
    "\n",
    "min_shelves = find_min_shelves(total_books_needed, books_per_shelf)\n",
    "print(f\"Minimum number of shelves needed: {min_shelves}\")\n"
   ]
  },
  {
   "attachments": {},
   "cell_type": "markdown",
   "metadata": {},
   "source": [
    "Space Complexity:\n",
    "\n",
    "Space Complexity: O(1)\n",
    "The code's memory usage is constant, unaffected by the input size n or c.\n",
    "\n",
    "Time Complexity:\n",
    "\n",
    "Time Complexity: O(log₂(n))\n",
    "Explanation:\n",
    "\n",
    "left and right represent the search range.\n",
    "mid is calculated as the average of left and right.\n",
    "total_books is computed as mid * c.\n",
    "With each iteration, we reduce the search range by half, resulting in a logarithmic number of iterations based on n.\n",
    "\n",
    "In summary, the space complexity is constant (O(1)), and the time complexity is logarithmic (O(log(n))), making the code efficient in terms of both space and time, while minimizing the growth rate of the function f(n)."
   ]
  },
  {
   "attachments": {},
   "cell_type": "markdown",
   "metadata": {},
   "source": [
    "**Question6**\n",
    "\n",
    "**One algorithm requires log2 (n) seconds and another algorithm requires √n seconds. Which one grows\n",
    "asymptotically faster? That is, which grows faster as n gets large? What is the cross-over value of n? (The\n",
    "value at which the curves intersect)?**"
   ]
  },
  {
   "cell_type": "code",
   "execution_count": 40,
   "metadata": {},
   "outputs": [
    {
     "name": "stdout",
     "output_type": "stream",
     "text": [
      "Collecting matplotlib\n",
      "  Downloading matplotlib-3.8.0-cp310-cp310-macosx_11_0_arm64.whl (7.5 MB)\n",
      "\u001b[2K     \u001b[90m━━━━━━━━━━━━━━━━━━━━━━━━━━━━━━━━━━━━━━━━\u001b[0m \u001b[32m7.5/7.5 MB\u001b[0m \u001b[31m21.1 MB/s\u001b[0m eta \u001b[36m0:00:00\u001b[0m00:01\u001b[0m00:01\u001b[0m\n",
      "\u001b[?25hCollecting contourpy>=1.0.1\n",
      "  Downloading contourpy-1.1.1-cp310-cp310-macosx_11_0_arm64.whl (232 kB)\n",
      "\u001b[2K     \u001b[90m━━━━━━━━━━━━━━━━━━━━━━━━━━━━━━━━━━━━━━\u001b[0m \u001b[32m232.4/232.4 kB\u001b[0m \u001b[31m35.7 MB/s\u001b[0m eta \u001b[36m0:00:00\u001b[0m\n",
      "\u001b[?25hCollecting cycler>=0.10\n",
      "  Downloading cycler-0.11.0-py3-none-any.whl (6.4 kB)\n",
      "Collecting kiwisolver>=1.0.1\n",
      "  Downloading kiwisolver-1.4.5-cp310-cp310-macosx_11_0_arm64.whl (66 kB)\n",
      "\u001b[2K     \u001b[90m━━━━━━━━━━━━━━━━━━━━━━━━━━━━━━━━━━━━━━━━\u001b[0m \u001b[32m66.2/66.2 kB\u001b[0m \u001b[31m15.2 MB/s\u001b[0m eta \u001b[36m0:00:00\u001b[0m\n",
      "\u001b[?25hCollecting pillow>=6.2.0\n",
      "  Downloading Pillow-10.0.1-cp310-cp310-macosx_11_0_arm64.whl (3.3 MB)\n",
      "\u001b[2K     \u001b[90m━━━━━━━━━━━━━━━━━━━━━━━━━━━━━━━━━━━━━━━━\u001b[0m \u001b[32m3.3/3.3 MB\u001b[0m \u001b[31m65.9 MB/s\u001b[0m eta \u001b[36m0:00:00\u001b[0ma \u001b[36m0:00:01\u001b[0m\n",
      "\u001b[?25hRequirement already satisfied: packaging>=20.0 in /Users/namithajc/Library/Python/3.10/lib/python/site-packages (from matplotlib) (23.1)\n",
      "Collecting pyparsing>=2.3.1\n",
      "  Downloading pyparsing-3.1.1-py3-none-any.whl (103 kB)\n",
      "\u001b[2K     \u001b[90m━━━━━━━━━━━━━━━━━━━━━━━━━━━━━━━━━━━━━━\u001b[0m \u001b[32m103.1/103.1 kB\u001b[0m \u001b[31m14.4 MB/s\u001b[0m eta \u001b[36m0:00:00\u001b[0m\n",
      "\u001b[?25hRequirement already satisfied: numpy<2,>=1.21 in /Library/Frameworks/Python.framework/Versions/3.10/lib/python3.10/site-packages (from matplotlib) (1.23.5)\n",
      "Collecting fonttools>=4.22.0\n",
      "  Downloading fonttools-4.42.1-cp310-cp310-macosx_10_9_universal2.whl (2.7 MB)\n",
      "\u001b[2K     \u001b[90m━━━━━━━━━━━━━━━━━━━━━━━━━━━━━━━━━━━━━━━━\u001b[0m \u001b[32m2.7/2.7 MB\u001b[0m \u001b[31m47.7 MB/s\u001b[0m eta \u001b[36m0:00:00\u001b[0ma \u001b[36m0:00:01\u001b[0m\n",
      "\u001b[?25hRequirement already satisfied: python-dateutil>=2.7 in /Library/Frameworks/Python.framework/Versions/3.10/lib/python3.10/site-packages (from matplotlib) (2.8.2)\n",
      "Requirement already satisfied: six>=1.5 in /Library/Frameworks/Python.framework/Versions/3.10/lib/python3.10/site-packages (from python-dateutil>=2.7->matplotlib) (1.16.0)\n",
      "Installing collected packages: pyparsing, pillow, kiwisolver, fonttools, cycler, contourpy, matplotlib\n",
      "Successfully installed contourpy-1.1.1 cycler-0.11.0 fonttools-4.42.1 kiwisolver-1.4.5 matplotlib-3.8.0 pillow-10.0.1 pyparsing-3.1.1\n",
      "\n",
      "\u001b[1m[\u001b[0m\u001b[34;49mnotice\u001b[0m\u001b[1;39;49m]\u001b[0m\u001b[39;49m A new release of pip available: \u001b[0m\u001b[31;49m22.3.1\u001b[0m\u001b[39;49m -> \u001b[0m\u001b[32;49m23.2.1\u001b[0m\n",
      "\u001b[1m[\u001b[0m\u001b[34;49mnotice\u001b[0m\u001b[1;39;49m]\u001b[0m\u001b[39;49m To update, run: \u001b[0m\u001b[32;49mpip install --upgrade pip\u001b[0m\n",
      "Note: you may need to restart the kernel to use updated packages.\n"
     ]
    }
   ],
   "source": [
    "pip install matplotlib"
   ]
  },
  {
   "cell_type": "code",
   "execution_count": 1,
   "metadata": {},
   "outputs": [],
   "source": [
    "import numpy as np\n",
    "import matplotlib.pyplot as plt\n",
    "\n",
    "def plotting_func():\n",
    "\n",
    "    fn1 = input('Enter the first function (for \"log\" use numpy)): ')\n",
    "    fn2 = input('Enter the second function (for \"log\" use numpy): ')\n",
    "\n",
    "    try:\n",
    "        x = np.arange(1, 101) \n",
    "\n",
    "        func1 = eval(fn1)\n",
    "        func2 = eval(fn2)\n",
    "\n",
    "        plt.plot(x, func1, label = f'Function 1: {fn1}')\n",
    "        plt.plot(x, func2, label = f'Function 2: {fn2}')\n",
    "\n",
    "        plt.xlabel('Input Size')\n",
    "        plt.ylabel('Running Time')\n",
    "        plt.legend()\n",
    "\n",
    "        plt.show()\n",
    "\n",
    "        crossover_point = np.argmax(func1 > func2)\n",
    "        if crossover_point == 0:\n",
    "\n",
    "            print('The functions do not intersect')\n",
    "        else:\n",
    "            print(f'The functions cross at n = {crossover_point}.')\n",
    "\n",
    "\n",
    "        if func1[-1] > func2[-1]:\n",
    "            print(f'Function 1{fn1} grows faster.')\n",
    "\n",
    "        elif func1[-1] < func2[-1]:\n",
    "            print(f'Function 2 ({fn2}) grows faster.')\n",
    "        else:\n",
    "            print('Both functions grow at the same rate.')\n",
    "\n",
    "    except Exception as e:\n",
    "        print(\"Error:\", str(e))"
   ]
  },
  {
   "attachments": {},
   "cell_type": "markdown",
   "metadata": {},
   "source": [
    "#Please put your own input"
   ]
  },
  {
   "cell_type": "code",
   "execution_count": 5,
   "metadata": {},
   "outputs": [
    {
     "data": {
      "image/png": "[encoded data removed]",
      "text/plain": [
       "<Figure size 640x480 with 1 Axes>"
      ]
     },
     "metadata": {},
     "output_type": "display_data"
    },
    {
     "name": "stdout",
     "output_type": "stream",
     "text": [
      "The functions cross at n = 1.\n",
      "Function 1x**2 grows faster.\n"
     ]
    }
   ],
   "source": [
    "plotting_func()"
   ]
  },
  {
   "attachments": {},
   "cell_type": "markdown",
   "metadata": {},
   "source": [
    "**Question7**\n",
    "\n",
    "**In a student assignment scenario, consider two students, Alice and Bob, and two assignments, Assignment A and Assignment B. Alice ranks Assignment A as her top preference, and Bob ranks Assignment B as his top preference. If this assignment situation results in a stable matching, is it always true that Alice and Bob will be assigned to Assignment A and Assignment B, respectively?**\n",
    "\n",
    "**State whether the above statement is True or False.**\n",
    "**If the statement is true, provide a brief explanation. If false, provide a counterexample to demonstrate when Alice and Bob might not be assigned to their top preferences despite the matching being stable.**\n"
   ]
  },
  {
   "attachments": {},
   "cell_type": "markdown",
   "metadata": {},
   "source": [
    "**Answer7**\n",
    "\n",
    "In any stable seating arrangement for this instance, the pair (Alex, Bella) will be seated together.\n",
    "\n",
    "Explanation:\n",
    "The statement is true. If Alice and Bob both rank each other as their top preferences, it means they strongly prefer each other over any other possible partner. In the context of stable matching, if they are not matched with each other, it would imply that there is another pairing where both Alice and Bob prefer each other over their current partners. This would make the matching unstable, which contradicts the definition of a stable matching.\n"
   ]
  },
  {
   "attachments": {},
   "cell_type": "markdown",
   "metadata": {},
   "source": [
    "**Pseudo Code**"
   ]
  },
  {
   "cell_type": "code",
   "execution_count": 32,
   "metadata": {},
   "outputs": [
    {
     "name": "stdout",
     "output_type": "stream",
     "text": [
      "{'Alice': 'Bob', 'Bob': 'Charlie', 'Charlie': 'Charlie'}\n"
     ]
    }
   ],
   "source": [
    "function stable_matching(preferences):\n",
    "    Initialize an empty matching dictionary\n",
    "    Initialize an empty proposals dictionary\n",
    "\n",
    "    Create a list of all individuals\n",
    "    while individuals is not empty:\n",
    "        person = first individual in the list\n",
    "        pref_list = preferences[person]\n",
    "        preferred_partner = the first person in pref_list\n",
    "\n",
    "        if preferred_partner is not matched:\n",
    "            Match person with preferred_partner\n",
    "            Remove person from the list of individuals\n",
    "        else:\n",
    "            current_partner = the current partner of preferred_partner\n",
    "\n",
    "            if person is preferred over current_partner:\n",
    "                Match person with preferred_partner\n",
    "                Remove person from the list of individuals\n",
    "            else:\n",
    "                Add person to preferred_partner's proposal list\n",
    "\n",
    "    Return the matching dictionary\n",
    "\n"
   ]
  },
  {
   "attachments": {},
   "cell_type": "markdown",
   "metadata": {},
   "source": [
    "Complexity Analysis:\n",
    "The complexity of this code depends on the number of individuals and their preferences. In the worst case, the code may iterate through the preferences multiple times, but it is guaranteed to find a stable matching. The time complexity can be roughly approximated as O(n^2), where n is the number of individuals. However, the actual number of iterations may be fewer in practice, especially when individuals have strong mutual preferences."
   ]
  },
  {
   "attachments": {},
   "cell_type": "markdown",
   "metadata": {},
   "source": [
    "**Question8**\n",
    "\n",
    "**Consider a hospital with multiple departments, each offering a variety of medical services to patients. The hospital's goal is to establish a stable patient appointment scheduling system that maximizes patient satisfaction and minimizes appointment conflicts.**\n",
    "\n",
    "**Each patient has preferences for the medical services they require, and each service has a limited capacity.**\n",
    "**A stable appointment schedule means that no patient wants to cancel or reschedule their appointments, and no healthcare provider wishes to remove a patient from their appointment list.**\n",
    "**Each medical service has specific time slots and availability throughout the week.**\n",
    "**Patients have their own schedules indicating the days and times they are available for appointments.**\n",
    "**A patient can only schedule an appointment for a service if it aligns with their availability, and they won't cancel it unless there's a suitable replacement within their availability.**\n",
    "**The challenge is to design a scheduling algorithm that assigns patients to appointments while considering these timing constraints, ensuring:**\n",
    "\n",
    "**Each patient is assigned appointments for their preferred medical services that fit their schedules and for which they meet the medical criteria.**\n",
    "**Each medical service is fully utilized without exceeding its capacity and adheres to its schedule.**\n",
    "**No patient wishes to cancel or reschedule an appointment and seek another because they prefer their current set of appointments and their schedules.**\n",
    "**The question to resolve is whether there exists a stable patient appointment scheduling system that satisfies all these conditions for any given set of patients, medical services, their preferences, and timing constraints. Provide an algorithm to determine if a stable appointment schedule is possible or an example where it is not possible.**"
   ]
  },
  {
   "attachments": {},
   "cell_type": "markdown",
   "metadata": {},
   "source": [
    "**Answer8**\n",
    "\n",
    "Stable Patient Appointment Scheduling with Medical Criteria and Timing Constraints.\n",
    "\n",
    "Pseudo Code:"
   ]
  },
  {
   "cell_type": "code",
   "execution_count": null,
   "metadata": {},
   "outputs": [],
   "source": [
    "# Initialize empty appointment schedules for each patient\n",
    "appointment_schedules = {}\n",
    "\n",
    "# Initialize available appointments for each medical service\n",
    "available_appointments = {}\n",
    "\n",
    "# Initialize stability flag\n",
    "is_stable = False\n",
    "\n",
    "# Main algorithm loop\n",
    "while not is_stable:\n",
    "    # Reset the stability flag for this iteration\n",
    "    is_stable = True\n",
    "\n",
    "    # Iterate over each patient\n",
    "    for patient in patients:\n",
    "        # Sort medical service preferences based on priority\n",
    "        sorted_preferences = sort_preferences(patient.preferences)\n",
    "\n",
    "        # Initialize a flag to track if any changes are made for this patient\n",
    "        changes_made = False\n",
    "\n",
    "        # Iterate over sorted preferences\n",
    "        for service in sorted_preferences:\n",
    "            if meets_medical_criteria(patient, service) and has_available_appointments(service):\n",
    "                # Assign the appointment to the patient\n",
    "                appointment = assign_appointment(patient, service)\n",
    "                appointment_schedules[patient].append(appointment)\n",
    "                available_appointments[service].remove(appointment)\n",
    "\n",
    "                # Mark that changes were made for this patient\n",
    "                changes_made = True\n",
    "\n",
    "        if changes_made:\n",
    "            # If changes were made for this patient, check for schedule alignment\n",
    "            appointment_schedules[patient] = align_schedule(patient, appointment_schedules[patient])\n",
    "\n",
    "            # Check if the patient still wishes to make changes\n",
    "            if wants_to_change_appointments(patient, appointment_schedules[patient]):\n",
    "                is_stable = False  # Not stable if patient wants changes\n",
    "\n",
    "# Final appointment schedules are stable\n",
    "final_appointment_schedules = appointment_schedules\n"
   ]
  },
  {
   "attachments": {},
   "cell_type": "markdown",
   "metadata": {},
   "source": [
    "In this pseudo-code:\n",
    "\n",
    "**sort_preferences** sorts the patient's preferences.\n",
    "**meets_medical_criteria** checks if the patient meets the medical criteria for a service.\n",
    "**has_available_appointments** checks if there are available appointments for a service.\n",
    "**assign_appointment** assigns an appointment to a patient.\n",
    "**align_schedule** aligns the patient's schedule with the assigned appointments.\n",
    "**wants_to_change_appointments** checks if the patient still wishes to change appointments.\n",
    "\n",
    "This algorithm iteratively assigns appointments based on patient preferences, aligns schedules, and checks for stability until no patient wishes to change appointments. If it reaches a point where no changes are requested, the appointment schedules are considered stable."
   ]
  },
  {
   "attachments": {},
   "cell_type": "markdown",
   "metadata": {},
   "source": [
    "**Question9**\n",
    "\n",
    "At a grand prom event, organizers are reimagining the traditional prom dance format to foster inclusivity and intergenerational connections. This prom will include participants of various age groups, from teenagers to adults. Instead of allowing attendees to choose their own dance partners, they are implementing a Dance Partner Matching Algorithm, inspired by the Gale-Shapley Algorithm.\n",
    "\n",
    "Key Points:\n",
    "\n",
    "Intergenerational Prom: Unlike conventional proms that mainly cater to teenagers, this event welcomes participants from different age groups, including teenagers and adults. The goal is to create an inclusive and memorable experience for all attendees.\n",
    "\n",
    "Dance Partner Matching Algorithm: To ensure that everyone has a chance to enjoy the dance floor, the organizers have designed a Gale-Shapley-inspired Matching Algorithm. This algorithm will consider factors like dance style preferences, age compatibility, and participant interests to create optimal dance pairs.\n",
    "\n",
    "Participant Input: Participants are encouraged to provide information about their preferred dance styles (e.g., ballroom, salsa, contemporary), age group preferences for dance partners, and any specific dance songs they would like to dance to.\n",
    "\n",
    "Fostering Connections: The primary objective of this change is to promote connections and camaraderie across age groups. It offers an opportunity for older individuals to share their dance experiences with younger generations and vice versa.\n",
    "\n",
    "Evaluation and Feedback: The success of this new prom format will be evaluated based on participant feedback, the quality of dance matches, and the level of enjoyment experienced by all attendees. Organizers will also assess whether it achieves the intended intergenerational connections.\n",
    "\n",
    "This scenario introduces an innovative approach to prom dances by utilizing a matching algorithm to pair participants from different age groups with dance partners. It seeks to create an inclusive and enriching experience where attendees can share their love for dancing and forge meaningful connections with individuals of various generations."
   ]
  },
  {
   "attachments": {},
   "cell_type": "markdown",
   "metadata": {},
   "source": [
    "A. Write a code in python to match different number of teenagers and with each other using the Gale-Shapley algorithm"
   ]
  },
  {
   "cell_type": "code",
   "execution_count": 35,
   "metadata": {},
   "outputs": [
    {
     "name": "stdout",
     "output_type": "stream",
     "text": [
      "Elder1 is matched with Teen1\n",
      "Elder2 is matched with Teen2\n",
      "Elder3 is matched with Teen3\n",
      "Elder4 is matched with Teen4\n",
      "Elder5 is matched with Teen5\n"
     ]
    }
   ],
   "source": [
    "def gale_shapley(teenagers, elders):\n",
    "    # Create dictionaries to store the matches\n",
    "    matches = {}\n",
    "    reverse_matches = {}\n",
    "\n",
    "    # Initialize all participants as free\n",
    "    free_teenagers = list(teenagers.keys())\n",
    "\n",
    "    # While there are free teenagers\n",
    "    while free_teenagers:\n",
    "        teen = free_teenagers.pop(0)\n",
    "        teen_preferences = teenagers[teen]\n",
    "\n",
    "        for adult in teen_preferences:\n",
    "            # Check if the adult is free or prefers the current teenager\n",
    "            current_match = matches.get(adult)\n",
    "            if current_match is None or elders[adult].index(teen) < elders[adult].index(current_match):\n",
    "                # Update matches\n",
    "                matches[adult] = teen\n",
    "                reverse_matches[teen] = adult\n",
    "                if current_match is not None:\n",
    "                    free_teenagers.append(current_match)\n",
    "                break\n",
    "\n",
    "    return matches, reverse_matches\n",
    "\n",
    "# Example input data (preferences)\n",
    "teenagers = {\n",
    "    'Teen1': ['Elder1', 'Elder2', 'Elder3', 'Elder4', 'Elder5'],\n",
    "    'Teen2': ['Elder2', 'Elder1', 'Elder3', 'Elder4', 'Elder5'],\n",
    "    'Teen3': ['Elder3', 'Elder2', 'Elder1', 'Elder4', 'Elder5'],\n",
    "    'Teen4': ['Elder4', 'Elder2', 'Elder1', 'Elder3', 'Elder5'],\n",
    "    'Teen5': ['Elder5', 'Elder4', 'Elder2', 'Elder1', 'Elder3'],\n",
    "}\n",
    "\n",
    "elders = {\n",
    "    'Elder1': ['Teen1', 'Teen2', 'Teen3', 'Teen4', 'Teen5'],\n",
    "    'Elder2': ['Teen2', 'Teen3', 'Teen4', 'Teen5', 'Teen1'],\n",
    "    'Elder3': ['Teen3', 'Teen4', 'Teen5', 'Teen1', 'Teen2'],\n",
    "    'Elder4': ['Teen4', 'Teen5', 'Teen1', 'Teen2', 'Teen3'],\n",
    "    'Elder5': ['Teen5', 'Teen1', 'Teen2', 'Teen3', 'Teen4'],\n",
    "}\n",
    "\n",
    "# Run the Gale-Shapley algorithm\n",
    "matches, reverse_matches = gale_shapley(teenagers, elders)\n",
    "\n",
    "for adult, teenager in matches.items():\n",
    "    print(f\"{adult} is matched with {teenager}\")"
   ]
  },
  {
   "attachments": {},
   "cell_type": "markdown",
   "metadata": {},
   "source": [
    "B.Write a code to shuffle the preferences by n number of times and calculate stable matches"
   ]
  },
  {
   "cell_type": "code",
   "execution_count": 37,
   "metadata": {},
   "outputs": [
    {
     "name": "stdout",
     "output_type": "stream",
     "text": [
      "Elder3 is matched with Teen5\n",
      "Elder2 is matched with Teen2\n",
      "Elder1 is matched with Teen1\n",
      "Elder5 is matched with Teen4\n",
      "Elder4 is matched with Teen3\n"
     ]
    }
   ],
   "source": [
    "import random\n",
    "\n",
    "def gale_shapley(teenagers, elders):\n",
    "    # Create dictionaries to store the matches\n",
    "    matches = {}\n",
    "    reverse_matches = {}\n",
    "\n",
    "    # Initialize all participants as free\n",
    "    free_teenagers = list(teenagers.keys())\n",
    "\n",
    "    # While there are free teenagers\n",
    "    while free_teenagers:\n",
    "        teen = free_teenagers.pop(0)\n",
    "        teen_preferences = teenagers[teen]\n",
    "\n",
    "        for adult in teen_preferences:\n",
    "            # Check if the adult is free or prefers the current teenager\n",
    "            current_match = matches.get(adult)\n",
    "            if current_match is None or elders[adult].index(teen) < elders[adult].index(current_match):\n",
    "                # Update matches\n",
    "                matches[adult] = teen\n",
    "                reverse_matches[teen] = adult\n",
    "                if current_match is not None:\n",
    "                    free_teenagers.append(current_match)\n",
    "                break\n",
    "\n",
    "    return matches, reverse_matches\n",
    "\n",
    "def shuffle_preferences(preferences):\n",
    "    # Shuffle the order of preferences for each participant\n",
    "    for participant, prefs in preferences.items():\n",
    "        random.shuffle(prefs)\n",
    "teenagers = {\n",
    "    'Teen1': ['Elder1', 'Elder2', 'Elder3', 'Elder4', 'Elder5'],\n",
    "    'Teen2': ['Elder2', 'Elder1', 'Elder3', 'Elder4', 'Elder5'],\n",
    "    'Teen3': ['Elder3', 'Elder2', 'Elder1', 'Elder4', 'Elder5'],\n",
    "    'Teen4': ['Elder4', 'Elder2', 'Elder1', 'Elder3', 'Elder5'],\n",
    "    'Teen5': ['Elder5', 'Elder4', 'Elder2', 'Elder1', 'Elder3'],\n",
    "}\n",
    "\n",
    "elders = {\n",
    "    'Elder1': ['Teen1', 'Teen2', 'Teen3', 'Teen4', 'Teen5'],\n",
    "    'Elder2': ['Teen2', 'Teen3', 'Teen4', 'Teen5', 'Teen1'],\n",
    "    'Elder3': ['Teen3', 'Teen4', 'Teen5', 'Teen1', 'Teen2'],\n",
    "    'Elder4': ['Teen4', 'Teen5', 'Teen1', 'Teen2', 'Teen3'],\n",
    "    'Elder5': ['Teen5', 'Teen1', 'Teen2', 'Teen3', 'Teen4'],\n",
    "}\n",
    "\n",
    "# Number of times to shuffle preferences\n",
    "n_shuffle = 1000\n",
    "\n",
    "# Run the Gale-Shapley algorithm after shuffling preferences n times\n",
    "for _ in range(n_shuffle):\n",
    "    shuffle_preferences(teenagers)\n",
    "    # shuffle_preferences(adults)\n",
    "    shuffle_preferences(elders)\n",
    "    matches, _ = gale_shapley(teenagers, elders)\n",
    "\n",
    "# Print the final matches\n",
    "for adult, teenager in matches.items():\n",
    "    print(f\"{adult} is matched with {teenager}\")"
   ]
  },
  {
   "attachments": {},
   "cell_type": "markdown",
   "metadata": {},
   "source": [
    "C.Assume if for certain songs one person might dance and for other songs they might not , write a code for it"
   ]
  },
  {
   "cell_type": "code",
   "execution_count": 39,
   "metadata": {},
   "outputs": [
    {
     "name": "stdout",
     "output_type": "stream",
     "text": [
      "Elder1 is matched with Teen1 and will dance.\n",
      "Elder4 is matched with Teen4 and will dance.\n",
      "Elder5 is matched with Teen3 and will dance.\n",
      "Elder3 is matched with Teen5 and will dance.\n",
      "Elder2 is matched with Teen2 and will dance.\n"
     ]
    }
   ],
   "source": [
    "import random\n",
    "\n",
    "def gale_shapley_with_song_preferences(teenagers, elders, song_preferences):\n",
    "    # Create dictionaries to store the matches\n",
    "    matches = {}\n",
    "    reverse_matches = {}\n",
    "\n",
    "    # Initialize all participants as free\n",
    "    free_teenagers = list(teenagers.keys())\n",
    "\n",
    "    # While there are free teenagers\n",
    "    while free_teenagers:\n",
    "        teen = free_teenagers.pop(0)\n",
    "        teen_preferences = teenagers[teen]\n",
    "\n",
    "        for adult in teen_preferences:\n",
    "            # Check if the adult is free or prefers the current teenager\n",
    "            current_match = matches.get(adult)\n",
    "\n",
    "            # Check song preferences for the current match\n",
    "            song_preference = song_preferences[adult].get(teen, True)\n",
    "\n",
    "            if (current_match is None or elders[adult].index(teen) < elders[adult].index(current_match)) and song_preference:\n",
    "                # Update matches\n",
    "                matches[adult] = teen\n",
    "                reverse_matches[teen] = adult\n",
    "                if current_match is not None:\n",
    "                    free_teenagers.append(current_match)\n",
    "                break\n",
    "\n",
    "    return matches, reverse_matches\n",
    "\n",
    "def shuffle_preferences(preferences):\n",
    "    # Shuffle the order of preferences for each participant\n",
    "    for participant, prefs in preferences.items():\n",
    "        random.shuffle(prefs)\n",
    "\n",
    "# Example input data (preferences)\n",
    "teenagers = {\n",
    "    'Teen1': ['Elder1', 'Elder2', 'Elder3', 'Elder4', 'Elder5'],\n",
    "    'Teen2': ['Elder2', 'Elder1', 'Elder3', 'Elder4', 'Elder5'],\n",
    "    'Teen3': ['Elder3', 'Elder2', 'Elder1', 'Elder4', 'Elder5'],\n",
    "    'Teen4': ['Elder4', 'Elder2', 'Elder1', 'Elder3', 'Elder5'],\n",
    "    'Teen5': ['Elder5', 'Elder4', 'Elder2', 'Elder1', 'Elder3'],\n",
    "}\n",
    "\n",
    "elders = {\n",
    "    'Elder1': ['Teen1', 'Teen2', 'Teen3', 'Teen4', 'Teen5'],\n",
    "    'Elder2': ['Teen2', 'Teen3', 'Teen4', 'Teen5', 'Teen1'],\n",
    "    'Elder3': ['Teen3', 'Teen4', 'Teen5', 'Teen1', 'Teen2'],\n",
    "    'Elder4': ['Teen4', 'Teen5', 'Teen1', 'Teen2', 'Teen3'],\n",
    "    'Elder5': ['Teen5', 'Teen1', 'Teen2', 'Teen3', 'Teen4'],\n",
    "}\n",
    "\n",
    "# Song preferences (for each adult, True means they will dance, False means they won't)\n",
    "song_preferences = {}\n",
    "for elder in elders:\n",
    "    song_preferences[elder] = {}\n",
    "    for teenager in teenagers:\n",
    "        # Randomly set song preferences for each pair (elder, teenager)\n",
    "        song_preferences[elder][teenager] = [random.choice([True, False]) for _ in range(3)]\n",
    "\n",
    "# Number of times to shuffle preferences\n",
    "n_shuffle = 100\n",
    "\n",
    "# Run the Gale-Shapley algorithm after shuffling preferences n times\n",
    "for _ in range(n_shuffle):\n",
    "    shuffle_preferences(teenagers)\n",
    "    # shuffle_preferences(adults)\n",
    "    matches, _ = gale_shapley_with_song_preferences(teenagers, elders, song_preferences)\n",
    "\n",
    "# Print the final matches\n",
    "for adult, teenager in matches.items():\n",
    "    if song_preferences[adult].get(teenager, False):\n",
    "        print(f\"{adult} is matched with {teenager} and will dance.\")\n",
    "    else:\n",
    "        print(f\"{adult} is matched with {teenager} but won't dance for this song.\")"
   ]
  },
  {
   "attachments": {},
   "cell_type": "markdown",
   "metadata": {},
   "source": [
    "D.Can we match teens with only Teens and Elders with only elders\n",
    "\n",
    "If you want to match elders with only elders and teens with only teens, we can run he algorithm only by\n",
    "\n",
    "teenager_matches, _ = gale_shapley({'teenagers': teenagers}, song_preferences['teenagers'])\n",
    "\n",
    "elder_matches, _ = gale_shapley({'elders': elders}, song_preferences['elders'])"
   ]
  },
  {
   "attachments": {},
   "cell_type": "markdown",
   "metadata": {},
   "source": [
    "E. By incresing the number of participants does the time complexity increase?\n",
    "\n",
    "The time Complexity of the code can be analysed as : Shuffling: Shuffling each participant's list involves iterating through the list once and randomly selecting elements using random.sample. The time complexity for this operation is O(n), where n is the length of the list (which is constant, as there are always 15 participants). Creating Subsets: Creating subsets involves slicing the shuffled list into three parts (Teens, Adults, Elders), which is also an O(n) operation. Therefore, the overall time complexity of the code is O(n) for shuffling each participant's list and creating subsets for each participant.\n",
    "\n",
    "Thus by increaseing by n participants the code increases in iteration by n."
   ]
  },
  {
   "attachments": {},
   "cell_type": "markdown",
   "metadata": {},
   "source": [
    "**Assistance from ChatGPT:**\n",
    "\n",
    "ChatGPT provided valuable guidance in structuring algorithmic problems.\n",
    "It clarified complex algorithmic concepts and generated illustrative code examples.\n",
    "ChatGPT's assistance was instrumental in simplifying algorithms without compromising core principles.\n",
    "\n",
    "**Challenges Faced:**\n",
    "\n",
    "Balancing algorithmic complexity and simplicity was challenging.\n",
    "Dealing with variable data and constraints in real-world scenarios required adaptation without oversimplification.\n",
    "Maintaining the integrity of algorithmic principles while being practical was a hurdle.\n",
    "Striking the right balance between algorithmic complexity and real-world relevance posed a challenge.\n",
    "\n",
    "**Learning About Problem Design:**\n",
    "\n",
    "Clarity and simplicity are crucial in problem design for effective learning.\n",
    "Real-world relevance and adaptability engage learners at different proficiency levels.\n",
    "The iterative nature of problem design became evident, highlighting the importance of feedback and refinement.\n",
    "ChatGPT played a vital role in enhancing problem design and educational materials.\n",
    "These points encapsulate your reflection on the role of ChatGPT in algorithmic problem design, the challenges faced, and the insights gained about effective problem design in the realm of algorithms.\n",
    "\n",
    "\n",
    "\n",
    "\n"
   ]
  }
 ],
 "metadata": {
  "kernelspec": {
   "display_name": "Python 3",
   "language": "python",
   "name": "python3"
  },
  "language_info": {
   "codemirror_mode": {
    "name": "ipython",
    "version": 3
   },
   "file_extension": ".py",
   "mimetype": "text/x-python",
   "name": "python",
   "nbconvert_exporter": "python",
   "pygments_lexer": "ipython3",
   "version": "3.10.7"
  },
  "orig_nbformat": 4,
  "vscode": {
   "interpreter": {
    "hash": "98590ff4fe04c8543246b2a01debd3de3c5ca9b666f43f1fa87d5110c692004c"
   }
  }
 },
 "nbformat": 4,
 "nbformat_minor": 2
}
