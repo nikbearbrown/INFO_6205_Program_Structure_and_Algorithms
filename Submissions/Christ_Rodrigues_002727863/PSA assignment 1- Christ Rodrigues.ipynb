{
 "cells": [
  {
   "cell_type": "markdown",
   "id": "8873c120",
   "metadata": {},
   "source": [
    "The World Cup is changing its playoff format using the Gale-Shapley matching algorithm. The eight best teams from groups A,B & C, called Super Group 1, will be matched against the eight best teams from groups D, E & F, called Super Group 2,  using the Gale-Shapley matching algorithm. Further social media will be used to ask fans, media, players and coaches to create a ranking of which teams they would most like to see play their favorite team. \n",
    "   \n"
   ]
  },
  {
   "cell_type": "markdown",
   "id": "9adc12b4",
   "metadata": {},
   "source": [
    "Run pip install pprint random timeit"
   ]
  },
  {
   "cell_type": "code",
   "execution_count": 4,
   "id": "2f77132c",
   "metadata": {},
   "outputs": [],
   "source": [
    "#import all the required library to run the program\n",
    "import pprint\n",
    "import random\n",
    "\n",
    "pp = pprint.PrettyPrinter() # Pretty printer"
   ]
  },
  {
   "cell_type": "code",
   "execution_count": 5,
   "id": "fa1c2165",
   "metadata": {},
   "outputs": [],
   "source": [
    "# generating random pair\n",
    "def shuffleArray(length):\n",
    "    baseList = []\n",
    "    for index in range(length):\n",
    "        baseList.append(str(index + 1))\n",
    "\n",
    "    random.shuffle(baseList)\n",
    "    return baseList"
   ]
  },
  {
   "cell_type": "code",
   "execution_count": 6,
   "id": "186298ef",
   "metadata": {},
   "outputs": [],
   "source": [
    "def generate_random_dataset(dictionaryKeyLength=8,arrayListLength=8):\n",
    "    data={}\n",
    "    for index in range(dictionaryKeyLength):\n",
    "        data[str(index + 1)] = shuffleArray(arrayListLength)\n",
    "    return data"
   ]
  },
  {
   "cell_type": "code",
   "execution_count": 7,
   "id": "3000c880",
   "metadata": {},
   "outputs": [],
   "source": [
    "def g1(mydict):\n",
    "    \"\"\"This function appends the character 'T1G' to the keys\n",
    "    of the group 1 team preference list and 'T2G' to all the items\n",
    "    in the value.\n",
    "\n",
    "    Parameters\n",
    "    ----------\n",
    "    mydict: A dict. The group 1 team preference list\n",
    "\n",
    "    Returns\n",
    "    ----------\n",
    "    A modified dict.\n",
    "\n",
    "    \"\"\"\n",
    "\n",
    "    return {'G1T'+k: ['G2T'+i for i in v] for k, v in mydict.items()}\n",
    "\n",
    "\n",
    "def g2(mydict):\n",
    "    \"\"\"This function appends the character 'T2G' to the keys\n",
    "    of the group2 team preference list and 'T1G' to all the items\n",
    "    in the value.\n",
    "\n",
    "    Parameters\n",
    "    ----------\n",
    "    mydict: A dict. The group 2 teams preference list\n",
    "\n",
    "    Returns\n",
    "    ----------\n",
    "    A modified dict.\n",
    "    \"\"\"\n",
    "    return {'G2T'+k: ['G1T'+i  for i in v] for k, v in mydict.items()}\n",
    "\n"
   ]
  },
  {
   "cell_type": "code",
   "execution_count": 8,
   "id": "eb2e55a2",
   "metadata": {},
   "outputs": [],
   "source": [
    "\n",
    "def team1_propose(group1_team,free_teams,tmp):\n",
    "    \"\"\"This method will be run when we need group 1 teams propose first\n",
    "    to the group 2 teams according to preference list.\n",
    "\n",
    "    \"\"\"\n",
    "    for group2_team in _group1_teams[group1_team]:\n",
    "\n",
    "        # Boolean for whether a group2 team is taken or not\n",
    "        taken_match = [couple for couple in tmp if group2_team in couple]\n",
    "\n",
    "        if (len(taken_match) == 0):\n",
    "            # Match the group1 team and  the group2 team\n",
    "            tmp.append([group1_team, group2_team])\n",
    "            free_teams.remove(group1_team)\n",
    "            break\n",
    "\n",
    "        elif (len(taken_match) > 0):\n",
    "            # Check ranking of the current group1 team and the ranking of the 'to-be' group1 team\n",
    "            current_guy = _group2_team[group2_team].index(taken_match[0][0])\n",
    "            potential_guy = _group2_team[group2_team].index(group1_team)\n",
    "\n",
    "            if (current_guy < potential_guy):\n",
    "                z = taken_match[0][0]\n",
    "            else:\n",
    "                # The new team is matched\n",
    "                free_teams.remove(group1_team)\n",
    "\n",
    "                # The previous team is now unmatched\n",
    "                free_teams.append(taken_match[0][0])\n",
    "\n",
    "                # Update the match of the group 2 (tentatively)\n",
    "                taken_match[0][0] = group1_team\n",
    "                break\n",
    "    return tmp"
   ]
  },
  {
   "cell_type": "code",
   "execution_count": 9,
   "id": "6a91e14f",
   "metadata": {},
   "outputs": [],
   "source": [
    "def stable_matching_team(free_teams,tmp):\n",
    "    while (len(free_teams) > 0):\n",
    "        for i in free_teams:\n",
    "            team1_propose(i,free_teams,tmp)\n",
    "    return tmp"
   ]
  },
  {
   "cell_type": "code",
   "execution_count": 10,
   "id": "cd3e819b",
   "metadata": {},
   "outputs": [],
   "source": [
    "def __initTeams__(free_teams):\n",
    "    \"\"\"We initialise the method so we can pair every\n",
    "    group 1 team from the given preference list.\n",
    "    \"\"\"\n",
    "    for i in _group1_teams.keys():\n",
    "        free_teams.append(i)\n",
    "\n"
   ]
  },
  {
   "cell_type": "code",
   "execution_count": 11,
   "id": "26c518af",
   "metadata": {},
   "outputs": [],
   "source": [
    "global _group1_teams, _group2_team\n",
    "\n",
    "def main():\n",
    "    free_teams=[]\n",
    "    __initTeams__(free_teams)\n",
    "    matched_pairs = stable_matching_team(free_teams,[])\n",
    "    matched_pairs.sort(key = lambda x: x[0][3:])\n",
    "    return matched_pairs"
   ]
  },
  {
   "cell_type": "markdown",
   "id": "54f67008",
   "metadata": {},
   "source": [
    "### A. Find a Gale-Shapley implementation in python on Github and modify it so that the eight Super Group 1 teams will be matched against the eight Super Group 2 teams. You can make up the preference lists for each team. Make sure you cite any code you use or state that you wrote it from scratch if you did. \n",
    " \n"
   ]
  },
  {
   "cell_type": "code",
   "execution_count": 12,
   "id": "4b95cf6b",
   "metadata": {
    "scrolled": true
   },
   "outputs": [
    {
     "name": "stdout",
     "output_type": "stream",
     "text": [
      "===============Group 1 Team preference=============\n",
      "{'G1T1': ['G2T7', 'G2T4', 'G2T1', 'G2T6', 'G2T5', 'G2T8', 'G2T2', 'G2T3'],\n",
      " 'G1T2': ['G2T2', 'G2T7', 'G2T8', 'G2T4', 'G2T1', 'G2T6', 'G2T5', 'G2T3'],\n",
      " 'G1T3': ['G2T3', 'G2T1', 'G2T4', 'G2T8', 'G2T2', 'G2T6', 'G2T5', 'G2T7'],\n",
      " 'G1T4': ['G2T3', 'G2T4', 'G2T2', 'G2T7', 'G2T1', 'G2T8', 'G2T6', 'G2T5'],\n",
      " 'G1T5': ['G2T6', 'G2T2', 'G2T7', 'G2T3', 'G2T4', 'G2T1', 'G2T5', 'G2T8'],\n",
      " 'G1T6': ['G2T6', 'G2T5', 'G2T1', 'G2T7', 'G2T2', 'G2T4', 'G2T8', 'G2T3'],\n",
      " 'G1T7': ['G2T3', 'G2T4', 'G2T2', 'G2T1', 'G2T5', 'G2T6', 'G2T8', 'G2T7'],\n",
      " 'G1T8': ['G2T3', 'G2T1', 'G2T6', 'G2T5', 'G2T2', 'G2T4', 'G2T8', 'G2T7']}\n",
      "\n",
      "===============Group 2 Team preference=============\n",
      "\n",
      "{'G2T1': ['G1T8', 'G1T6', 'G1T7', 'G1T4', 'G1T5', 'G1T1', 'G1T2', 'G1T3'],\n",
      " 'G2T2': ['G1T2', 'G1T5', 'G1T4', 'G1T8', 'G1T6', 'G1T1', 'G1T3', 'G1T7'],\n",
      " 'G2T3': ['G1T6', 'G1T4', 'G1T5', 'G1T8', 'G1T7', 'G1T2', 'G1T1', 'G1T3'],\n",
      " 'G2T4': ['G1T5', 'G1T7', 'G1T2', 'G1T4', 'G1T3', 'G1T8', 'G1T6', 'G1T1'],\n",
      " 'G2T5': ['G1T3', 'G1T4', 'G1T2', 'G1T8', 'G1T6', 'G1T5', 'G1T1', 'G1T7'],\n",
      " 'G2T6': ['G1T4', 'G1T1', 'G1T7', 'G1T3', 'G1T5', 'G1T8', 'G1T2', 'G1T6'],\n",
      " 'G2T7': ['G1T4', 'G1T3', 'G1T5', 'G1T8', 'G1T2', 'G1T1', 'G1T6', 'G1T7'],\n",
      " 'G2T8': ['G1T8', 'G1T7', 'G1T1', 'G1T3', 'G1T5', 'G1T6', 'G1T4', 'G1T2']}\n",
      "\n",
      "===============Stable Pairs=============\n",
      "\n",
      "[['G1T1', 'G2T7'],\n",
      " ['G1T2', 'G2T2'],\n",
      " ['G1T3', 'G2T8'],\n",
      " ['G1T4', 'G2T3'],\n",
      " ['G1T5', 'G2T6'],\n",
      " ['G1T6', 'G2T5'],\n",
      " ['G1T7', 'G2T4'],\n",
      " ['G1T8', 'G2T1']]\n"
     ]
    }
   ],
   "source": [
    "_group1_teams = g1(generate_random_dataset(8,8))\n",
    "_group2_team = g2(generate_random_dataset(8,8))\n",
    "\n",
    "print(\"===============Group 1 Team preference=============\")\n",
    "pp.pprint(_group1_teams)\n",
    "print(\"\\n===============Group 2 Team preference=============\\n\")\n",
    "pp.pprint(_group2_team)\n",
    "stable_pairs=main()\n",
    "totalStablePairs=0\n",
    "for pair in stable_pairs:\n",
    "    pair_one=_group1_teams[pair[0]].index(pair[1])\n",
    "    pair_two=_group2_team[pair[1]].index(pair[0])\n",
    "print(\"\\n===============Stable Pairs=============\\n\")\n",
    "pp.pprint(stable_pairs)"
   ]
  },
  {
   "cell_type": "markdown",
   "id": "861dc647",
   "metadata": {},
   "source": [
    "### B.\tUse a loop to shuffle the preference lists for each team 1000 times.  Calculate the percentage of stable playoff matches.  See the function random.shuffle(x[, random])   https://docs.python.org/2/library/random.html \n",
    "\n",
    " "
   ]
  },
  {
   "cell_type": "code",
   "execution_count": 13,
   "id": "ded45d47",
   "metadata": {},
   "outputs": [
    {
     "name": "stdout",
     "output_type": "stream",
     "text": [
      "total stable pair 1000/1000\n",
      "Stable percentage 100.0\n",
      "non stable percentage 0.0\n"
     ]
    }
   ],
   "source": [
    "totalStablePairs=0\n",
    "for test_count in range(0,1000):\n",
    "    _group1_teams = generate_random_dataset(8,8)\n",
    "    _group2_team = generate_random_dataset(8,8)\n",
    "    _group1_teams = g1(_group1_teams)\n",
    "    _group2_team = g2(_group2_team)\n",
    "    stable_pairs=main()\n",
    "    if len(stable_pairs)==8: totalStablePairs+=1\n",
    "\n",
    "print('total stable pair '+str(totalStablePairs)+'/1000')\n",
    "stable_matches_percentage=(totalStablePairs/1000)*100\n",
    "no_stable_matches_percentage=100-stable_matches_percentage\n",
    "print('Stable percentage '+str(stable_matches_percentage))\n",
    "print('non stable percentage '+str(no_stable_matches_percentage))"
   ]
  },
  {
   "cell_type": "markdown",
   "id": "2ada7746",
   "metadata": {},
   "source": [
    "### C.Randomly assume certain teams win and lose each round and eliminate the losers from the preference lists for each team. Can the Gale-Shapley matching algorithm be applied over and over in each round (16 teams, 8 teams, 4 teams, 2 teams) to create stable matches? You can answer this with code or rhetoric. \n"
   ]
  },
  {
   "cell_type": "markdown",
   "id": "9331557b",
   "metadata": {},
   "source": [
    "No,The Gale-Shapley matching algorithm requires two sets of elements to create stable pairs, and if all elements in one of the sets are eliminated, the algorithm cannot be applied. This would result in an invalid scenario and the algorithm would not produce a stable match.\n",
    "\n",
    "Therefore, in such a scenario, it would be necessary to implement additional logic to handle such cases and ensure that the Gale-Shapley algorithm can be applied correctly in each round, even if some elements are eliminated. This might involve modifying the algorithm or using an alternative approach to handle such cases.\n",
    "\n",
    "\n",
    "let's consider a simple example with 4 teams, labeled A, B, C, and D, and their preferences as follows:\n",
    "```\n",
    "A: [B, C, D]\n",
    "B: [C, D, A]\n",
    "C: [A, D, B]\n",
    "D: [B, A, C]\n",
    "```\n",
    "\n",
    "If we apply the Gale-Shapley algorithm to these 4 teams, we get the following stable match: (A, B), (C, D).\n",
    "\n",
    "However, if we eliminate team A and B from the list in the first round, we are left with only teams C and D and their preferences:\n",
    "```\n",
    "C: [D, B]\n",
    "D: [B, A, C]\n",
    "```\n",
    "Since there is only one set of elements remaining, the Gale-Shapley algorithm cannot be applied and will not produce a stable match.\n",
    "\n",
    "This example demonstrates that the Gale-Shapley algorithm cannot be applied over and over in each round if some elements are eliminated, as the algorithm requires two sets of elements to produce a stable match."
   ]
  },
  {
   "cell_type": "markdown",
   "id": "1a088e67",
   "metadata": {},
   "source": [
    "### D.\tNow combine the lists so that any team can be matched against any other irrespective of conference.  Can the Gale-Shapley matching algorithm still create stable matches? (With just one list matching against itself?) You can answer this with code or rhetoric. \n",
    "\n",
    "\n",
    "**Answer:-** No, the Gale-Shapley method cannot generate consistent matches from a single list. The algorithm is made to match items from two different lists based on how well they complement one another. Since there is only one set of preferences to consider when applying the theory to a single list, it is unclear how to identify the reciprocal preferences between components. As a result, the algorithm would not be able to produce a stable match, as it would have no way to determine if an element is better or worse matched with another element.\n",
    "\n",
    "Below simple example to demonstrate that the Gale-Shapley algorithm cannot create a stable match with a single list:\n",
    "\n",
    "Suppose we have a single list of teams T1, T2, T3, and T4, and their preferences are given as follows:\n",
    "\n",
    "```\n",
    "T1: [T1,T2, T3, T4]\n",
    "T2: [T2, T3, T4, T1]\n",
    "T3: [T3, T4, T1, T2]\n",
    "T4: [T4, T1, T2, T3]\n",
    "```\n",
    "We can see that there is no stable match that can be formed with these preferences, since each element prefers itself to any other element.\n",
    "\n",
    "- T1 would prefer to match with T1 instead of T2, T3, or T4\n",
    "- T2 would prefer to match with T2 instead of T3, T4, or T1\n",
    "- T3 would prefer to match with T3 instead of T4, T1, or T2\n",
    "- T4 would prefer to match with T4 instead of T1, T2, or T3\n",
    "\n",
    "Since the Gale-Shapley algorithm requires mutual preferences between two different elements, it cannot form a stable match with a single list like this."
   ]
  },
  {
   "cell_type": "markdown",
   "id": "76c315b8",
   "metadata": {},
   "source": [
    "### E.\tDouble the size of the lists in problem A several times (you can make up team names like team1, team2, etc.) and measure the amount of time it takes to create stable matches.  How fast does the execution time grow in relation to the size of the lists?\n",
    "\n",
    "The time complexity of Gale-shapely algorithm is **O(n^2)**. Hence the execution time grows exponentially in relation to the size of the lists in the Gale-Shapely algorithm. Below is a code demostration which display the time taken to execute the code \n"
   ]
  },
  {
   "cell_type": "code",
   "execution_count": 14,
   "id": "8d5e81b6",
   "metadata": {},
   "outputs": [
    {
     "name": "stdout",
     "output_type": "stream",
     "text": [
      "For 8 teams It took 0.0 seconds\n",
      "For 808 teams It took 1.3290183544158936 seconds\n",
      "For 1608 teams It took 4.629709005355835 seconds\n",
      "For 2408 teams It took 11.166949033737183 seconds\n",
      "For 3208 teams It took 27.599287271499634 seconds\n"
     ]
    }
   ],
   "source": [
    "import time\n",
    "total_testcase=500\n",
    "for test_count in range(1,total_testcase,100):\n",
    "    total_team=8*test_count;\n",
    "    _group1_teams = generate_random_dataset(total_team,total_team)\n",
    "    _group2_team = generate_random_dataset(total_team,total_team)\n",
    "    _group1_teams = g1(_group1_teams)\n",
    "    _group2_team = g2(_group2_team)\n",
    "    startTime=time.time()\n",
    "    stable_pairs=main()\n",
    "    endTime= time.time()-startTime\n",
    "    print(f\"For {total_team} teams It took {endTime} seconds\")\n"
   ]
  },
  {
   "cell_type": "code",
   "execution_count": null,
   "id": "3643ad40",
   "metadata": {},
   "outputs": [],
   "source": []
  }
 ],
 "metadata": {
  "kernelspec": {
   "display_name": "Python 3 (ipykernel)",
   "language": "python",
   "name": "python3"
  },
  "language_info": {
   "codemirror_mode": {
    "name": "ipython",
    "version": 3
   },
   "file_extension": ".py",
   "mimetype": "text/x-python",
   "name": "python",
   "nbconvert_exporter": "python",
   "pygments_lexer": "ipython3",
   "version": "3.11.0"
  }
 },
 "nbformat": 4,
 "nbformat_minor": 5
}
