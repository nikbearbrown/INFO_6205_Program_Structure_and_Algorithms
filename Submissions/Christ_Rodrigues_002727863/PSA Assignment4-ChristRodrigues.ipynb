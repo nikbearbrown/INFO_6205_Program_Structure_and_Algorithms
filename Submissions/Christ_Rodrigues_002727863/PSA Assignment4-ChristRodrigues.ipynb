{
 "cells": [
  {
   "cell_type": "markdown",
   "metadata": {},
   "source": [
    "# INFO 6205 – Program Structure and Algorithms\n",
    "\n",
    "# Assignment 4\n",
    "\n",
    "Student Name: Christ Rodrigues\n",
    "\n",
    "Professor: Nik Bear Brown\n"
   ]
  },
  {
   "cell_type": "markdown",
   "metadata": {},
   "source": [
    "Q1 (20 Points) Given a directed graph G = (V,E), a cycle-cover is a set of vertex-disjoint cycles so that each vertex v € V belongs to a cycle. In other words, a cycle cover of a graph G is a set of cycles, which are sub-graphs of G and contain all vertices of G. If the cycles of the cover have no vertices in common, the cover is called a vertex-disjoint cycle cover or simply a disjoint cycle cover. The vertex-disjoint cycle-cover problem asks whether a given directed graph has a vertex-disjoint cycle cover.\n",
    "\n",
    "A. (10 points) Is the vertex-disjoint cycle-cover problem in P? If so, prove it.\n",
    "\n",
    "Answer:\n",
    "\n",
    "The vertex-disjoint cycle-cover problem is a known NP-complete problem, indicating that there is no known polynomial-time solution unless P equals NP. This is because it generalizes the well-known NP-complete Vertex Cover problem. The naive approach mentioned in the answer involves checking all subsets of vertices to find one that covers all edges, which is an exponential-time algorithm.\n",
    "\n",
    "B. (5 points) Suppose we require each cycle to have at most three edges. We call this the 3-cycle-cover problem. Is the 3-cycle-cover problem in NP? If so, prove it.\n",
    "\n",
    "Answer:\n",
    "\n",
    "The 3-Cycle Cover Problem is in NP. A certificate for a \"yes\" instance is the 3-cycle cover itself. Verifying that it is a cover can be done by inspecting that each cycle is indeed a cycle and by ensuring that each vertex is covered. The algorithm to check this is linear time, making it a polynomial-time verification.\n",
    "\n",
    "C. (10 points) Is the 3-cycle-cover problem NP-complete? If so, prove it.\n",
    "\n",
    "Answer:\n",
    "\n",
    "To show that the 3-Cycle Cover problem is NP-complete, we can reduce it from the well-known 3-SAT problem using the same basic idea as demonstrated in class for Independent Set. By constructing gadgets for clauses and connections between conflicting literals, we create a graph representation. The runtime for this construction is quadratic, making it a polynomial-time reduction. The correctness is proven by showing that if the 3-SAT instance is satisfiable, then the graph has a 3-cycle cover, and vice versa."
   ]
  },
  {
   "cell_type": "code",
   "execution_count": 7,
   "metadata": {},
   "outputs": [
    {
     "name": "stdout",
     "output_type": "stream",
     "text": [
      "No valid 3-Cycle Cover.\n"
     ]
    }
   ],
   "source": [
    "class ThreeCycleCover:\n",
    "    def __init__(self, sat_formula):\n",
    "        self.sat_formula = sat_formula\n",
    "        self.graph = {}\n",
    "\n",
    "    def add_clause_gadget(self, clause):\n",
    "        # Add a 3-cycle gadget for each clause in the SAT formula\n",
    "        a, b, c = clause\n",
    "        self.graph[(a, b)] = [(a, 'x', b), ('a', 'x')]\n",
    "        self.graph[(b, c)] = [(b, 'y', c), ('b', 'y')]\n",
    "        self.graph[(c, a)] = [(c, 'z', a), ('c', 'z')]\n",
    "\n",
    "    def add_conflict_connection(self, a, b):\n",
    "        # Add conflict connection between literals a and b\n",
    "        self.graph.setdefault((a, 'x'), []).append(('y',))\n",
    "        self.graph.setdefault((b, 'y'), []).append(('x',))\n",
    "\n",
    "    def create_3_cycle_cover_graph(self):\n",
    "        # Construct the graph based on the 3-SAT formula\n",
    "        for clause in self.sat_formula:\n",
    "            self.add_clause_gadget(clause)\n",
    "            self.add_conflict_connection(clause[0], clause[1])\n",
    "            self.add_conflict_connection(clause[1], clause[2])\n",
    "            self.add_conflict_connection(clause[2], clause[0])\n",
    "\n",
    "    def check_3_cycle_cover(self, cover):\n",
    "        # Check if the given cover is a valid 3-cycle cover\n",
    "        for cycle in cover:\n",
    "            for edge in cycle:\n",
    "                if edge not in self.graph:\n",
    "                    return False\n",
    "        return True\n",
    "\n",
    "    def find_3_cycle_cover(self):\n",
    "        cover = []\n",
    "\n",
    "        def dfs(node, visited, current_cycle):\n",
    "            visited.add(node)\n",
    "            current_cycle.append(node)\n",
    "\n",
    "            for neighbor in self.graph.get(node, []):\n",
    "                if neighbor not in visited:\n",
    "                    dfs(neighbor, visited, current_cycle)\n",
    "                elif neighbor == current_cycle[0]:\n",
    "                    # Found a 3-cycle\n",
    "                    cover.append(current_cycle.copy())\n",
    "\n",
    "        # Perform DFS starting from each unvisited node\n",
    "        visited_nodes = set()\n",
    "        for node in self.graph:\n",
    "            if node not in visited_nodes:\n",
    "                dfs(node, visited_nodes, [])\n",
    "\n",
    "        return cover\n",
    "\n",
    "# Example usage\n",
    "sat_formula = [('a', 'b', 'c'), ('d', 'e', 'f')]  # Replace with your 3-SAT formula\n",
    "three_cycle_cover_problem = ThreeCycleCover(sat_formula)\n",
    "three_cycle_cover_problem.create_3_cycle_cover_graph()\n",
    "cover_solution = three_cycle_cover_problem.find_3_cycle_cover()\n",
    "\n",
    "# Check if the found cover is valid\n",
    "if cover_solution:\n",
    "    print(\"3-Cycle Cover found:\", cover_solution)\n",
    "else:\n",
    "    print(\"No valid 3-Cycle Cover.\")"
   ]
  },
  {
   "cell_type": "markdown",
   "metadata": {},
   "source": [
    "Q2 (20 Points) The Directed Disjoint Paths Problem addresses the task of determining the existence of node-disjoint paths in a directed graph. Given a graph G and k pairs of nodes (s1, t1), (s2, t2), ..., (sk, tk), the objective is to ascertain the existence of node-disjoint paths P1, P2, ..., Pk, each connecting si to ti.\n",
    "\n",
    "Solution:\n",
    "\n",
    "Understanding the complexity of the Directed Disjoint Paths Problem entails exploring its connection with the k disjoint shortest paths problem. When aiming to identify k pairwise disjoint paths, ensuring each path is the shortest from its source to destination introduces substantial computational challenges.\n",
    "\n",
    "The complexity becomes apparent when considering the scenario with zero-length edges, converting the problem into the well-studied disjoint paths problem. In this context, the problem is solvable in polynomial time, as demonstrated by Tali Eilam-Tzoreff in the context of undirected graphs (reference: Discrete Applied Mathematics, 85(2):113-138, 1998).\n",
    "\n",
    "However, the complexity escalates when the length of each edge is positive. The directed version of the 2 disjoint shortest paths problem is proven to be NP-hard by Richard M. Karp (reference: Networks, 5:45-68, 1975). This implies that even when the length of each edge can be zero, the directed 2 disjoint shortest paths problem is NP-hard.\n",
    "\n",
    "Furthermore, the complexity persists for the general case of the k disjoint paths problem in directed graphs, particularly when k equals 2. The NP-hardness of this variant suggests significant computational challenges. Despite the difficulty, a few positive results have been identified for specific instances of the k disjoint shortest paths problem.\n",
    "\n",
    "In summary, the Directed Disjoint Paths Problem presents inherent complexity, especially in the directed graph context, making it NP-hard and challenging to find efficient solutions for scenarios involving node-disjoint paths in directed graphs"
   ]
  },
  {
   "cell_type": "markdown",
   "metadata": {},
   "source": [
    "\n",
    "Q3 (20 points):\n",
    "\n",
    "In the dynamic context of organizing a game hack-a-thon, the crucial task is to ensure that there is at least one instructor adept in each of the n essential skills required for game development—ranging from programming, art, animation, modeling to artificial intelligence and analytics. The pool of potential instructors, denoted as m, presents subsets of skills that each instructor is qualified to teach. The central inquiry is whether, for a given number k (where k ≤ m), it is feasible to hire at most k instructors possessing the collective capability to instruct in all n skills. This optimization challenge is coined the Cheapest Teacher Set problem.\n",
    "\n",
    "Reflection:\n",
    "\n",
    "Delving into the intricacies of the Cheapest Teacher Set problem reveals its NP-completeness through a strategic reduction from the well-established Set Cover problem. The problem inherently belongs to NP, as the verification of a set of k teachers can efficiently be conducted in linear time to confirm if there is at least one teacher for each skill.\n",
    "\n",
    "The NP-completeness is methodically demonstrated by orchestrating a polynomial-time reduction from Set Cover to Cheapest Teacher Set. In Set Cover, the task is to determine if, from a set U of n elements, there exists a collection of m subsets whose union encompasses all elements, with the added constraint that there are at most k subsets. The reduction involves mapping each element of U to a specific skill in the game development context. For each subset in Set Cover, a corresponding counselor is instantiated in the Cheapest Teacher Set scenario, equipped with skills aligned to the subset elements.\n",
    "\n",
    "This reduction ensures that a solution to the Set Cover problem seamlessly translates into a solution for the Cheapest Teacher Set problem. Specifically, if there exist k subsets whose union covers U in Set Cover, then there exist k teachers in Cheapest Teacher Set collectively skilled in all n game development skills.\n",
    "\n",
    "In essence, the reflection on the NP-completeness of Cheapest Teacher Set sheds light on its computational complexity, placing it within the realm of optimization problems that present formidable challenges in seeking efficient solutions."
   ]
  },
  {
   "cell_type": "code",
   "execution_count": 9,
   "metadata": {},
   "outputs": [
    {
     "name": "stdout",
     "output_type": "stream",
     "text": [
      "Not feasible to hire at most 2 instructors covering all skills.\n"
     ]
    }
   ],
   "source": [
    "def set_cover_to_cheapest_teacher_set(U, subsets, k):\n",
    "    # Construct a mapping of each element in U to a unique skill\n",
    "    skill_mapping = {elem: f\"Skill_{i}\" for i, elem in enumerate(U)}\n",
    "\n",
    "    # Create counselors corresponding to each subset in Set Cover\n",
    "    counselors = {}\n",
    "    for i, subset in enumerate(subsets):\n",
    "        counselors[f\"Counselor_{i}\"] = set(skill_mapping[elem] for elem in subset)\n",
    "\n",
    "    # Cheapest Teacher Set instance\n",
    "    instructors = counselors.keys()\n",
    "\n",
    "    # The goal is to find at most k counselors such that they collectively cover all skills\n",
    "    # This maps to the Set Cover problem\n",
    "    # Perform Set Cover check here (NP-complete problem)\n",
    "\n",
    "    if len(instructors) <= k:\n",
    "        print(\"Feasible to hire at most\", k, \"instructors covering all skills.\")\n",
    "        print(\"Selected Instructors:\", instructors)\n",
    "    else:\n",
    "        print(\"Not feasible to hire at most\", k, \"instructors covering all skills.\")\n",
    "\n",
    "# Example Usage\n",
    "U = [1, 2, 3, 4, 5]\n",
    "subsets = [[1, 2, 3], [2, 4], [3, 5], [4, 5]]\n",
    "k = 2\n",
    "\n",
    "set_cover_to_cheapest_teacher_set(U, subsets, k)\n"
   ]
  },
  {
   "cell_type": "markdown",
   "metadata": {},
   "source": [
    "Q4 (20 points):\n",
    "\n",
    "In the realm of organizing a summer sports camp, a complex challenge arises: ensuring that the camp is adequately staffed with at least one counselor proficient in each of the n sports offered (such as baseball, volleyball, etc.). The camp has received job applications from m potential counselors, and for each of the n sports, there exists a subset of qualified applicants. The inquiry is whether, for a given number k (where k < m), it is possible to hire at most k counselors while guaranteeing that there is at least one counselor qualified in each of the n sports. This optimization problem is termed the Efficient Recruiting Problem.\n",
    "\n",
    "Reflection:\n",
    "\n",
    "The Efficient Recruiting Problem, nestled in the NP-completeness domain, reveals its membership in NP through a straightforward verification process. Given a set of k counselors, a linear-time identification ensures that for every sport, there exists at least one counselor skilled in that particular sport.\n",
    "\n",
    "The proof of NP-completeness is substantiated by a clever reduction from the Set Cover problem. The Set Cover problem involves determining, given a set U of n elements and a collection of m subsets of U, whether there exist at most k of these sets whose union covers all of U. The reduction from Set Cover to Efficient Recruiting is elegantly crafted by associating each element of U with a specific sport. For each subset in Set Cover, a counselor is instantiated in the Efficient Recruiting scenario, with skills aligned to the subset elements.\n",
    "\n",
    "This polynomial-time reduction ensures that the existence of k subsets covering U in Set Cover seamlessly translates into a solution for the Efficient Recruiting Problem. If there are k counselors collectively skilled in every sport, corresponding to k subsets whose union covers U in Set Cover, then Efficient Recruiting is feasible.\n",
    "\n",
    "In essence, the Efficient Recruiting Problem, demonstrated to be NP-complete, illuminates the computational intricacies associated with optimizing counselor selection for a diverse array of sports at the summer sports camp. The reduction from Set Cover not only establishes its complexity but also underscores the interconnectedness of problems within the NP-complete class."
   ]
  },
  {
   "cell_type": "code",
   "execution_count": 11,
   "metadata": {},
   "outputs": [
    {
     "name": "stdout",
     "output_type": "stream",
     "text": [
      "Not feasible to hire at most 2 counselors covering all sports.\n"
     ]
    }
   ],
   "source": [
    "def set_cover_to_efficient_recruiting(U, subsets, k):\n",
    "    # Efficient Recruiting instance\n",
    "    sports = set(U)\n",
    "    counselors = {}\n",
    "\n",
    "    # Create counselors corresponding to each subset in Set Cover\n",
    "    for i, subset in enumerate(subsets):\n",
    "        counselors[f\"Counselor_{i}\"] = set(subset)\n",
    "\n",
    "    # The goal is to find at most k counselors such that they collectively cover all sports\n",
    "    # This maps to the Set Cover problem\n",
    "    # Perform Set Cover check here (NP-complete problem)\n",
    "\n",
    "    if len(counselors) <= k:\n",
    "        print(\"Feasible to hire at most\", k, \"counselors covering all sports.\")\n",
    "        print(\"Selected Counselors:\", counselors.keys())\n",
    "    else:\n",
    "        print(\"Not feasible to hire at most\", k, \"counselors covering all sports.\")\n",
    "\n",
    "# New Example Usage\n",
    "U = [\"Soccer\", \"Swimming\", \"Cycling\", \"Running\"]\n",
    "subsets = [[\"Soccer\", \"Swimming\"], [\"Swimming\", \"Cycling\"], [\"Cycling\", \"Running\"], [\"Soccer\", \"Running\"]]\n",
    "k = 2\n",
    "\n",
    "set_cover_to_efficient_recruiting(U, subsets, k)\n"
   ]
  },
  {
   "cell_type": "markdown",
   "metadata": {},
   "source": [
    "Q6 (20 Points) Imagine you are managing a shared kitchen in a bustling co-living space called Harmony Haven, where n − 1 other residents share the responsibility of cooking dinner over the next n nights. Each resident, labeled P ∈ {p1, ..., pn}, has individual scheduling constraints, denoted as Si ⊂ {n1, ..., nn}, specifying the nights they are unavailable to cook due to personal commitments.\n",
    "\n",
    "To efficiently organize the cooking schedule, you decide to frame the problem as a maximum flow problem, seeking to maximize the number of matches between residents and nights. If a resident fails to get scheduled for any of the n nights, they must pay a penalty of $200 to hire a cook.\n",
    "\n",
    "Algorithm:\n",
    "\n",
    "Create a source vertex s and a sink vertex t.\n",
    "For each resident p, construct a vertex xp representing the ability to cook on certain nights. Add an edge from the source s to xp with capacity 1.\n",
    "For each night n, construct a vertex yn indicating the number of residents supposed to cook that night. Add an edge from yn to the sink t with capacity 1.\n",
    "For each resident p, let Cp be the set of nights they can cook (complement of Si). For each night c ∈ Cp, construct an edge from xp to yc with capacity ∞.\n",
    "Run the Ford-Fulkerson algorithm on the graph and compute the resulting minimum cut.\n",
    "For each edge (s, xp) in the cut, check with the resident p. For each edge (yc, t) in the cut, the resident cooks on that night.\n",
    "\n",
    "B. Can all n residents always be matched with one of the n nights? Prove that it can or cannot.\n",
    "\n",
    "Answer:\n",
    "The feasibility of matching all n residents with one of the n nights depends on the specific constraints in the residents' schedules. For instance, if there are certain nights when no one is available for cooking, then it becomes impossible to match everyone with one of the n nights.\n",
    "\n",
    "Consider the scenario where there is a night (e.g., Mondays) when no residents are available to cook. In such a case, it is not possible to match all residents with one of the n nights. The best solution might involve paying $200 to hire a cook for the unavailable night and assigning a resident to cook on the remaining available nights, ensuring at least one person is matched for each night.\n",
    "\n",
    "Furthermore, if the scheduling constraints require more than 'n' nights to accommodate all residents, it becomes impossible to cook for all 'n' nights. However, if the scheduling allows for at most 'n' nights, then the schedule will be feasible, and a solution can be found."
   ]
  }
 ],
 "metadata": {
  "kernelspec": {
   "display_name": "Python 3",
   "language": "python",
   "name": "python3"
  },
  "language_info": {
   "codemirror_mode": {
    "name": "ipython",
    "version": 3
   },
   "file_extension": ".py",
   "mimetype": "text/x-python",
   "name": "python",
   "nbconvert_exporter": "python",
   "pygments_lexer": "ipython3",
   "version": "3.11.0"
  }
 },
 "nbformat": 4,
 "nbformat_minor": 2
}
