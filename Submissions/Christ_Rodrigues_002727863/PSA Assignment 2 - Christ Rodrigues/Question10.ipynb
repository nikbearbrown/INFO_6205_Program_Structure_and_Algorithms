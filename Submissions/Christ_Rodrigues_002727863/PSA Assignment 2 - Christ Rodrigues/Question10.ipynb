{
 "cells": [
  {
   "cell_type": "code",
   "execution_count": null,
   "metadata": {},
   "outputs": [],
   "source": [
    "def maximize_attraction_rating(attractions, distances, ratings, distance_limit):\n",
    "    num_attractions = len(attractions)\n",
    "    dp = [[0] * (distance_limit + 1) for _ in range(num_attractions + 1)]\n",
    "\n",
    "    for i in range(1, num_attractions + 1):\n",
    "        for d in range(1, distance_limit + 1):\n",
    "            if distances[i - 1] <= d:\n",
    "                # Include the current attraction (i) if possible\n",
    "                dp[i][d] = max(dp[i][d], dp[i - 1][d - distances[i - 1]] + ratings[i - 1])\n",
    "            \n",
    "            # Exclude the current attraction (i)\n",
    "            dp[i][d] = max(dp[i][d], dp[i - 1][d])\n",
    "\n",
    "    # Backtrack to find the selected attractions\n",
    "    selected_attractions = []\n",
    "    i, d = num_attractions, distance_limit\n",
    "    while i > 0 and d > 0:\n",
    "        if dp[i][d] != dp[i - 1][d]:\n",
    "            selected_attractions.append(attractions[i - 1])\n",
    "            d -= distances[i - 1]\n",
    "        i -= 1\n",
    "\n",
    "    return dp[num_attractions][distance_limit], selected_attractions\n",
    "\n",
    "# Example usage:\n",
    "attractions = ['A', 'B', 'C', 'D', 'E']\n",
    "distances = [5, 8, 10, 15, 12]\n",
    "ratings = [8, 6, 9, 7, 5]\n",
    "distance_limit = 20\n",
    "max_rating, selected_attractions = maximize_attraction_rating(attractions, distances, ratings, distance_limit)\n",
    "\n",
    "print(\"Maximum Total Rating:\", max_rating)\n",
    "print(\"Selected Attractions:\", selected_attractions)\n"
   ]
  }
 ],
 "metadata": {
  "language_info": {
   "name": "python"
  },
  "orig_nbformat": 4
 },
 "nbformat": 4,
 "nbformat_minor": 2
}
