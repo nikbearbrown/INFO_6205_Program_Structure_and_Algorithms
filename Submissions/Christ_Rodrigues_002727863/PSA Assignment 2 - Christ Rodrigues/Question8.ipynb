{
 "cells": [
  {
   "cell_type": "code",
   "execution_count": 1,
   "metadata": {},
   "outputs": [
    {
     "name": "stdout",
     "output_type": "stream",
     "text": [
      "Local Minimum: 2\n"
     ]
    }
   ],
   "source": [
    "class TreeNode:\n",
    "    def __init__(self, val, left=None, right=None):\n",
    "        self.xv = val\n",
    "        self.left = left\n",
    "        self.right = right\n",
    "\n",
    "def find_local_minimum(root):\n",
    "    if not root:\n",
    "        return None\n",
    "\n",
    "    while True:\n",
    "        # Probe the current vertex's label\n",
    "        current_val = root.xv\n",
    "\n",
    "        # Check if there are children nodes\n",
    "        if root.left:\n",
    "            left_val = root.left.xv\n",
    "        else:\n",
    "            left_val = float('inf')  # Set to positive infinity if no left child\n",
    "\n",
    "        if root.right:\n",
    "            right_val = root.right.xv\n",
    "        else:\n",
    "            right_val = float('inf')  # Set to positive infinity if no right child\n",
    "\n",
    "        # Check if the current label is the smallest\n",
    "        if current_val < left_val and current_val < right_val:\n",
    "            return root  # Current node is a local minimum\n",
    "\n",
    "        # Set the current vertex to the child with the smallest label\n",
    "        if left_val < right_val:\n",
    "            root = root.left\n",
    "        else:\n",
    "            root = root.right\n",
    "\n",
    "# Example usage\n",
    "# Create a binary tree with example values\n",
    "tree = TreeNode(10)\n",
    "tree.left = TreeNode(5)\n",
    "tree.right = TreeNode(7)\n",
    "tree.left.left = TreeNode(2)\n",
    "tree.left.right = TreeNode(8)\n",
    "tree.right.left = TreeNode(6)\n",
    "tree.right.right = TreeNode(12)\n",
    "\n",
    "# Find a local minimum in the binary tree\n",
    "local_min = find_local_minimum(tree)\n",
    "\n",
    "# Print the value of the local minimum node\n",
    "print(\"Local Minimum:\", local_min.xv)\n"
   ]
  }
 ],
 "metadata": {
  "kernelspec": {
   "display_name": "Python 3",
   "language": "python",
   "name": "python3"
  },
  "language_info": {
   "codemirror_mode": {
    "name": "ipython",
    "version": 3
   },
   "file_extension": ".py",
   "mimetype": "text/x-python",
   "name": "python",
   "nbconvert_exporter": "python",
   "pygments_lexer": "ipython3",
   "version": "3.11.0"
  },
  "orig_nbformat": 4
 },
 "nbformat": 4,
 "nbformat_minor": 2
}
