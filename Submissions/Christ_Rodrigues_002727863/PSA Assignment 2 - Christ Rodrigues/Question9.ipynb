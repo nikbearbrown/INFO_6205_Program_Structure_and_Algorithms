{
 "cells": [
  {
   "cell_type": "code",
   "execution_count": 1,
   "metadata": {},
   "outputs": [
    {
     "name": "stdout",
     "output_type": "stream",
     "text": [
      "Base Station Locations: [1, 10, 18, 25, 35]\n"
     ]
    }
   ],
   "source": [
    "def place_base_stations(houses):\n",
    "    stations = []\n",
    "    last_station = houses[0]\n",
    "\n",
    "    for house in houses:\n",
    "        # Check if the distance between the current house and the last station is greater than 6 miles\n",
    "        if abs(house - last_station) > 6:\n",
    "            # Place a new base station at the current house\n",
    "            stations.append(last_station)\n",
    "            last_station = house\n",
    "\n",
    "    # Place a base station at the last house encountered\n",
    "    stations.append(last_station)\n",
    "    return stations\n",
    "\n",
    "# Example usage\n",
    "houses = [1, 5, 10, 18, 25, 30, 35]\n",
    "base_stations = place_base_stations(houses)\n",
    "\n",
    "print(\"Base Station Locations:\", base_stations)\n"
   ]
  }
 ],
 "metadata": {
  "kernelspec": {
   "display_name": "Python 3",
   "language": "python",
   "name": "python3"
  },
  "language_info": {
   "codemirror_mode": {
    "name": "ipython",
    "version": 3
   },
   "file_extension": ".py",
   "mimetype": "text/x-python",
   "name": "python",
   "nbconvert_exporter": "python",
   "pygments_lexer": "ipython3",
   "version": "3.11.0"
  },
  "orig_nbformat": 4
 },
 "nbformat": 4,
 "nbformat_minor": 2
}
