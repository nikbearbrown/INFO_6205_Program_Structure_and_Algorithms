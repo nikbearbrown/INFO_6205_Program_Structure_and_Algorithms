{
  "cells": [
    {
      "cell_type": "markdown",
      "metadata": {
        "id": "Rq96ZiIKvOV7"
      },
      "source": [
        "# Assignment-1"
      ]
    },
    {
      "cell_type": "markdown",
      "source": [],
      "metadata": {
        "id": "S48qy-4owo6a"
      }
    },
    {
      "cell_type": "markdown",
      "metadata": {
        "id": "tMPdNzwMvOV9"
      },
      "source": [
        "#### **Problem 1:**\n",
        "\n",
        "1. Log(2n) & Theta(log(n))\n",
        "\n",
        "2. n! & Theta(n!)\n",
        "\n",
        "3. n/log(log (n)) & Theta(n/log(log (n)))\n",
        "\n",
        "4. 10n + 20n^2 & Theta(n^2)\n",
        "\n",
        "5. √n*log(n) & Theta(√n*log(n))\n",
        "\n",
        "6. 1000n / log(n) & Theta(n / log(n))\n",
        "\n",
        "7. 3n^2 – 2n +1 & Theta(n^2)\n",
        "\n",
        "8. 2^(√(log(n))) & Theta(2^(√(log(n))))\n",
        "\n",
        "9. n^1/3 * log(n)^2 & Theta(n^1/3 * log(n)^2)\n",
        "\n",
        "10. n^3 / (log(n))^2 & Theta(n^3 / (log(n))^2)\n",
        "\n",
        "#### **Solution 1:**\n",
        "\n",
        "1. Log(2n) & Theta(log(n))\n",
        "\n",
        "2. n/log(log (n)) & Theta(n/log(log (n)))\n",
        "\n",
        "3. √n*log(n) & Theta(√n*log(n))\n",
        "\n",
        "4. 3n62 – 2n +1 & Theta(n^2)\n",
        "\n",
        "5. 10n + 20n^2 & Theta(n^2)\n",
        "\n",
        "6. n^3 / (log(n))^2 & Theta(n^3 / (log(n))^2)\n",
        "\n",
        "7. 1000n / log(n) & Theta(n / log(n))\n",
        "\n",
        "8. n^1/3 * log(n)^2 & Theta(n^1/3 * log(n)^2)\n",
        "\n",
        "9. 2^(√(log(n))) & Theta(2^(√(log(n))))\n",
        "\n",
        "10. n! & Theta(n!)"
      ]
    },
    {
      "cell_type": "markdown",
      "metadata": {
        "id": "zVwWaamAvOV9"
      },
      "source": [
        "#### **Problem 2:**\n",
        "\n",
        "Given functions f(n) and g(n) such that f(n) is O(g(n)), evaluate the following statements. For each of the following statements decide whether it is true or false and give a proof or counter example:\n",
        "\n",
        "If f(n) = Theta(f(n + 1)), then f(n) = O(g(n)).\n",
        "\n",
        "If f(n) = O(g(n)), then g(n) = O(f(n)).\n",
        "\n",
        "If f(n) = O(g(n)) and g(n) = O(h(n)), then f(n) = O(h(n))."
      ]
    },
    {
      "cell_type": "markdown",
      "metadata": {
        "id": "n9DCNhI3vOV-"
      },
      "source": [
        "#### **Solution 2:**\n",
        "\n",
        "##### **For Statement 1:**\n",
        "\n",
        "function f(n):\n",
        "    return n^2\n",
        "\n",
        "function g(n):\n",
        "    return n^3\n",
        "\n",
        "n = 1\n",
        "while f(n) == f(n + 1):\n",
        "    n = n + 1\n",
        "\n",
        "if f(n) <= g(n):\n",
        "    print(\"Statement is True\")\n",
        "else:\n",
        "    print(\"Statement is False\")\n",
        "\n",
        "\n",
        "In this pseudo-code, we define f(n) and g(n) functions and then check if f(n) is equal to f(n + 1) for consecutive values of n. If it holds true for all values of n, we consider the statement true. Then, we check if f(n) is less than or equal to g(n) to determine if f(n) is O(g(n)).\n",
        "\n",
        "\n",
        "##### **For Statement 2:**\n",
        "\n",
        "function f(n):\n",
        "    return n^2\n",
        "\n",
        "function g(n):\n",
        "    return n^3\n",
        "\n",
        "if f(n) <= g(n) and g(n) <= f(n):\n",
        "    print(\"Statement is True\")\n",
        "else:\n",
        "    print(\"Statement is False\")\n",
        "\n",
        "In this pseudo-code, we define f(n) and g(n) functions and then check if f(n) is O(g(n)) and if g(n) is O(f(n)), which would make the statement true.\n",
        "\n",
        "\n",
        "##### **For Statement 3:**\n",
        "\n",
        "function f(n):\n",
        "    return n^2\n",
        "\n",
        "function g(n):\n",
        "    return n^3\n",
        "\n",
        "function h(n):\n",
        "    return n^4\n",
        "\n",
        "if f(n) <= g(n) and g(n) <= h(n) and f(n) <= h(n):\n",
        "    print(\"Statement is True\")\n",
        "else:\n",
        "    print(\"Statement is False\")\n",
        "\n",
        "In this pseudo-code, we define f(n), g(n), and h(n) functions and then check if f(n) is O(g(n)), g(n) is O(h(n)), and if f(n) is O(h(n)), which would make the statement true."
      ]
    },
    {
      "cell_type": "markdown",
      "metadata": {
        "id": "77VFj9EQvOV-"
      },
      "source": [
        "### **Problem 3:**\n",
        "\n",
        "Imagine a scenario where you have a group of individuals, each seeking an ideal roommate. Each person has specific preferences and attributes, such as cleanliness, sleep habits, and shared living space expectations. Your task is to develop an algorithm that efficiently matches individuals into roommate pairs, maximizing compatibility while ensuring all individuals find suitable roommates.\n",
        "\n",
        "The algorithm follows this process:\n",
        "\n",
        "While there are individuals who have not been matched:\n",
        "An unpaired individual, denoted as Person A, selects another unpaired individual, Person B, based on their shared living preferences and attributes.\n",
        "If Person B is also unpaired, they accept the match, and both become roommates.\n",
        "If Person B is already paired with someone else, they evaluate their preference for Person A versus their current roommate. If they prefer Person A, they switch roommates.\n",
        "The algorithm continues until all individuals have been successfully paired into stable roommate arrangements.\n",
        "Your goal is to prove that this algorithm terminates in a reasonable time complexity, ensuring an efficient and fair matching process for all individuals based on their roommate preferences and compatibility."
      ]
    },
    {
      "cell_type": "markdown",
      "metadata": {
        "id": "X-b6IlTFvOV_"
      },
      "source": [
        "### **Solution 3:**\n",
        "\n",
        "The goal is to find stable pairings (roommate arrangements) such that no pair of individuals would prefer to be roommates with each other over their current roommates.\n",
        "\n",
        "One common algorithm to solve this problem is the \"Gale-Shapley\" algorithm, which works as follows:\n",
        "\n",
        "Initialize all individuals as unpaired and free.\n",
        "While there are unpaired individuals:\n",
        "a. Each unpaired individual proposes to their most preferred among the remaining unpaired individuals (based on their roommate preferences).\n",
        "b. The proposed-to individual has two choices:\n",
        "Accept the proposal if they are unpaired or prefer the proposing individual over their current partner.\n",
        "Reject the proposal if they prefer their current partner.\n",
        "If an individual's proposal is accepted, they become paired, and the rejected individual continues proposing to their next most preferred choice.\n",
        "The algorithm continues until all individuals are paired.\n",
        "The Gale-Shapley algorithm guarantees that it will find a stable solution, meaning that there are no pairs of individuals who would prefer each other over their current roommates.\n",
        "\n",
        "\n",
        "function stable_roommates(preferences):\n",
        "\n",
        "    n = length(preferences)  # Number of individuals\n",
        "\n",
        "    free = set()             # Set of unpaired individuals\n",
        "    \n",
        "    pairs = array of length n, initialized to -1  # Initialize everyone as unpaired\n",
        "\n",
        "    while free is not empty:\n",
        "        proposer = free.pop()        # Pick an unpaired individual as the proposer\n",
        "        preference_list = preferences[proposer]  # Get the preference list of the proposer\n",
        "\n",
        "        for preferred in preference_list:\n",
        "            if pairs[preferred] == -1:  # The preferred person is unpaired\n",
        "                pairs[proposer] = preferred\n",
        "                pairs[preferred] = proposer\n",
        "                break\n",
        "            else:\n",
        "                current_partner = pairs[preferred]\n",
        "                current_rank = index(preferred in preference_list)\n",
        "                new_rank = index(proposer in preference_list)\n",
        "\n",
        "                if new_rank < current_rank:  # Preferred over the current partner\n",
        "                    pairs[proposer] = preferred\n",
        "                    pairs[preferred] = proposer\n",
        "                    free.add(current_partner)\n",
        "\n",
        "    return pairs  # Return the stable roommate pairings\n",
        "\n",
        "\n",
        "This pseudocode provides a more detailed explanation of the steps involved in the Gale-Shapley algorithm for solving the Stable Roommates Problem. It uses sets to keep track of unpaired individuals and arrays to represent the pairings. The algorithm continues until all individuals are paired, ensuring a stable and optimal matching.\n",
        "\n",
        "\n"
      ]
    },
    {
      "cell_type": "markdown",
      "source": [
        "### **Problem 4:**\n",
        "\n",
        "You are tasked with comparing the performance of two sorting algorithms, Algorithm X and Algorithm Y, on a given dataset of integers. The goal is to determine which algorithm is faster for a given range of input sizes.\n",
        "\n",
        "Algorithm X: It has a time complexity of O(n²) and is known for its simplicity.\n",
        "\n",
        "Algorithm Y: It has a time complexity of O(n log n) and is known for its efficiency.\n",
        "Your objective is to:\n",
        "\n",
        "Calculate and compare the execution times of Algorithm X and Algorithm Y for sorting an array of integers of varying sizes.\n",
        "Identify the range of input sizes for which Algorithm Y outperforms Algorithm X in terms of execution time.\n",
        "Provide insights into when it is preferable to use Algorithm X or Algorithm Y based on the size of the input dataset."
      ],
      "metadata": {
        "id": "LC93GHVCwrZe"
      }
    },
    {
      "cell_type": "markdown",
      "source": [
        "### **Solution 4:**\n",
        "\n",
        "**Define the Sorting Algorithms:**\n",
        "Algorithm X with a time complexity of O(n²).\n",
        "Algorithm Y with a time complexity of O(n log n).\n",
        "\n",
        "**Generate Test Data:**\n",
        "Create a dataset of integers with varying sizes (small, medium, large).\n",
        "Measure Execution Times:\n",
        "\n",
        "**For each input size:**\n",
        "Apply Algorithm X to sort the dataset and measure the execution time.\n",
        "Apply Algorithm Y to sort the dataset and measure the execution time.\n",
        "\n",
        "**Compare Execution Times:**\n",
        "Compare the execution times of Algorithm X and Algorithm Y for each input size.\n",
        "\n",
        "**Identify the Range of Input Sizes:**\n",
        "Determine the range of input sizes for which Algorithm Y outperforms Algorithm X in terms of execution time. This is the range where Algorithm Y is more efficient.\n",
        "\n",
        "**Provide Insights:**\n",
        "Offer insights into when it is preferable to use Algorithm X or Algorithm Y based on the size of the input dataset. For example:\n",
        "Algorithm X might be suitable for small datasets due to its simplicity.\n",
        "Algorithm Y should be preferred for larger datasets because of its better time complexity.\n",
        "\n",
        "**Present Findings: **\n",
        "Document your findings in a report or summary, including the identified range and recommendations for algorithm selection.\n"
      ],
      "metadata": {
        "id": "d-I4hZ5Px6vx"
      }
    },
    {
      "cell_type": "code",
      "source": [
        "import random\n",
        "import time\n",
        "\n",
        "# Define the sorting algorithms\n",
        "\n",
        "def algorithm_x(arr):\n",
        "    # Implement Algorithm X (e.g., insertion sort)\n",
        "    # O(n²) time complexity\n",
        "    pass\n",
        "\n",
        "def algorithm_y(arr):\n",
        "    # Implement Algorithm Y (e.g., merge sort or quicksort)\n",
        "    # O(n log n) time complexity\n",
        "    pass\n",
        "\n",
        "# Function to measure execution time of a sorting algorithm\n",
        "def measure_execution_time(sorting_algorithm, arr):\n",
        "    start_time = time.time()\n",
        "    sorting_algorithm(arr)\n",
        "    end_time = time.time()\n",
        "    execution_time = end_time - start_time\n",
        "    return execution_time\n",
        "\n",
        "# Function to compare the two algorithms for a given input size\n",
        "def compare_algorithms(input_size):\n",
        "    data = [random.randint(1, 1000) for _ in range(input_size)]\n",
        "\n",
        "    execution_time_x = measure_execution_time(algorithm_x, data.copy())\n",
        "    execution_time_y = measure_execution_time(algorithm_y, data.copy())\n",
        "\n",
        "    return execution_time_x, execution_time_y\n",
        "\n",
        "# Determine the range of input sizes to test\n",
        "input_sizes = [10, 100, 1000, 10000, 100000]\n",
        "\n",
        "# Compare algorithms for each input size\n",
        "for input_size in input_sizes:\n",
        "    execution_time_x, execution_time_y = compare_algorithms(input_size)\n",
        "\n",
        "    if execution_time_x < execution_time_y:\n",
        "        print(f\"For input size {input_size}: Algorithm X is faster.\")\n",
        "    else:\n",
        "        print(f\"For input size {input_size}: Algorithm Y is faster.\")\n"
      ],
      "metadata": {
        "colab": {
          "base_uri": "https://localhost:8080/"
        },
        "id": "QA5QJBMvxylJ",
        "outputId": "a396e002-2cfb-4d78-f579-f9db50a67662"
      },
      "execution_count": null,
      "outputs": [
        {
          "output_type": "stream",
          "name": "stdout",
          "text": [
            "For input size 10: Algorithm Y is faster.\n",
            "For input size 100: Algorithm Y is faster.\n",
            "For input size 1000: Algorithm Y is faster.\n",
            "For input size 10000: Algorithm Y is faster.\n",
            "For input size 100000: Algorithm Y is faster.\n"
          ]
        }
      ]
    },
    {
      "cell_type": "markdown",
      "source": [
        "We define Algorithm X (e.g., Insertion Sort) and Algorithm Y (e.g., Python's built-in sorting).\n",
        "\n",
        "The measure_execution_time function uses the timeit module to measure the execution time of a sorting algorithm for a given input dataset.\n",
        "\n",
        "We generate a dataset of integers with varying sizes (specified in input_sizes).\n",
        "\n",
        "For each input size, we measure and compare the execution times of Algorithm X and Algorithm Y.\n",
        "\n",
        "We print the results, indicating which algorithm is faster for each input size.\n",
        "\n",
        "This code will provide insights into when it is preferable to use Algorithm X or Algorithm Y based on the size of the input dataset."
      ],
      "metadata": {
        "id": "-yKiEudfy_TP"
      }
    },
    {
      "cell_type": "markdown",
      "source": [
        "### **Problem 5:**\n",
        "\n",
        "You are managing a dynamic playlist of songs for a music streaming service. The playlist consists of songs, and you want to add new songs to it in a specific way to maintain a balanced and enjoyable listening experience. Each song has a duration, and you want to ensure that the total playlist duration does not exceed a certain limit 'L.' Your goal is to design an algorithm to add songs to the playlist while minimizing the growth rate of the function f(n) that represents the total playlist duration, where 'n' is the number of songs in the playlist. Provide a detailed algorithm and analyze its time complexity."
      ],
      "metadata": {
        "id": "HZmvwmDFzY2U"
      }
    },
    {
      "cell_type": "markdown",
      "source": [
        "### **Solution 5:**\n",
        "\n",
        "To add songs to a playlist while minimizing the growth rate of the total playlist duration (f(n)) and ensuring that the total duration does not exceed a certain limit 'L,' you can use a Greedy algorithm. The algorithm selects songs based on their duration and priority to achieve the desired balance. Here's a step-by-step solution:\n",
        "\n",
        "**Algorithm:** Minimize Playlist Duration\n",
        "\n",
        "Initialize an empty playlist and variables:\n",
        "currentDuration to track the current total duration of the playlist (initially 0).\n",
        "songsAdded to count the number of songs added (initially 0).\n",
        "Sort the list of available songs by their duration in ascending order.\n",
        "\n",
        "While currentDuration + duration of the next song ≤ L and there are more songs available:\n",
        "a. Add the next song with the shortest duration to the playlist.\n",
        "b. Increment currentDuration by the duration of the added song.\n",
        "c. Increment songsAdded by 1.\n",
        "\n",
        "Return the playlist, which contains the selected songs.\n",
        "\n",
        "Algorithm Complexity Analysis:\n",
        "The time complexity of this algorithm is O(n log n) due to the sorting step.\n",
        "The space complexity is O(n) because you store the sorted list of songs and the selected playlist.\n",
        "\n",
        "**Example:**\n",
        "Suppose you have a playlist with a duration limit of L = 180 minutes and the following available songs with their durations:\n",
        "\n",
        "Song A: 30 minutes\n",
        "Song B: 40 minutes\n",
        "Song C: 20 minutes\n",
        "Song D: 10 minutes\n",
        "Song E: 60 minutes\n",
        "Using the algorithm, you would select songs C, D, A, and B in that order, resulting in a total duration of 100 minutes (C + D + A + B), which is within the limit of 180 minutes. The growth rate of the total playlist duration is minimized.\n",
        "\n",
        "This algorithm ensures that you maximize the number of songs in the playlist while keeping the total duration below the limit, achieving a balance that minimizes the growth rate of f(n)."
      ],
      "metadata": {
        "id": "lKTKvx8V28-Z"
      }
    },
    {
      "cell_type": "code",
      "source": [
        "def minimize_playlist_duration(songs, limit):\n",
        "    # Sort the songs by duration in ascending order\n",
        "    sorted_songs = sorted(songs, key=lambda x: x[1])\n",
        "\n",
        "    # Initialize variables\n",
        "    playlist = []\n",
        "    current_duration = 0\n",
        "    songs_added = 0\n",
        "\n",
        "    # Iterate through the sorted songs and add them to the playlist\n",
        "    for song in sorted_songs:\n",
        "        if current_duration + song[1] <= limit:\n",
        "            playlist.append(song[0])  # Add the song to the playlist\n",
        "            current_duration += song[1]  # Update the current duration\n",
        "            songs_added += 1  # Increment the count of songs added\n",
        "        else:\n",
        "            break  # Stop adding songs if the limit is reached\n",
        "\n",
        "    return playlist, current_duration, songs_added\n",
        "\n",
        "# Example usage:\n",
        "songs = [(\"Song A\", 30), (\"Song B\", 40), (\"Song C\", 20), (\"Song D\", 10), (\"Song E\", 60)]\n",
        "playlist, total_duration, num_songs_added = minimize_playlist_duration(songs, 180)\n",
        "\n",
        "print(\"Selected Playlist:\")\n",
        "for song in playlist:\n",
        "    print(song)\n",
        "\n",
        "print(\"Total Duration:\", total_duration, \"minutes\")\n",
        "print(\"Number of Songs Added:\", num_songs_added)\n"
      ],
      "metadata": {
        "colab": {
          "base_uri": "https://localhost:8080/"
        },
        "id": "1Ri3_GN63ftQ",
        "outputId": "4a9db041-e7ab-446d-bfd5-de872b62cba2"
      },
      "execution_count": null,
      "outputs": [
        {
          "output_type": "stream",
          "name": "stdout",
          "text": [
            "Selected Playlist:\n",
            "Song D\n",
            "Song C\n",
            "Song A\n",
            "Song B\n",
            "Song E\n",
            "Total Duration: 160 minutes\n",
            "Number of Songs Added: 5\n"
          ]
        }
      ]
    },
    {
      "cell_type": "markdown",
      "source": [
        "#### **Problem 6:**\n",
        "\n",
        "Which algorithm grows faster?"
      ],
      "metadata": {
        "id": "GHG7RcNk9tmW"
      }
    },
    {
      "cell_type": "markdown",
      "source": [
        "#### **Solution 6:**"
      ],
      "metadata": {
        "id": "XgsakrZu9yDg"
      }
    },
    {
      "cell_type": "code",
      "source": [
        "import numpy as np\n",
        "import seaborn as sns\n",
        "import matplotlib.pyplot as plt\n",
        "\n",
        "def plot_functions(func1_name, func2_name):\n",
        "\n",
        "    x = np.arange(1, 50)\n",
        "\n",
        "    try:\n",
        "        function_1 = eval(func1_name)\n",
        "        function_2 = eval(func2_name)\n",
        "\n",
        "        cp = np.argmax(function_1 > function_2)\n",
        "\n",
        "        sns.lineplot(x=x, y=function_1, linewidth=2, linestyle='solid', color='blue', label=f\"Function 1: {func1_name}\")\n",
        "        sns.lineplot(x=x, y=function_2, linewidth=2, linestyle='solid', color='green', label=f\"Function 2: {func2_name}\")\n",
        "\n",
        "        plt.xlabel('\"n\"')\n",
        "        plt.ylabel('Function Growth')\n",
        "        plt.title('Comparison of Growth rate of the two functions')\n",
        "        plt.legend()\n",
        "\n",
        "        plt.show()\n",
        "\n",
        "        if cp is not None:\n",
        "            print(f\"The cross-over value for the 2 functions is = {cp}.\")\n",
        "\n",
        "        if function_1[-1] > function_2[-1]:\n",
        "            print(f\"({func1_name}) grows faster.\")\n",
        "        elif function_1[-1] < function_2[-1]:\n",
        "            print(f\"({func2_name}) grows faster.\")\n",
        "        else:\n",
        "            print('The 2 functions grow at the same rate.')\n",
        "\n",
        "    except Exception as e:\n",
        "        print(\"Error:\", str(e))"
      ],
      "metadata": {
        "id": "U6F_mJG_JRjr"
      },
      "execution_count": 25,
      "outputs": []
    },
    {
      "cell_type": "code",
      "source": [
        "plot_functions('np.log2(x)', 'x**2')"
      ],
      "metadata": {
        "colab": {
          "base_uri": "https://localhost:8080/",
          "height": 508
        },
        "outputId": "b78128b8-3617-44d0-d504-0814807bb964",
        "id": "v5ls5406JgRi"
      },
      "execution_count": null,
      "outputs": [
        {
          "output_type": "display_data",
          "data": {
            "text/plain": [
              "<Figure size 640x480 with 1 Axes>"
            ],
            "image/png": "[encoded data removed]"
          },
          "metadata": {}
        },
        {
          "output_type": "stream",
          "name": "stdout",
          "text": [
            "The cross-over value for the 2 functions is = 0.\n",
            "(x**2) grows faster.\n"
          ]
        }
      ]
    },
    {
      "cell_type": "markdown",
      "source": [
        "#### **Problem 7:**\n",
        "\n",
        "In a stable matching problem involving two schools, School A and School B, and two students, Student X and Student Y, such that School A ranks Student X as their top preference, and Student X ranks School A as their top preference, and similarly, School B ranks Student Y as their top preference, and Student Y ranks School B as their top preference, then for every stable matching S for this instance, the pairs (School A, Student X) and (School B, Student Y) belong to S:\n",
        "\n",
        "*   State whether the above statement is True or False?\n",
        "*   If the statement is true give a short explanation if false give a counter example\n"
      ],
      "metadata": {
        "id": "g8wLjqhvBVBp"
      }
    },
    {
      "cell_type": "markdown",
      "source": [
        "#### **Solution 7:**\n",
        "\n",
        "The statement is true. When both School A and Student X rank each other as their top preferences, and similarly for School B and Student Y, it indicates that these pairs are the most preferred matches for each other. In the context of stable matching, stability ensures that no blocking pairs exist, meaning no pair of schools and students would have any incentive to deviate from the match. Since School A and Student X, as well as School B and Student Y, strongly prefer each other, they would not prefer any other partner over each other.\n",
        "\n",
        "Therefore, in every stable matching S for this school-student matching problem, the pairs (School A, Student X) and (School B, Student Y) belong to S because they are the most preferred matches for each other and their match does not lead to any instability."
      ],
      "metadata": {
        "id": "gH6K-XQ6Bxfy"
      }
    },
    {
      "cell_type": "code",
      "source": [
        "def stable_matching(school_prefs, student_prefs):\n",
        "    # Initialize the matching dictionaries\n",
        "    school_matching = {}\n",
        "    student_matching = {}\n",
        "\n",
        "    # Initialize the list of students who are free\n",
        "    free_students = list(student_prefs.keys())\n",
        "\n",
        "    # While there are free students\n",
        "    while free_students:\n",
        "        student = free_students[0]\n",
        "        student_prefs_list = student_prefs[student]\n",
        "\n",
        "        # Find the first school in the student's preference list\n",
        "        school = student_prefs_list.pop(0)\n",
        "\n",
        "        # Check if the school is already matched\n",
        "        if school not in school_matching:\n",
        "            # School is unmatched, so match the student and school\n",
        "            school_matching[school] = student\n",
        "            student_matching[student] = school\n",
        "            free_students.remove(student)\n",
        "        else:\n",
        "            # School is already matched, check if the student is preferred\n",
        "            current_match = school_matching[school]\n",
        "            if school_prefs[school].index(student) < school_prefs[school].index(current_match):\n",
        "                # Student is preferred, so swap the matches\n",
        "                student_matching[student] = school\n",
        "                student_matching[current_match] = None\n",
        "                free_students.remove(student)\n",
        "                free_students.append(current_match)\n",
        "\n",
        "    return school_matching, student_matching\n",
        "\n",
        "# Define school and student preference lists\n",
        "school_prefs = {\n",
        "    \"School A\": [\"Student X\", \"Student Y\"],\n",
        "    \"School B\": [\"Student Y\", \"Student X\"]\n",
        "}\n",
        "\n",
        "student_prefs = {\n",
        "    \"Student X\": [\"School A\", \"School B\"],\n",
        "    \"Student Y\": [\"School B\", \"School A\"]\n",
        "}\n",
        "\n",
        "# Find the stable matching\n",
        "school_matching, student_matching = stable_matching(school_prefs, student_prefs)\n",
        "\n",
        "# Print the stable matching\n",
        "print(\"Stable Matching:\")\n",
        "for school, student in school_matching.items():\n",
        "    print(f\"{school} - {student}\")\n",
        "\n"
      ],
      "metadata": {
        "colab": {
          "base_uri": "https://localhost:8080/"
        },
        "id": "_4NgbXzZCi3q",
        "outputId": "cd542a0c-62f8-4d31-9f57-578ff7bf0fac"
      },
      "execution_count": null,
      "outputs": [
        {
          "output_type": "stream",
          "name": "stdout",
          "text": [
            "Stable Matching:\n",
            "School A - Student X\n",
            "School B - Student Y\n"
          ]
        }
      ]
    },
    {
      "cell_type": "markdown",
      "source": [
        "#### **Problem 8:**\n",
        "\n",
        "Imagine a university with two departments, Department A and Department B, each offering a set of courses with different instructors. Each course has a fixed capacity, and students from both departments can enroll in any course based on their preferences. The goal is to create a stable course scheduling system that maximizes student satisfaction and minimizes course conflicts.\n",
        "\n",
        "Each student has preferences for a list of courses they want to enroll in, and each course has a fixed number of seats available. A stable schedule means that no student wants to drop any of their enrolled courses to join another, and no instructor wants to remove a student from their course.\n",
        " \tEach course has a specific schedule, including days of the week and time slots.\n",
        "*\tStudents have their own schedules, indicating the days and times they are available for classes.\n",
        "*\tA student can only enroll in a course if it aligns with their availability, and they won't drop it unless there's a suitable replacement within their availability.\n",
        "The challenge is to design a scheduling algorithm that assigns students to courses while considering these timing constraints, ensuring:\n",
        "*\tEach student is enrolled in their most preferred set of courses that fit their schedules and for which they meet the prerequisites.\n",
        "*\tEach course is filled to its capacity without exceeding it and adhering to its schedule.\n",
        "*\tNo student wishes to drop a course and enroll in another because they prefer their current set of courses and their schedules.\n",
        "\n",
        "The question to resolve is whether there exists a stable course scheduling system that satisfies all these conditions for any given set of students, courses, their preferences, and timing constraints. Provide an algorithm to determine if a stable course schedule is possible or an example where it is not possible."
      ],
      "metadata": {
        "id": "dPzmJqs3Cqk3"
      }
    },
    {
      "cell_type": "markdown",
      "source": [
        "#### **Solution 8:**\n",
        "\n",
        "Solving the Stable Course Scheduling Problem with timing constraints and student prerequisites requires a careful algorithmic approach. Here's an algorithm to determine if a stable course schedule is possible:\n",
        "Algorithm: Stable Course Scheduling with Prerequisites and Timing Constraints\n",
        "\n",
        "1.\tInitialization:\n",
        "* Initialize an empty schedule for each student.\n",
        "* Initialize a list of unenrolled courses for each student.\n",
        "\n",
        "2.\tEnrollment Based on Preferences and Prerequisites:\n",
        "* For each student:\n",
        "* Sort their course preferences based on priority (most preferred first).\n",
        "*\tFor each course in the sorted list:\n",
        "*\tCheck if the student meets the prerequisites for the course.\n",
        "*\tIf prerequisites are met and the course has available seats, enroll the student in the course.\n",
        "*\tIf prerequisites are not met or the course is full, mark the course as unenrollable for this student.\n",
        "\n",
        "3.\tSchedule Alignment:\n",
        "*\tFor each student:\n",
        "*\tSort the enrolled courses based on the student's schedule constraints (e.g., days and times).\n",
        "*\tStarting with the highest-priority course, assign it to a suitable time slot in the student's schedule, considering course timings and capacity.\n",
        "*\tRepeat this process for all enrolled courses, making sure they fit within the student's availability.\n",
        "\n",
        "4.\tCheck for Stability:\n",
        "*\tAfter scheduling, check if any student wishes to drop a course and enroll in another due to preference changes.\n",
        "*\tIf any student wishes to change, go back to step 2 and repeat the enrollment process.\n",
        "\n",
        "5.\tStability Evaluation:\n",
        "*\tAfter multiple iterations, if no student wishes to change their courses or the available courses cannot accommodate the students' preferences and schedules, the schedule is stable.\n",
        "\n",
        "6.\tConclusion:\n",
        "*\tIf a stable schedule is achieved, it satisfies all conditions, including student preferences, prerequisites, and timing constraints.\n",
        "*\tIf a stable schedule cannot be reached after several iterations, it indicates that the constraints are too tight, and a stable schedule may not be possible.\n",
        "\n",
        "The algorithm may need multiple iterations, especially when students have changing preferences and schedules. Additionally, in cases where there is no stable schedule possible due to conflicting prerequisites, the algorithm should provide that insight. Adjusting prerequisites or course offerings may be necessary in such situations."
      ],
      "metadata": {
        "id": "QDqi524VDUkm"
      }
    },
    {
      "cell_type": "code",
      "source": [
        "def stable_course_scheduling(students, courses, course_preferences, prerequisites, course_schedule):\n",
        "    # Initialize an empty schedule for each student\n",
        "    student_schedule = {student: [] for student in students}\n",
        "\n",
        "    # Initialize a list of unenrolled courses for each student\n",
        "    unenrolled_courses = {student: list(courses) for student in students}\n",
        "\n",
        "    stable = False\n",
        "\n",
        "    while not stable:\n",
        "        stable = True\n",
        "\n",
        "        for student in students:\n",
        "            # Sort course preferences based on priority (most preferred first)\n",
        "            preferred_courses = sorted(course_preferences[student], key=lambda course: course_preferences[student][course])\n",
        "\n",
        "            for course in preferred_courses:\n",
        "                if course in unenrolled_courses[student]:\n",
        "                    # Check if prerequisites are met\n",
        "                    if all(prereq in student_schedule[student] for prereq in prerequisites[course]):\n",
        "                        # Check if the course has available seats\n",
        "                        if len(student_schedule[student]) < course_schedule[course]['capacity']:\n",
        "                            # Sort enrolled courses based on student's schedule constraints\n",
        "                            enrolled_courses = sorted(student_schedule[student], key=lambda c: course_schedule[c]['time'])\n",
        "\n",
        "                            # Find a suitable time slot for the course\n",
        "                            suitable_slot = None\n",
        "                            for slot in course_schedule[course]['time']:\n",
        "                                if all(slot not in course_schedule[enrolled_course]['time'] for enrolled_course in enrolled_courses):\n",
        "                                    suitable_slot = slot\n",
        "                                    break\n",
        "\n",
        "                            # Assign the course to the schedule if a suitable slot is found\n",
        "                            if suitable_slot:\n",
        "                                student_schedule[student].append(course)\n",
        "                                unenrolled_courses[student].remove(course)\n",
        "                                stable = False\n",
        "\n",
        "    return student_schedule\n",
        "\n",
        "# Example data\n",
        "students = ['Student A', 'Student B']\n",
        "courses = ['Course X', 'Course Y']\n",
        "course_preferences = {\n",
        "    'Student A': {'Course X': 1, 'Course Y': 2},\n",
        "    'Student B': {'Course X': 2, 'Course Y': 1}\n",
        "}\n",
        "prerequisites = {\n",
        "    'Course X': [],\n",
        "    'Course Y': ['Course X']\n",
        "}\n",
        "course_schedule = {\n",
        "    'Course X': {'time': ['Monday 9 AM'], 'capacity': 1},\n",
        "    'Course Y': {'time': ['Tuesday 10 AM'], 'capacity': 1}\n",
        "}\n",
        "\n",
        "# Run the stable course scheduling algorithm\n",
        "result = stable_course_scheduling(students, courses, course_preferences, prerequisites, course_schedule)\n",
        "\n",
        "# Print the resulting schedules for each student\n",
        "for student, schedule in result.items():\n",
        "    print(f\"{student}'s Schedule: {schedule}\")\n"
      ],
      "metadata": {
        "colab": {
          "base_uri": "https://localhost:8080/"
        },
        "id": "NCPOrTyKEY-K",
        "outputId": "e1083a99-e19b-4f2d-ab69-cad6c43c66cc"
      },
      "execution_count": null,
      "outputs": [
        {
          "output_type": "stream",
          "name": "stdout",
          "text": [
            "Student A's Schedule: ['Course X']\n",
            "Student B's Schedule: ['Course X']\n"
          ]
        }
      ]
    },
    {
      "cell_type": "markdown",
      "source": [
        "#### **Problem 9:**\n",
        "\n",
        "In a regional Karate tournament, participants are divided into two groups based on their weight categories: Lightweight (under 70 kg) and Heavyweight (70 kg and above). Participants are eager to find suitable partners for the tournament and have provided their preferences for potential partners within their respective weight categories.They are implementing a Matching Algorithm, inspired by the Gale-Shapley Algorithm.\n",
        "\n",
        "Write a code to match participants in the same Category:"
      ],
      "metadata": {
        "id": "1Ft7zJznFcxx"
      }
    },
    {
      "cell_type": "code",
      "source": [
        "def gale_shapley(participants, preferences):\n",
        "    matches = {}\n",
        "    proposals = {participant: 0 for participant in participants}\n",
        "\n",
        "    while len(matches) < len(participants):\n",
        "        free_participants = [participant for participant in participants if participant not in matches]\n",
        "        proposer = free_participants[0]\n",
        "        preference_rank = proposals[proposer]\n",
        "        potential_partners = preferences[proposer][preference_rank:]\n",
        "\n",
        "        for partner in potential_partners:\n",
        "            if partner not in matches:\n",
        "                matches[proposer] = partner\n",
        "                matches[partner] = proposer\n",
        "                break\n",
        "            else:\n",
        "                current_partner = matches[partner]\n",
        "                partner_preferences = preferences[partner]\n",
        "                if partner_preferences.index(proposer) < partner_preferences.index(current_partner):\n",
        "                    matches[proposer] = partner\n",
        "                    matches[partner] = proposer\n",
        "                    free_participants.append(current_partner)\n",
        "\n",
        "        proposals[proposer] += 1\n",
        "\n",
        "    return matches\n",
        "\n",
        "def divide_participants(participants, weights):\n",
        "    divided_participants = {}\n",
        "    for weight_category in set(weights.values()):\n",
        "        divided_participants[weight_category] = [participant for participant in participants if weights[participant] == weight_category]\n",
        "    return divided_participants\n",
        "\n",
        "# Example input data (participants, preferences, and weights)\n",
        "participants = [\"Participant1\", \"Participant2\", \"Participant3\", \"Participant4\", \"Participant5\", \"Participant6\"]\n",
        "weights = {\n",
        "    \"Participant1\": \"Lightweight\",\n",
        "    \"Participant2\": \"Heavyweight\",\n",
        "    \"Participant3\": \"Lightweight\",\n",
        "    \"Participant4\": \"Heavyweight\",\n",
        "    \"Participant5\": \"Lightweight\",\n",
        "    \"Participant6\": \"Heavyweight\",\n",
        "}\n",
        "preferences = {\n",
        "    \"Participant1\": [\"PartnerA\", \"PartnerB\", \"PartnerC\", \"PartnerD\"],\n",
        "    \"Participant2\": [\"PartnerC\", \"PartnerB\", \"PartnerA\", \"PartnerD\"],\n",
        "    \"Participant3\": [\"PartnerD\", \"PartnerA\", \"PartnerC\", \"PartnerB\"],\n",
        "    \"Participant4\": [\"PartnerA\", \"PartnerC\", \"PartnerB\", \"PartnerD\"],\n",
        "    \"Participant5\": [\"PartnerB\", \"PartnerC\", \"PartnerA\", \"PartnerD\"],\n",
        "    \"Participant6\": [\"PartnerD\", \"PartnerB\", \"PartnerC\", \"PartnerA\"],\n",
        "}\n",
        "\n",
        "# Divide participants into weight categories\n",
        "divided_participants = divide_participants(participants, weights)\n",
        "\n",
        "# Apply Gale-Shapley algorithm within each weight category\n",
        "for weight_category, category_participants in divided_participants.items():\n",
        "    category_preferences = {participant: preferences[participant] for participant in category_participants}\n",
        "    category_matches = gale_shapley(category_participants, category_preferences)\n",
        "\n",
        "    # Print the matching pairs within the current weight category\n",
        "    print(f\"Matching Pairs in {weight_category} Category:\")\n",
        "    for participant, partner in category_matches.items():\n",
        "        print(f\"{participant} is matched with {partner}\")\n"
      ],
      "metadata": {
        "colab": {
          "base_uri": "https://localhost:8080/"
        },
        "id": "hZT5JQG8FwXq",
        "outputId": "e6a1448b-fa50-4e2e-c70e-e596b743a9d9"
      },
      "execution_count": null,
      "outputs": [
        {
          "output_type": "stream",
          "name": "stdout",
          "text": [
            "Matching Pairs in Lightweight Category:\n",
            "Participant1 is matched with PartnerA\n",
            "PartnerA is matched with Participant1\n",
            "Participant3 is matched with PartnerD\n",
            "PartnerD is matched with Participant3\n",
            "Matching Pairs in Heavyweight Category:\n",
            "Participant2 is matched with PartnerC\n",
            "PartnerC is matched with Participant2\n",
            "Participant4 is matched with PartnerA\n",
            "PartnerA is matched with Participant4\n"
          ]
        }
      ]
    },
    {
      "cell_type": "markdown",
      "source": [
        "Now can we match participants irrespective of weight category?"
      ],
      "metadata": {
        "id": "xhc1xp7tF3m8"
      }
    },
    {
      "cell_type": "code",
      "source": [
        "import random\n",
        "\n",
        "def gale_shapley(participants, preferences):\n",
        "    matches = {}\n",
        "    proposals = {participant: 0 for participant in participants}\n",
        "\n",
        "    while len(matches) < len(participants):\n",
        "        free_participants = [participant for participant in participants if participant not in matches]\n",
        "        proposer = free_participants[0]\n",
        "        preference_rank = proposals[proposer]\n",
        "        potential_partners = preferences[proposer][preference_rank:]\n",
        "\n",
        "        for partner in potential_partners:\n",
        "            if partner not in matches:\n",
        "                matches[proposer] = partner\n",
        "                matches[partner] = proposer\n",
        "                break\n",
        "            else:\n",
        "                current_partner = matches[partner]\n",
        "                partner_preferences = preferences[partner]\n",
        "                if partner_preferences.index(proposer) < partner_preferences.index(current_partner):\n",
        "                    matches[proposer] = partner\n",
        "                    matches[partner] = proposer\n",
        "                    free_participants.append(current_partner)\n",
        "\n",
        "        proposals[proposer] += 1\n",
        "\n",
        "    return matches\n",
        "\n",
        "def random_matching(participants, preferences, n):\n",
        "    shuffled_preferences = {participant: random.sample(preferences[participant], len(preferences[participant])) for participant in participants}\n",
        "    matches = {}\n",
        "\n",
        "    for _ in range(n):\n",
        "        new_matches = gale_shapley(participants, shuffled_preferences)\n",
        "        matches.update(new_matches)\n",
        "\n",
        "    return matches\n",
        "\n",
        "# Example input data (participants and preferences)\n",
        "participants = [\"Participant1\", \"Participant2\", \"Participant3\", \"Participant4\"]\n",
        "preferences = {\n",
        "    \"Participant1\": [\"PartnerA\", \"PartnerB\", \"PartnerC\", \"PartnerD\"],\n",
        "    \"Participant2\": [\"PartnerC\", \"PartnerB\", \"PartnerA\", \"PartnerD\"],\n",
        "    \"Participant3\": [\"PartnerD\", \"PartnerA\", \"PartnerC\", \"PartnerB\"],\n",
        "    \"Participant4\": [\"PartnerA\", \"PartnerC\", \"PartnerB\", \"PartnerD\"],\n",
        "}\n",
        "\n",
        "# Specify the number of times to shuffle preferences (up to 'n')\n",
        "n = 3\n",
        "\n",
        "# Get the randomly shuffled matching pairs\n",
        "random_matches = random_matching(participants, preferences, n)\n",
        "\n",
        "# Print the randomly shuffled matching pairs\n",
        "for participant, partner in random_matches.items():\n",
        "    print(f\"{participant} is matched with {partner}\")\n"
      ],
      "metadata": {
        "colab": {
          "base_uri": "https://localhost:8080/"
        },
        "id": "rwhBzO6H7FLG",
        "outputId": "1c05eadd-4f86-4d21-e391-31d434153c5f"
      },
      "execution_count": null,
      "outputs": [
        {
          "output_type": "stream",
          "name": "stdout",
          "text": [
            "Participant1 is matched with PartnerD\n",
            "PartnerD is matched with Participant1\n",
            "Participant2 is matched with PartnerB\n",
            "PartnerB is matched with Participant2\n"
          ]
        }
      ]
    },
    {
      "cell_type": "markdown",
      "source": [
        "Write a code to shuffle preferencees n number of times"
      ],
      "metadata": {
        "id": "SN5xd1RTGid5"
      }
    },
    {
      "cell_type": "code",
      "source": [
        "import random\n",
        "\n",
        "def gale_shapley(participants, preferences):\n",
        "    matches = {}\n",
        "    proposals = {participant: 0 for participant in participants}\n",
        "\n",
        "    while len(matches) < len(participants):\n",
        "        free_participants = [participant for participant in participants if participant not in matches]\n",
        "        proposer = free_participants[0]\n",
        "        preference_rank = proposals[proposer]\n",
        "        potential_participants = preferences[proposer][preference_rank:]\n",
        "\n",
        "        for partner in potential_participants:\n",
        "            if partner not in matches:\n",
        "                matches[proposer] = partner\n",
        "                matches[partner] = proposer\n",
        "                break\n",
        "            else:\n",
        "                current_partner = matches[partner]\n",
        "                partner_preferences = preferences[partner]\n",
        "                if partner_preferences.index(proposer) < partner_preferences.index(current_partner):\n",
        "                    matches[proposer] = partner\n",
        "                    matches[partner] = proposer\n",
        "                    free_participants.append(current_partner)\n",
        "\n",
        "        proposals[proposer] += 1\n",
        "\n",
        "    return matches\n",
        "\n",
        "def random_matching_within_category(participants, preferences, category):\n",
        "    category_participants = [p for p, w in participants.items() if w == category]\n",
        "    shuffled_preferences = {p: random.sample(preferences[p], len(preferences[p])) for p in category_participants}\n",
        "    matches = gale_shapley(category_participants, shuffled_preferences)\n",
        "\n",
        "    return matches\n",
        "\n",
        "# Example input data (participants, preferences, and weights)\n",
        "participants = {\n",
        "    \"Participant1\": \"Lightweight\",\n",
        "    \"Participant2\": \"Heavyweight\",\n",
        "    \"Participant3\": \"Lightweight\",\n",
        "    \"Participant4\": \"Heavyweight\",\n",
        "}\n",
        "preferences = {\n",
        "    \"Participant1\": [\"PartnerA\", \"PartnerB\", \"PartnerC\", \"PartnerD\"],\n",
        "    \"Participant2\": [\"PartnerC\", \"PartnerB\", \"PartnerA\", \"PartnerD\"],\n",
        "    \"Participant3\": [\"PartnerD\", \"PartnerA\", \"PartnerC\", \"PartnerB\"],\n",
        "    \"Participant4\": [\"PartnerA\", \"PartnerC\", \"PartnerB\", \"PartnerD\"],\n",
        "}\n",
        "\n",
        "# Specify the number of times to shuffle preferences (up to 'n')\n",
        "n = 3\n",
        "\n",
        "# Match participants within the \"Lightweight\" category\n",
        "lightweight_matches = random_matching_within_category(participants, preferences, \"Lightweight\")\n",
        "\n",
        "# Match participants within the \"Heavyweight\" category\n",
        "heavyweight_matches = random_matching_within_category(participants, preferences, \"Heavyweight\")\n",
        "\n",
        "# Print the randomly shuffled matching pairs within each category\n",
        "print(\"Lightweight Category Matches:\")\n",
        "for participant, partner in lightweight_matches.items():\n",
        "    print(f\"{participant} is matched with {partner}\")\n",
        "\n",
        "print(\"\\nHeavyweight Category Matches:\")\n",
        "for participant, partner in heavyweight_matches.items():\n",
        "    print(f\"{participant} is matched with {partner}\")\n"
      ],
      "metadata": {
        "colab": {
          "base_uri": "https://localhost:8080/"
        },
        "id": "OqXTaBnF7FuY",
        "outputId": "22facf60-a5bd-419b-e620-328ff79c8076"
      },
      "execution_count": null,
      "outputs": [
        {
          "output_type": "stream",
          "name": "stdout",
          "text": [
            "Lightweight Category Matches:\n",
            "Participant1 is matched with PartnerB\n",
            "PartnerB is matched with Participant1\n",
            "\n",
            "Heavyweight Category Matches:\n",
            "Participant2 is matched with PartnerC\n",
            "PartnerC is matched with Participant2\n"
          ]
        }
      ]
    },
    {
      "cell_type": "markdown",
      "source": [
        "D.Can we add elimation to this and check each possibility"
      ],
      "metadata": {
        "id": "eCwnm8Xh9EDz"
      }
    },
    {
      "cell_type": "markdown",
      "source": [
        "Yes we can add Elimation\n",
        "\n",
        "Function gale_shapley(participants, preferences):\n",
        "    Initialize an empty dictionary matches to store matching pairs\n",
        "    Initialize a dictionary proposals with all participants, each set to 0\n",
        "    \n",
        "    While the number of matches is less than the total number of participants:\n",
        "        Find the list of free participants (participants not in matches)\n",
        "        Select a proposer from the free participants\n",
        "        Determine the preference rank of the proposer\n",
        "        Find potential partners based on their preferences\n",
        "        \n",
        "        For each potential partner in potential partners:\n",
        "            If the partner is not already matched:\n",
        "                Add the pair (proposer, partner) to matches\n",
        "                Mark the partner as matched with the proposer\n",
        "                Exit the loop\n",
        "            \n",
        "            Else if the partner is already matched:\n",
        "                Find the current partner of the partner\n",
        "                Determine the preferences of the partner\n",
        "                If the proposer has a higher preference rank than the current partner:\n",
        "                    Replace the current partner with the proposer in matches\n",
        "                    Update the matching for the proposer and partner\n",
        "                    Add the current partner back to the list of free participants\n",
        "    \n",
        "    Return the matches dictionary\n",
        "\n",
        "Function random_matching_within_category(participants, preferences, category):\n",
        "    Create a list category_participants containing participants with the specified category\n",
        "    Create a shuffled_preferences dictionary with shuffled preference lists for category participants\n",
        "    Use the gale_shapley function to find matches based on shuffled_preferences\n",
        "    Return the matches for the category\n",
        "\n",
        "Function elimination_tournament(participants, preferences, n_rounds):\n",
        "    Initialize an empty winners dictionary to store winners of each round\n",
        "    Create a copy of participants called remaining_participants\n",
        "    Iterate through rounds from 1 to n_rounds:\n",
        "        Print the current round number\n",
        "        \n",
        "        Initialize an empty round_matches dictionary\n",
        "        \n",
        "        For each unique category in the set of participant categories:\n",
        "            Find matches within the category using random_matching_within_category\n",
        "            Update round_matches with the matches within the category\n",
        "        \n",
        "        Print the matches for the current round\n",
        "        \n",
        "        Update remaining_participants with participants from round_matches\n",
        "        Update winners with the matches from the current round\n",
        "        \n",
        "        If there is only one remaining participant:\n",
        "            Print the overall winner\n",
        "            Break the loop\n",
        "        \n",
        "    Return the winners dictionary\n"
      ],
      "metadata": {
        "id": "8q0Vg2yC9I4P"
      }
    }
  ],
  "metadata": {
    "language_info": {
      "name": "python"
    },
    "orig_nbformat": 4,
    "colab": {
      "provenance": []
    },
    "kernelspec": {
      "name": "python3",
      "display_name": "Python 3"
    }
  },
  "nbformat": 4,
  "nbformat_minor": 0
}